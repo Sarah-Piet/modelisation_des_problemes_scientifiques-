{
 "cells": [
  {
   "cell_type": "markdown",
   "metadata": {},
   "source": [
    "<font size = 6><i>Méthodes statistiques & data mining</i></font>\n",
    "\n",
    "\n",
    "\n",
    "--"
   ]
  },
  {
   "cell_type": "markdown",
   "metadata": {},
   "source": [
    "Si le terme \"data mining\" vous parait flou, un article pour introduire le sujet:\n",
    "https://www.lebigdata.fr/data-mining-definition-exemples\n",
    "\n",
    "Pour résumer, le data mining, c'est faire parler les données. \n",
    "\n",
    "- La partie visualisation et description est la première étape de traitement des données, et permet de passer des données brutes à des explications et des analyses immédiates.\n",
    "- Mais parfois, la visualisation des données brutes  seule ne parvient pas à traduire la globalité des informations contenues dans un jeu de données. Il faut donc faire appel à des méthodes plus pointues pour synthétiser tout ce que l'on peut apprendre. C'est l'objet du TP.\n",
    "\n",
    "Les méthodes statistiques présentées ici ne sont pas à maitriser à 100%, l'idée est de pouvoir:\n",
    "- Commenter des sorties\n",
    "- Appliquer ces méthodes à des jeux de données simples\n",
    "\n",
    "Et en fonction du temps/de l'envie que vous avez pour rentrer dans la théorie:\n",
    "- Maitriser la construction des modèles\n",
    "- Comprendre les concepts mathématiques derrière les modèles\n",
    "\n",
    "Pour construire ces TPs, je me suis inspiré de deux TPs pris sur internet, qui peuvent vous aider sur le sujet:\n",
    "- https://www.math.univ-toulouse.fr/~besse/Wikistat/Notebooks/Notebook-Python-Ozone.html\n",
    "- https://github.com/wikistat/StatElem/blob/master/StatElem-R-Ozone.ipynb (fait en langage R, mais ce sont les mêmes méthodes)\n",
    "\n",
    "Python est un langage qui contient souvent beaucoup de librairies servant à faire les mêmes choses. Les exemples ci-dessous ne sont pas parfaits, vous pouvez faire vos propres choix de librairies si vous trouvez cela plus adapté."
   ]
  },
  {
   "cell_type": "markdown",
   "metadata": {},
   "source": [
    "<font size= 5><b>I- Imports</b></font>"
   ]
  },
  {
   "cell_type": "markdown",
   "metadata": {},
   "source": [
    "Pour rappel, on travaille sur un jeu de données caractérisant n = 100 personnes.\n",
    "\n",
    "http://www.info.univ-angers.fr/~gh/Datasets/ronfle.htm\n",
    "\n",
    "Pour chaque individu, on dispose des variables suivantes:\n",
    "\n",
    "\n",
    "- <b>IDEN</b>  :  Numéro de l'individu\n",
    "\n",
    "- <b>SEXE</b>  :  Sexe de la personne (0=homme, 1=femme)\n",
    "\n",
    "- <b>AGE</b>    :    En années\n",
    "\n",
    "- <b>TAILLE</b> :    En cm\n",
    "\n",
    "- <b>POIDS</b>  :    En kg\n",
    "\n",
    "- <b>TABA</b>   :    Comportement au niveau du tabac (1=fumeur,0=non-fumeur)\n",
    "\n",
    "- <b>ALCOOL</b>  :   Nombre de verres bus par jour (en équivalent verre de vin rouge)\n",
    "\n",
    "- <b>RONFLE</b>  :   Diagnostic de ronflement (1=ronfle,0=ne ronfle pas)"
   ]
  },
  {
   "cell_type": "code",
   "execution_count": 1,
   "metadata": {},
   "outputs": [],
   "source": [
    "import matplotlib.pyplot as plt\n",
    "import numpy as np\n",
    "import pandas as pd\n",
    "import seaborn as sns\n",
    "from scipy.stats import linregress\n",
    "import scipy\n",
    "\n",
    "data = pd.read_table(filepath_or_buffer = \"https://raw.githubusercontent.com/llesoil/modelisation_des_problemes_scientifiques-/master/ressources/ronfle.csv\",\n",
    "                     header = 0,\n",
    "                     delimiter =',',\n",
    "                     index_col=0)\n",
    "\n",
    "tabac = [(1-tab)* \"Non-\"+\"Fumeur\" for tab in data['TABA']]\n",
    "sexe = [tab*\"Femme\"+(1-tab)*\"Homme\" for tab in data['SEXE']]\n",
    "ronflement = [(1-tab)* \"Non-\"+\"Ronfleur\" for tab in data['RONFLE']]\n",
    "\n",
    "ronfle = pd.DataFrame({'Age': data['AGE'],'Poids': data['POIDS'],'Taille': data['TAILLE'],'Alcool': data['ALCOOL'],\n",
    "                       'Sexe': sexe,'Ronflement' : ronflement,'Tabac': tabac})"
   ]
  },
  {
   "cell_type": "markdown",
   "metadata": {},
   "source": [
    "<font size= 5><b>II- Régression</b></font>"
   ]
  },
  {
   "cell_type": "markdown",
   "metadata": {},
   "source": [
    "<font size= 4>II-1 Régression linéaire</font>"
   ]
  },
  {
   "cell_type": "code",
   "execution_count": 2,
   "metadata": {},
   "outputs": [
    {
     "data": {
      "image/png": "[encoded data removed]",
      "text/plain": [
       "<Figure size 432x288 with 1 Axes>"
      ]
     },
     "metadata": {
      "needs_background": "light"
     },
     "output_type": "display_data"
    }
   ],
   "source": [
    "# Le poids est lié à la taille. Dans la suite, on essaie d'expliquer ce lien à l'aide d'une droite.\n",
    "y = ronfle['Poids']\n",
    "\n",
    "# Appel à la variable poids du dataset ronfle, le poids y est notre <b>variable à expliquer\n",
    "x = ronfle['Taille']\n",
    "\n",
    "# La taille x est notre variable explicative. On essaie par la suite d'expliquer le poids des individus par leur taille.\n",
    "\n",
    "coef, intercept, r_value, _ , std_err = linregress(x,y)\n",
    "\n",
    "predictionPds = coef*x+intercept\n",
    "\n",
    "plt.scatter(x, y, color = 'blue')\n",
    "plt.plot(x, predictionPds, color = 'red')\n",
    "plt.xlabel(\"Taille des individus (en cm)\")\n",
    "plt.ylabel(\"Poids des individus (en kg)\")\n",
    "plt.show()"
   ]
  },
  {
   "cell_type": "markdown",
   "metadata": {},
   "source": [
    "Le but est ici d'essayer d'estimer le nuage de points bleus par la droite rouge, que l'on appelle <b>droite de régression</b>. La fonction <i>linregress</i> résoud un problème d'optimisation, afin de coller le plus précisément la droite au nuage de points.\n",
    "\n",
    "- coef donne le coefficient de la droite de régression\n",
    "\n",
    "Si le coefficient est positif, alors une augmentation de la taille entrainera une augmentation du poids.\n",
    "A contrario, si le coefficient était négatif, cela signifierait qu'une augmentation de le taille entraine une augmentation du poids.\n",
    "\n",
    "- intercept donne l'ordonnée à l'origine, c'est-à-dire l'endroit où la droite de régression coupe l'axe des ordonnées\n",
    "\n",
    "<font color=\"red\"> Maths </font> La droite de régression a donc pour équation $\\hat{y} = coef*x+ intercept$. \n",
    "\n",
    "L'intérêt, c'est que si l'on connait la taille $x_{new}$ d'un nouvel individu sans connaitre son poids $y_{new}$, alors on peut faire l'approximation $y_{new} \\simeq \\hat{y}_{new} = coef*x_{new}+ intercept$\n",
    "\n",
    "- std_err correspond à l'erreur standard, c'est-à-dire l'erreur moyenne commise par l'approximation du nuage de points par la droite.\n",
    "\n",
    "<font color=\"red\"> Maths </font> $$std\\_err =\\frac{1}{n}\\sqrt{\\sum_{i=1}^{n}(\\hat{y}_{i}-y_{i})^2}$$\n",
    "- r_value est une valeur comprise entre 0 et 1. Si la régression représente bien les données, elle sera proche de 1. Si la régression fait beaucoup d'erreurs, elle sera proche de 0. \n",
    "\n",
    "<font color=\"red\"> Maths </font> Si on note la moyenne des tailles $\\bar{y}$ , $$r\\_value = 1- \\frac{\\sum_{i=1}^{n}(y_{i}-\\hat{y}_{i})^2}{\\sum_{i=1}^{n}(y_{i}-\\bar{y})^2}$$"
   ]
  },
  {
   "cell_type": "markdown",
   "metadata": {},
   "source": [
    "Construction d'un intervalle de confiance à 95%\n",
    "\n",
    "Pour continuer, on cherche à fixer les limites du nuage de points.\n",
    "\n",
    "En moyenne, au moins 95% des valeurs du jeu de données sont censées être comprises dans l'intervalle de confiance à 95%."
   ]
  },
  {
   "cell_type": "code",
   "execution_count": 3,
   "metadata": {},
   "outputs": [
    {
     "data": {
      "image/png": "[encoded data removed]",
      "text/plain": [
       "<Figure size 432x288 with 1 Axes>"
      ]
     },
     "metadata": {
      "needs_background": "light"
     },
     "output_type": "display_data"
    }
   ],
   "source": [
    "x = ronfle['Taille']\n",
    "n = float(len(x))\n",
    "\n",
    "def prevision(val):\n",
    "    # en entrée:\n",
    "    #  Une valeur val\n",
    "    # en sortie:\n",
    "    #  La valeur de la droite de régression au point d'abscisse val\n",
    "    return(float(coef*val+intercept))\n",
    "\n",
    "\n",
    "droite = [*map(prevision,x)] # La droite des y estimés\n",
    "xmoy = np.mean(droite) # La moyenne des tailles\n",
    "mse = (1/(n-2))*sum([*map(lambda x: np.power(x-xmoy,2), droite)])\n",
    "# En anglais, mean squared error, la somme des erreurs au carré\n",
    "\n",
    "def intervalle(val):\n",
    "    # en entrée:\n",
    "    #  Une valeur val\n",
    "    # en sortie:\n",
    "    #  La valeur du demi-intervalle de confiance au point d'abscisse val\n",
    "    return(1.984*np.sqrt(mse*((1/n)+(np.power(val-xmoy,2))/sum([*map(lambda y: np.power(y-xmoy,2), droite)]))))\n",
    "\n",
    "# 1.984 correspond au quantile à 2.5% d'une loi de Student à n-2 degrés de liberté\n",
    "\n",
    "# Puis, on veut tracer cet intervalle de confiance\n",
    "# On commence par créer une séquence d'entiers qui balaye les tailles\n",
    "seq = [k for k in range(157,210)]\n",
    "\n",
    "# Pour chaque point de cette séquence, on calcule:\n",
    "# la droite de régression\n",
    "droite = [*map(prevision,seq)]\n",
    "# La partie inférieure de l'intervalle de confiance\n",
    "intervalleMoins = [*map(lambda val: prevision(val)-intervalle(val),seq)]\n",
    "# La partie supérieure de l'intervalle de confiance\n",
    "intervallePlus = [*map(lambda val: prevision(val)+intervalle(val),seq)]\n",
    "\n",
    "# Et on affiche le tout\n",
    "plt.plot(seq, intervalleMoins, color=\"green\", linestyle='dashed',)\n",
    "plt.plot(seq, intervallePlus, color=\"green\", linestyle='dashed',)\n",
    "plt.plot(seq, droite, color = 'red')\n",
    "\n",
    "# On met la zone en évidence en grisant l'intervalle\n",
    "plt.fill_between(seq, intervalleMoins, intervallePlus, color='#D3D3D3')\n",
    "\n",
    "plt.scatter(x,y,color = 'blue')\n",
    "plt.xlabel(\"Taille des individus (en cm)\")\n",
    "plt.ylabel(\"Poids des individus (en kg)\")\n",
    "plt.show()\n"
   ]
  },
  {
   "cell_type": "markdown",
   "metadata": {},
   "source": [
    "Ici, l'intervalle de confiance est la zone grise comprise entre les droites vertes. Elle contient 98 valeurs, donc plus de 95 poids sur 100.\n",
    "\n",
    "La régression linéaire n'est pas restreinte au cas à deux variables, on peut expliquer une variable (quantitative) par plusieurs autres variables (quantitatives)."
   ]
  },
  {
   "cell_type": "code",
   "execution_count": 4,
   "metadata": {},
   "outputs": [
    {
     "data": {
      "image/png": "[encoded data removed]",
      "text/plain": [
       "<Figure size 432x288 with 1 Axes>"
      ]
     },
     "metadata": {
      "needs_background": "light"
     },
     "output_type": "display_data"
    },
    {
     "name": "stdout",
     "output_type": "stream",
     "text": [
      "La p-valeur du test de Shapiro sur la normalité des résidus à 5% est de  4.99e-05\n"
     ]
    },
    {
     "data": {
      "image/png": "[encoded data removed]",
      "text/plain": [
       "<Figure size 432x288 with 1 Axes>"
      ]
     },
     "metadata": {
      "needs_background": "light"
     },
     "output_type": "display_data"
    }
   ],
   "source": [
    "# Si la droite de régression est bien ajustée, les résidus (= les erreurs) sont censés suivre une loi gaussienne\n",
    "\n",
    "from scipy.stats import shapiro, probplot\n",
    "\n",
    "x = ronfle['Taille']\n",
    "droite = [*map(prevision,x)]\n",
    "n = len(x)\n",
    "y = ronfle['Poids']\n",
    "\n",
    "erreur = np.zeros(n)\n",
    "\n",
    "for indice in range(n):\n",
    "    erreur[indice] = y[indice] - droite[indice]\n",
    "erreur\n",
    "\n",
    "plt.hist(erreur)\n",
    "plt.show()\n",
    "\n",
    "print(\"La p-valeur du test de Shapiro sur la normalité des résidus à 5% est de \", round(shapiro(erreur)[1],7))\n",
    "\n",
    "probplot((erreur-np.mean(erreur))/np.std(erreur), dist=\"norm\",plot=plt)\n",
    "plt.ylabel(\"Erreurs mesurées\")\n",
    "plt.xlabel(\"Quantiles théoriques\")\n",
    "plt.title(\"Graphique quantile-quantile (qqplot)\")\n",
    "plt.show()"
   ]
  },
  {
   "cell_type": "markdown",
   "metadata": {},
   "source": [
    "On rejette l'hypothèse de la normalité pour une précision de 5%. En effet, l'histogramme est trop asymétrique pour correspondre à une loi normale.\n",
    "\n",
    "Le qqplot montre des valeurs éloignées de la droite, qui ne correspondent pas à des valeurs cohérentes pour une loi normale."
   ]
  },
  {
   "cell_type": "markdown",
   "metadata": {},
   "source": [
    "<font size= 4>II-2 Régression linéaire par morceaux</font>\n",
    "\n",
    "Parfois, on peut couper l'espace en plusieurs morceaux sur lesquels on peut appliquer une régression linéaire"
   ]
  },
  {
   "cell_type": "code",
   "execution_count": 5,
   "metadata": {},
   "outputs": [
    {
     "data": {
      "image/png": "[encoded data removed]",
      "text/plain": [
       "<Figure size 432x288 with 1 Axes>"
      ]
     },
     "metadata": {
      "needs_background": "light"
     },
     "output_type": "display_data"
    }
   ],
   "source": [
    "x = np.array([float(k) for k in range(-10,10)])\n",
    "y = np.array([np.power(k,2) + float(np.random.randint(-15,15)) for k in range(-10,10)])\n",
    "\n",
    "x1 = x[np.where(x<0)]\n",
    "coef1, intercept1, _, _, _ = linregress(x1, y[np.where(x<0)])\n",
    "droite1  = coef1*x1 + intercept1\n",
    "\n",
    "x2 = x[np.where(x>=0)]\n",
    "coef2, intercept2, _, _, _ = linregress(x2, y[np.where(x>=0)])\n",
    "droite2  = coef2*x2 + intercept2\n",
    "\n",
    "plt.plot(x1, droite1,\"green\")\n",
    "plt.plot(x2, droite2,\"green\")\n",
    "plt.scatter(x,y)\n",
    "plt.xticks(range(-10,11,2))\n",
    "plt.xlabel(\"x\")\n",
    "plt.ylabel(\"y\")\n",
    "plt.show()"
   ]
  },
  {
   "cell_type": "markdown",
   "metadata": {},
   "source": [
    "La séparation se fait à x = 0. La partie positive comme la partie négative sont bien représentées par les deux droites\n",
    "\n",
    "Dans le cas présent, étant données la construction de y et l'allure de la courbe, on peut aussi penser qu'il existe une relation linéaire entre y et x². Une transformation de variables est parfois utile pour percevoir ce qui lie plusieurs variables entre elles, les plus utilisées étant les transformations logarithmiques (prendre log(x) en variable explicative) et polynomiales (prendre un polynome en x, par exemple $x^2$ ou $x^3$). C'est alors de la régression polynomiale.\n",
    "\n",
    "On pourrait également voir une séparation par catégorie d'individus. Si on différencie les femmes des hommes, faire deux régressions distinctes (une pour chaque sexe) se justifie.\n",
    "\n",
    "Pour aller plus loin sur la régression linéaire : https://www.math.univ-toulouse.fr/~besse/Wikistat/pdf/st-l-inf-regsim.pdf"
   ]
  },
  {
   "cell_type": "markdown",
   "metadata": {},
   "source": [
    "<font size= 4>II-3 Régression pénalisée</font>\n",
    "\n",
    "Sur certains jeux de données, on a parfois des centaines de variables, pour des millions d'individus, et la régression ne peut pas s'effectuer sur toutes les variables. On doit donc sélectionner les variables les plus pertinentes.\n",
    "\n",
    "Pour cela, on applique les méthodes de régressions pénalisées. Il en existe plusieurs types, l'exemple suivant se concentrera plus particulièrement sur la régression lasso."
   ]
  },
  {
   "cell_type": "code",
   "execution_count": 7,
   "metadata": {},
   "outputs": [
    {
     "name": "stdout",
     "output_type": "stream",
     "text": [
      "Header de la base de données :\n",
      " \n",
      "          0         1         2         3         4         5         6   \\\n",
      "0 -2.534554 -2.994613 -1.198093  1.808132  0.147434 -0.547518  0.542611   \n",
      "1  0.545657 -0.489725  0.910646  1.257744 -0.142688  1.797539  0.068599   \n",
      "2 -0.466419 -0.597316 -0.042257 -1.424061 -0.463596  0.317218  0.156507   \n",
      "3  0.238200 -1.584474 -0.398148 -1.212868  0.027510 -1.309412 -1.655344   \n",
      "4 -1.566995 -0.365055 -1.102906 -0.058587  1.849591 -0.707506 -0.919113   \n",
      "\n",
      "         7         8         9   ...        11        12        13        14  \\\n",
      "0  0.715939  1.201698  0.406657  ...  0.635425 -1.109478  0.879390  0.809180   \n",
      "1 -0.272276 -0.118171 -0.029856  ...  0.512718 -1.723228  0.038127  0.298714   \n",
      "2  0.232181 -0.345982 -0.955945  ...  0.063262  0.910179 -1.540797  2.259309   \n",
      "3  0.153644  1.794449 -0.161374  ...  1.367415 -1.482883 -0.104980  1.355443   \n",
      "4  0.192754  0.019279 -0.101697  ...  0.021351  0.670570 -0.499017  0.719984   \n",
      "\n",
      "         15        16        17        18        19        20  \n",
      "0  0.936108  0.665967 -1.375184  0.500992 -0.480249  0.880938  \n",
      "1 -1.648046 -0.356872  0.150818 -0.255471  1.685792 -0.279297  \n",
      "2  0.379152  0.786328 -0.944446 -0.410050 -0.017020 -0.237922  \n",
      "3 -0.092112  0.817862  0.105232 -0.091659  0.031268  0.844454  \n",
      "4  0.024612  0.039767 -0.451303  0.265688  0.723100 -1.791328  \n",
      "\n",
      "[5 rows x 21 columns]\n",
      "\n",
      " Les coefficients :\n",
      " \n",
      " [67.80532799 -0.          6.36973736 -0.         -0.         48.58384403\n",
      "  0.          0.          0.         -0.          0.         -0.\n",
      " 97.53197103 -0.         12.46258416 92.56410714 12.56165141 58.86858808\n",
      " 57.44833799 53.04985931  0.        ]\n"
     ]
    },
    {
     "data": {
      "image/png": "[encoded data removed]",
      "text/plain": [
       "<Figure size 1080x360 with 2 Axes>"
      ]
     },
     "metadata": {
      "needs_background": "light"
     },
     "output_type": "display_data"
    }
   ],
   "source": [
    "from sklearn.linear_model import ElasticNet\n",
    "from sklearn.datasets import make_regression\n",
    "# scikit-learn est une librairie d'apprentissage statistique\n",
    "\n",
    "X, y = make_regression(n_features=21, random_state=0) \n",
    "# crée 21 variables dans l'optique de régresser la 21ème sur les vingts premières\n",
    "# le random_state est juste là pour que vous ayez les mêmes résultats en relançant\n",
    "regr = ElasticNet(l1_ratio = 1)\n",
    "regr.fit(X, y)\n",
    "\n",
    "print(\"Header de la base de données :\\n\", \"\\n\", pd.DataFrame(X).head())\n",
    "print(\"\\n\",\"Les coefficients :\\n\", \"\\n\", regr.coef_)\n",
    "\n",
    "plt.figure(figsize=(15,5))\n",
    "\n",
    "plt.subplot(121)\n",
    "plt.scatter(X[:,12],y)\n",
    "plt.title(\"La variable 13, coefficient = \"+ str(round(regr.coef_[12],2)))\n",
    "\n",
    "plt.subplot(122)\n",
    "plt.scatter(X[:,1],y)\n",
    "plt.title(\"La variable 2, coefficient = \"+ str(round(regr.coef_[1],2)))\n",
    "plt.show()"
   ]
  },
  {
   "cell_type": "markdown",
   "metadata": {},
   "source": [
    "Plus le coefficient est fort en valeur absolue, plus la variable a d'influence sur la variable à expliquer. Ainsi, pour la variable ayant le plus gros coefficient, on peut voir une droite se dégager du nuage de point, contrairement à la variable de droite.\n",
    "\n",
    "Si on souhaitait simplifier le problème, et conserver moins de 20 variables, il faudrait garder les gros coefficients en valeur absolue. On peut aussi se fixer un seuil à partir duquel on conserve toutes les variables.\n",
    "\n",
    "Si l1_ratio = 1, on fait une régression LASSO. S'il vaut 0, on fait une régression RIDGE. Sinon, on fait de l'elasticnet, une combinaison des deux.\n",
    "\n",
    "En général, la régression ridge sélectionne moins de variables que la régression lasso.\n",
    "\n",
    "Voir http://eric.univ-lyon2.fr/~ricco/cours/slides/regularized_regression.pdf"
   ]
  },
  {
   "cell_type": "markdown",
   "metadata": {},
   "source": [
    "<font size= 5><b>III- Analyse factorielle</b></font>"
   ]
  },
  {
   "cell_type": "markdown",
   "metadata": {},
   "source": [
    "<font size= 4>III-1 Analyse en composantes principales</font>\n",
    "\n",
    "\n",
    "L'Analyse en Composantes Principales se fait uniquement sur des variables quantitatives. C'est une projection des variables dans un espace plus pertinent pour expliquer les données.\n",
    "\n",
    "En bref, si on voit les données comme une matrice, on représente les variables selon les vecteurs propres correspondants à ses plus grandes valeurs propres."
   ]
  },
  {
   "cell_type": "code",
   "execution_count": 8,
   "metadata": {},
   "outputs": [
    {
     "data": {
      "image/png": "[encoded data removed]",
      "text/plain": [
       "<Figure size 432x288 with 1 Axes>"
      ]
     },
     "metadata": {
      "needs_background": "light"
     },
     "output_type": "display_data"
    },
    {
     "name": "stdout",
     "output_type": "stream",
     "text": [
      "Par exemple, l'axe 1 traduit 76.4 % de l'information.\n",
      "Et l'axe 2 traduit 19.4 % de l'information.\n",
      "Ici, le plan axe 1-axe 2 représenté contient plus de 95% d'information, c'est fiable.\n",
      "Il ne faut pas faire de conclusions trop hâtives si vos axes contiennent peu d'informations.\n"
     ]
    },
    {
     "data": {
      "image/png": "[encoded data removed]",
      "text/plain": [
       "<Figure size 720x720 with 1 Axes>"
      ]
     },
     "metadata": {
      "needs_background": "light"
     },
     "output_type": "display_data"
    }
   ],
   "source": [
    "from sklearn.decomposition import PCA\n",
    "\n",
    "data = ronfle[['Age', 'Taille','Poids','Alcool']]\n",
    "\n",
    "nbVar = len(data.columns) # Le nombre de variables\n",
    "\n",
    "pca = PCA(n_components=nbVar) # Principal Component Analysis en anglais\n",
    "reduced = pca.fit_transform(data) # on réduit les variables\n",
    "\n",
    "plt.scatter(range(4),pca.explained_variance_/sum(pca.explained_variance_)*100)\n",
    "plt.plot(range(4),pca.explained_variance_/sum(pca.explained_variance_)*100)\n",
    "plt.title(\"Variance expliquée par chacun des axes\")\n",
    "plt.ylabel(\"Pourcentage d'info\")\n",
    "plt.xlabel(\"Axes\")\n",
    "plt.xticks(range(4), range(1,5))\n",
    "plt.show()\n",
    "\n",
    "infoAxe1 = round(pca.explained_variance_[0]/sum(pca.explained_variance_)*100, 1)\n",
    "print(\"Par exemple, l'axe 1 traduit\", infoAxe1, \"% de l'information.\")\n",
    "\n",
    "infoAxe2 = round(pca.explained_variance_[1]/sum(pca.explained_variance_)*100, 1)\n",
    "print(\"Et l'axe 2 traduit\", infoAxe2, \"% de l'information.\")\n",
    "\n",
    "print(\"Ici, le plan axe 1-axe 2 représenté contient plus de 95% d'information, c'est fiable.\")\n",
    "print(\"Il ne faut pas faire de conclusions trop hâtives si vos axes contiennent peu d'informations.\")\n",
    "\n",
    "plt.figure(figsize=(10, 10))\n",
    "\n",
    "for i in range(nbVar):\n",
    "    \n",
    "    plt.arrow(0, 0, # Commence la flèche à l'origine\n",
    "             pca.components_[0, i], # la composante suivant l'axe 1\n",
    "             pca.components_[1, i], # la composante suivant l'axe 2\n",
    "             head_width=0.05, # largeur de flèche\n",
    "             head_length=0.05)# longueur de flèche\n",
    "\n",
    "    plt.text(pca.components_[0, i] + 0.05,\n",
    "         pca.components_[1, i] + 0.05,\n",
    "         data.columns.values[i])\n",
    "\n",
    "angle = np.linspace(0, 2 * np.pi, 100) # on liste 100 angles de 0 à 360° en radians\n",
    "plt.plot(np.cos(angle), np.sin(angle)) # on trace le cercle de rayon 1\n",
    "plt.title('Cercle des corrélations')\n",
    "plt.xlabel(\"Axe 1\")\n",
    "plt.ylabel(\"Axe 2\")\n",
    "plt.show()"
   ]
  },
  {
   "cell_type": "markdown",
   "metadata": {},
   "source": [
    "Deux variables qui sont à la perpendiculaire l'une de l'autre, comme le poids et l'age par exemple, sont décorrelées. Autrement dit, l'age ne joue pas sur la taille, et inversement.\n",
    "\n",
    "Deux variables qui sont orientées selon le même axe et le même sens sont corrélées positivement. C'est le cas de la taille et du poids, ce que l'on avait déjà expliqué avec la régression.\n",
    "\n",
    "Deux variables qui sont orientées suivant le même axe, mais pas dans le même sens, sont correlées négativement. Par exemple, sur le graphique, l'alcool et l'age sont plutôt corrélés négativement. Une explication possible est que l'on boit de moins en moins d'alcool avec le temps.\n",
    "\n",
    "Ces explications doivent être modérées par la taille des flèches. Si une flèche est petite, c'est que la variable n'est pas bien représentée sur cet axe (ce plan).\n",
    "\n",
    "On peut également représenter les individus dans le plan avec une ACP. Je présenterai l'équivalent avec l'ACM.\n",
    "\n",
    "La théorie sur l'ACP : http://eric.univ-lyon2.fr/~ricco/tanagra/fichiers/fr_Tanagra_ACP_Python.pdf\n",
    "\n",
    "Un script python pour uh peu plus de pratique : https://github.com/wikistat/Exploration/blob/master/TutosRudim/Cal1-Python-SVDtoACP.ipynb"
   ]
  },
  {
   "cell_type": "markdown",
   "metadata": {},
   "source": [
    "<font size= 4>III-2 Analyse des correspondances multiples</font>\n",
    "\n",
    "L'ACM est l'équivalent de l'ACP pour les variables qualitatives. je n'utiliserai pas sklearn pour ce tp, mais prince, qui offre un rendu graphique plus propre.\n",
    "\n",
    "On décide dans un premier temps de transformer tout le jeu de données en un ensemble de variables qualitatives, c'est-à-dire établir des catégories à partir des données quantitatives."
   ]
  },
  {
   "cell_type": "code",
   "execution_count": 9,
   "metadata": {},
   "outputs": [
    {
     "data": {
      "text/html": [
       "<div>\n",
       "<style scoped>\n",
       "    .dataframe tbody tr th:only-of-type {\n",
       "        vertical-align: middle;\n",
       "    }\n",
       "\n",
       "    .dataframe tbody tr th {\n",
       "        vertical-align: top;\n",
       "    }\n",
       "\n",
       "    .dataframe thead th {\n",
       "        text-align: right;\n",
       "    }\n",
       "</style>\n",
       "<table border=\"1\" class=\"dataframe\">\n",
       "  <thead>\n",
       "    <tr style=\"text-align: right;\">\n",
       "      <th></th>\n",
       "      <th>jeune</th>\n",
       "      <th>grand</th>\n",
       "      <th>boit</th>\n",
       "      <th>fort</th>\n",
       "      <th>Femme</th>\n",
       "      <th>Ronfleur</th>\n",
       "      <th>Fumeur</th>\n",
       "    </tr>\n",
       "  </thead>\n",
       "  <tbody>\n",
       "    <tr>\n",
       "      <th>0</th>\n",
       "      <td>0</td>\n",
       "      <td>0</td>\n",
       "      <td>0</td>\n",
       "      <td>0</td>\n",
       "      <td>0</td>\n",
       "      <td>0</td>\n",
       "      <td>1</td>\n",
       "    </tr>\n",
       "    <tr>\n",
       "      <th>1</th>\n",
       "      <td>0</td>\n",
       "      <td>0</td>\n",
       "      <td>1</td>\n",
       "      <td>0</td>\n",
       "      <td>0</td>\n",
       "      <td>1</td>\n",
       "      <td>0</td>\n",
       "    </tr>\n",
       "    <tr>\n",
       "      <th>2</th>\n",
       "      <td>0</td>\n",
       "      <td>1</td>\n",
       "      <td>1</td>\n",
       "      <td>1</td>\n",
       "      <td>0</td>\n",
       "      <td>0</td>\n",
       "      <td>1</td>\n",
       "    </tr>\n",
       "    <tr>\n",
       "      <th>3</th>\n",
       "      <td>0</td>\n",
       "      <td>1</td>\n",
       "      <td>1</td>\n",
       "      <td>1</td>\n",
       "      <td>0</td>\n",
       "      <td>0</td>\n",
       "      <td>1</td>\n",
       "    </tr>\n",
       "    <tr>\n",
       "      <th>4</th>\n",
       "      <td>0</td>\n",
       "      <td>1</td>\n",
       "      <td>1</td>\n",
       "      <td>1</td>\n",
       "      <td>0</td>\n",
       "      <td>1</td>\n",
       "      <td>1</td>\n",
       "    </tr>\n",
       "  </tbody>\n",
       "</table>\n",
       "</div>"
      ],
      "text/plain": [
       "   jeune  grand  boit  fort  Femme  Ronfleur  Fumeur\n",
       "0      0      0     0     0      0         0       1\n",
       "1      0      0     1     0      0         1       0\n",
       "2      0      1     1     1      0         0       1\n",
       "3      0      1     1     1      0         0       1\n",
       "4      0      1     1     1      0         1       1"
      ]
     },
     "execution_count": 9,
     "metadata": {},
     "output_type": "execute_result"
    }
   ],
   "source": [
    "taille = np.array(['grand' for x in range(100)],dtype=(str, 35))\n",
    "\n",
    "for indice in np.where(ronfle['Taille']<=170):\n",
    "    taille[indice]='petit'\n",
    "\n",
    "alcool = np.array([\"ne_boit_pas\" for x in range(100)],dtype= (str, 35))\n",
    "\n",
    "for indice in np.where(ronfle['Alcool']!=0):\n",
    "    alcool[indice]='boit'\n",
    "\n",
    "age = np.array([\"Moins_jeune\" for x in range(100)],dtype= (str, 35))\n",
    "\n",
    "for indice in np.where(ronfle['Age']<=45):\n",
    "    age[indice]='jeune'\n",
    "    \n",
    "pds = np.array([\"faible\" for x in range(100)],dtype= (str, 35))\n",
    "\n",
    "for indice in np.where(ronfle['Poids']>75):\n",
    "    pds[indice]='fort'\n",
    "    \n",
    "acm = pd.DataFrame({'Age': age,'Taille': taille,'Alcool': alcool, 'Poids' : pds,\n",
    "                       'Sexe': sexe,'Ronflement' : ronflement,'Tabac': tabac})\n",
    "\n",
    "table = pd.get_dummies(acm)\n",
    "# Crée un tableau disjonctif complet sur les variables\n",
    "# Chaque modalité de variable devient une variable, qui prend la valeur 1 si l'individu possède la modalité, et 0 sinon\n",
    "\n",
    "table.columns= ['Moins_jeune', 'jeune','grand','petit','boit',\n",
    "                'ne_boit_pas','faible', 'fort','Femme','Homme','Non-Ronfleur','Ronfleur', 'Fumeur','Non-Fumeur']\n",
    "\n",
    "selection = table[['jeune','grand','boit','fort','Femme','Ronfleur', 'Fumeur']]\n",
    "\n",
    "selection.head()"
   ]
  },
  {
   "cell_type": "markdown",
   "metadata": {},
   "source": [
    "Ici, Ronfleur_1.0 signifie \"Ronfle\" et Ronfleur_0.0 signifie \"Ne ronfle pas\"."
   ]
  },
  {
   "cell_type": "code",
   "execution_count": 12,
   "metadata": {
    "scrolled": false
   },
   "outputs": [
    {
     "name": "stderr",
     "output_type": "stream",
     "text": [
      "C:\\Users\\llesoil\\AppData\\Local\\Continuum\\anaconda3\\envs\\cours\\lib\\site-packages\\prince\\one_hot.py:35: FutureWarning: SparseDataFrame is deprecated and will be removed in a future version.\n",
      "Use a regular DataFrame whose columns are SparseArrays instead.\n",
      "\n",
      "See http://pandas.pydata.org/pandas-docs/stable/user_guide/sparse.html#migrating for more.\n",
      "\n",
      "  default_fill_value=0\n",
      "C:\\Users\\llesoil\\AppData\\Local\\Continuum\\anaconda3\\envs\\cours\\lib\\site-packages\\pandas\\core\\sparse\\frame.py:257: FutureWarning: SparseSeries is deprecated and will be removed in a future version.\n",
      "Use a Series with sparse values instead.\n",
      "\n",
      "    >>> series = pd.Series(pd.SparseArray(...))\n",
      "\n",
      "See http://pandas.pydata.org/pandas-docs/stable/user_guide/sparse.html#migrating for more.\n",
      "\n",
      "  sparse_index=BlockIndex(N, blocs, blens),\n",
      "C:\\Users\\llesoil\\AppData\\Local\\Continuum\\anaconda3\\envs\\cours\\lib\\site-packages\\pandas\\core\\frame.py:3471: FutureWarning: SparseSeries is deprecated and will be removed in a future version.\n",
      "Use a Series with sparse values instead.\n",
      "\n",
      "    >>> series = pd.Series(pd.SparseArray(...))\n",
      "\n",
      "See http://pandas.pydata.org/pandas-docs/stable/user_guide/sparse.html#migrating for more.\n",
      "\n",
      "  return klass(values, index=self.index, name=items, fastpath=True)\n",
      "C:\\Users\\llesoil\\AppData\\Local\\Continuum\\anaconda3\\envs\\cours\\lib\\site-packages\\pandas\\core\\ops\\__init__.py:1641: FutureWarning: SparseSeries is deprecated and will be removed in a future version.\n",
      "Use a Series with sparse values instead.\n",
      "\n",
      "    >>> series = pd.Series(pd.SparseArray(...))\n",
      "\n",
      "See http://pandas.pydata.org/pandas-docs/stable/user_guide/sparse.html#migrating for more.\n",
      "\n",
      "  return self._constructor(new_values, index=self.index, name=self.name)\n",
      "C:\\Users\\llesoil\\AppData\\Local\\Continuum\\anaconda3\\envs\\cours\\lib\\site-packages\\pandas\\core\\sparse\\frame.py:339: FutureWarning: SparseDataFrame is deprecated and will be removed in a future version.\n",
      "Use a regular DataFrame whose columns are SparseArrays instead.\n",
      "\n",
      "See http://pandas.pydata.org/pandas-docs/stable/user_guide/sparse.html#migrating for more.\n",
      "\n",
      "  default_fill_value=self.default_fill_value,\n",
      "C:\\Users\\llesoil\\AppData\\Local\\Continuum\\anaconda3\\envs\\cours\\lib\\site-packages\\pandas\\core\\generic.py:6289: FutureWarning: SparseDataFrame is deprecated and will be removed in a future version.\n",
      "Use a regular DataFrame whose columns are SparseArrays instead.\n",
      "\n",
      "See http://pandas.pydata.org/pandas-docs/stable/user_guide/sparse.html#migrating for more.\n",
      "\n",
      "  return self._constructor(new_data).__finalize__(self)\n",
      "C:\\Users\\llesoil\\AppData\\Local\\Continuum\\anaconda3\\envs\\cours\\lib\\site-packages\\pandas\\core\\generic.py:5884: FutureWarning: SparseSeries is deprecated and will be removed in a future version.\n",
      "Use a Series with sparse values instead.\n",
      "\n",
      "    >>> series = pd.Series(pd.SparseArray(...))\n",
      "\n",
      "See http://pandas.pydata.org/pandas-docs/stable/user_guide/sparse.html#migrating for more.\n",
      "\n",
      "  return self._constructor(new_data).__finalize__(self)\n",
      "C:\\Users\\llesoil\\AppData\\Local\\Continuum\\anaconda3\\envs\\cours\\lib\\site-packages\\prince\\one_hot.py:35: FutureWarning: SparseDataFrame is deprecated and will be removed in a future version.\n",
      "Use a regular DataFrame whose columns are SparseArrays instead.\n",
      "\n",
      "See http://pandas.pydata.org/pandas-docs/stable/user_guide/sparse.html#migrating for more.\n",
      "\n",
      "  default_fill_value=0\n",
      "C:\\Users\\llesoil\\AppData\\Local\\Continuum\\anaconda3\\envs\\cours\\lib\\site-packages\\pandas\\core\\sparse\\frame.py:257: FutureWarning: SparseSeries is deprecated and will be removed in a future version.\n",
      "Use a Series with sparse values instead.\n",
      "\n",
      "    >>> series = pd.Series(pd.SparseArray(...))\n",
      "\n",
      "See http://pandas.pydata.org/pandas-docs/stable/user_guide/sparse.html#migrating for more.\n",
      "\n",
      "  sparse_index=BlockIndex(N, blocs, blens),\n",
      "C:\\Users\\llesoil\\AppData\\Local\\Continuum\\anaconda3\\envs\\cours\\lib\\site-packages\\pandas\\core\\frame.py:3471: FutureWarning: SparseSeries is deprecated and will be removed in a future version.\n",
      "Use a Series with sparse values instead.\n",
      "\n",
      "    >>> series = pd.Series(pd.SparseArray(...))\n",
      "\n",
      "See http://pandas.pydata.org/pandas-docs/stable/user_guide/sparse.html#migrating for more.\n",
      "\n",
      "  return klass(values, index=self.index, name=items, fastpath=True)\n",
      "C:\\Users\\llesoil\\AppData\\Local\\Continuum\\anaconda3\\envs\\cours\\lib\\site-packages\\prince\\one_hot.py:35: FutureWarning: SparseDataFrame is deprecated and will be removed in a future version.\n",
      "Use a regular DataFrame whose columns are SparseArrays instead.\n",
      "\n",
      "See http://pandas.pydata.org/pandas-docs/stable/user_guide/sparse.html#migrating for more.\n",
      "\n",
      "  default_fill_value=0\n",
      "C:\\Users\\llesoil\\AppData\\Local\\Continuum\\anaconda3\\envs\\cours\\lib\\site-packages\\pandas\\core\\sparse\\frame.py:257: FutureWarning: SparseSeries is deprecated and will be removed in a future version.\n",
      "Use a Series with sparse values instead.\n",
      "\n",
      "    >>> series = pd.Series(pd.SparseArray(...))\n",
      "\n",
      "See http://pandas.pydata.org/pandas-docs/stable/user_guide/sparse.html#migrating for more.\n",
      "\n",
      "  sparse_index=BlockIndex(N, blocs, blens),\n",
      "C:\\Users\\llesoil\\AppData\\Local\\Continuum\\anaconda3\\envs\\cours\\lib\\site-packages\\pandas\\core\\frame.py:3471: FutureWarning: SparseSeries is deprecated and will be removed in a future version.\n",
      "Use a Series with sparse values instead.\n",
      "\n",
      "    >>> series = pd.Series(pd.SparseArray(...))\n",
      "\n",
      "See http://pandas.pydata.org/pandas-docs/stable/user_guide/sparse.html#migrating for more.\n",
      "\n",
      "  return klass(values, index=self.index, name=items, fastpath=True)\n"
     ]
    },
    {
     "data": {
      "image/png": "[encoded data removed]",
      "text/plain": [
       "<Figure size 1440x1440 with 1 Axes>"
      ]
     },
     "metadata": {
      "needs_background": "light"
     },
     "output_type": "display_data"
    }
   ],
   "source": [
    "import prince\n",
    "\n",
    "mca = prince.MCA(n_components=2, n_iter=3, copy=True, engine='auto', random_state=42)\n",
    "mca = mca.fit(selection)\n",
    "ax = mca.plot_coordinates(X= selection, ax=None, figsize=(20, 20), show_row_points=True, row_points_size=10, \n",
    "        show_row_labels=False, show_column_points=True, column_points_size=100, show_column_labels=True, legend_n_cols=10)"
   ]
  },
  {
   "cell_type": "markdown",
   "metadata": {},
   "source": [
    "L'ACM va classer les modalités des variables les unes par rapport aux autres. Les points non légendés sont les individus représentés sur le graphique. En fait, les positions des modalités correspondent aux barycentres des points des individus possédant cette caractéristique, ce qui permet d'afficher les individus et les variables.\n",
    "\n",
    "Si deux variables sont proches sur le graphique, alors elles sont partagées par beaucoup d'individus. Si au contraire elles sont éloignées, alors il est rare de trouver un individu vérifiant les deux caractéristiques en même temps.\n",
    "\n",
    "Quelles conclusions peut-on tirer du plan du dessus?\n",
    "\n",
    "L'axe horizontal sépare les personnes à gauche qui fument et boivent, que l'on qualifiera assez subjectivement de \"fêtardes\", et celles qui ont un mode de vie plus \"sain\". L'axe vertical sépare les gabarits forts (en bas) des gabarits faibles (en haut).\n",
    "\n",
    "Si on regarde <b>quelles caractéristiques ont le plus de chances de nous faire ronfler</b>:\n",
    "- Au plus proche, le fait d'être un homme\n",
    "- Fumer, boire\n",
    "- Avoir un gabarit plutôt fort (grande taille, et poids élevé)\n",
    "\n",
    "L'idée, après une ACM, peut être d'établir des groupes d'individus possédant les mêmes caractéristiques. Dans la suite, on cherchera à tester des méthodes de classification.\n",
    "\n",
    "Un cours pour comprendre un peu mieux l'ACM : http://eric.univ-lyon2.fr/~ricco/cours/slides/ACM.pdf\n",
    "(contributions aux axes, les cos² pour la précision)\n",
    "\n",
    "Un script python pour pratiquer avec la librairie mca: https://github.com/wikistat/Exploration/blob/master/TutosRudim/Cal4-Python-AFCM.ipynb"
   ]
  },
  {
   "cell_type": "markdown",
   "metadata": {},
   "source": [
    "<font size= 5><b>IV- Classification </b></font>\n",
    "\n",
    "La classification a pour but d'établir des groupes d'individus cohérents et respectant les mêmes caractéristiques.\n",
    "\n",
    "En gros, c'est agréger les données en une unique variable qualitative, qui définit bien chaque groupe de personnes."
   ]
  },
  {
   "cell_type": "code",
   "execution_count": 13,
   "metadata": {},
   "outputs": [
    {
     "data": {
      "image/png": "[encoded data removed]",
      "text/plain": [
       "<Figure size 432x288 with 1 Axes>"
      ]
     },
     "metadata": {
      "needs_background": "light"
     },
     "output_type": "display_data"
    }
   ],
   "source": [
    "from sklearn.datasets import make_blobs\n",
    "\n",
    "x, y = make_blobs(n_features=2)\n",
    "plt.scatter(x[:, 0], x[:, 1], \n",
    "            marker='o', #forme des points\n",
    "            c=y)# couleur des groupes\n",
    "plt.show()"
   ]
  },
  {
   "cell_type": "markdown",
   "metadata": {},
   "source": [
    "Par exemple, ici, classifier c'est différencier les  groupes jaunes, verts et violets."
   ]
  },
  {
   "cell_type": "markdown",
   "metadata": {},
   "source": [
    "<font size= 4>IV- 1 Les k plus proches voisins (KNN = K Nearest Neighbors)</font>"
   ]
  },
  {
   "cell_type": "code",
   "execution_count": 18,
   "metadata": {
    "scrolled": false
   },
   "outputs": [
    {
     "data": {
      "text/html": [
       "<div id=\"graph-3b75aab8-eb7a-4d65-bfdd-04378616616b\"></div>\n",
       "           <script type=\"text/javascript\">\n",
       "           require.config({baseUrl: '/',\n",
       "                             paths: {jgraph: ['nbextensions/jgraph.min', 'https://rawgit.com/patrickfuller/jgraph/master/js/build/jgraph.min']}});\n",
       "           require(['jgraph'], function () {\n",
       "               var $d = $('#graph-3b75aab8-eb7a-4d65-bfdd-04378616616b');\n",
       "               $d.width(600); $d.height(400);\n",
       "               $d.jgraph = jQuery.extend({}, jgraph);\n",
       "               $d.jgraph.create($d, {nodeSize: 2.000000,\n",
       "                                     edgeSize: 0.250000,\n",
       "                                     defaultNodeColor: '0x383294',\n",
       "                                     defaultEdgeColor: '0xaaaaaa',\n",
       "                                     shader: 'basic',\n",
       "                                     z: 100,\n",
       "                                     runOptimization: true,\n",
       "                                     directed: true,\n",
       "                                     showSave: false});\n",
       "               $d.jgraph.draw({\n",
       "    \"edges\": [\n",
       "        { \"source\": 0, \"target\": 57 },\n",
       "        { \"source\": 0, \"target\": 8 },\n",
       "        { \"source\": 0, \"target\": 88 },\n",
       "        { \"source\": 1, \"target\": 26 },\n",
       "        { \"source\": 1, \"target\": 43 },\n",
       "        { \"source\": 1, \"target\": 50 },\n",
       "        { \"source\": 2, \"target\": 60 },\n",
       "        { \"source\": 2, \"target\": 49 },\n",
       "        { \"source\": 2, \"target\": 9 },\n",
       "        { \"source\": 3, \"target\": 94 },\n",
       "        { \"source\": 3, \"target\": 78 },\n",
       "        { \"source\": 3, \"target\": 45 },\n",
       "        { \"source\": 4, \"target\": 86 },\n",
       "        { \"source\": 4, \"target\": 48 },\n",
       "        { \"source\": 4, \"target\": 5 },\n",
       "        { \"source\": 5, \"target\": 36 },\n",
       "        { \"source\": 5, \"target\": 46 },\n",
       "        { \"source\": 5, \"target\": 86 },\n",
       "        { \"source\": 6, \"target\": 29 },\n",
       "        { \"source\": 6, \"target\": 11 },\n",
       "        { \"source\": 6, \"target\": 83 },\n",
       "        { \"source\": 7, \"target\": 88 },\n",
       "        { \"source\": 7, \"target\": 8 },\n",
       "        { \"source\": 7, \"target\": 70 },\n",
       "        { \"source\": 8, \"target\": 88 },\n",
       "        { \"source\": 8, \"target\": 7 },\n",
       "        { \"source\": 8, \"target\": 75 },\n",
       "        { \"source\": 9, \"target\": 11 },\n",
       "        { \"source\": 9, \"target\": 49 },\n",
       "        { \"source\": 9, \"target\": 6 },\n",
       "        { \"source\": 10, \"target\": 56 },\n",
       "        { \"source\": 10, \"target\": 20 },\n",
       "        { \"source\": 10, \"target\": 15 },\n",
       "        { \"source\": 11, \"target\": 49 },\n",
       "        { \"source\": 11, \"target\": 6 },\n",
       "        { \"source\": 11, \"target\": 9 },\n",
       "        { \"source\": 12, \"target\": 69 },\n",
       "        { \"source\": 12, \"target\": 40 },\n",
       "        { \"source\": 12, \"target\": 25 },\n",
       "        { \"source\": 13, \"target\": 87 },\n",
       "        { \"source\": 13, \"target\": 50 },\n",
       "        { \"source\": 13, \"target\": 43 },\n",
       "        { \"source\": 14, \"target\": 99 },\n",
       "        { \"source\": 14, \"target\": 21 },\n",
       "        { \"source\": 14, \"target\": 38 },\n",
       "        { \"source\": 15, \"target\": 56 },\n",
       "        { \"source\": 15, \"target\": 10 },\n",
       "        { \"source\": 15, \"target\": 18 },\n",
       "        { \"source\": 16, \"target\": 73 },\n",
       "        { \"source\": 16, \"target\": 25 },\n",
       "        { \"source\": 16, \"target\": 12 },\n",
       "        { \"source\": 17, \"target\": 91 },\n",
       "        { \"source\": 17, \"target\": 69 },\n",
       "        { \"source\": 17, \"target\": 40 },\n",
       "        { \"source\": 18, \"target\": 15 },\n",
       "        { \"source\": 18, \"target\": 56 },\n",
       "        { \"source\": 18, \"target\": 10 },\n",
       "        { \"source\": 19, \"target\": 95 },\n",
       "        { \"source\": 19, \"target\": 27 },\n",
       "        { \"source\": 19, \"target\": 72 },\n",
       "        { \"source\": 20, \"target\": 10 },\n",
       "        { \"source\": 20, \"target\": 56 },\n",
       "        { \"source\": 20, \"target\": 46 },\n",
       "        { \"source\": 21, \"target\": 99 },\n",
       "        { \"source\": 21, \"target\": 14 },\n",
       "        { \"source\": 21, \"target\": 38 },\n",
       "        { \"source\": 22, \"target\": 53 },\n",
       "        { \"source\": 22, \"target\": 57 },\n",
       "        { \"source\": 22, \"target\": 70 },\n",
       "        { \"source\": 23, \"target\": 82 },\n",
       "        { \"source\": 23, \"target\": 41 },\n",
       "        { \"source\": 23, \"target\": 98 },\n",
       "        { \"source\": 24, \"target\": 58 },\n",
       "        { \"source\": 24, \"target\": 6 },\n",
       "        { \"source\": 24, \"target\": 29 },\n",
       "        { \"source\": 25, \"target\": 12 },\n",
       "        { \"source\": 25, \"target\": 69 },\n",
       "        { \"source\": 25, \"target\": 16 },\n",
       "        { \"source\": 26, \"target\": 1 },\n",
       "        { \"source\": 26, \"target\": 50 },\n",
       "        { \"source\": 26, \"target\": 43 },\n",
       "        { \"source\": 27, \"target\": 19 },\n",
       "        { \"source\": 27, \"target\": 95 },\n",
       "        { \"source\": 27, \"target\": 55 },\n",
       "        { \"source\": 28, \"target\": 63 },\n",
       "        { \"source\": 28, \"target\": 65 },\n",
       "        { \"source\": 28, \"target\": 0 },\n",
       "        { \"source\": 29, \"target\": 58 },\n",
       "        { \"source\": 29, \"target\": 60 },\n",
       "        { \"source\": 29, \"target\": 97 },\n",
       "        { \"source\": 30, \"target\": 97 },\n",
       "        { \"source\": 30, \"target\": 60 },\n",
       "        { \"source\": 30, \"target\": 67 },\n",
       "        { \"source\": 31, \"target\": 81 },\n",
       "        { \"source\": 31, \"target\": 40 },\n",
       "        { \"source\": 31, \"target\": 87 },\n",
       "        { \"source\": 32, \"target\": 77 },\n",
       "        { \"source\": 32, \"target\": 98 },\n",
       "        { \"source\": 32, \"target\": 96 },\n",
       "        { \"source\": 33, \"target\": 12 },\n",
       "        { \"source\": 33, \"target\": 75 },\n",
       "        { \"source\": 33, \"target\": 40 },\n",
       "        { \"source\": 34, \"target\": 29 },\n",
       "        { \"source\": 34, \"target\": 6 },\n",
       "        { \"source\": 34, \"target\": 20 },\n",
       "        { \"source\": 35, \"target\": 23 },\n",
       "        { \"source\": 35, \"target\": 41 },\n",
       "        { \"source\": 35, \"target\": 99 },\n",
       "        { \"source\": 36, \"target\": 5 },\n",
       "        { \"source\": 36, \"target\": 46 },\n",
       "        { \"source\": 36, \"target\": 56 },\n",
       "        { \"source\": 37, \"target\": 93 },\n",
       "        { \"source\": 37, \"target\": 72 },\n",
       "        { \"source\": 37, \"target\": 19 },\n",
       "        { \"source\": 38, \"target\": 83 },\n",
       "        { \"source\": 38, \"target\": 14 },\n",
       "        { \"source\": 38, \"target\": 99 },\n",
       "        { \"source\": 39, \"target\": 76 },\n",
       "        { \"source\": 39, \"target\": 82 },\n",
       "        { \"source\": 39, \"target\": 23 },\n",
       "        { \"source\": 40, \"target\": 12 },\n",
       "        { \"source\": 40, \"target\": 69 },\n",
       "        { \"source\": 40, \"target\": 33 },\n",
       "        { \"source\": 41, \"target\": 23 },\n",
       "        { \"source\": 41, \"target\": 82 },\n",
       "        { \"source\": 41, \"target\": 96 },\n",
       "        { \"source\": 42, \"target\": 15 },\n",
       "        { \"source\": 42, \"target\": 24 },\n",
       "        { \"source\": 42, \"target\": 10 },\n",
       "        { \"source\": 43, \"target\": 13 },\n",
       "        { \"source\": 43, \"target\": 1 },\n",
       "        { \"source\": 43, \"target\": 26 },\n",
       "        { \"source\": 44, \"target\": 74 },\n",
       "        { \"source\": 44, \"target\": 92 },\n",
       "        { \"source\": 44, \"target\": 5 },\n",
       "        { \"source\": 45, \"target\": 85 },\n",
       "        { \"source\": 45, \"target\": 78 },\n",
       "        { \"source\": 45, \"target\": 3 },\n",
       "        { \"source\": 46, \"target\": 36 },\n",
       "        { \"source\": 46, \"target\": 56 },\n",
       "        { \"source\": 46, \"target\": 5 },\n",
       "        { \"source\": 47, \"target\": 85 },\n",
       "        { \"source\": 47, \"target\": 73 },\n",
       "        { \"source\": 47, \"target\": 45 },\n",
       "        { \"source\": 48, \"target\": 86 },\n",
       "        { \"source\": 48, \"target\": 95 },\n",
       "        { \"source\": 48, \"target\": 64 },\n",
       "        { \"source\": 49, \"target\": 83 },\n",
       "        { \"source\": 49, \"target\": 11 },\n",
       "        { \"source\": 49, \"target\": 9 },\n",
       "        { \"source\": 50, \"target\": 26 },\n",
       "        { \"source\": 50, \"target\": 54 },\n",
       "        { \"source\": 50, \"target\": 87 },\n",
       "        { \"source\": 51, \"target\": 22 },\n",
       "        { \"source\": 51, \"target\": 28 },\n",
       "        { \"source\": 51, \"target\": 53 },\n",
       "        { \"source\": 52, \"target\": 50 },\n",
       "        { \"source\": 52, \"target\": 87 },\n",
       "        { \"source\": 52, \"target\": 13 },\n",
       "        { \"source\": 53, \"target\": 22 },\n",
       "        { \"source\": 53, \"target\": 57 },\n",
       "        { \"source\": 53, \"target\": 70 },\n",
       "        { \"source\": 54, \"target\": 84 },\n",
       "        { \"source\": 54, \"target\": 50 },\n",
       "        { \"source\": 54, \"target\": 80 },\n",
       "        { \"source\": 55, \"target\": 27 },\n",
       "        { \"source\": 55, \"target\": 96 },\n",
       "        { \"source\": 55, \"target\": 94 },\n",
       "        { \"source\": 56, \"target\": 10 },\n",
       "        { \"source\": 56, \"target\": 46 },\n",
       "        { \"source\": 56, \"target\": 15 },\n",
       "        { \"source\": 57, \"target\": 70 },\n",
       "        { \"source\": 57, \"target\": 53 },\n",
       "        { \"source\": 57, \"target\": 22 },\n",
       "        { \"source\": 58, \"target\": 29 },\n",
       "        { \"source\": 58, \"target\": 60 },\n",
       "        { \"source\": 58, \"target\": 97 },\n",
       "        { \"source\": 59, \"target\": 63 },\n",
       "        { \"source\": 59, \"target\": 65 },\n",
       "        { \"source\": 59, \"target\": 28 },\n",
       "        { \"source\": 60, \"target\": 58 },\n",
       "        { \"source\": 60, \"target\": 29 },\n",
       "        { \"source\": 60, \"target\": 97 },\n",
       "        { \"source\": 61, \"target\": 80 },\n",
       "        { \"source\": 61, \"target\": 84 },\n",
       "        { \"source\": 61, \"target\": 54 },\n",
       "        { \"source\": 62, \"target\": 70 },\n",
       "        { \"source\": 62, \"target\": 57 },\n",
       "        { \"source\": 62, \"target\": 89 },\n",
       "        { \"source\": 63, \"target\": 65 },\n",
       "        { \"source\": 63, \"target\": 28 },\n",
       "        { \"source\": 63, \"target\": 51 },\n",
       "        { \"source\": 64, \"target\": 72 },\n",
       "        { \"source\": 64, \"target\": 95 },\n",
       "        { \"source\": 64, \"target\": 48 },\n",
       "        { \"source\": 65, \"target\": 63 },\n",
       "        { \"source\": 65, \"target\": 28 },\n",
       "        { \"source\": 65, \"target\": 53 },\n",
       "        { \"source\": 66, \"target\": 32 },\n",
       "        { \"source\": 66, \"target\": 77 },\n",
       "        { \"source\": 66, \"target\": 98 },\n",
       "        { \"source\": 67, \"target\": 86 },\n",
       "        { \"source\": 67, \"target\": 99 },\n",
       "        { \"source\": 67, \"target\": 21 },\n",
       "        { \"source\": 68, \"target\": 74 },\n",
       "        { \"source\": 68, \"target\": 92 },\n",
       "        { \"source\": 68, \"target\": 44 },\n",
       "        { \"source\": 69, \"target\": 12 },\n",
       "        { \"source\": 69, \"target\": 40 },\n",
       "        { \"source\": 69, \"target\": 25 },\n",
       "        { \"source\": 70, \"target\": 7 },\n",
       "        { \"source\": 70, \"target\": 89 },\n",
       "        { \"source\": 70, \"target\": 88 },\n",
       "        { \"source\": 71, \"target\": 32 },\n",
       "        { \"source\": 71, \"target\": 77 },\n",
       "        { \"source\": 71, \"target\": 41 },\n",
       "        { \"source\": 72, \"target\": 95 },\n",
       "        { \"source\": 72, \"target\": 19 },\n",
       "        { \"source\": 72, \"target\": 64 },\n",
       "        { \"source\": 73, \"target\": 16 },\n",
       "        { \"source\": 73, \"target\": 47 },\n",
       "        { \"source\": 73, \"target\": 85 },\n",
       "        { \"source\": 74, \"target\": 92 },\n",
       "        { \"source\": 74, \"target\": 44 },\n",
       "        { \"source\": 74, \"target\": 93 },\n",
       "        { \"source\": 75, \"target\": 8 },\n",
       "        { \"source\": 75, \"target\": 88 },\n",
       "        { \"source\": 75, \"target\": 7 },\n",
       "        { \"source\": 76, \"target\": 39 },\n",
       "        { \"source\": 76, \"target\": 82 },\n",
       "        { \"source\": 76, \"target\": 98 },\n",
       "        { \"source\": 77, \"target\": 32 },\n",
       "        { \"source\": 77, \"target\": 98 },\n",
       "        { \"source\": 77, \"target\": 96 },\n",
       "        { \"source\": 78, \"target\": 3 },\n",
       "        { \"source\": 78, \"target\": 94 },\n",
       "        { \"source\": 78, \"target\": 45 },\n",
       "        { \"source\": 79, \"target\": 34 },\n",
       "        { \"source\": 79, \"target\": 20 },\n",
       "        { \"source\": 79, \"target\": 6 },\n",
       "        { \"source\": 80, \"target\": 84 },\n",
       "        { \"source\": 80, \"target\": 61 },\n",
       "        { \"source\": 80, \"target\": 54 },\n",
       "        { \"source\": 81, \"target\": 31 },\n",
       "        { \"source\": 81, \"target\": 13 },\n",
       "        { \"source\": 81, \"target\": 87 },\n",
       "        { \"source\": 82, \"target\": 23 },\n",
       "        { \"source\": 82, \"target\": 41 },\n",
       "        { \"source\": 82, \"target\": 98 },\n",
       "        { \"source\": 83, \"target\": 49 },\n",
       "        { \"source\": 83, \"target\": 38 },\n",
       "        { \"source\": 83, \"target\": 99 },\n",
       "        { \"source\": 84, \"target\": 54 },\n",
       "        { \"source\": 84, \"target\": 80 },\n",
       "        { \"source\": 84, \"target\": 43 },\n",
       "        { \"source\": 85, \"target\": 45 },\n",
       "        { \"source\": 85, \"target\": 3 },\n",
       "        { \"source\": 85, \"target\": 78 },\n",
       "        { \"source\": 86, \"target\": 48 },\n",
       "        { \"source\": 86, \"target\": 64 },\n",
       "        { \"source\": 86, \"target\": 67 },\n",
       "        { \"source\": 87, \"target\": 13 },\n",
       "        { \"source\": 87, \"target\": 50 },\n",
       "        { \"source\": 87, \"target\": 31 },\n",
       "        { \"source\": 88, \"target\": 7 },\n",
       "        { \"source\": 88, \"target\": 8 },\n",
       "        { \"source\": 88, \"target\": 75 },\n",
       "        { \"source\": 89, \"target\": 70 },\n",
       "        { \"source\": 89, \"target\": 57 },\n",
       "        { \"source\": 89, \"target\": 7 },\n",
       "        { \"source\": 90, \"target\": 70 },\n",
       "        { \"source\": 90, \"target\": 89 },\n",
       "        { \"source\": 90, \"target\": 7 },\n",
       "        { \"source\": 91, \"target\": 17 },\n",
       "        { \"source\": 91, \"target\": 69 },\n",
       "        { \"source\": 91, \"target\": 40 },\n",
       "        { \"source\": 92, \"target\": 74 },\n",
       "        { \"source\": 92, \"target\": 44 },\n",
       "        { \"source\": 92, \"target\": 25 },\n",
       "        { \"source\": 93, \"target\": 37 },\n",
       "        { \"source\": 93, \"target\": 73 },\n",
       "        { \"source\": 93, \"target\": 45 },\n",
       "        { \"source\": 94, \"target\": 3 },\n",
       "        { \"source\": 94, \"target\": 78 },\n",
       "        { \"source\": 94, \"target\": 55 },\n",
       "        { \"source\": 95, \"target\": 19 },\n",
       "        { \"source\": 95, \"target\": 72 },\n",
       "        { \"source\": 95, \"target\": 27 },\n",
       "        { \"source\": 96, \"target\": 98 },\n",
       "        { \"source\": 96, \"target\": 41 },\n",
       "        { \"source\": 96, \"target\": 55 },\n",
       "        { \"source\": 97, \"target\": 30 },\n",
       "        { \"source\": 97, \"target\": 29 },\n",
       "        { \"source\": 97, \"target\": 58 },\n",
       "        { \"source\": 98, \"target\": 96 },\n",
       "        { \"source\": 98, \"target\": 77 },\n",
       "        { \"source\": 98, \"target\": 41 },\n",
       "        { \"source\": 99, \"target\": 14 },\n",
       "        { \"source\": 99, \"target\": 21 },\n",
       "        { \"source\": 99, \"target\": 83 }\n",
       "    ],\n",
       "    \"nodes\": {\n",
       "        \"0\": { \"location\": [ -2.0, -2.0, -2.0 ] },\n",
       "        \"1\": { \"location\": [ -2.0, -2.0, -2.0 ] },\n",
       "        \"2\": { \"location\": [ -2.0, -2.0, -2.0 ] },\n",
       "        \"3\": { \"location\": [ -2.0, -2.0, -2.0 ] },\n",
       "        \"4\": { \"location\": [ -2.0, -2.0, -2.0 ] },\n",
       "        \"5\": { \"location\": [ -2.0, -2.0, -2.0 ] },\n",
       "        \"6\": { \"location\": [ -2.0, -2.0, -2.0 ] },\n",
       "        \"7\": { \"location\": [ -2.0, -2.0, -2.0 ] },\n",
       "        \"8\": { \"location\": [ -2.0, -2.0, -2.0 ] },\n",
       "        \"9\": { \"location\": [ -2.0, -2.0, -2.0 ] },\n",
       "        \"10\": { \"location\": [ -2.0, -2.0, -2.0 ] },\n",
       "        \"11\": { \"location\": [ -2.0, -2.0, -2.0 ] },\n",
       "        \"12\": { \"location\": [ -2.0, -2.0, -2.0 ] },\n",
       "        \"13\": { \"location\": [ -2.0, -2.0, -2.0 ] },\n",
       "        \"14\": { \"location\": [ -2.0, -2.0, -2.0 ] },\n",
       "        \"15\": { \"location\": [ -2.0, -2.0, -2.0 ] },\n",
       "        \"16\": { \"location\": [ -2.0, -2.0, -2.0 ] },\n",
       "        \"17\": { \"location\": [ -2.0, -2.0, -2.0 ] },\n",
       "        \"18\": { \"location\": [ -2.0, -2.0, -2.0 ] },\n",
       "        \"19\": { \"location\": [ -2.0, -2.0, -2.0 ] },\n",
       "        \"20\": { \"location\": [ -2.0, -2.0, -2.0 ] },\n",
       "        \"21\": { \"location\": [ -2.0, -2.0, -2.0 ] },\n",
       "        \"22\": { \"location\": [ -2.0, -2.0, -2.0 ] },\n",
       "        \"23\": { \"location\": [ -2.0, -2.0, -2.0 ] },\n",
       "        \"24\": { \"location\": [ -2.0, -2.0, -2.0 ] },\n",
       "        \"25\": { \"location\": [ -2.0, -2.0, -2.0 ] },\n",
       "        \"26\": { \"location\": [ -2.0, -2.0, -2.0 ] },\n",
       "        \"27\": { \"location\": [ -2.0, -2.0, -2.0 ] },\n",
       "        \"28\": { \"location\": [ -2.0, -2.0, -2.0 ] },\n",
       "        \"29\": { \"location\": [ -2.0, -2.0, -2.0 ] },\n",
       "        \"30\": { \"location\": [ -2.0, -2.0, -2.0 ] },\n",
       "        \"31\": { \"location\": [ -2.0, -2.0, -2.0 ] },\n",
       "        \"32\": { \"location\": [ -2.0, -2.0, -2.0 ] },\n",
       "        \"33\": { \"location\": [ -2.0, -2.0, -2.0 ] },\n",
       "        \"34\": { \"location\": [ -2.0, -2.0, -2.0 ] },\n",
       "        \"35\": { \"location\": [ -2.0, -2.0, -2.0 ] },\n",
       "        \"36\": { \"location\": [ -2.0, -2.0, -2.0 ] },\n",
       "        \"37\": { \"location\": [ -2.0, -2.0, -2.0 ] },\n",
       "        \"38\": { \"location\": [ -2.0, -2.0, -2.0 ] },\n",
       "        \"39\": { \"location\": [ -2.0, -2.0, -2.0 ] },\n",
       "        \"40\": { \"location\": [ -2.0, -2.0, -2.0 ] },\n",
       "        \"41\": { \"location\": [ -2.0, -2.0, -2.0 ] },\n",
       "        \"42\": { \"location\": [ -2.0, -2.0, -2.0 ] },\n",
       "        \"43\": { \"location\": [ -2.0, -2.0, -2.0 ] },\n",
       "        \"44\": { \"location\": [ -2.0, -2.0, -2.0 ] },\n",
       "        \"45\": { \"location\": [ -2.0, -2.0, -2.0 ] },\n",
       "        \"46\": { \"location\": [ -2.0, -2.0, -2.0 ] },\n",
       "        \"47\": { \"location\": [ -2.0, -2.0, -1.9994812585445276 ] },\n",
       "        \"48\": { \"location\": [ -2.0, -2.0, -2.0 ] },\n",
       "        \"49\": { \"location\": [ 0.8672860337454126, -0.6723956061001752, -0.10001366030000307 ] },\n",
       "        \"50\": { \"location\": [ 2.0, 0.6330900720908971, -1.674392606137713 ] },\n",
       "        \"51\": { \"location\": [ 2.0, 0.9192559171494726, 0.3195999703177612 ] },\n",
       "        \"52\": { \"location\": [ 2.0, 2.0, 2.0 ] },\n",
       "        \"53\": { \"location\": [ 2.0, 2.0, 2.0 ] },\n",
       "        \"54\": { \"location\": [ 2.0, 2.0, 2.0 ] },\n",
       "        \"55\": { \"location\": [ 2.0, 2.0, 2.0 ] },\n",
       "        \"56\": { \"location\": [ 2.0, 2.0, 2.0 ] },\n",
       "        \"57\": { \"location\": [ 2.0, 2.0, 2.0 ] },\n",
       "        \"58\": { \"location\": [ 2.0, 2.0, 2.0 ] },\n",
       "        \"59\": { \"location\": [ 2.0, 2.0, 2.0 ] },\n",
       "        \"60\": { \"location\": [ 2.0, 2.0, 2.0 ] },\n",
       "        \"61\": { \"location\": [ 2.0, 2.0, 2.0 ] },\n",
       "        \"62\": { \"location\": [ 2.0, 2.0, 2.0 ] },\n",
       "        \"63\": { \"location\": [ 2.0, 2.0, 2.0 ] },\n",
       "        \"64\": { \"location\": [ 2.0, 2.0, 2.0 ] },\n",
       "        \"65\": { \"location\": [ 2.0, 2.0, 2.0 ] },\n",
       "        \"66\": { \"location\": [ 2.0, 2.0, 2.0 ] },\n",
       "        \"67\": { \"location\": [ 2.0, 2.0, 2.0 ] },\n",
       "        \"68\": { \"location\": [ 2.0, 2.0, 2.0 ] },\n",
       "        \"69\": { \"location\": [ 2.0, 2.0, 2.0 ] },\n",
       "        \"70\": { \"location\": [ 2.0, 2.0, 2.0 ] },\n",
       "        \"71\": { \"location\": [ 2.0, 2.0, 2.0 ] },\n",
       "        \"72\": { \"location\": [ 2.0, 2.0, 2.0 ] },\n",
       "        \"73\": { \"location\": [ 2.0, 2.0, 2.0 ] },\n",
       "        \"74\": { \"location\": [ 2.0, 2.0, 2.0 ] },\n",
       "        \"75\": { \"location\": [ 2.0, 2.0, 2.0 ] },\n",
       "        \"76\": { \"location\": [ 2.0, 2.0, 2.0 ] },\n",
       "        \"77\": { \"location\": [ 2.0, 2.0, 2.0 ] },\n",
       "        \"78\": { \"location\": [ 2.0, 2.0, 2.0 ] },\n",
       "        \"79\": { \"location\": [ 2.0, 2.0, 2.0 ] },\n",
       "        \"80\": { \"location\": [ 2.0, 2.0, 2.0 ] },\n",
       "        \"81\": { \"location\": [ 2.0, 2.0, 2.0 ] },\n",
       "        \"82\": { \"location\": [ 2.0, 2.0, 2.0 ] },\n",
       "        \"83\": { \"location\": [ 2.0, 2.0, 2.0 ] },\n",
       "        \"84\": { \"location\": [ 2.0, 2.0, 2.0 ] },\n",
       "        \"85\": { \"location\": [ 2.0, 2.0, 2.0 ] },\n",
       "        \"86\": { \"location\": [ 2.0, 2.0, 2.0 ] },\n",
       "        \"87\": { \"location\": [ 2.0, 2.0, 2.0 ] },\n",
       "        \"88\": { \"location\": [ 2.0, 2.0, 2.0 ] },\n",
       "        \"89\": { \"location\": [ 2.0, 2.0, 2.0 ] },\n",
       "        \"90\": { \"location\": [ 2.0, 2.0, 2.0 ] },\n",
       "        \"91\": { \"location\": [ 2.0, 2.0, 2.0 ] },\n",
       "        \"92\": { \"location\": [ 2.0, 2.0, 2.0 ] },\n",
       "        \"93\": { \"location\": [ 2.0, 2.0, 2.0 ] },\n",
       "        \"94\": { \"location\": [ 2.0, 2.0, 2.0 ] },\n",
       "        \"95\": { \"location\": [ 2.0, 2.0, 2.0 ] },\n",
       "        \"96\": { \"location\": [ 2.0, 2.0, 2.0 ] },\n",
       "        \"97\": { \"location\": [ 2.0, 2.0, 2.0 ] },\n",
       "        \"98\": { \"location\": [ 2.0, 2.0, 2.0 ] },\n",
       "        \"99\": { \"location\": [ 2.0, 2.0, 2.0 ] }\n",
       "    }\n",
       "});\n",
       "\n",
       "               $d.resizable({\n",
       "                   aspectRatio: 600 / 400,\n",
       "                   resize: function (evt, ui) {\n",
       "                       $d.jgraph.renderer.setSize(ui.size.width,\n",
       "                                                  ui.size.height);\n",
       "                   }\n",
       "               });\n",
       "           });\n",
       "           </script>"
      ],
      "text/plain": [
       "<IPython.core.display.HTML object>"
      ]
     },
     "metadata": {},
     "output_type": "display_data"
    }
   ],
   "source": [
    "from sklearn.neighbors import NearestNeighbors\n",
    "import jgraph as jg\n",
    "\n",
    "X = ronfle[['Age','Poids','Taille','Alcool']]\n",
    "nbrs = NearestNeighbors(n_neighbors=4, algorithm='ball_tree').fit(X)\n",
    "distances, indices = nbrs.kneighbors(X)\n",
    "#bgcolor = [int(k)*'#0000FF'+(1-int(k))*'#0001FF' for k in np.array(table[['Ronfleur']])]\n",
    "\n",
    "tab = []\n",
    "for (i,j,k,l) in indices:\n",
    "    tab.append((int(i),int(j)))\n",
    "    tab.append((int(i),int(k)))\n",
    "    tab.append((int(i),int(l)))\n",
    "jg.draw(tab,default_node_color=0x383294)   "
   ]
  },
  {
   "cell_type": "markdown",
   "metadata": {},
   "source": [
    "Chaque individu est représenté par un point. Pour chaque individu, on prend les 4 individus qui sont les plus proches de lui en terme de caractéristiques, puis on relie leurs deux points entre eux par une arête.\n",
    "\n",
    "On voit apparaitre les groupes, ce sont les graphes avec beaucoup de liaisons entre chacun des points. Par suite, on essaye de définir les différents groupes par leur caractéristiques."
   ]
  },
  {
   "cell_type": "markdown",
   "metadata": {},
   "source": [
    "<font size= 4>IV- 2 Classification ascendante hiérarchique</font>"
   ]
  },
  {
   "cell_type": "code",
   "execution_count": 19,
   "metadata": {},
   "outputs": [
    {
     "data": {
      "image/png": "[encoded data removed]",
      "text/plain": [
       "<Figure size 1080x360 with 1 Axes>"
      ]
     },
     "metadata": {
      "needs_background": "light"
     },
     "output_type": "display_data"
    }
   ],
   "source": [
    "from scipy.cluster.hierarchy import dendrogram, linkage\n",
    "\n",
    "# Générer la matrice des distances entre les individus\n",
    "Z = linkage(selection, # la base de données avec des booléens sur les caractéristiques utilisés pour l'ACM\n",
    "            method='ward', # distance\n",
    "            metric='euclidean')# métrique utilisée\n",
    "\n",
    "# Affichage du dendrogramme, l'arbre du dessous qui catégorise les individus\n",
    "plt.figure(figsize=(15,5))\n",
    "plt.title(\"CAH sur les individus\")\n",
    "dend = dendrogram(Z, # les distances entre individus\n",
    "           labels=[str(k+1) for k in range(len(selection))], # les id des individus\n",
    "           color_threshold=5) # le niveau de l'arbre pour lequels on \"coupe les branches\" et on colore les groupes\n",
    "plt.show()\n",
    "\n",
    "# Pardon pour le code suivant, pas d'autre moyen de récupérer les groupes de couleurs à ma connaissance\n",
    "g = 1 # vert, l'effectif des individus colorés en vert\n",
    "r = 1 # rouge, pareil pour le rouge\n",
    "c = 1 # bleu, pareil pour le bleu\n",
    "for i in range(len(dend['color_list'])):\n",
    "    d = dend['color_list'][i]\n",
    "    if d =='g':\n",
    "        g+=1\n",
    "    elif d == 'r':\n",
    "        r+=1\n",
    "    elif d == 'c':\n",
    "        c+=1\n",
    "groupes = ['vert']*g + ['rouge']*r + ['cyan']*c"
   ]
  },
  {
   "cell_type": "markdown",
   "metadata": {},
   "source": [
    "Ici, on pourrait distinguer trois groupes, le vert, le rouge et le bleu. En fait, le dendogramme que l'on voit est un équivalent 2d de la représentation d'au-dessus.\n",
    "\n",
    "Il existe une CAH qui catégorise les variables, utile pour lier les caractéristiques les unes aux autres.\n",
    "\n",
    "Pour continuer: http://eric.univ-lyon2.fr/~ricco/cours/didacticiels/Python/cah_kmeans_avec_python.pdf"
   ]
  },
  {
   "cell_type": "markdown",
   "metadata": {},
   "source": [
    "<font size= 4>IV- 3 K-Means</font>\n",
    "\n",
    "Les k-means partent de plusieurs points de départ (ici 3) et regroupent autour d'eux les points qui leur sont les plus proches."
   ]
  },
  {
   "cell_type": "code",
   "execution_count": 20,
   "metadata": {},
   "outputs": [
    {
     "data": {
      "text/html": [
       "<div>\n",
       "<style scoped>\n",
       "    .dataframe tbody tr th:only-of-type {\n",
       "        vertical-align: middle;\n",
       "    }\n",
       "\n",
       "    .dataframe tbody tr th {\n",
       "        vertical-align: top;\n",
       "    }\n",
       "\n",
       "    .dataframe thead th {\n",
       "        text-align: right;\n",
       "    }\n",
       "</style>\n",
       "<table border=\"1\" class=\"dataframe\">\n",
       "  <thead>\n",
       "    <tr style=\"text-align: right;\">\n",
       "      <th>kmeans</th>\n",
       "      <th>0</th>\n",
       "      <th>1</th>\n",
       "      <th>2</th>\n",
       "    </tr>\n",
       "    <tr>\n",
       "      <th>cah</th>\n",
       "      <th></th>\n",
       "      <th></th>\n",
       "      <th></th>\n",
       "    </tr>\n",
       "  </thead>\n",
       "  <tbody>\n",
       "    <tr>\n",
       "      <th>cyan</th>\n",
       "      <td>46</td>\n",
       "      <td>3</td>\n",
       "      <td>0</td>\n",
       "    </tr>\n",
       "    <tr>\n",
       "      <th>rouge</th>\n",
       "      <td>0</td>\n",
       "      <td>30</td>\n",
       "      <td>1</td>\n",
       "    </tr>\n",
       "    <tr>\n",
       "      <th>vert</th>\n",
       "      <td>0</td>\n",
       "      <td>0</td>\n",
       "      <td>20</td>\n",
       "    </tr>\n",
       "  </tbody>\n",
       "</table>\n",
       "</div>"
      ],
      "text/plain": [
       "kmeans   0   1   2\n",
       "cah               \n",
       "cyan    46   3   0\n",
       "rouge    0  30   1\n",
       "vert     0   0  20"
      ]
     },
     "execution_count": 20,
     "metadata": {},
     "output_type": "execute_result"
    }
   ],
   "source": [
    "from sklearn.cluster import KMeans\n",
    "\n",
    "kmeans = KMeans(n_clusters=3,\n",
    "                # Comme la CAH d'avant, on esssaie de faire trois groupes d'individus\n",
    "                random_state=3)\n",
    "                # Et le random_state pou que les conclusions restent les mêmes pour vous\n",
    "kmeans.fit(selection)\n",
    "# On fait tourner le modèle sur les données\n",
    "\n",
    "# Et on cherche à comparer les groupes formés par la cah à ceux des k-means\n",
    "# groupes kmeans\n",
    "groupesKMEANS = pd.DataFrame({'id': [str(k) for k in range(1,len(selection)+1)], \n",
    "                              'kmeans' : [str(i) for i in kmeans.labels_]}).set_index('id')\n",
    "# groupes cah\n",
    "groupesCAH = pd.DataFrame({'id' : dend['ivl'], 'cah' : groupes}).sort_values(by='id').set_index('id')\n",
    "\n",
    "# on fait la jointure des deux tables\n",
    "groupe = groupesCAH.join(groupesKMEANS)\n",
    "\n",
    "# Et on affiche le tableau croisé des deux variables\n",
    "pd.crosstab(groupe['cah'],groupe['kmeans'])"
   ]
  },
  {
   "cell_type": "markdown",
   "metadata": {},
   "source": [
    "Ici, les groupes de la CAH correspondent à peu près à ceux construits par les K-means. On associe:\n",
    "- 0 à cyan\n",
    "- 1 à rouge\n",
    "- 2 à vert\n",
    "\n",
    "Sans grande originalité, voir http://eric.univ-lyon2.fr/~ricco/cours/slides/classif_centres_mobiles.pdf pour en savoir plus"
   ]
  },
  {
   "cell_type": "markdown",
   "metadata": {},
   "source": [
    "# V- Tests"
   ]
  },
  {
   "cell_type": "markdown",
   "metadata": {},
   "source": [
    "## Exemple de t-test :\n",
    "### Est-ce que les hommes consomment plus d'alcool que les femmes d'après nos données?"
   ]
  },
  {
   "cell_type": "code",
   "execution_count": 2,
   "metadata": {},
   "outputs": [],
   "source": [
    "alcool_femme = ronfle.query(\"Sexe=='Femme'\")['Alcool']\n",
    "moyenne_femme = np.mean(alcool_femme)\n",
    "alcool_homme = ronfle.query(\"Sexe=='Homme'\")['Alcool']\n",
    "moyenne_homme = np.mean(alcool_homme)"
   ]
  },
  {
   "cell_type": "markdown",
   "metadata": {},
   "source": [
    "#### Une visualisation peut aider à y voir plus clair"
   ]
  },
  {
   "cell_type": "code",
   "execution_count": 3,
   "metadata": {},
   "outputs": [
    {
     "data": {
      "image/png": "[encoded data removed]",
      "text/plain": [
       "<Figure size 432x288 with 1 Axes>"
      ]
     },
     "metadata": {
      "needs_background": "light"
     },
     "output_type": "display_data"
    }
   ],
   "source": [
    "alcool=[alcool_femme, alcool_homme]\n",
    "\n",
    "fig = plt.figure(figsize=(6, 4))\n",
    "ax = fig.add_subplot(111)\n",
    "\n",
    "\n",
    "bp = ax.boxplot(alcool)\n",
    "\n",
    "ax.set_xticklabels(['Femmes', 'Hommes'])\n",
    "plt.ylabel('Nombre de verres bus par jour')\n",
    "plt.show()"
   ]
  },
  {
   "cell_type": "markdown",
   "metadata": {},
   "source": [
    "#### Un test pour confirmer l'intuition"
   ]
  },
  {
   "cell_type": "code",
   "execution_count": 4,
   "metadata": {},
   "outputs": [
    {
     "data": {
      "text/plain": [
       "Ttest_indResult(statistic=5.038109663206171, pvalue=2.1468627505526864e-06)"
      ]
     },
     "execution_count": 4,
     "metadata": {},
     "output_type": "execute_result"
    }
   ],
   "source": [
    "scipy.stats.ttest_ind(alcool_homme, alcool_femme)"
   ]
  },
  {
   "cell_type": "markdown",
   "metadata": {},
   "source": [
    "#### On rejette l'hypothèse nulle; les niveaux d'alcool consommés par les femmes et les hommes sont significativement différents"
   ]
  },
  {
   "cell_type": "code",
   "execution_count": 5,
   "metadata": {},
   "outputs": [
    {
     "data": {
      "text/plain": [
       "True"
      ]
     },
     "execution_count": 5,
     "metadata": {},
     "output_type": "execute_result"
    }
   ],
   "source": [
    "moyenne_homme>moyenne_femme"
   ]
  },
  {
   "cell_type": "markdown",
   "metadata": {},
   "source": [
    "Les hommes consomment significativement plus d'alcool que les femmes sur notre jeu de données"
   ]
  },
  {
   "cell_type": "code",
   "execution_count": null,
   "metadata": {},
   "outputs": [],
   "source": []
  }
 ],
 "metadata": {
  "kernelspec": {
   "display_name": "Python 3",
   "language": "python",
   "name": "python3"
  },
  "language_info": {
   "codemirror_mode": {
    "name": "ipython",
    "version": 3
   },
   "file_extension": ".py",
   "mimetype": "text/x-python",
   "name": "python",
   "nbconvert_exporter": "python",
   "pygments_lexer": "ipython3",
   "version": "3.6.9"
  }
 },
 "nbformat": 4,
 "nbformat_minor": 2
}
