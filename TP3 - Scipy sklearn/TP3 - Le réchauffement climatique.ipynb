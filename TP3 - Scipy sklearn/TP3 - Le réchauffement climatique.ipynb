{
 "cells": [
  {
   "cell_type": "markdown",
   "metadata": {},
   "source": [
    "# TP 3 : Le réchauffement climatique (sur la région rennaise)\n",
    "\n"
   ]
  },
  {
   "cell_type": "markdown",
   "metadata": {},
   "source": [
    "#### Nous travaillons sur le fichier st_jacques.txt de ce dossier qui contient les températures observées sur la station météo de Saint Jacques de la Lande de 1945 à 2019, d'identifiant 322.\n",
    "\n",
    "### Sources:\n",
    "\n",
    "https://eca.knmi.nl//dailydata/predefinedseries.php\n",
    "\n",
    "Plus d'informations sur les stations d'observation de température ici;\n",
    "\n",
    "https://eca.knmi.nl//download/ECA_blend_source_tg.txt\n",
    "\n",
    "Si vous souhaitez obtenir les données sur toutes les stations:\n",
    "\n",
    "- Télécharger 'Daily mean temperature TG'.\n",
    "\n",
    "- Dézipper le dossier\n",
    "\n",
    "- Cherchez dans le fichier stations.txt l'identifiant de la station qui vous intéresse, et copiez le fichier texte associé\n",
    "\n",
    "\n",
    "Le jeu de données st_jacques.txt en est un exemple, c'est la station 322.\n",
    "\n",
    "### Informations sur les données:\n",
    "\n",
    "EUROPEAN CLIMATE ASSESSMENT & DATASET (ECA&D), file created on: 11-12-2019\n",
    "THESE DATA CAN BE USED FOR NON-COMMERCIAL RESEARCH AND EDUCATION PROVIDED THAT THE FOLLOWING SOURCE IS ACKNOWLEDGED: \n",
    "\n",
    "Klein Tank, A.M.G. and Coauthors, 2002. Daily dataset of 20th-century surface air temperature and precipitation series for the European Climate Assessment. Int. J. of Climatol., 22, 1441-1453.\n",
    "\n",
    "Data and metadata available at http://www.ecad.eu\n",
    "\n",
    "FILE FORMAT (MISSING VALUE CODE = -9999):\n",
    "\n",
    "- 01-06 STAID: Station identifier\n",
    "\n",
    "- 08-13 SOUID: Source identifier\n",
    "\n",
    "- 15-22 DATE : Date YYYYMMDD\n",
    "\n",
    "- 24-28 TG   : Mean temperature in 0.1 &#176;C\n",
    "\n",
    "- 30-34 Q_TG : quality code for TG (0='valid'; 1='suspect'; 9='missing')\n",
    "\n",
    "This is the blended series of station RENNES-ST JACQUES, FRANCE (STAID: 322)\n",
    "\n",
    "Blended and updated with sources:6713 907130 \n",
    "\n",
    "See files sources.txt and stations.txt for more info."
   ]
  },
  {
   "cell_type": "markdown",
   "metadata": {},
   "source": [
    "## 1) Imports\n",
    "\n",
    "### 1) a-] Importez les libraries suivantes\n",
    "\n",
    "- numpy\n",
    "- matplotlib\n",
    "- pandas\n",
    "- scipy (module stats)"
   ]
  },
  {
   "cell_type": "code",
   "execution_count": null,
   "metadata": {},
   "outputs": [],
   "source": []
  },
  {
   "cell_type": "markdown",
   "metadata": {},
   "source": [
    "### 1) b-] Importez les données sous forme de dataframe, et affichez les cinq premières lignes\n",
    "\n",
    "Pensez à enlever le texte au dessus des données dans le fichier texte. \n",
    "\n",
    "On pourra utiliser numpy dans un premier temps, puis utliser pandas pour transformer le tableau en dataframe."
   ]
  },
  {
   "cell_type": "code",
   "execution_count": null,
   "metadata": {},
   "outputs": [],
   "source": []
  },
  {
   "cell_type": "markdown",
   "metadata": {},
   "source": [
    "## 2) Qualité des données "
   ]
  },
  {
   "cell_type": "markdown",
   "metadata": {},
   "source": [
    "### 2) a-] Trouvez les données manquantes ou suspectes dans le jeu de données, et enlevez-les.\n",
    "\n",
    "Pensez à utiliser la variable quality code, qui contient des informations sur la qualité des données.\n",
    "\n",
    "- 30-34 Q_TG : quality code for TG (0='valid'; 1='suspect'; 9='missing')"
   ]
  },
  {
   "cell_type": "code",
   "execution_count": null,
   "metadata": {},
   "outputs": [],
   "source": []
  },
  {
   "cell_type": "markdown",
   "metadata": {},
   "source": [
    "### 2) b-] Est-ce qu'il y a des données ne correspondant pas à la station de Saint Jacques de la Lande dans le jeu de données?\n",
    "\n",
    "Identifiant de la station de Saint-Jacques : 322"
   ]
  },
  {
   "cell_type": "code",
   "execution_count": null,
   "metadata": {},
   "outputs": [],
   "source": []
  },
  {
   "cell_type": "markdown",
   "metadata": {},
   "source": [
    "### 2) c-] Combien de sources différentes ont contribué au jeu de données? Laquelle a le plus contribué aux mesures?\n",
    "\n",
    "Pensez à unique de pandas"
   ]
  },
  {
   "cell_type": "code",
   "execution_count": null,
   "metadata": {},
   "outputs": [],
   "source": []
  },
  {
   "cell_type": "markdown",
   "metadata": {},
   "source": [
    "## 3) Mise en forme des données"
   ]
  },
  {
   "cell_type": "markdown",
   "metadata": {},
   "source": [
    "### 3)  a-] Les données de température sont en dixième de degrés. Créez une variable contenant la température en degrés."
   ]
  },
  {
   "cell_type": "code",
   "execution_count": null,
   "metadata": {},
   "outputs": [],
   "source": []
  },
  {
   "cell_type": "markdown",
   "metadata": {},
   "source": [
    "### 3) b-] Extraire de la date l'année associée à chaque mesure de température et créez une variable annee. Idem pour le jour."
   ]
  },
  {
   "cell_type": "code",
   "execution_count": null,
   "metadata": {},
   "outputs": [],
   "source": []
  },
  {
   "cell_type": "markdown",
   "metadata": {},
   "source": [
    "### 3) c-] Extraire de la date le mois associé à chaque mesure de température et créez une variable qui contient le libellé du mois (janvier, février, etc.)"
   ]
  },
  {
   "cell_type": "code",
   "execution_count": null,
   "metadata": {
    "scrolled": true
   },
   "outputs": [],
   "source": []
  },
  {
   "cell_type": "markdown",
   "metadata": {},
   "source": [
    "### 3) d-] Ne conserver que les variables date, annee, mois, jour et température en degree"
   ]
  },
  {
   "cell_type": "code",
   "execution_count": null,
   "metadata": {},
   "outputs": [],
   "source": []
  },
  {
   "cell_type": "markdown",
   "metadata": {},
   "source": [
    "À partir de cette section, les parties 4), 5) et 6) sont indépendantes et peuvent se faire dans n'importe quel ordre.\n",
    "\n",
    "## 4) Statistiques descriptives des données\n",
    "\n",
    "### 4) a-] Est-ce qu'il a neigé pendant plusieurs jours de suite en 2015?\n",
    "\n",
    "On pourra utiliser idxmin."
   ]
  },
  {
   "cell_type": "code",
   "execution_count": null,
   "metadata": {},
   "outputs": [],
   "source": []
  },
  {
   "cell_type": "markdown",
   "metadata": {},
   "source": [
    "Non, il n'a pas pu neiger plusieurs jours de suite en 2015 (température journalière minimale sur l'année > 0°C)"
   ]
  },
  {
   "cell_type": "markdown",
   "metadata": {},
   "source": [
    "### 4) b-] En été 2019, la France a connu deux périodes de canicule, une en juin et une en juillet. Selon les données, laquelle a été la plus chaude?"
   ]
  },
  {
   "cell_type": "code",
   "execution_count": null,
   "metadata": {},
   "outputs": [],
   "source": []
  },
  {
   "cell_type": "code",
   "execution_count": null,
   "metadata": {
    "scrolled": true
   },
   "outputs": [],
   "source": []
  },
  {
   "cell_type": "markdown",
   "metadata": {},
   "source": [
    "Celle de fin juin, avec presque un degré de plus que celle de juillet"
   ]
  },
  {
   "cell_type": "markdown",
   "metadata": {},
   "source": [
    "## 5) Visualisation des données\n",
    "\n",
    "### 5) a-] Affichez un nuage de points représentant l'ensemble des températures de l'année 1970 dans l'ordre chronologique.\n",
    "\n",
    "##### Bonus :\n",
    "\n",
    "- Au lieu d'afficher toutes les dates en abcsisses, affichez seulement les noms des mois à la place du 15ème jour du mois (par exemple, affichez 'janvier' au lieu de '19700115'). On pourra utiliser spécifier les dates à garder avec plt.xticks, et changer leurs valeurs à l'aide de set_xticklabels.\n",
    "\n",
    "\n",
    "- Et donnez une couleur à chaque saison, en ajoutant une légende.\n",
    "\n",
    "Délimiteurs de saisons:\n",
    "- Le 1er janvier par 'Hiver'\n",
    "- Le 21 mars par 'Printemps'\n",
    "- Le 21 juin par 'Été'\n",
    "- Le 23 septembre par 'Automne'\n",
    "- Le 22 décembre par 'Hiver'"
   ]
  },
  {
   "cell_type": "code",
   "execution_count": null,
   "metadata": {},
   "outputs": [],
   "source": []
  },
  {
   "cell_type": "markdown",
   "metadata": {},
   "source": [
    "### 5) b-] Affichez sur la même figure un boxplot des températures de janvier 1948, et un boxplot des températures de janvier 2019\n",
    "\n",
    "Comparez les distributions de températures des deux mois considérés."
   ]
  },
  {
   "cell_type": "code",
   "execution_count": null,
   "metadata": {},
   "outputs": [],
   "source": []
  },
  {
   "cell_type": "markdown",
   "metadata": {},
   "source": [
    "## 6) Méthodes et tests statistiques\n",
    "\n",
    "## 6) a-] Créez un tableau contenant toutes les températures moyennes par année, de 1945 à 2019, puis affichez ces données sous forme graphique"
   ]
  },
  {
   "cell_type": "code",
   "execution_count": null,
   "metadata": {},
   "outputs": [],
   "source": []
  },
  {
   "cell_type": "code",
   "execution_count": null,
   "metadata": {},
   "outputs": [],
   "source": []
  },
  {
   "cell_type": "markdown",
   "metadata": {},
   "source": [
    "### 6) b-] Trouvez la droite de régression correspondant au graphe précédent"
   ]
  },
  {
   "cell_type": "code",
   "execution_count": null,
   "metadata": {
    "scrolled": true
   },
   "outputs": [],
   "source": []
  },
  {
   "cell_type": "markdown",
   "metadata": {},
   "source": [
    "### 6) c-] Affichez cette droite sur le graphique précédent, puis prévoyez la température moyenne pour 2045, et calculez la différence de températures observées entre 1945 et 2045"
   ]
  },
  {
   "cell_type": "code",
   "execution_count": null,
   "metadata": {},
   "outputs": [],
   "source": []
  },
  {
   "cell_type": "markdown",
   "metadata": {},
   "source": [
    "### 6) d-] Donald est climatosceptique.\n",
    "\n",
    "![title](donald.png)\n",
    "\n",
    "### Il pense qu'il n'y a pas de différence significative de températures moyennes entre la période 1945-1965 et la période 1999-2019. En tant que scientifique, et à l'aide des données, que pouvez-vous lui répondre concernant la région de Rennes?\n",
    "\n",
    "On pourra utiliser un t-test d'indépendance."
   ]
  },
  {
   "cell_type": "code",
   "execution_count": null,
   "metadata": {
    "scrolled": true
   },
   "outputs": [],
   "source": []
  },
  {
   "cell_type": "markdown",
   "metadata": {},
   "source": [
    "## 7) Graphe dynamique\n",
    "\n",
    "Créez un diagramme en radars dynamique affichant les températures de chaque année au fur et à mesure du temps, entre 1945 et 2018.\n",
    "\n",
    "On mettra à jour le titre du graphe et on ajoutera les données pour chaque année.\n",
    "\n",
    "Pensez à %matplotlib qt pour autoriser l'affichage d'une fenêtre extérieure et plt.ion() pour rendre le graphe dynamique!\n",
    "\n",
    "Bon courage ;-)\n",
    "\n",
    "Quelques sources d'inpirations:\n",
    "- https://python-graph-gallery.com/391-radar-chart-with-several-individuals/\n",
    "- https://stackoverflow.com/questions/4098131/how-to-update-a-plot-in-matplotlib"
   ]
  },
  {
   "cell_type": "code",
   "execution_count": null,
   "metadata": {},
   "outputs": [],
   "source": []
  },
  {
   "cell_type": "code",
   "execution_count": null,
   "metadata": {},
   "outputs": [],
   "source": []
  },
  {
   "cell_type": "code",
   "execution_count": null,
   "metadata": {
    "scrolled": false
   },
   "outputs": [],
   "source": []
  },
  {
   "cell_type": "markdown",
   "metadata": {},
   "source": [
    "Le graphe final devrait ressembler à ça:\n",
    "\n",
    "![title](question7.png)"
   ]
  }
 ],
 "metadata": {
  "kernelspec": {
   "display_name": "Python 3",
   "language": "python",
   "name": "python3"
  },
  "language_info": {
   "codemirror_mode": {
    "name": "ipython",
    "version": 3
   },
   "file_extension": ".py",
   "mimetype": "text/x-python",
   "name": "python",
   "nbconvert_exporter": "python",
   "pygments_lexer": "ipython3",
   "version": "3.6.9"
  }
 },
 "nbformat": 4,
 "nbformat_minor": 2
}
