{
 "cells": [
  {
   "cell_type": "code",
   "execution_count": 1,
   "metadata": {},
   "outputs": [],
   "source": [
    "import numpy as np\n",
    "import matplotlib.pyplot as plt\n",
    "from scipy.optimize import minimize"
   ]
  },
  {
   "cell_type": "markdown",
   "metadata": {},
   "source": [
    "## Définition du problème:"
   ]
  },
  {
   "cell_type": "code",
   "execution_count": 2,
   "metadata": {},
   "outputs": [
    {
     "data": {
      "image/png": "[encoded data removed]",
      "text/plain": [
       "<Figure size 432x288 with 1 Axes>"
      ]
     },
     "metadata": {
      "needs_background": "light"
     },
     "output_type": "display_data"
    }
   ],
   "source": [
    "x = [1,2,7,11,17]\n",
    "fx = [2.02483571, 1.61759158, 1.14796408, 1.05027089, 0.84315297] #f(x)\n",
    "\n",
    "plt.scatter(x, fx)\n",
    "plt.ylabel(\"Valeurs de f(x)\")\n",
    "plt.xlabel(\"x\")\n",
    "plt.title(\"Estimez la valeur de f(4)\")\n",
    "plt.show()"
   ]
  },
  {
   "cell_type": "markdown",
   "metadata": {},
   "source": [
    "On sait que f est de la forme <font size = 5 > $f(x)=\\frac{ \\beta}{x^\\alpha}$</font>, $\\alpha$ et $\\beta$ à déterminer.\n",
    "\n",
    "Dans votre jeu de données, vous disposez des valeurs de f(x) pour certaines valeurs de x (1,2,7,11,17).\n",
    "\n",
    "Trouvez des valeurs plausibles pour $\\alpha$ et $\\beta$. Puis déterminez la valeur de f(4)."
   ]
  },
  {
   "cell_type": "markdown",
   "metadata": {},
   "source": [
    "## Résolution"
   ]
  },
  {
   "cell_type": "markdown",
   "metadata": {},
   "source": [
    "### Définition des fonctions"
   ]
  },
  {
   "cell_type": "code",
   "execution_count": 3,
   "metadata": {},
   "outputs": [],
   "source": [
    "def fab(t, ab):\n",
    "    # input : t, ab est ici le couple de paramètres (alpha, beta)\n",
    "    # output : f(t), avec alpha = ab[0] et beta = ab[1]\n",
    "    # avec alpha = 1 et beta = 2 au point x = 1\n",
    "    return ab[1]/(t**ab[0])\n",
    "\n",
    "# par exemple, fab(1,(2,3)) retourne 3/1² = 3\n",
    "# print(fab(1,(2,3)))\n",
    "\n",
    "def F(ab):\n",
    "    # la fonction à minimiser\n",
    "    return sum([(fx[i] - fab(x[i], ab))**2 for i in range(len(x))])"
   ]
  },
  {
   "cell_type": "markdown",
   "metadata": {},
   "source": [
    "### Minimisation"
   ]
  },
  {
   "cell_type": "code",
   "execution_count": 4,
   "metadata": {
    "scrolled": true
   },
   "outputs": [
    {
     "data": {
      "text/plain": [
       "      fun: 0.004839900763815356\n",
       " hess_inv: array([[0.05008846, 0.09250532],\n",
       "       [0.09250532, 0.37715111]])\n",
       "      jac: array([ 7.10249878e-07, -2.33470928e-07])\n",
       "  message: 'Optimization terminated successfully.'\n",
       "     nfev: 48\n",
       "      nit: 9\n",
       "     njev: 12\n",
       "   status: 0\n",
       "  success: True\n",
       "        x: array([0.29103498, 2.01264793])"
      ]
     },
     "execution_count": 4,
     "metadata": {},
     "output_type": "execute_result"
    }
   ],
   "source": [
    "alpha_min, beta_min = minimize(F, x0=(0,2.5))['x']\n",
    "minimize(F, x0=(0,2.5))"
   ]
  },
  {
   "cell_type": "markdown",
   "metadata": {},
   "source": [
    "### Résultats"
   ]
  },
  {
   "cell_type": "code",
   "execution_count": 5,
   "metadata": {},
   "outputs": [
    {
     "data": {
      "image/png": "[encoded data removed]",
      "text/plain": [
       "<Figure size 432x288 with 1 Axes>"
      ]
     },
     "metadata": {
      "needs_background": "light"
     },
     "output_type": "display_data"
    }
   ],
   "source": [
    "def f_estimee(t):\n",
    "    return fab(t,(alpha_min, beta_min))\n",
    "\n",
    "plt.scatter(x, \n",
    "            [f_estimee(k) for k in x], \n",
    "            c='red', \n",
    "            label='Estimations')\n",
    "plt.scatter(x, \n",
    "            fx, \n",
    "            c='blue', \n",
    "            label='Valeurs observées')\n",
    "plt.legend()\n",
    "plt.xlabel('x')\n",
    "plt.show()"
   ]
  },
  {
   "cell_type": "code",
   "execution_count": 6,
   "metadata": {},
   "outputs": [
    {
     "data": {
      "text/plain": [
       "1.344458175802727"
      ]
     },
     "execution_count": 6,
     "metadata": {},
     "output_type": "execute_result"
    }
   ],
   "source": [
    "f_estimee(4)"
   ]
  },
  {
   "cell_type": "markdown",
   "metadata": {},
   "source": [
    "### Génération des valeurs initiales"
   ]
  },
  {
   "cell_type": "code",
   "execution_count": 7,
   "metadata": {},
   "outputs": [
    {
     "data": {
      "text/plain": [
       "array([2.02483571, 1.61759158, 1.14796408, 1.05027089, 0.84315297])"
      ]
     },
     "execution_count": 7,
     "metadata": {},
     "output_type": "execute_result"
    }
   ],
   "source": [
    "indices = [1,2,7,11,17]\n",
    "\n",
    "alpha = 0.3\n",
    "beta = 2\n",
    "\n",
    "# Pour obtenir les mêmes résultats après deux lancers, on fixe la séquence de nombres pseudo-aléatoire tirée\n",
    "np.random.seed(42)\n",
    "\n",
    "erreur = np.random.normal(0,0.05,len(indices))\n",
    "np.array([beta/(k**alpha) for k in [1,2,7,11,17]])+erreur"
   ]
  },
  {
   "cell_type": "markdown",
   "metadata": {},
   "source": [
    "On retrouve bien les valeurs utilisées pour générer la série!"
   ]
  }
 ],
 "metadata": {
  "kernelspec": {
   "display_name": "Python 3",
   "language": "python",
   "name": "python3"
  },
  "language_info": {
   "codemirror_mode": {
    "name": "ipython",
    "version": 3
   },
   "file_extension": ".py",
   "mimetype": "text/x-python",
   "name": "python",
   "nbconvert_exporter": "python",
   "pygments_lexer": "ipython3",
   "version": "3.6.9"
  }
 },
 "nbformat": 4,
 "nbformat_minor": 2
}
