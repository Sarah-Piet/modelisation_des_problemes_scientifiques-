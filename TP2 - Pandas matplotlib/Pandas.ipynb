{
 "cells": [
  {
   "cell_type": "markdown",
   "metadata": {},
   "source": [
    "<font size = 6><i>Pandas</i></font>\n",
    "\n",
    "Si vous ne connaissez pas cette librairie, ce script présente quelques fonctions qui peuvent être utiles pour gérer des tables  de données.\n",
    "\n",
    "Pour travailler sur les données à l'aide de pandas, voir aussi le script suivant: https://github.com/wikistat/Intro-Python/blob/master/Cal2-PythonPandas.ipynb ou la page http://www.python-simple.com/python-pandas/panda-intro.php\n",
    "\n",
    "\n",
    "--"
   ]
  },
  {
   "cell_type": "markdown",
   "metadata": {},
   "source": [
    "<font size= 4><I>Import</I></font>"
   ]
  },
  {
   "cell_type": "code",
   "execution_count": 1,
   "metadata": {},
   "outputs": [],
   "source": [
    "import numpy as np\n",
    "import pandas as pd\n",
    "# pandas est l'une des librairies les plus utilisées pour importer et travailler sur les données"
   ]
  },
  {
   "cell_type": "markdown",
   "metadata": {},
   "source": [
    "<font size= 4><I>Création d'une base de données</I></font>"
   ]
  },
  {
   "cell_type": "code",
   "execution_count": 2,
   "metadata": {},
   "outputs": [
    {
     "data": {
      "text/html": [
       "<div>\n",
       "<style scoped>\n",
       "    .dataframe tbody tr th:only-of-type {\n",
       "        vertical-align: middle;\n",
       "    }\n",
       "\n",
       "    .dataframe tbody tr th {\n",
       "        vertical-align: top;\n",
       "    }\n",
       "\n",
       "    .dataframe thead th {\n",
       "        text-align: right;\n",
       "    }\n",
       "</style>\n",
       "<table border=\"1\" class=\"dataframe\">\n",
       "  <thead>\n",
       "    <tr style=\"text-align: right;\">\n",
       "      <th></th>\n",
       "      <th>id</th>\n",
       "      <th>bonjour</th>\n",
       "      <th>langue</th>\n",
       "    </tr>\n",
       "  </thead>\n",
       "  <tbody>\n",
       "    <tr>\n",
       "      <th>0</th>\n",
       "      <td>1</td>\n",
       "      <td>Salut</td>\n",
       "      <td>Français</td>\n",
       "    </tr>\n",
       "    <tr>\n",
       "      <th>1</th>\n",
       "      <td>2</td>\n",
       "      <td>Hello</td>\n",
       "      <td>Anglais</td>\n",
       "    </tr>\n",
       "    <tr>\n",
       "      <th>2</th>\n",
       "      <td>3</td>\n",
       "      <td>Buongiorno</td>\n",
       "      <td>Italien</td>\n",
       "    </tr>\n",
       "    <tr>\n",
       "      <th>3</th>\n",
       "      <td>4</td>\n",
       "      <td>Guten Tag</td>\n",
       "      <td>Allemand</td>\n",
       "    </tr>\n",
       "    <tr>\n",
       "      <th>4</th>\n",
       "      <td>5</td>\n",
       "      <td>Buenos dias</td>\n",
       "      <td>Espagnol</td>\n",
       "    </tr>\n",
       "  </tbody>\n",
       "</table>\n",
       "</div>"
      ],
      "text/plain": [
       "   id      bonjour    langue\n",
       "0   1        Salut  Français\n",
       "1   2        Hello   Anglais\n",
       "2   3   Buongiorno   Italien\n",
       "3   4    Guten Tag  Allemand\n",
       "4   5  Buenos dias  Espagnol"
      ]
     },
     "execution_count": 2,
     "metadata": {},
     "output_type": "execute_result"
    }
   ],
   "source": [
    "coucou = pd.DataFrame({\"id\" : np.arange(1,7,1),\n",
    "              \"bonjour\" : np.array((\"Salut\",\"Hello\",\"Buongiorno\",\"Guten Tag\", \"Buenos dias\", \"Demat\")),\n",
    "              \"langue\" : np.array((\"Français\",\"Anglais\",\"Italien\", \"Allemand\", \"Espagnol\", \"Breton\"))})\n",
    "\n",
    "coucou.head() # affiche les premières llignes"
   ]
  },
  {
   "cell_type": "markdown",
   "metadata": {},
   "source": [
    "<font size= 4><I>Types des variables</I></font>"
   ]
  },
  {
   "cell_type": "code",
   "execution_count": 3,
   "metadata": {},
   "outputs": [
    {
     "data": {
      "text/plain": [
       "id          int32\n",
       "bonjour    object\n",
       "langue     object\n",
       "dtype: object"
      ]
     },
     "execution_count": 3,
     "metadata": {},
     "output_type": "execute_result"
    }
   ],
   "source": [
    "coucou.dtypes"
   ]
  },
  {
   "cell_type": "markdown",
   "metadata": {},
   "source": [
    "<font size= 4><I>Index</I></font>"
   ]
  },
  {
   "cell_type": "code",
   "execution_count": 4,
   "metadata": {
    "scrolled": true
   },
   "outputs": [
    {
     "data": {
      "text/html": [
       "<div>\n",
       "<style scoped>\n",
       "    .dataframe tbody tr th:only-of-type {\n",
       "        vertical-align: middle;\n",
       "    }\n",
       "\n",
       "    .dataframe tbody tr th {\n",
       "        vertical-align: top;\n",
       "    }\n",
       "\n",
       "    .dataframe thead th {\n",
       "        text-align: right;\n",
       "    }\n",
       "</style>\n",
       "<table border=\"1\" class=\"dataframe\">\n",
       "  <thead>\n",
       "    <tr style=\"text-align: right;\">\n",
       "      <th></th>\n",
       "      <th>bonjour</th>\n",
       "      <th>langue</th>\n",
       "    </tr>\n",
       "    <tr>\n",
       "      <th>id</th>\n",
       "      <th></th>\n",
       "      <th></th>\n",
       "    </tr>\n",
       "  </thead>\n",
       "  <tbody>\n",
       "    <tr>\n",
       "      <th>1</th>\n",
       "      <td>Salut</td>\n",
       "      <td>Français</td>\n",
       "    </tr>\n",
       "    <tr>\n",
       "      <th>2</th>\n",
       "      <td>Hello</td>\n",
       "      <td>Anglais</td>\n",
       "    </tr>\n",
       "    <tr>\n",
       "      <th>3</th>\n",
       "      <td>Buongiorno</td>\n",
       "      <td>Italien</td>\n",
       "    </tr>\n",
       "    <tr>\n",
       "      <th>4</th>\n",
       "      <td>Guten Tag</td>\n",
       "      <td>Allemand</td>\n",
       "    </tr>\n",
       "    <tr>\n",
       "      <th>5</th>\n",
       "      <td>Buenos dias</td>\n",
       "      <td>Espagnol</td>\n",
       "    </tr>\n",
       "    <tr>\n",
       "      <th>6</th>\n",
       "      <td>Demat</td>\n",
       "      <td>Breton</td>\n",
       "    </tr>\n",
       "  </tbody>\n",
       "</table>\n",
       "</div>"
      ],
      "text/plain": [
       "        bonjour    langue\n",
       "id                       \n",
       "1         Salut  Français\n",
       "2         Hello   Anglais\n",
       "3    Buongiorno   Italien\n",
       "4     Guten Tag  Allemand\n",
       "5   Buenos dias  Espagnol\n",
       "6         Demat    Breton"
      ]
     },
     "execution_count": 4,
     "metadata": {},
     "output_type": "execute_result"
    }
   ],
   "source": [
    "coucou.index # appel à l'index\n",
    "# l'index est la colonne grise devant les données. On peut fixer la variable id comme index pour A par la commande\n",
    "coucou.set_index(\"id\")"
   ]
  },
  {
   "cell_type": "markdown",
   "metadata": {},
   "source": [
    "<font size= 4><I>Quelques fonctions basiques</I></font>"
   ]
  },
  {
   "cell_type": "code",
   "execution_count": 5,
   "metadata": {},
   "outputs": [
    {
     "data": {
      "text/plain": [
       "3"
      ]
     },
     "execution_count": 5,
     "metadata": {},
     "output_type": "execute_result"
    }
   ],
   "source": [
    "coucou.size # nombre total de données\n",
    "\n",
    "len(coucou) # nombre de lignes\n",
    "\n",
    "coucou.columns # libellé des colonnes\n",
    "\n",
    "len(coucou.columns) # nombre de colonnes"
   ]
  },
  {
   "cell_type": "markdown",
   "metadata": {},
   "source": [
    "<font size= 4><I>Appel aux données</I></font>"
   ]
  },
  {
   "cell_type": "code",
   "execution_count": 6,
   "metadata": {},
   "outputs": [
    {
     "data": {
      "text/plain": [
       "id                  3\n",
       "bonjour    Buongiorno\n",
       "langue        Italien\n",
       "Name: 2, dtype: object"
      ]
     },
     "execution_count": 6,
     "metadata": {},
     "output_type": "execute_result"
    }
   ],
   "source": [
    "# Variable(s)\n",
    "\n",
    "coucou[\"bonjour\"] # pour appeler bonjour seulement\n",
    "\n",
    "coucou[[\"bonjour\",\"langue\"]] # pour appeler deux variables ou plus\n",
    "\n",
    "# Individus\n",
    "\n",
    "coucou.loc[2] # le troisième individu"
   ]
  },
  {
   "cell_type": "markdown",
   "metadata": {},
   "source": [
    "<font size= 4><I>Utiliser du SQL</I></font>"
   ]
  },
  {
   "cell_type": "code",
   "execution_count": 7,
   "metadata": {},
   "outputs": [
    {
     "data": {
      "text/html": [
       "<div>\n",
       "<style scoped>\n",
       "    .dataframe tbody tr th:only-of-type {\n",
       "        vertical-align: middle;\n",
       "    }\n",
       "\n",
       "    .dataframe tbody tr th {\n",
       "        vertical-align: top;\n",
       "    }\n",
       "\n",
       "    .dataframe thead th {\n",
       "        text-align: right;\n",
       "    }\n",
       "</style>\n",
       "<table border=\"1\" class=\"dataframe\">\n",
       "  <thead>\n",
       "    <tr style=\"text-align: right;\">\n",
       "      <th></th>\n",
       "      <th>bonjour</th>\n",
       "    </tr>\n",
       "  </thead>\n",
       "  <tbody>\n",
       "    <tr>\n",
       "      <th>0</th>\n",
       "      <td>Guten Tag</td>\n",
       "    </tr>\n",
       "  </tbody>\n",
       "</table>\n",
       "</div>"
      ],
      "text/plain": [
       "     bonjour\n",
       "0  Guten Tag"
      ]
     },
     "execution_count": 7,
     "metadata": {},
     "output_type": "execute_result"
    }
   ],
   "source": [
    "import sqlite3\n",
    "from pandas.io import sql\n",
    "\n",
    "# On crée d'abord la table\n",
    "cnx = sqlite3.connect('base.db3')\n",
    "try:\n",
    "    coucou.to_sql(name='langue', con=cnx)\n",
    "except ValueError as e:\n",
    "    if \"Table 'langue' already exists\" not in str(e):\n",
    "        raise e\n",
    "\n",
    "# et on peut soumettre des requêtes sql\n",
    "pd.read_sql(('select \"bonjour\" from \"langue\" where \"langue\"= \"Allemand\"'),cnx)"
   ]
  },
  {
   "cell_type": "markdown",
   "metadata": {},
   "source": [
    "<font size= 4><I>Ajouter une ligne</I></font>"
   ]
  },
  {
   "cell_type": "code",
   "execution_count": 8,
   "metadata": {},
   "outputs": [
    {
     "data": {
      "text/html": [
       "<div>\n",
       "<style scoped>\n",
       "    .dataframe tbody tr th:only-of-type {\n",
       "        vertical-align: middle;\n",
       "    }\n",
       "\n",
       "    .dataframe tbody tr th {\n",
       "        vertical-align: top;\n",
       "    }\n",
       "\n",
       "    .dataframe thead th {\n",
       "        text-align: right;\n",
       "    }\n",
       "</style>\n",
       "<table border=\"1\" class=\"dataframe\">\n",
       "  <thead>\n",
       "    <tr style=\"text-align: right;\">\n",
       "      <th></th>\n",
       "      <th>id</th>\n",
       "      <th>bonjour</th>\n",
       "      <th>langue</th>\n",
       "    </tr>\n",
       "  </thead>\n",
       "  <tbody>\n",
       "    <tr>\n",
       "      <th>0</th>\n",
       "      <td>1</td>\n",
       "      <td>Salut</td>\n",
       "      <td>Français</td>\n",
       "    </tr>\n",
       "    <tr>\n",
       "      <th>1</th>\n",
       "      <td>2</td>\n",
       "      <td>Hello</td>\n",
       "      <td>Anglais</td>\n",
       "    </tr>\n",
       "    <tr>\n",
       "      <th>2</th>\n",
       "      <td>3</td>\n",
       "      <td>Buongiorno</td>\n",
       "      <td>Italien</td>\n",
       "    </tr>\n",
       "    <tr>\n",
       "      <th>3</th>\n",
       "      <td>4</td>\n",
       "      <td>Guten Tag</td>\n",
       "      <td>Allemand</td>\n",
       "    </tr>\n",
       "    <tr>\n",
       "      <th>4</th>\n",
       "      <td>5</td>\n",
       "      <td>Buenos dias</td>\n",
       "      <td>Espagnol</td>\n",
       "    </tr>\n",
       "    <tr>\n",
       "      <th>5</th>\n",
       "      <td>6</td>\n",
       "      <td>Demat</td>\n",
       "      <td>Breton</td>\n",
       "    </tr>\n",
       "    <tr>\n",
       "      <th>6</th>\n",
       "      <td>7</td>\n",
       "      <td>Moshimoshi</td>\n",
       "      <td>Japonais</td>\n",
       "    </tr>\n",
       "  </tbody>\n",
       "</table>\n",
       "</div>"
      ],
      "text/plain": [
       "   id      bonjour    langue\n",
       "0   1        Salut  Français\n",
       "1   2        Hello   Anglais\n",
       "2   3   Buongiorno   Italien\n",
       "3   4    Guten Tag  Allemand\n",
       "4   5  Buenos dias  Espagnol\n",
       "5   6        Demat    Breton\n",
       "6   7   Moshimoshi  Japonais"
      ]
     },
     "execution_count": 8,
     "metadata": {},
     "output_type": "execute_result"
    }
   ],
   "source": [
    "row = pd.Series({'id' : 7, 'bonjour':'Moshimoshi', 'langue': 'Japonais'}, name = 6)\n",
    "coucou = coucou.append(row)\n",
    "coucou"
   ]
  },
  {
   "cell_type": "code",
   "execution_count": 9,
   "metadata": {},
   "outputs": [
    {
     "name": "stdout",
     "output_type": "stream",
     "text": [
      "La table contient déjà cette ligne, on ne peut pas la rajouter\n"
     ]
    }
   ],
   "source": [
    "try:\n",
    "    coucou.append(row, verify_integrity= True)\n",
    "except:\n",
    "    print(\"La table contient déjà cette ligne, on ne peut pas la rajouter\")\n",
    "    \n",
    "# lève une erreur car verify_integrity empêche qu'une ligne soit rajoutée dans un dataframe si ce dernier la contient déjà"
   ]
  },
  {
   "cell_type": "markdown",
   "metadata": {},
   "source": [
    "Si vous l'avez déjà ajoutée deux fois, il existe une fonction qui enlève les duplications de ligne"
   ]
  },
  {
   "cell_type": "code",
   "execution_count": 10,
   "metadata": {},
   "outputs": [
    {
     "data": {
      "text/html": [
       "<div>\n",
       "<style scoped>\n",
       "    .dataframe tbody tr th:only-of-type {\n",
       "        vertical-align: middle;\n",
       "    }\n",
       "\n",
       "    .dataframe tbody tr th {\n",
       "        vertical-align: top;\n",
       "    }\n",
       "\n",
       "    .dataframe thead th {\n",
       "        text-align: right;\n",
       "    }\n",
       "</style>\n",
       "<table border=\"1\" class=\"dataframe\">\n",
       "  <thead>\n",
       "    <tr style=\"text-align: right;\">\n",
       "      <th></th>\n",
       "      <th>id</th>\n",
       "      <th>bonjour</th>\n",
       "      <th>langue</th>\n",
       "    </tr>\n",
       "  </thead>\n",
       "  <tbody>\n",
       "    <tr>\n",
       "      <th>0</th>\n",
       "      <td>1</td>\n",
       "      <td>Salut</td>\n",
       "      <td>Français</td>\n",
       "    </tr>\n",
       "    <tr>\n",
       "      <th>1</th>\n",
       "      <td>2</td>\n",
       "      <td>Hello</td>\n",
       "      <td>Anglais</td>\n",
       "    </tr>\n",
       "    <tr>\n",
       "      <th>2</th>\n",
       "      <td>3</td>\n",
       "      <td>Buongiorno</td>\n",
       "      <td>Italien</td>\n",
       "    </tr>\n",
       "    <tr>\n",
       "      <th>3</th>\n",
       "      <td>4</td>\n",
       "      <td>Guten Tag</td>\n",
       "      <td>Allemand</td>\n",
       "    </tr>\n",
       "    <tr>\n",
       "      <th>4</th>\n",
       "      <td>5</td>\n",
       "      <td>Buenos dias</td>\n",
       "      <td>Espagnol</td>\n",
       "    </tr>\n",
       "    <tr>\n",
       "      <th>5</th>\n",
       "      <td>6</td>\n",
       "      <td>Demat</td>\n",
       "      <td>Breton</td>\n",
       "    </tr>\n",
       "    <tr>\n",
       "      <th>6</th>\n",
       "      <td>7</td>\n",
       "      <td>Moshimoshi</td>\n",
       "      <td>Japonais</td>\n",
       "    </tr>\n",
       "  </tbody>\n",
       "</table>\n",
       "</div>"
      ],
      "text/plain": [
       "   id      bonjour    langue\n",
       "0   1        Salut  Français\n",
       "1   2        Hello   Anglais\n",
       "2   3   Buongiorno   Italien\n",
       "3   4    Guten Tag  Allemand\n",
       "4   5  Buenos dias  Espagnol\n",
       "5   6        Demat    Breton\n",
       "6   7   Moshimoshi  Japonais"
      ]
     },
     "execution_count": 10,
     "metadata": {},
     "output_type": "execute_result"
    }
   ],
   "source": [
    "coucou.append(row)\n",
    "coucou.drop_duplicates()"
   ]
  },
  {
   "cell_type": "markdown",
   "metadata": {},
   "source": [
    "<font size= 4><I>Ajouter/Supprimer une colonne</I></font>"
   ]
  },
  {
   "cell_type": "code",
   "execution_count": 11,
   "metadata": {},
   "outputs": [
    {
     "data": {
      "text/html": [
       "<div>\n",
       "<style scoped>\n",
       "    .dataframe tbody tr th:only-of-type {\n",
       "        vertical-align: middle;\n",
       "    }\n",
       "\n",
       "    .dataframe tbody tr th {\n",
       "        vertical-align: top;\n",
       "    }\n",
       "\n",
       "    .dataframe thead th {\n",
       "        text-align: right;\n",
       "    }\n",
       "</style>\n",
       "<table border=\"1\" class=\"dataframe\">\n",
       "  <thead>\n",
       "    <tr style=\"text-align: right;\">\n",
       "      <th></th>\n",
       "      <th>id</th>\n",
       "      <th>bonjour</th>\n",
       "      <th>langue</th>\n",
       "      <th>ephemere</th>\n",
       "    </tr>\n",
       "  </thead>\n",
       "  <tbody>\n",
       "    <tr>\n",
       "      <th>0</th>\n",
       "      <td>1</td>\n",
       "      <td>Salut</td>\n",
       "      <td>Français</td>\n",
       "      <td>2</td>\n",
       "    </tr>\n",
       "    <tr>\n",
       "      <th>1</th>\n",
       "      <td>2</td>\n",
       "      <td>Hello</td>\n",
       "      <td>Anglais</td>\n",
       "      <td>2</td>\n",
       "    </tr>\n",
       "    <tr>\n",
       "      <th>2</th>\n",
       "      <td>3</td>\n",
       "      <td>Buongiorno</td>\n",
       "      <td>Italien</td>\n",
       "      <td>1</td>\n",
       "    </tr>\n",
       "    <tr>\n",
       "      <th>3</th>\n",
       "      <td>4</td>\n",
       "      <td>Guten Tag</td>\n",
       "      <td>Allemand</td>\n",
       "      <td>1</td>\n",
       "    </tr>\n",
       "    <tr>\n",
       "      <th>4</th>\n",
       "      <td>5</td>\n",
       "      <td>Buenos dias</td>\n",
       "      <td>Espagnol</td>\n",
       "      <td>1</td>\n",
       "    </tr>\n",
       "    <tr>\n",
       "      <th>5</th>\n",
       "      <td>6</td>\n",
       "      <td>Demat</td>\n",
       "      <td>Breton</td>\n",
       "      <td>2</td>\n",
       "    </tr>\n",
       "    <tr>\n",
       "      <th>6</th>\n",
       "      <td>7</td>\n",
       "      <td>Moshimoshi</td>\n",
       "      <td>Japonais</td>\n",
       "      <td>1</td>\n",
       "    </tr>\n",
       "  </tbody>\n",
       "</table>\n",
       "</div>"
      ],
      "text/plain": [
       "   id      bonjour    langue  ephemere\n",
       "0   1        Salut  Français         2\n",
       "1   2        Hello   Anglais         2\n",
       "2   3   Buongiorno   Italien         1\n",
       "3   4    Guten Tag  Allemand         1\n",
       "4   5  Buenos dias  Espagnol         1\n",
       "5   6        Demat    Breton         2\n",
       "6   7   Moshimoshi  Japonais         1"
      ]
     },
     "execution_count": 11,
     "metadata": {},
     "output_type": "execute_result"
    }
   ],
   "source": [
    "coucou.loc[:,'ephemere'] = pd.Series(np.random.randint(1,3,len(coucou)), index=coucou.index)\n",
    "coucou"
   ]
  },
  {
   "cell_type": "code",
   "execution_count": 12,
   "metadata": {},
   "outputs": [
    {
     "data": {
      "text/html": [
       "<div>\n",
       "<style scoped>\n",
       "    .dataframe tbody tr th:only-of-type {\n",
       "        vertical-align: middle;\n",
       "    }\n",
       "\n",
       "    .dataframe tbody tr th {\n",
       "        vertical-align: top;\n",
       "    }\n",
       "\n",
       "    .dataframe thead th {\n",
       "        text-align: right;\n",
       "    }\n",
       "</style>\n",
       "<table border=\"1\" class=\"dataframe\">\n",
       "  <thead>\n",
       "    <tr style=\"text-align: right;\">\n",
       "      <th></th>\n",
       "      <th>id</th>\n",
       "      <th>bonjour</th>\n",
       "      <th>langue</th>\n",
       "    </tr>\n",
       "  </thead>\n",
       "  <tbody>\n",
       "    <tr>\n",
       "      <th>0</th>\n",
       "      <td>1</td>\n",
       "      <td>Salut</td>\n",
       "      <td>Français</td>\n",
       "    </tr>\n",
       "    <tr>\n",
       "      <th>1</th>\n",
       "      <td>2</td>\n",
       "      <td>Hello</td>\n",
       "      <td>Anglais</td>\n",
       "    </tr>\n",
       "    <tr>\n",
       "      <th>2</th>\n",
       "      <td>3</td>\n",
       "      <td>Buongiorno</td>\n",
       "      <td>Italien</td>\n",
       "    </tr>\n",
       "    <tr>\n",
       "      <th>3</th>\n",
       "      <td>4</td>\n",
       "      <td>Guten Tag</td>\n",
       "      <td>Allemand</td>\n",
       "    </tr>\n",
       "    <tr>\n",
       "      <th>4</th>\n",
       "      <td>5</td>\n",
       "      <td>Buenos dias</td>\n",
       "      <td>Espagnol</td>\n",
       "    </tr>\n",
       "    <tr>\n",
       "      <th>5</th>\n",
       "      <td>6</td>\n",
       "      <td>Demat</td>\n",
       "      <td>Breton</td>\n",
       "    </tr>\n",
       "    <tr>\n",
       "      <th>6</th>\n",
       "      <td>7</td>\n",
       "      <td>Moshimoshi</td>\n",
       "      <td>Japonais</td>\n",
       "    </tr>\n",
       "  </tbody>\n",
       "</table>\n",
       "</div>"
      ],
      "text/plain": [
       "   id      bonjour    langue\n",
       "0   1        Salut  Français\n",
       "1   2        Hello   Anglais\n",
       "2   3   Buongiorno   Italien\n",
       "3   4    Guten Tag  Allemand\n",
       "4   5  Buenos dias  Espagnol\n",
       "5   6        Demat    Breton\n",
       "6   7   Moshimoshi  Japonais"
      ]
     },
     "execution_count": 12,
     "metadata": {},
     "output_type": "execute_result"
    }
   ],
   "source": [
    "coucou.drop(\"ephemere\", axis=1, inplace=True)\n",
    "coucou"
   ]
  },
  {
   "cell_type": "markdown",
   "metadata": {},
   "source": [
    "<font size= 4><I>Jointure</I></font>"
   ]
  },
  {
   "cell_type": "markdown",
   "metadata": {},
   "source": [
    "On crée d'abord un second tableau, qui contient aussi les langues"
   ]
  },
  {
   "cell_type": "code",
   "execution_count": 13,
   "metadata": {},
   "outputs": [
    {
     "data": {
      "text/html": [
       "<div>\n",
       "<style scoped>\n",
       "    .dataframe tbody tr th:only-of-type {\n",
       "        vertical-align: middle;\n",
       "    }\n",
       "\n",
       "    .dataframe tbody tr th {\n",
       "        vertical-align: top;\n",
       "    }\n",
       "\n",
       "    .dataframe thead th {\n",
       "        text-align: right;\n",
       "    }\n",
       "</style>\n",
       "<table border=\"1\" class=\"dataframe\">\n",
       "  <thead>\n",
       "    <tr style=\"text-align: right;\">\n",
       "      <th></th>\n",
       "      <th>au_revoir</th>\n",
       "      <th>langue</th>\n",
       "    </tr>\n",
       "  </thead>\n",
       "  <tbody>\n",
       "    <tr>\n",
       "      <th>0</th>\n",
       "      <td>A+</td>\n",
       "      <td>Français</td>\n",
       "    </tr>\n",
       "    <tr>\n",
       "      <th>1</th>\n",
       "      <td>Bye</td>\n",
       "      <td>Anglais</td>\n",
       "    </tr>\n",
       "    <tr>\n",
       "      <th>2</th>\n",
       "      <td>Arrivederci</td>\n",
       "      <td>Italien</td>\n",
       "    </tr>\n",
       "    <tr>\n",
       "      <th>3</th>\n",
       "      <td>Tchüss</td>\n",
       "      <td>Allemand</td>\n",
       "    </tr>\n",
       "    <tr>\n",
       "      <th>4</th>\n",
       "      <td>Adiós</td>\n",
       "      <td>Espagnol</td>\n",
       "    </tr>\n",
       "    <tr>\n",
       "      <th>5</th>\n",
       "      <td>Kenavo</td>\n",
       "      <td>Breton</td>\n",
       "    </tr>\n",
       "    <tr>\n",
       "      <th>6</th>\n",
       "      <td>Sayōnara</td>\n",
       "      <td>Japonais</td>\n",
       "    </tr>\n",
       "  </tbody>\n",
       "</table>\n",
       "</div>"
      ],
      "text/plain": [
       "     au_revoir    langue\n",
       "0           A+  Français\n",
       "1          Bye   Anglais\n",
       "2  Arrivederci   Italien\n",
       "3       Tchüss  Allemand\n",
       "4        Adiós  Espagnol\n",
       "5       Kenavo    Breton\n",
       "6     Sayōnara  Japonais"
      ]
     },
     "execution_count": 13,
     "metadata": {},
     "output_type": "execute_result"
    }
   ],
   "source": [
    "auvoir = pd.DataFrame({\"au_revoir\" : np.array((\"A+\",\"Bye\",\"Arrivederci\",\"Tchüss\", \"Adiós\", \"Kenavo\", \"Sayōnara\")),\n",
    "              \"langue\" : np.array((\"Français\",\"Anglais\",\"Italien\", \"Allemand\", \"Espagnol\", \"Breton\", \"Japonais\"))})\n",
    "auvoir"
   ]
  },
  {
   "cell_type": "markdown",
   "metadata": {},
   "source": [
    "La table A, ci-dessous, est la jointure du premier et du second tableau. On a pour cela utilisé la clef commune \"langue\"."
   ]
  },
  {
   "cell_type": "code",
   "execution_count": 14,
   "metadata": {},
   "outputs": [
    {
     "data": {
      "text/html": [
       "<div>\n",
       "<style scoped>\n",
       "    .dataframe tbody tr th:only-of-type {\n",
       "        vertical-align: middle;\n",
       "    }\n",
       "\n",
       "    .dataframe tbody tr th {\n",
       "        vertical-align: top;\n",
       "    }\n",
       "\n",
       "    .dataframe thead th {\n",
       "        text-align: right;\n",
       "    }\n",
       "</style>\n",
       "<table border=\"1\" class=\"dataframe\">\n",
       "  <thead>\n",
       "    <tr style=\"text-align: right;\">\n",
       "      <th></th>\n",
       "      <th>id</th>\n",
       "      <th>bonjour</th>\n",
       "      <th>au_revoir</th>\n",
       "    </tr>\n",
       "    <tr>\n",
       "      <th>langue</th>\n",
       "      <th></th>\n",
       "      <th></th>\n",
       "      <th></th>\n",
       "    </tr>\n",
       "  </thead>\n",
       "  <tbody>\n",
       "    <tr>\n",
       "      <th>Français</th>\n",
       "      <td>1</td>\n",
       "      <td>Salut</td>\n",
       "      <td>A+</td>\n",
       "    </tr>\n",
       "    <tr>\n",
       "      <th>Anglais</th>\n",
       "      <td>2</td>\n",
       "      <td>Hello</td>\n",
       "      <td>Bye</td>\n",
       "    </tr>\n",
       "    <tr>\n",
       "      <th>Italien</th>\n",
       "      <td>3</td>\n",
       "      <td>Buongiorno</td>\n",
       "      <td>Arrivederci</td>\n",
       "    </tr>\n",
       "    <tr>\n",
       "      <th>Allemand</th>\n",
       "      <td>4</td>\n",
       "      <td>Guten Tag</td>\n",
       "      <td>Tchüss</td>\n",
       "    </tr>\n",
       "    <tr>\n",
       "      <th>Espagnol</th>\n",
       "      <td>5</td>\n",
       "      <td>Buenos dias</td>\n",
       "      <td>Adiós</td>\n",
       "    </tr>\n",
       "    <tr>\n",
       "      <th>Breton</th>\n",
       "      <td>6</td>\n",
       "      <td>Demat</td>\n",
       "      <td>Kenavo</td>\n",
       "    </tr>\n",
       "    <tr>\n",
       "      <th>Japonais</th>\n",
       "      <td>7</td>\n",
       "      <td>Moshimoshi</td>\n",
       "      <td>Sayōnara</td>\n",
       "    </tr>\n",
       "  </tbody>\n",
       "</table>\n",
       "</div>"
      ],
      "text/plain": [
       "          id      bonjour    au_revoir\n",
       "langue                                \n",
       "Français   1        Salut           A+\n",
       "Anglais    2        Hello          Bye\n",
       "Italien    3   Buongiorno  Arrivederci\n",
       "Allemand   4    Guten Tag       Tchüss\n",
       "Espagnol   5  Buenos dias        Adiós\n",
       "Breton     6        Demat       Kenavo\n",
       "Japonais   7   Moshimoshi     Sayōnara"
      ]
     },
     "execution_count": 14,
     "metadata": {},
     "output_type": "execute_result"
    }
   ],
   "source": [
    "A = coucou.set_index(\"langue\").join(auvoir.set_index(\"langue\"))\n",
    "A"
   ]
  },
  {
   "cell_type": "markdown",
   "metadata": {},
   "source": [
    "<font size= 4><I>Trier par rapport à une variable</I></font>"
   ]
  },
  {
   "cell_type": "code",
   "execution_count": 15,
   "metadata": {},
   "outputs": [
    {
     "data": {
      "text/html": [
       "<div>\n",
       "<style scoped>\n",
       "    .dataframe tbody tr th:only-of-type {\n",
       "        vertical-align: middle;\n",
       "    }\n",
       "\n",
       "    .dataframe tbody tr th {\n",
       "        vertical-align: top;\n",
       "    }\n",
       "\n",
       "    .dataframe thead th {\n",
       "        text-align: right;\n",
       "    }\n",
       "</style>\n",
       "<table border=\"1\" class=\"dataframe\">\n",
       "  <thead>\n",
       "    <tr style=\"text-align: right;\">\n",
       "      <th></th>\n",
       "      <th>id</th>\n",
       "      <th>bonjour</th>\n",
       "      <th>au_revoir</th>\n",
       "    </tr>\n",
       "    <tr>\n",
       "      <th>langue</th>\n",
       "      <th></th>\n",
       "      <th></th>\n",
       "      <th></th>\n",
       "    </tr>\n",
       "  </thead>\n",
       "  <tbody>\n",
       "    <tr>\n",
       "      <th>Espagnol</th>\n",
       "      <td>5</td>\n",
       "      <td>Buenos dias</td>\n",
       "      <td>Adiós</td>\n",
       "    </tr>\n",
       "    <tr>\n",
       "      <th>Italien</th>\n",
       "      <td>3</td>\n",
       "      <td>Buongiorno</td>\n",
       "      <td>Arrivederci</td>\n",
       "    </tr>\n",
       "    <tr>\n",
       "      <th>Breton</th>\n",
       "      <td>6</td>\n",
       "      <td>Demat</td>\n",
       "      <td>Kenavo</td>\n",
       "    </tr>\n",
       "    <tr>\n",
       "      <th>Allemand</th>\n",
       "      <td>4</td>\n",
       "      <td>Guten Tag</td>\n",
       "      <td>Tchüss</td>\n",
       "    </tr>\n",
       "    <tr>\n",
       "      <th>Anglais</th>\n",
       "      <td>2</td>\n",
       "      <td>Hello</td>\n",
       "      <td>Bye</td>\n",
       "    </tr>\n",
       "    <tr>\n",
       "      <th>Japonais</th>\n",
       "      <td>7</td>\n",
       "      <td>Moshimoshi</td>\n",
       "      <td>Sayōnara</td>\n",
       "    </tr>\n",
       "    <tr>\n",
       "      <th>Français</th>\n",
       "      <td>1</td>\n",
       "      <td>Salut</td>\n",
       "      <td>A+</td>\n",
       "    </tr>\n",
       "  </tbody>\n",
       "</table>\n",
       "</div>"
      ],
      "text/plain": [
       "          id      bonjour    au_revoir\n",
       "langue                                \n",
       "Espagnol   5  Buenos dias        Adiós\n",
       "Italien    3   Buongiorno  Arrivederci\n",
       "Breton     6        Demat       Kenavo\n",
       "Allemand   4    Guten Tag       Tchüss\n",
       "Anglais    2        Hello          Bye\n",
       "Japonais   7   Moshimoshi     Sayōnara\n",
       "Français   1        Salut           A+"
      ]
     },
     "execution_count": 15,
     "metadata": {},
     "output_type": "execute_result"
    }
   ],
   "source": [
    "A.sort_values(by=\"bonjour\")"
   ]
  },
  {
   "cell_type": "markdown",
   "metadata": {},
   "source": [
    "<font size= 4><I>Création d'une nouvelle variable</I></font>"
   ]
  },
  {
   "cell_type": "code",
   "execution_count": 16,
   "metadata": {},
   "outputs": [
    {
     "data": {
      "text/html": [
       "<div>\n",
       "<style scoped>\n",
       "    .dataframe tbody tr th:only-of-type {\n",
       "        vertical-align: middle;\n",
       "    }\n",
       "\n",
       "    .dataframe tbody tr th {\n",
       "        vertical-align: top;\n",
       "    }\n",
       "\n",
       "    .dataframe thead th {\n",
       "        text-align: right;\n",
       "    }\n",
       "</style>\n",
       "<table border=\"1\" class=\"dataframe\">\n",
       "  <thead>\n",
       "    <tr style=\"text-align: right;\">\n",
       "      <th></th>\n",
       "      <th>id</th>\n",
       "      <th>bonjour</th>\n",
       "      <th>au_revoir</th>\n",
       "      <th>B_et_av</th>\n",
       "    </tr>\n",
       "    <tr>\n",
       "      <th>langue</th>\n",
       "      <th></th>\n",
       "      <th></th>\n",
       "      <th></th>\n",
       "      <th></th>\n",
       "    </tr>\n",
       "  </thead>\n",
       "  <tbody>\n",
       "    <tr>\n",
       "      <th>Français</th>\n",
       "      <td>1</td>\n",
       "      <td>Salut</td>\n",
       "      <td>A+</td>\n",
       "      <td>Salut-A+</td>\n",
       "    </tr>\n",
       "    <tr>\n",
       "      <th>Anglais</th>\n",
       "      <td>2</td>\n",
       "      <td>Hello</td>\n",
       "      <td>Bye</td>\n",
       "      <td>Hello-Bye</td>\n",
       "    </tr>\n",
       "    <tr>\n",
       "      <th>Italien</th>\n",
       "      <td>3</td>\n",
       "      <td>Buongiorno</td>\n",
       "      <td>Arrivederci</td>\n",
       "      <td>Buongiorno-Arrivederci</td>\n",
       "    </tr>\n",
       "    <tr>\n",
       "      <th>Allemand</th>\n",
       "      <td>4</td>\n",
       "      <td>Guten Tag</td>\n",
       "      <td>Tchüss</td>\n",
       "      <td>Guten Tag-Tchüss</td>\n",
       "    </tr>\n",
       "    <tr>\n",
       "      <th>Espagnol</th>\n",
       "      <td>5</td>\n",
       "      <td>Buenos dias</td>\n",
       "      <td>Adiós</td>\n",
       "      <td>Buenos dias-Adiós</td>\n",
       "    </tr>\n",
       "    <tr>\n",
       "      <th>Breton</th>\n",
       "      <td>6</td>\n",
       "      <td>Demat</td>\n",
       "      <td>Kenavo</td>\n",
       "      <td>Demat-Kenavo</td>\n",
       "    </tr>\n",
       "    <tr>\n",
       "      <th>Japonais</th>\n",
       "      <td>7</td>\n",
       "      <td>Moshimoshi</td>\n",
       "      <td>Sayōnara</td>\n",
       "      <td>Moshimoshi-Sayōnara</td>\n",
       "    </tr>\n",
       "  </tbody>\n",
       "</table>\n",
       "</div>"
      ],
      "text/plain": [
       "          id      bonjour    au_revoir                 B_et_av\n",
       "langue                                                        \n",
       "Français   1        Salut           A+                Salut-A+\n",
       "Anglais    2        Hello          Bye               Hello-Bye\n",
       "Italien    3   Buongiorno  Arrivederci  Buongiorno-Arrivederci\n",
       "Allemand   4    Guten Tag       Tchüss        Guten Tag-Tchüss\n",
       "Espagnol   5  Buenos dias        Adiós       Buenos dias-Adiós\n",
       "Breton     6        Demat       Kenavo            Demat-Kenavo\n",
       "Japonais   7   Moshimoshi     Sayōnara     Moshimoshi-Sayōnara"
      ]
     },
     "execution_count": 16,
     "metadata": {},
     "output_type": "execute_result"
    }
   ],
   "source": [
    "A.assign(B_et_av = A['bonjour']+ \"-\" + A['au_revoir'])"
   ]
  },
  {
   "cell_type": "markdown",
   "metadata": {},
   "source": [
    "<font size= 4><I>Gestion des manquants</I></font>"
   ]
  },
  {
   "cell_type": "code",
   "execution_count": 17,
   "metadata": {},
   "outputs": [
    {
     "data": {
      "text/html": [
       "<div>\n",
       "<style scoped>\n",
       "    .dataframe tbody tr th:only-of-type {\n",
       "        vertical-align: middle;\n",
       "    }\n",
       "\n",
       "    .dataframe tbody tr th {\n",
       "        vertical-align: top;\n",
       "    }\n",
       "\n",
       "    .dataframe thead th {\n",
       "        text-align: right;\n",
       "    }\n",
       "</style>\n",
       "<table border=\"1\" class=\"dataframe\">\n",
       "  <thead>\n",
       "    <tr style=\"text-align: right;\">\n",
       "      <th></th>\n",
       "      <th>id</th>\n",
       "      <th>bonjour</th>\n",
       "      <th>au_revoir</th>\n",
       "    </tr>\n",
       "    <tr>\n",
       "      <th>langue</th>\n",
       "      <th></th>\n",
       "      <th></th>\n",
       "      <th></th>\n",
       "    </tr>\n",
       "  </thead>\n",
       "  <tbody>\n",
       "    <tr>\n",
       "      <th>Français</th>\n",
       "      <td>1</td>\n",
       "      <td>Salut</td>\n",
       "      <td>A+</td>\n",
       "    </tr>\n",
       "    <tr>\n",
       "      <th>Anglais</th>\n",
       "      <td>2</td>\n",
       "      <td>Hello</td>\n",
       "      <td>Bye</td>\n",
       "    </tr>\n",
       "    <tr>\n",
       "      <th>Italien</th>\n",
       "      <td>3</td>\n",
       "      <td>Buongiorno</td>\n",
       "      <td>Arrivederci</td>\n",
       "    </tr>\n",
       "    <tr>\n",
       "      <th>Allemand</th>\n",
       "      <td>4</td>\n",
       "      <td>Guten Tag</td>\n",
       "      <td>Tchüss</td>\n",
       "    </tr>\n",
       "    <tr>\n",
       "      <th>Espagnol</th>\n",
       "      <td>5</td>\n",
       "      <td>Buenos dias</td>\n",
       "      <td>Adiós</td>\n",
       "    </tr>\n",
       "    <tr>\n",
       "      <th>Breton</th>\n",
       "      <td>6</td>\n",
       "      <td>Demat</td>\n",
       "      <td>Kenavo</td>\n",
       "    </tr>\n",
       "    <tr>\n",
       "      <th>Japonais</th>\n",
       "      <td>7</td>\n",
       "      <td>Moshimoshi</td>\n",
       "      <td>Sayōnara</td>\n",
       "    </tr>\n",
       "    <tr>\n",
       "      <th>Portugais</th>\n",
       "      <td>8</td>\n",
       "      <td>NaN</td>\n",
       "      <td>adeus</td>\n",
       "    </tr>\n",
       "  </tbody>\n",
       "</table>\n",
       "</div>"
      ],
      "text/plain": [
       "           id      bonjour    au_revoir\n",
       "langue                                 \n",
       "Français    1        Salut           A+\n",
       "Anglais     2        Hello          Bye\n",
       "Italien     3   Buongiorno  Arrivederci\n",
       "Allemand    4    Guten Tag       Tchüss\n",
       "Espagnol    5  Buenos dias        Adiós\n",
       "Breton      6        Demat       Kenavo\n",
       "Japonais    7   Moshimoshi     Sayōnara\n",
       "Portugais   8          NaN        adeus"
      ]
     },
     "execution_count": 17,
     "metadata": {},
     "output_type": "execute_result"
    }
   ],
   "source": [
    "row = pd.Series({'id' : 8, 'au_revoir' : 'adeus'}, name = 'Portugais')\n",
    "A = A.append(row)\n",
    "A"
   ]
  },
  {
   "cell_type": "markdown",
   "metadata": {},
   "source": [
    "En ajoutant une nouvelle ligne, le portugais n'a pas rempli la colonne bonjour. On veut pouvoir accéder aux cases non-remplies."
   ]
  },
  {
   "cell_type": "code",
   "execution_count": 18,
   "metadata": {},
   "outputs": [
    {
     "data": {
      "text/html": [
       "<div>\n",
       "<style scoped>\n",
       "    .dataframe tbody tr th:only-of-type {\n",
       "        vertical-align: middle;\n",
       "    }\n",
       "\n",
       "    .dataframe tbody tr th {\n",
       "        vertical-align: top;\n",
       "    }\n",
       "\n",
       "    .dataframe thead th {\n",
       "        text-align: right;\n",
       "    }\n",
       "</style>\n",
       "<table border=\"1\" class=\"dataframe\">\n",
       "  <thead>\n",
       "    <tr style=\"text-align: right;\">\n",
       "      <th></th>\n",
       "      <th>id</th>\n",
       "      <th>bonjour</th>\n",
       "      <th>au_revoir</th>\n",
       "    </tr>\n",
       "    <tr>\n",
       "      <th>langue</th>\n",
       "      <th></th>\n",
       "      <th></th>\n",
       "      <th></th>\n",
       "    </tr>\n",
       "  </thead>\n",
       "  <tbody>\n",
       "    <tr>\n",
       "      <th>Français</th>\n",
       "      <td>1</td>\n",
       "      <td>Salut</td>\n",
       "      <td>A+</td>\n",
       "    </tr>\n",
       "    <tr>\n",
       "      <th>Anglais</th>\n",
       "      <td>2</td>\n",
       "      <td>Hello</td>\n",
       "      <td>Bye</td>\n",
       "    </tr>\n",
       "    <tr>\n",
       "      <th>Italien</th>\n",
       "      <td>3</td>\n",
       "      <td>Buongiorno</td>\n",
       "      <td>Arrivederci</td>\n",
       "    </tr>\n",
       "    <tr>\n",
       "      <th>Allemand</th>\n",
       "      <td>4</td>\n",
       "      <td>Guten Tag</td>\n",
       "      <td>Tchüss</td>\n",
       "    </tr>\n",
       "    <tr>\n",
       "      <th>Espagnol</th>\n",
       "      <td>5</td>\n",
       "      <td>Buenos dias</td>\n",
       "      <td>Adiós</td>\n",
       "    </tr>\n",
       "    <tr>\n",
       "      <th>Breton</th>\n",
       "      <td>6</td>\n",
       "      <td>Demat</td>\n",
       "      <td>Kenavo</td>\n",
       "    </tr>\n",
       "    <tr>\n",
       "      <th>Japonais</th>\n",
       "      <td>7</td>\n",
       "      <td>Moshimoshi</td>\n",
       "      <td>Sayōnara</td>\n",
       "    </tr>\n",
       "    <tr>\n",
       "      <th>Portugais</th>\n",
       "      <td>8</td>\n",
       "      <td>Non-renseigné</td>\n",
       "      <td>adeus</td>\n",
       "    </tr>\n",
       "  </tbody>\n",
       "</table>\n",
       "</div>"
      ],
      "text/plain": [
       "           id        bonjour    au_revoir\n",
       "langue                                   \n",
       "Français    1          Salut           A+\n",
       "Anglais     2          Hello          Bye\n",
       "Italien     3     Buongiorno  Arrivederci\n",
       "Allemand    4      Guten Tag       Tchüss\n",
       "Espagnol    5    Buenos dias        Adiós\n",
       "Breton      6          Demat       Kenavo\n",
       "Japonais    7     Moshimoshi     Sayōnara\n",
       "Portugais   8  Non-renseigné        adeus"
      ]
     },
     "execution_count": 18,
     "metadata": {},
     "output_type": "execute_result"
    }
   ],
   "source": [
    "A.fillna('Non-renseigné')"
   ]
  },
  {
   "cell_type": "markdown",
   "metadata": {},
   "source": [
    "Avec skipna, on enlève les lignes non renseignées."
   ]
  },
  {
   "cell_type": "markdown",
   "metadata": {},
   "source": [
    "<font size= 4><I>Agrégation sur les dataframes</I></font>"
   ]
  },
  {
   "cell_type": "code",
   "execution_count": 19,
   "metadata": {},
   "outputs": [
    {
     "data": {
      "text/html": [
       "<div>\n",
       "<style scoped>\n",
       "    .dataframe tbody tr th:only-of-type {\n",
       "        vertical-align: middle;\n",
       "    }\n",
       "\n",
       "    .dataframe tbody tr th {\n",
       "        vertical-align: top;\n",
       "    }\n",
       "\n",
       "    .dataframe thead th {\n",
       "        text-align: right;\n",
       "    }\n",
       "</style>\n",
       "<table border=\"1\" class=\"dataframe\">\n",
       "  <thead>\n",
       "    <tr style=\"text-align: right;\">\n",
       "      <th></th>\n",
       "      <th>quantite</th>\n",
       "    </tr>\n",
       "    <tr>\n",
       "      <th>glace</th>\n",
       "      <th></th>\n",
       "    </tr>\n",
       "  </thead>\n",
       "  <tbody>\n",
       "    <tr>\n",
       "      <th>ananas</th>\n",
       "      <td>7</td>\n",
       "    </tr>\n",
       "    <tr>\n",
       "      <th>citron</th>\n",
       "      <td>7</td>\n",
       "    </tr>\n",
       "    <tr>\n",
       "      <th>menthe</th>\n",
       "      <td>4</td>\n",
       "    </tr>\n",
       "    <tr>\n",
       "      <th>pistache</th>\n",
       "      <td>3</td>\n",
       "    </tr>\n",
       "  </tbody>\n",
       "</table>\n",
       "</div>"
      ],
      "text/plain": [
       "          quantite\n",
       "glace             \n",
       "ananas           7\n",
       "citron           7\n",
       "menthe           4\n",
       "pistache         3"
      ]
     },
     "execution_count": 19,
     "metadata": {},
     "output_type": "execute_result"
    }
   ],
   "source": [
    "glace = pd.DataFrame({\"glace\" : np.array(('pistache', 'menthe', 'citron', 'ananas', 'pistache', 'ananas', 'citron', 'citron', 'ananas','menthe')),\n",
    "              \"couleur\" : np.array(('vert', 'vert', 'jaune', 'jaune', 'pistache', 'jaune', 'jaune', 'jaune', 'jaune','vert')),\n",
    "              \"quantite\" : np.array([1,2,3,1,2,3,2,2,3,2])})\n",
    "glace.groupby([\"glace\"]).sum()"
   ]
  },
  {
   "cell_type": "markdown",
   "metadata": {},
   "source": [
    "sum() ne s'applique pas sur couleur qui est un tableau de string, mais sur quantite, cela donne les effectifs par type de glace. On peut utiliser toutes les fonctions de description de numpy, comme mean() ou avg(). Cela évite de devoir écrire des requêtes sql pour faire des aggrégations de données."
   ]
  },
  {
   "cell_type": "markdown",
   "metadata": {},
   "source": [
    "<font size= 4><I>Import/Export</I></font>\n",
    "\n",
    "La fonction read_table sert à importer des tables, qu'elles soient stockées localement ou sur le web."
   ]
  },
  {
   "cell_type": "code",
   "execution_count": 22,
   "metadata": {},
   "outputs": [
    {
     "data": {
      "text/html": [
       "<div>\n",
       "<style scoped>\n",
       "    .dataframe tbody tr th:only-of-type {\n",
       "        vertical-align: middle;\n",
       "    }\n",
       "\n",
       "    .dataframe tbody tr th {\n",
       "        vertical-align: top;\n",
       "    }\n",
       "\n",
       "    .dataframe thead th {\n",
       "        text-align: right;\n",
       "    }\n",
       "</style>\n",
       "<table border=\"1\" class=\"dataframe\">\n",
       "  <thead>\n",
       "    <tr style=\"text-align: right;\">\n",
       "      <th></th>\n",
       "      <th>AGE</th>\n",
       "      <th>POIDS</th>\n",
       "      <th>TAILLE</th>\n",
       "      <th>ALCOOL</th>\n",
       "      <th>SEXE</th>\n",
       "      <th>RONFLE</th>\n",
       "      <th>TABA</th>\n",
       "    </tr>\n",
       "  </thead>\n",
       "  <tbody>\n",
       "    <tr>\n",
       "      <th>P0001</th>\n",
       "      <td>47</td>\n",
       "      <td>71</td>\n",
       "      <td>158</td>\n",
       "      <td>0</td>\n",
       "      <td>0</td>\n",
       "      <td>0</td>\n",
       "      <td>1</td>\n",
       "    </tr>\n",
       "    <tr>\n",
       "      <th>P0002</th>\n",
       "      <td>56</td>\n",
       "      <td>58</td>\n",
       "      <td>164</td>\n",
       "      <td>7</td>\n",
       "      <td>0</td>\n",
       "      <td>1</td>\n",
       "      <td>0</td>\n",
       "    </tr>\n",
       "    <tr>\n",
       "      <th>P0003</th>\n",
       "      <td>46</td>\n",
       "      <td>116</td>\n",
       "      <td>208</td>\n",
       "      <td>3</td>\n",
       "      <td>0</td>\n",
       "      <td>0</td>\n",
       "      <td>1</td>\n",
       "    </tr>\n",
       "    <tr>\n",
       "      <th>P0005</th>\n",
       "      <td>70</td>\n",
       "      <td>96</td>\n",
       "      <td>186</td>\n",
       "      <td>3</td>\n",
       "      <td>0</td>\n",
       "      <td>0</td>\n",
       "      <td>1</td>\n",
       "    </tr>\n",
       "    <tr>\n",
       "      <th>P0006</th>\n",
       "      <td>51</td>\n",
       "      <td>91</td>\n",
       "      <td>195</td>\n",
       "      <td>2</td>\n",
       "      <td>0</td>\n",
       "      <td>1</td>\n",
       "      <td>1</td>\n",
       "    </tr>\n",
       "  </tbody>\n",
       "</table>\n",
       "</div>"
      ],
      "text/plain": [
       "       AGE  POIDS  TAILLE  ALCOOL  SEXE  RONFLE  TABA\n",
       "P0001   47     71     158       0     0       0     1\n",
       "P0002   56     58     164       7     0       1     0\n",
       "P0003   46    116     208       3     0       0     1\n",
       "P0005   70     96     186       3     0       0     1\n",
       "P0006   51     91     195       2     0       1     1"
      ]
     },
     "execution_count": 22,
     "metadata": {},
     "output_type": "execute_result"
    }
   ],
   "source": [
    "data = pd.read_table(filepath_or_buffer = \"https://raw.githubusercontent.com/llesoil/modelisation_des_problemes_scientifiques-/master/ressources/ronfle.csv\", # l'adresse du fichier\n",
    "              header = 0, # noms de variables en ligne 1\n",
    "              delimiter =',', # délimiteur, ici la virgule pour un csv\n",
    "              index_col=0) # l'index de la colonne du nom des individus\n",
    "data.head()"
   ]
  },
  {
   "cell_type": "markdown",
   "metadata": {},
   "source": [
    "Elle marche avec des fichiers textes, des csv, des feuilles excels, etc.\n",
    "\n",
    "Pour  l'export:"
   ]
  },
  {
   "cell_type": "code",
   "execution_count": 23,
   "metadata": {},
   "outputs": [],
   "source": [
    "glace.to_csv(\"glace.csv\")"
   ]
  },
  {
   "cell_type": "markdown",
   "metadata": {},
   "source": [
    "Dans votre répertoire, un csv nommé glace.csv doit être créé. Normalement, il contient les informations du dataframe glace."
   ]
  }
 ],
 "metadata": {
  "kernelspec": {
   "display_name": "Python 3",
   "language": "python",
   "name": "python3"
  },
  "language_info": {
   "codemirror_mode": {
    "name": "ipython",
    "version": 3
   },
   "file_extension": ".py",
   "mimetype": "text/x-python",
   "name": "python",
   "nbconvert_exporter": "python",
   "pygments_lexer": "ipython3",
   "version": "3.6.9"
  }
 },
 "nbformat": 4,
 "nbformat_minor": 2
}
