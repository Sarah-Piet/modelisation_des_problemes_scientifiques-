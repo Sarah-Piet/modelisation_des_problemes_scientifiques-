{
 "cells": [
  {
   "cell_type": "markdown",
   "metadata": {},
   "source": [
    "# <a href=\"https://www.python.org/\"><img src=\"https://upload.wikimedia.org/wikipedia/commons/thumb/f/f8/Python_logo_and_wordmark.svg/390px-Python_logo_and_wordmark.svg.png\" style=\"max-width: 200px; display: inline\" alt=\"Python\"/></a> [pour Statistique et Science des Données](https://github.com/wikistat/Intro-Python)"
   ]
  },
  {
   "cell_type": "markdown",
   "metadata": {},
   "source": [
    "# Introduction à <a href=\"https://www.python.org/\"><img src=\"https://upload.wikimedia.org/wikipedia/commons/thumb/f/f8/Python_logo_and_wordmark.svg/390px-Python_logo_and_wordmark.svg.png\" style=\"max-width: 150px; display: inline\" alt=\"Python\"/></a> pour Calcul Scientifique - Statistique"
   ]
  },
  {
   "cell_type": "markdown",
   "metadata": {},
   "source": [
    "**Résumé** Présentation de jupyter notebook et des bases de python; utilisation d'un notebook, types de données, structures élémentaires de données, structures de contrôle."
   ]
  },
  {
   "cell_type": "markdown",
   "metadata": {},
   "source": [
    "# A - Python et jupyter notebook"
   ]
  },
  {
   "cell_type": "markdown",
   "metadata": {},
   "source": [
    "Python exécute programmes ou scripts, programmes qui peuvent être pré-compilés pour plus d'efficacité. Ce langage s'exécute également à l'aide d'un interprète de commande (`IDLE`) ou {`IPython`) de manière interactive.  En situation pédagogique, c'est l'utilisation et la réalisation d'un *notebook Ipython* ou plutôt maintenant *Jupyter* qui est privilégiée à partir d'un simple navigateur.\n",
    "\n",
    "Les commandes sont regroupées dans des cellules suivies de leur résultat après exécution. Ces résultats et commentaires sont  stockés dans un fichier spécifique `.ipynb` et sauvegardés. Les commandes LaTeX sont acceptées pour intégrer des formules, la mise en page est assurée par des balises HTML ou [*Markdown*](http://fr.wikipedia.org/wiki/Markdown). \n",
    "\n",
    "La commande de sauvegarde permet également d'extraire les seules commandes Python dans un fichier d'extension `.py`. C'est une façon simple et efficace de conserver tout l'historique d'une analyse pour en faire une présentation ou créer un tutoriel. Le notebook peut être en effet chargé  sous un autre format: page `html`, fichier `.pdf` ou diaporama.\n",
    "\n",
    "Le projet [Jupyter](http://jupyter.org/) propose cet environnement de notebook pour beaucoup de langages (Python, Julia, Scala...) dont R. Il devient un outil indispensable pour assurer simplement la *reproductibilité* des analyses. \n",
    "\n",
    "Une fois le notebook ouvert, \n",
    "- Entrer des commandes Python dans une cellule,\n",
    "- Cliquer sur le bouton d'exécution de la cellule.\n",
    "- Ajouter une ou des cellules de commentaires et balises HTML ou [Markdown](http://fr.wikipedia.org/wiki/Markdown).\n",
    "Itérer l'ajout de cellules. Une fois l'exécution terminée:\n",
    "- Sauver le notebook `.ipynb` \n",
    "- Charger éventuellement une version `.html` pour une page web.\n",
    "- Charger le fichier `.py` regroupant les commandes python pour une version opérationnelle.\n",
    "\n",
    "**Attention** Un notebook de IPython ou Jupyter est un outil de travail exploratoire efficace et un compte rendu nécessairement *chronologique* d'exécution."
   ]
  },
  {
   "cell_type": "markdown",
   "metadata": {},
   "source": [
    "## 1. Gestion des cellules\n",
    "\n",
    "Un notebook est composé de différentes cellules. Quand vous cliquez sur ce texte par exemple, les limites de la cellule actuelle apparaissent!"
   ]
  },
  {
   "cell_type": "markdown",
   "metadata": {},
   "source": [
    "### 1.1.  Type de cellules\n",
    "\n",
    "Il existe différents types de cellules."
   ]
  },
  {
   "cell_type": "markdown",
   "metadata": {},
   "source": [
    "#### 1.1.a- Cellule markdown"
   ]
  },
  {
   "cell_type": "markdown",
   "metadata": {},
   "source": [
    "Cette case est un commentaire"
   ]
  },
  {
   "cell_type": "markdown",
   "metadata": {},
   "source": [
    "Les cellules en markdown permettent d'intégrer des explications au code, d'expliquer ce que l'on fait au fur et à mesure de l'avancement du notebook\n",
    "\n",
    "Ils peuvent notamment présenter les parties de code difficiles à appréhender, ou expliquer les retours de code. D'ailleurs, ce cours est intégré à un notebook à l'aide des cellules markdown :-)"
   ]
  },
  {
   "cell_type": "markdown",
   "metadata": {},
   "source": [
    "Le *markdown* permet d'inclure des images stockées localement (ou en ligne!) dans vos cellules!\n",
    "\n",
    "![rennes](https://www.univ-rennes1.fr/sites/www.univ-rennes1.fr/files/logo_ur1_gris.png)\n",
    "\n",
    "Vous pouvez également formater le texte de vos cellules grâce à des balises:\n",
    "\n",
    "- En <font size = 2 color=\"red\">rouge et en petit</font> ou en <font size = 5 color=\"green\">vert et en grand</font>\n",
    "\n",
    "- En **gras** ou en *italique*\n",
    "\n",
    "- Vous pouvez mettre en forme des maths : $ \\sum_{\\forall i}{x_i^{2}} $\n",
    "\n",
    "Pour passer une cellule en markdown, faîtes défiler le menu déroulant en dessous de 'Widgets' jusqu'à la valeur 'markdown'.\n",
    "\n",
    "Raccourci pour passer une cellule en markdown : m"
   ]
  },
  {
   "cell_type": "markdown",
   "metadata": {},
   "source": [
    "#### 1.1.b - Cellule de code python"
   ]
  },
  {
   "cell_type": "code",
   "execution_count": 3,
   "metadata": {},
   "outputs": [
    {
     "name": "stdout",
     "output_type": "stream",
     "text": [
      "Celle-ci est une ligne de code\n"
     ]
    }
   ],
   "source": [
    "print(\"Celle-ci est une ligne de code\")"
   ]
  },
  {
   "cell_type": "markdown",
   "metadata": {},
   "source": [
    "Les cellules de code contiendront le code de vos programmes. Les retours de code (print, affichage de variable, etc.) s'affichent en-dessous de la cellule au fil de l'exécution du code.\n",
    "\n",
    "Pour passer une cellule en code, faîtes défiler le menu déroulant en dessous de 'Widgets' jusqu'à la valeur 'code'.\n",
    "\n",
    "Raccourci pour passer une cellule en code : y"
   ]
  },
  {
   "cell_type": "markdown",
   "metadata": {},
   "source": [
    "### 1.2. Exécution de cellules\n",
    "\n",
    "Pour interpréter du code python, ou rendre du markdown, il faut exécuter les cellules. Vous pouvez exécuter les cellules avec la commande run, présente dans le panel situé au-dessus du notebook. Ou vous pouvez utiliser les raccourcis ci-dessous :\n",
    "\n",
    "- Raccourci pour exécuter la cellule : ctrl + enter\n",
    "- Raccourci pour exécuter la cellule et passer à la prochaine cellule : shift + enter"
   ]
  },
  {
   "cell_type": "markdown",
   "metadata": {},
   "source": [
    "### 1.3. Modes"
   ]
  },
  {
   "cell_type": "markdown",
   "metadata": {},
   "source": [
    "#### 1.3.a - Mode commande."
   ]
  },
  {
   "cell_type": "markdown",
   "metadata": {},
   "source": [
    "Le mode commande est un mode \"général\", dédié à la gestion de cellule. \n",
    "\n",
    "En mode commande, les flèches directionnelles vous permettent de naviguer de cellule en cellule.\n",
    "\n",
    "Pour passer en mode commande; cliquez \"dans la marge\", du côté gauche de la cellule.\n",
    "\n",
    "Exécuter une cellule vous fait passer en mode commande."
   ]
  },
  {
   "cell_type": "markdown",
   "metadata": {},
   "source": [
    "#### 1.3.b - Mode édition"
   ]
  },
  {
   "cell_type": "markdown",
   "metadata": {},
   "source": [
    "Le mode édition vous permet d'éditer le contenu des cellules. Il permet notamment de modifier le code ou le markdown.\n",
    "\n",
    "En mode édition, les flèches directionnelles vous font passer d'une ligne à l'autre.\n",
    "\n",
    "**Tips** : Si vous êtes en mode édition sur la dernière ligne d'une cellule, appuyer sur bas vous fera basculer en mode édition dans la cellule du bas.\n",
    "\n",
    "Pour passer en mode édition;\n",
    "- markdown exécuté : double-cliquez sur la cellule\n",
    "- code ou markdown non exécuté : cliquez dans la cellule"
   ]
  },
  {
   "cell_type": "markdown",
   "metadata": {},
   "source": [
    "### 1.4. Ajout et suppression\n",
    "\n",
    "#### 1.4.a- Ajout\n",
    "\n",
    "Vous êtes à court de cases? Appuyez sur le '+' du panel du haut pour insérer une case.\n",
    "\n",
    "Raccourci pour l'ajout : A, en mode commande\n",
    "\n",
    "#### 1.4.b- Suppression\n",
    "\n",
    "**ATTENTION** : Une fois supprimée, une case ne peut pas être récupérée (sauf si vous versionnez le code).\n",
    "\n",
    "Vous pouvez couper la case pour la supprimer.\n",
    "\n",
    "Raccourci pour l'ajout : X, en mode commande"
   ]
  },
  {
   "cell_type": "markdown",
   "metadata": {},
   "source": [
    "### 1.5. Changer l'ordre des cases\n",
    "\n",
    "Utilisez les flèches du panel !"
   ]
  },
  {
   "cell_type": "markdown",
   "metadata": {},
   "source": [
    "### 1.6. Sélectionner plusieurs cases\n",
    "\n",
    "Une fois en mode commande sur une cellule, appuyez sur shift, et cliquez sur une autre cellule pour sélectionner toutes les cellules au milieu."
   ]
  },
  {
   "cell_type": "markdown",
   "metadata": {},
   "source": [
    "### 1.7. Copier-coller les cases\n",
    "\n",
    "Raccourcis:\n",
    "- Copier : ctrl-c\n",
    "- Coller : ctrl-v"
   ]
  },
  {
   "cell_type": "markdown",
   "metadata": {},
   "source": [
    "## 2. Gestion du noyau"
   ]
  },
  {
   "cell_type": "markdown",
   "metadata": {},
   "source": [
    "Le noyau (ou kernel) contient l'interpréteur python qui exécute votre code, et liste en mémoire vos variables."
   ]
  },
  {
   "cell_type": "markdown",
   "metadata": {},
   "source": [
    "### 2.1. Interrupt"
   ]
  },
  {
   "cell_type": "markdown",
   "metadata": {},
   "source": [
    "Dans le cas d'une cellule qui contient une boucle infinie, ou qui met trop de temps à s'exécuter, il peut être intéressant d'interrompre son exécution. Dans ce cas, cliquez sur le menu 'Kernel', puis 'Interrupt'."
   ]
  },
  {
   "cell_type": "markdown",
   "metadata": {},
   "source": [
    "### 2.2. Restart"
   ]
  },
  {
   "cell_type": "markdown",
   "metadata": {},
   "source": [
    "Redémarrer votre kernel effacera toutes les données liées à l'exécution de python."
   ]
  },
  {
   "cell_type": "markdown",
   "metadata": {},
   "source": [
    "### 2.3. Kernels pour d'autres langages"
   ]
  },
  {
   "cell_type": "markdown",
   "metadata": {},
   "source": [
    "Il existe des kernels qui interprètent d'autres langages, comme R ou Julia."
   ]
  },
  {
   "cell_type": "markdown",
   "metadata": {},
   "source": [
    "## 3. Widgets\n",
    "\n",
    "Le framework de Jupyter permet d'intégrer des widgets aux notebooks, afin que l'utilisateur puisse interagir avec votre code."
   ]
  },
  {
   "cell_type": "code",
   "execution_count": 1,
   "metadata": {},
   "outputs": [],
   "source": [
    "from ipywidgets import interact\n",
    "import ipywidgets as widgets"
   ]
  },
  {
   "cell_type": "code",
   "execution_count": 2,
   "metadata": {},
   "outputs": [
    {
     "data": {
      "application/vnd.jupyter.widget-view+json": {
       "model_id": "e2fcbe98358c428597f0bb921bc8a9fb",
       "version_major": 2,
       "version_minor": 0
      },
      "text/plain": [
       "interactive(children=(Checkbox(value=False, description='Click me !'), Output()), _dom_classes=('widget-intera…"
      ]
     },
     "metadata": {},
     "output_type": "display_data"
    }
   ],
   "source": [
    "@interact(checked = widgets.Checkbox(value = False, \n",
    "                               description = 'Click me !', \n",
    "                               disabled = False))\n",
    "def check_the_box(checked):\n",
    "    if checked:\n",
    "        print(\"Well done!\")"
   ]
  },
  {
   "cell_type": "code",
   "execution_count": 3,
   "metadata": {},
   "outputs": [
    {
     "data": {
      "application/vnd.jupyter.widget-view+json": {
       "model_id": "2cdb16d5453549799822ccc82ac4adf7",
       "version_major": 2,
       "version_minor": 0
      },
      "text/plain": [
       "interactive(children=(Textarea(value='', description='Write hello there ->', layout=Layout(height='30px', widt…"
      ]
     },
     "metadata": {},
     "output_type": "display_data"
    }
   ],
   "source": [
    "@interact(bonjour = widgets.Textarea(value = '', \n",
    "                                       description = 'Write hello there ->', \n",
    "                                       disabled = False,\n",
    "                                       layout = widgets.Layout(width='500px', height = '30px'),\n",
    "                                       style = {'description_width': 'initial'}))\n",
    "def say_hello(bonjour):\n",
    "    if bonjour == \"hello\":\n",
    "        print(\"Well done!\")"
   ]
  },
  {
   "cell_type": "code",
   "execution_count": 4,
   "metadata": {},
   "outputs": [
    {
     "name": "stdout",
     "output_type": "stream",
     "text": [
      "Grab the button and slide it horizontally!\n"
     ]
    },
    {
     "data": {
      "application/vnd.jupyter.widget-view+json": {
       "model_id": "510724e69a174663916b4c6a817d461c",
       "version_major": 2,
       "version_minor": 0
      },
      "text/plain": [
       "interactive(children=(IntSlider(value=1, description='Change id value to 3 - id', layout=Layout(width='800px')…"
      ]
     },
     "metadata": {},
     "output_type": "display_data"
    }
   ],
   "source": [
    "print(\"Grab the button and slide it horizontally!\")\n",
    "@interact(id = widgets.IntSlider(min = 1, max = 10, step = 1, value = 1, \n",
    "                                         description = 'Change id value to 3 - id', \n",
    "                                         layout = widgets.Layout(width='800px'),\n",
    "                                         style = {'description_width': 'initial'}))\n",
    "def say_hello(id):\n",
    "    if id == 3:\n",
    "        print(\"Well done!\")"
   ]
  },
  {
   "cell_type": "markdown",
   "metadata": {},
   "source": [
    "### 4. Les dangers du notebook\n",
    "\n",
    "#### 4.1. L'ordre d'exécution des cellules"
   ]
  },
  {
   "cell_type": "code",
   "execution_count": 9,
   "metadata": {},
   "outputs": [],
   "source": [
    "a = 3"
   ]
  },
  {
   "cell_type": "code",
   "execution_count": 8,
   "metadata": {},
   "outputs": [],
   "source": [
    "a = 5"
   ]
  },
  {
   "cell_type": "code",
   "execution_count": 10,
   "metadata": {},
   "outputs": [
    {
     "data": {
      "text/plain": [
       "3"
      ]
     },
     "execution_count": 10,
     "metadata": {},
     "output_type": "execute_result"
    }
   ],
   "source": [
    "a"
   ]
  },
  {
   "cell_type": "markdown",
   "metadata": {},
   "source": [
    "L'utilisateur peut exécuter les cellules dans l'ordre qu'il veut. Cependant, cela peut créer des surprises; pour les trois cellules du dessus (appelons-les c1, c2 et c3 de haut en bas), c1-c2-c3 rendra 5 alors que c2-c1-c3 rendra 3...\n",
    "\n",
    "Prenez garde à (1) soit mémoriser la valeur de vos variables (2) soit faire attention à l'ordre d'exécution!"
   ]
  },
  {
   "cell_type": "markdown",
   "metadata": {},
   "source": [
    "#### 4.2.  Suppression de cellule\n",
    "\n",
    "J'insiste, car vous vous ferez avoir à un moment si vous continuez à utiliser les notebooks. Supprimer la mauvaise cellule peut vous faire perdre des minutes, des heures, ou des jours de travail..."
   ]
  },
  {
   "cell_type": "markdown",
   "metadata": {},
   "source": [
    "ce contenu est important"
   ]
  },
  {
   "cell_type": "markdown",
   "metadata": {},
   "source": [
    "#### 4.3. - Voir I don't like notebooks"
   ]
  },
  {
   "cell_type": "markdown",
   "metadata": {},
   "source": [
    "#### 4.4. Google colab : https://colab.research.google.com/notebooks/intro.ipynb#"
   ]
  },
  {
   "cell_type": "markdown",
   "metadata": {},
   "source": [
    "# B - Quelques exemples pour démarrer avec python"
   ]
  },
  {
   "cell_type": "markdown",
   "metadata": {},
   "source": [
    "## 1. Types de données"
   ]
  },
  {
   "cell_type": "markdown",
   "metadata": {},
   "source": [
    "### 1.1. Scalaires et chaînes\n",
    "La déclaration des variables est implicite ({integer, float, boolean, string), la syntaxe est très proche de celle de R mais il n'y a pas de type `factor`."
   ]
  },
  {
   "cell_type": "code",
   "execution_count": 11,
   "metadata": {},
   "outputs": [
    {
     "data": {
      "text/plain": [
       "1.5"
      ]
     },
     "execution_count": 11,
     "metadata": {},
     "output_type": "execute_result"
    }
   ],
   "source": [
    "a=3  # est un entier\n",
    "b=1. # est un flottant\n",
    "# Attention:\n",
    "a/2  # a pour résultat 1.5 en Python 3.4 \n",
    "     # mais 1 en 2.7"
   ]
  },
  {
   "cell_type": "markdown",
   "metadata": {},
   "source": [
    "Opérateurs de comparaison : `==, >, <, !=` de résultat booléen."
   ]
  },
  {
   "cell_type": "code",
   "execution_count": 12,
   "metadata": {},
   "outputs": [
    {
     "data": {
      "text/plain": [
       "False"
      ]
     },
     "execution_count": 12,
     "metadata": {},
     "output_type": "execute_result"
    }
   ],
   "source": [
    "# Comparaison\n",
    "a==b  "
   ]
  },
  {
   "cell_type": "code",
   "execution_count": 13,
   "metadata": {},
   "outputs": [
    {
     "data": {
      "text/plain": [
       "int"
      ]
     },
     "execution_count": 13,
     "metadata": {},
     "output_type": "execute_result"
    }
   ],
   "source": [
    "#  affichage et type des variables\n",
    "type(a)"
   ]
  },
  {
   "cell_type": "code",
   "execution_count": 14,
   "metadata": {},
   "outputs": [
    {
     "data": {
      "text/plain": [
       "'bonjour le monde'"
      ]
     },
     "execution_count": 14,
     "metadata": {},
     "output_type": "execute_result"
    }
   ],
   "source": [
    "# Chaîne de caractère\n",
    "a='bonjour '\n",
    "b='le '\n",
    "c='monde'\n",
    "a+b+c"
   ]
  },
  {
   "cell_type": "markdown",
   "metadata": {},
   "source": [
    "Attention à l'encodage des caractères. Ce n'est pas le même en python 2 (ascii) et python 3 (utf-8). Ce n'est pas fait dans ces exemples élémentaires mais il est vivement recommandé de gérer systématiquement des textes complexes avec caractères spéciaux (accents, guillements...) en utf-8"
   ]
  },
  {
   "cell_type": "code",
   "execution_count": 13,
   "metadata": {},
   "outputs": [
    {
     "data": {
      "text/plain": [
       "str"
      ]
     },
     "execution_count": 13,
     "metadata": {},
     "output_type": "execute_result"
    }
   ],
   "source": [
    "a=u'bonjour' # encodage utf-8\n",
    "type(a)"
   ]
  },
  {
   "cell_type": "code",
   "execution_count": 14,
   "metadata": {},
   "outputs": [
    {
     "data": {
      "text/plain": [
       "str"
      ]
     },
     "execution_count": 14,
     "metadata": {},
     "output_type": "execute_result"
    }
   ],
   "source": [
    "a='bonjour'  # encodage ascii\n",
    "type(a)"
   ]
  },
  {
   "cell_type": "markdown",
   "metadata": {},
   "source": [
    "#### Affectation des indices\n",
    "Des expressions telles que x = x + 1 ou x = x - 2 apparaissent très souvent dans le corps des boucles. Le language Python permet de simplifier ces notations."
   ]
  },
  {
   "cell_type": "code",
   "execution_count": 15,
   "metadata": {},
   "outputs": [],
   "source": [
    "a = 17\n",
    "s = \"hi\"\n",
    "a += 3           # Equivalent to a = a + 3\n",
    "a -= 3           # Equivalent to a = a - 3\n",
    "a *= 3           # Equivalent to a = a * 3\n",
    "a /= 3           # Equivalent to a = a / 3\n",
    "a %= 3           # Equivalent to a = a % 3\n",
    "s += \" there\"    # Equivalent to s = s + “ there\""
   ]
  },
  {
   "cell_type": "markdown",
   "metadata": {},
   "source": [
    "### 1.2. Structures de base"
   ]
  },
  {
   "cell_type": "markdown",
   "metadata": {},
   "source": [
    "#### Liste\n",
    "Les listes permettent des combinaisons de types. \n",
    "**Attention**, le premier élément d'une liste ou d'un tableau est indicé par **0**, pas par 1."
   ]
  },
  {
   "cell_type": "code",
   "execution_count": 15,
   "metadata": {},
   "outputs": [
    {
     "data": {
      "text/plain": [
       "3"
      ]
     },
     "execution_count": 15,
     "metadata": {},
     "output_type": "execute_result"
    }
   ],
   "source": [
    "# exemples de listes\n",
    "liste_A = [0,3,2,'hi']\n",
    "liste_B = [0,3,2,4,5,6,1]\n",
    "liste_C = [0,3,2,'hi',[1,2,3]]    \n",
    "# Elément d'une liste \n",
    "liste_A[1]"
   ]
  },
  {
   "cell_type": "code",
   "execution_count": 16,
   "metadata": {},
   "outputs": [
    {
     "data": {
      "text/plain": [
       "[1, 2, 3]"
      ]
     },
     "execution_count": 16,
     "metadata": {},
     "output_type": "execute_result"
    }
   ],
   "source": [
    "liste_C[-1] #  dernier élément"
   ]
  },
  {
   "cell_type": "code",
   "execution_count": 17,
   "metadata": {},
   "outputs": [
    {
     "data": {
      "text/plain": [
       "1"
      ]
     },
     "execution_count": 17,
     "metadata": {},
     "output_type": "execute_result"
    }
   ],
   "source": [
    "liste_C[-1][0]"
   ]
  },
  {
   "cell_type": "code",
   "execution_count": 19,
   "metadata": {},
   "outputs": [
    {
     "data": {
      "text/plain": [
       "'hi'"
      ]
     },
     "execution_count": 19,
     "metadata": {},
     "output_type": "execute_result"
    }
   ],
   "source": [
    "liste_C[-2]"
   ]
  },
  {
   "cell_type": "code",
   "execution_count": 20,
   "metadata": {},
   "outputs": [
    {
     "data": {
      "text/plain": [
       "[0, 3]"
      ]
     },
     "execution_count": 20,
     "metadata": {},
     "output_type": "execute_result"
    }
   ],
   "source": [
    "liste_B[0:2] #  Sous-liste"
   ]
  },
  {
   "cell_type": "code",
   "execution_count": 21,
   "metadata": {},
   "outputs": [
    {
     "data": {
      "text/plain": [
       "[0, 2, 5]"
      ]
     },
     "execution_count": 21,
     "metadata": {},
     "output_type": "execute_result"
    }
   ],
   "source": [
    "liste_B[0:5:2]  # début:fin:pas"
   ]
  },
  {
   "cell_type": "code",
   "execution_count": 22,
   "metadata": {},
   "outputs": [
    {
     "data": {
      "text/plain": [
       "[1, 6, 5, 4, 2, 3, 0]"
      ]
     },
     "execution_count": 22,
     "metadata": {},
     "output_type": "execute_result"
    }
   ],
   "source": [
    "liste_B[::-1]"
   ]
  },
  {
   "cell_type": "code",
   "execution_count": 23,
   "metadata": {},
   "outputs": [
    {
     "name": "stdout",
     "output_type": "stream",
     "text": [
      "[1, 2, 3, 4]\n"
     ]
    }
   ],
   "source": [
    "# Fonctions de listes\n",
    "liste_D=[3,2,4,1]\n",
    "liste_D.sort() \n",
    "print(liste_D)"
   ]
  },
  {
   "cell_type": "code",
   "execution_count": 24,
   "metadata": {},
   "outputs": [
    {
     "name": "stdout",
     "output_type": "stream",
     "text": [
      "[1, 2, 3, 4, 'hi']\n"
     ]
    }
   ],
   "source": [
    "liste_D.append('hi')\n",
    "print(liste_D)"
   ]
  },
  {
   "cell_type": "code",
   "execution_count": 25,
   "metadata": {},
   "outputs": [
    {
     "data": {
      "text/plain": [
       "1"
      ]
     },
     "execution_count": 25,
     "metadata": {},
     "output_type": "execute_result"
    }
   ],
   "source": [
    "liste_D.count(3) "
   ]
  },
  {
   "cell_type": "code",
   "execution_count": 26,
   "metadata": {},
   "outputs": [
    {
     "name": "stdout",
     "output_type": "stream",
     "text": [
      "[1, 2, 3, 4, 'hi', 7, 8, 9]\n"
     ]
    }
   ],
   "source": [
    "liste_D.extend([7,8,9])\n",
    "print(liste_D)"
   ]
  },
  {
   "cell_type": "code",
   "execution_count": 27,
   "metadata": {},
   "outputs": [
    {
     "name": "stdout",
     "output_type": "stream",
     "text": [
      "[1, 2, 3, 4, 'hi', 7, 8, 9, [10, 11, 12]]\n"
     ]
    }
   ],
   "source": [
    "liste_D.append([10,11,12])\n",
    "print(liste_D)"
   ]
  },
  {
   "cell_type": "markdown",
   "metadata": {},
   "source": [
    "#### Tuple\n",
    "Un tuple est similaire à une liste mais ne peut être modifié, il est défini par des parenthèses."
   ]
  },
  {
   "cell_type": "code",
   "execution_count": 28,
   "metadata": {},
   "outputs": [
    {
     "data": {
      "text/plain": [
       "3"
      ]
     },
     "execution_count": 28,
     "metadata": {},
     "output_type": "execute_result"
    }
   ],
   "source": [
    "mon_tuple=(0,3,2,'h')\n",
    "mon_tuple[1]"
   ]
  },
  {
   "cell_type": "code",
   "execution_count": 29,
   "metadata": {},
   "outputs": [
    {
     "ename": "TypeError",
     "evalue": "'tuple' object does not support item assignment",
     "output_type": "error",
     "traceback": [
      "\u001b[0;31m---------------------------------------------------------------------------\u001b[0m",
      "\u001b[0;31mTypeError\u001b[0m                                 Traceback (most recent call last)",
      "\u001b[0;32m<ipython-input-29-0d3c87242d8c>\u001b[0m in \u001b[0;36m<module>\u001b[0;34m\u001b[0m\n\u001b[0;32m----> 1\u001b[0;31m \u001b[0mmon_tuple\u001b[0m\u001b[0;34m[\u001b[0m\u001b[0;36m1\u001b[0m\u001b[0;34m]\u001b[0m\u001b[0;34m=\u001b[0m\u001b[0;36m10\u001b[0m \u001b[0;31m# TypeError: \"tuple\" object\u001b[0m\u001b[0;34m\u001b[0m\u001b[0;34m\u001b[0m\u001b[0m\n\u001b[0m",
      "\u001b[0;31mTypeError\u001b[0m: 'tuple' object does not support item assignment"
     ]
    }
   ],
   "source": [
    "mon_tuple[1]=10 # TypeError: \"tuple\" object"
   ]
  },
  {
   "cell_type": "markdown",
   "metadata": {},
   "source": [
    "#### Dictionnaire\n",
    "Un dictionnaire est similaire à une liste mais chaque entrée est assignée par une clé / un nom, il est défini avec des accolades. Cet objet est par exemple utilisé pour la construction de l'index des colonnes (variables) du type *DataFrame* de la librairie `pandas`, que l'on verra dans la suite du module.\n"
   ]
  },
  {
   "cell_type": "code",
   "execution_count": 30,
   "metadata": {},
   "outputs": [
    {
     "data": {
      "text/plain": [
       "31"
      ]
     },
     "execution_count": 30,
     "metadata": {},
     "output_type": "execute_result"
    }
   ],
   "source": [
    "months = {'Jan': 31 , 'Fev': 28, 'Mar':31}\n",
    "months['Jan']"
   ]
  },
  {
   "cell_type": "code",
   "execution_count": 31,
   "metadata": {},
   "outputs": [
    {
     "data": {
      "text/plain": [
       "dict_keys(['Jan', 'Fev', 'Mar'])"
      ]
     },
     "execution_count": 31,
     "metadata": {},
     "output_type": "execute_result"
    }
   ],
   "source": [
    "months.keys()"
   ]
  },
  {
   "cell_type": "code",
   "execution_count": 32,
   "metadata": {},
   "outputs": [
    {
     "data": {
      "text/plain": [
       "dict_values([31, 28, 31])"
      ]
     },
     "execution_count": 32,
     "metadata": {},
     "output_type": "execute_result"
    }
   ],
   "source": [
    "months.values()"
   ]
  },
  {
   "cell_type": "code",
   "execution_count": 33,
   "metadata": {},
   "outputs": [
    {
     "data": {
      "text/plain": [
       "dict_items([('Jan', 31), ('Fev', 28), ('Mar', 31)])"
      ]
     },
     "execution_count": 33,
     "metadata": {},
     "output_type": "execute_result"
    }
   ],
   "source": [
    "months.items()"
   ]
  },
  {
   "cell_type": "markdown",
   "metadata": {},
   "source": [
    "## 2. Structures de contrôle"
   ]
  },
  {
   "cell_type": "markdown",
   "metadata": {},
   "source": [
    "Un bloc de commandes ou de codes est défini par *deux points suivis d'une indentation fixe*.  Cela oblige à l'écriture de codes faciles à lire mais à être très attentif sur la gestion des indentations car la fin d'indentation signifie la fin d'un bloc de commandes."
   ]
  },
  {
   "cell_type": "markdown",
   "metadata": {},
   "source": [
    "### 2.1 Structure itérative `for`\n",
    "\n",
    "Une boucle `for` permet, comme dans la pluspart des langages de programmation, de parcourir les éléments d'un objet *itérable*. En python cela peut-être une liste, un tuple, une chaîne de caractères (*string*), mais également des objets spécialement conçus pour cela, appelés *iterator*.\n",
    "\n",
    "Syntaxe de la structure `for`:\n",
    "\n",
    "`for` *variable* `in range` *iterator*: \n",
    "<br/> &nbsp;&nbsp;&nbsp;&nbsp;    instruction\n",
    "\n",
    "La ligne `for` se termine par deux points ':'. Le bloc de codes à l'intérieur de la boucle est *indenté*. \n",
    "\n",
    "Voici comment parcourir différentes structures itératives en se souvenant que: **de façon générale, il faut éviter les boucles `for` dans un langage interprété** en utilisant les autres fonctionnalités (section 2) prévues dans les librairies pour parcourir des tableaux ou matrices.\n",
    "\n",
    "\n",
    "\n",
    "##### `range`\n",
    "La fonction `range` produit une liste d'entiers mais aussi un objet itérable d'entiers utilisés au fur et à mesure des itérations de la boucle.\n",
    "\n",
    "**Attention** `xrange` de python2 est remplacé par `range` en python3."
   ]
  },
  {
   "cell_type": "code",
   "execution_count": 34,
   "metadata": {
    "code_folding": []
   },
   "outputs": [
    {
     "name": "stdout",
     "output_type": "stream",
     "text": [
      "0\n",
      "1\n",
      "2\n",
      "3\n",
      "4\n"
     ]
    }
   ],
   "source": [
    "for i in range(5):\n",
    "    print(i)"
   ]
  },
  {
   "cell_type": "markdown",
   "metadata": {},
   "source": [
    "L'appel à la fonction range(n) permet d'itérer sur les entiers de 0 à n-1 mais il est possible de spécifier des intervalles des valeurs de chaque pas d'itération: `range(2,11,2) range(10,0,-1)`"
   ]
  },
  {
   "cell_type": "markdown",
   "metadata": {},
   "source": [
    "##### Strings\n",
    "Les chaînes de caractères sont également des objets parcourables avec la boucle `for`: caractère après caractère."
   ]
  },
  {
   "cell_type": "code",
   "execution_count": 35,
   "metadata": {},
   "outputs": [
    {
     "name": "stdout",
     "output_type": "stream",
     "text": [
      "H\n",
      "i\n",
      " \n",
      "T\n",
      "h\n",
      "e\n",
      "r\n",
      "e\n",
      "!\n"
     ]
    }
   ],
   "source": [
    "for character in \"Hi There!\":\n",
    "    print (character)"
   ]
  },
  {
   "cell_type": "markdown",
   "metadata": {},
   "source": [
    "##### Dictionnaires\n",
    "Un dictionnaire peut être parcouru terme à terme, cependant, comme la pluspart des objets python, les dictionnaires possèdent des fonctions permettant de les transformer en une liste:\n",
    "\n",
    "    .items()\n",
    "    .keys()\n",
    "    .values()\n",
    "\n",
    "ou un *iterator*\n",
    "\n",
    "    .iteritems()\n",
    "    .iterkeys()\n",
    "    .itervalues()\n",
    "\n",
    "\n",
    "Les dictionnaires n'ont pas de structure ordonnée, les valeurs ne s'affichent pas forcément dans l'ordre dans lequel on les a entrées."
   ]
  },
  {
   "cell_type": "code",
   "execution_count": 36,
   "metadata": {},
   "outputs": [
    {
     "name": "stdout",
     "output_type": "stream",
     "text": [
      "a\n",
      "b\n",
      "c\n"
     ]
    }
   ],
   "source": [
    "dico={\"a\":1,\"b\":2,\"c\":3}\n",
    "for k in dico.keys():\n",
    "    print (k)"
   ]
  },
  {
   "cell_type": "markdown",
   "metadata": {},
   "source": [
    "Les fonctions `.items()` et `.iteritems()` permettent de parcourir les couples (clés, objets) des dictionnaires."
   ]
  },
  {
   "cell_type": "code",
   "execution_count": 37,
   "metadata": {},
   "outputs": [
    {
     "name": "stdout",
     "output_type": "stream",
     "text": [
      "('a', 1)\n",
      "('b', 2)\n",
      "('c', 3)\n"
     ]
    }
   ],
   "source": [
    "# Si une seule variable itérative est spécifiée, celle-ci est un-tuple.\n",
    "for kv in dico.items():\n",
    "    print (kv)"
   ]
  },
  {
   "cell_type": "code",
   "execution_count": 38,
   "metadata": {},
   "outputs": [
    {
     "name": "stdout",
     "output_type": "stream",
     "text": [
      "a\n",
      "1\n",
      "b\n",
      "2\n",
      "c\n",
      "3\n"
     ]
    }
   ],
   "source": [
    "# Si deux variables itératives sont spécifiées, la première est la clé, la seconde la valeur correspondante\n",
    "for k,v in dico.items():\n",
    "    print (k)\n",
    "    print (v)"
   ]
  },
  {
   "cell_type": "code",
   "execution_count": 39,
   "metadata": {},
   "outputs": [
    {
     "name": "stdout",
     "output_type": "stream",
     "text": [
      "a\n",
      "b\n",
      "c\n"
     ]
    }
   ],
   "source": [
    "# Si la clé ou la valeur du dictionnaire n'est pas nécessaire, elle n'est pas stockée dans une variable en utilisant \"_\"\n",
    "for k,_ in dico.items():\n",
    "    print (k)"
   ]
  },
  {
   "cell_type": "markdown",
   "metadata": {},
   "source": [
    "#### Librarie *Itertools* \n",
    "La librairie native de python *itertools* possède de nombreuses fonctions générant des *iterators*. \n",
    "Plus d'exemples dans la [documentation](https://docs.python.org/3/library/itertools.html)."
   ]
  },
  {
   "cell_type": "code",
   "execution_count": 40,
   "metadata": {},
   "outputs": [
    {
     "name": "stdout",
     "output_type": "stream",
     "text": [
      "zip\n",
      "[('A', 1, 'w'), ('B', 2, 'x'), ('C', 3, 'y'), ('D', 4, 'z')]\n"
     ]
    }
   ],
   "source": [
    "import itertools\n",
    "#zip : Concatenne les éléments de plusieurs objets itérables\n",
    "zip_list = []\n",
    "for k in zip('ABCD',[1,2,3,4],\"wxyz\"):\n",
    "    zip_list.append(k)\n",
    "print(\"zip\")\n",
    "print(zip_list)"
   ]
  },
  {
   "cell_type": "code",
   "execution_count": 41,
   "metadata": {},
   "outputs": [
    {
     "name": "stdout",
     "output_type": "stream",
     "text": [
      "permutations\n",
      "[('A', 'B'), ('A', 'C'), ('A', 'D'), ('B', 'A'), ('B', 'C'), ('B', 'D'), ('C', 'A'), ('C', 'B'), ('C', 'D'), ('D', 'A'), ('D', 'B'), ('D', 'C')]\n"
     ]
    }
   ],
   "source": [
    "#permutation : retourne tous les arrangements possibles de liste de longueur n.\n",
    "permutation_list = []\n",
    "for k in itertools.permutations(\"ABCD\",2):\n",
    "    permutation_list.append(k)\n",
    "print(\"permutations\")\n",
    "print(permutation_list)"
   ]
  },
  {
   "cell_type": "markdown",
   "metadata": {},
   "source": [
    "#### One-Line Statement\n",
    "Après avoir parouru différents éléments d'un objet itérable et pour enregistrer un résultat pour chaque étape dans une liste, il est possible d'écrire la boucle `for` sur une seule ligne de la manière suivante:\n",
    "\n",
    "[result *for* variable in *iterator*]"
   ]
  },
  {
   "cell_type": "code",
   "execution_count": 42,
   "metadata": {},
   "outputs": [
    {
     "name": "stdout",
     "output_type": "stream",
     "text": [
      "[0, 1, 4, 9, 16, 25, 36, 49, 64, 81] [0, 1, 4, 9, 16, 25, 36, 49, 64, 81]\n"
     ]
    }
   ],
   "source": [
    "# Version1\n",
    "A1=[]\n",
    "for k in range(10):\n",
    "    A1.append(k*k)\n",
    "    \n",
    "# Version 2\n",
    "A2 = [k*k for k in range(10)]\n",
    "print(A1,A2)"
   ]
  },
  {
   "cell_type": "markdown",
   "metadata": {},
   "source": [
    "#### One line with for Loop\n",
    "Différentes combinaisons sont possibles pour associer à la fois l'instruction `if_else` avec une boucle `for` en une ligne."
   ]
  },
  {
   "cell_type": "code",
   "execution_count": 43,
   "metadata": {},
   "outputs": [
    {
     "data": {
      "text/plain": [
       "[0, 2, 4, 6, 8]"
      ]
     },
     "execution_count": 43,
     "metadata": {},
     "output_type": "execute_result"
    }
   ],
   "source": [
    "#Sélectionne uniquement les valeur paire\n",
    "l1 = [k for k in range(10) if k%2==0]\n",
    "l1"
   ]
  },
  {
   "cell_type": "code",
   "execution_count": 44,
   "metadata": {},
   "outputs": [
    {
     "data": {
      "text/plain": [
       "['even', 'odd', 'even', 'odd', 'even', 'odd', 'even', 'odd', 'even', 'odd']"
      ]
     },
     "execution_count": 44,
     "metadata": {},
     "output_type": "execute_result"
    }
   ],
   "source": [
    "#Retourne \"even\" si l'élement k est pair, \"odd\" sinon.\n",
    "l2 = [\"even\" if k%2==0 else \"odd\" for k in range(10)]\n",
    "l2"
   ]
  },
  {
   "cell_type": "markdown",
   "metadata": {},
   "source": [
    "### 2.2. Structure conditionnelle `if - else`\n",
    "\n",
    "\n",
    "L'instruction conditionelle `if-else` est une des plus communes en programmation informatique. En python, elle se présente sous la forme suivante:\n",
    "\n",
    "`if` *condition*:\n",
    "<br/> &nbsp;&nbsp;&nbsp;&nbsp;   instructions 1\n",
    "<br/> `else`:\n",
    "<br/> &nbsp;&nbsp;&nbsp;&nbsp;   Instructions 2\n"
   ]
  },
  {
   "cell_type": "code",
   "execution_count": 18,
   "metadata": {},
   "outputs": [
    {
     "name": "stdout",
     "output_type": "stream",
     "text": [
      "False\n"
     ]
    }
   ],
   "source": [
    "number=2\n",
    "if number==1:\n",
    "    print (True)\n",
    "else:\n",
    "    print (False)"
   ]
  },
  {
   "cell_type": "markdown",
   "metadata": {},
   "source": [
    "Lorsque plus de deux alternative sont possibles, utiliser l'instruction `elif` pour énumérer les différentes possibilités."
   ]
  },
  {
   "cell_type": "code",
   "execution_count": 46,
   "metadata": {},
   "outputs": [
    {
     "name": "stdout",
     "output_type": "stream",
     "text": [
      "C\n"
     ]
    }
   ],
   "source": [
    "number=13\n",
    "if number<5:\n",
    "    print(\"A\")\n",
    "elif number <10:\n",
    "    print(\"B\")\n",
    "elif number <20:\n",
    "    print(\"C\")\n",
    "else:\n",
    "    print(\"D\")"
   ]
  },
  {
   "cell_type": "code",
   "execution_count": 47,
   "metadata": {},
   "outputs": [
    {
     "name": "stdout",
     "output_type": "stream",
     "text": [
      "0\n",
      "0\n"
     ]
    }
   ],
   "source": [
    "# si alors sinon\n",
    "a=2\n",
    "if a>0:\n",
    "    b=0\n",
    "    print(b)\n",
    "else:\n",
    "    b=-1\n",
    "print(b)"
   ]
  },
  {
   "cell_type": "markdown",
   "metadata": {},
   "source": [
    "#### One-Line Statement\n",
    "Comme pour la boucle for, il est possible d'écrire l'instruction `if_else` en une seule ligne lorsque le code est simple."
   ]
  },
  {
   "cell_type": "code",
   "execution_count": 48,
   "metadata": {},
   "outputs": [
    {
     "data": {
      "text/plain": [
       "'B'"
      ]
     },
     "execution_count": 48,
     "metadata": {},
     "output_type": "execute_result"
    }
   ],
   "source": [
    "number=10\n",
    "\"A\" if number >10 else \"B\""
   ]
  },
  {
   "cell_type": "markdown",
   "metadata": {},
   "source": [
    "### 2.3. Structure itérative `while`\n",
    "\n",
    "La boucle *for* permet de parcourir l'ensemble des éléments d'un objet itérable, ou un nombre déterminé d'éléments de ce dernier. Cependant, ce nombre n'est pas toujours prévisible et il est possible de parcourir ces éléments et arrêter le parcours lorsqu'une condition est respéctée ou non. C'est l'objet de l'instruction `while` avec la syntaxe:\n",
    "\n",
    "`while` *condition*:\n",
    "<br/> &nbsp;&nbsp;&nbsp;&nbsp;    instructions\n",
    "\n",
    "Cette instruction permet de répéter en boucle les instructions jusqu'à ce que la *condition* soit vérifiée."
   ]
  },
  {
   "cell_type": "code",
   "execution_count": 49,
   "metadata": {},
   "outputs": [
    {
     "name": "stdout",
     "output_type": "stream",
     "text": [
      "1001\n"
     ]
    }
   ],
   "source": [
    "# Incrémentation de `count` jusqu'à ce qu'elle dépasse la valeur 1.000\n",
    "count = 1 \n",
    "while count <= 1000: \n",
    "    count += 1 \n",
    "print (count)"
   ]
  },
  {
   "cell_type": "markdown",
   "metadata": {},
   "source": [
    "L'instruction `break` permet de sortir de la boucle `while` même si sa condition est respectée."
   ]
  },
  {
   "cell_type": "code",
   "execution_count": 50,
   "metadata": {},
   "outputs": [
    {
     "name": "stdout",
     "output_type": "stream",
     "text": [
      "Enter the numeric grade: \n"
     ]
    },
    {
     "ename": "ValueError",
     "evalue": "invalid literal for int() with base 10: ''",
     "output_type": "error",
     "traceback": [
      "\u001b[0;31m---------------------------------------------------------------------------\u001b[0m",
      "\u001b[0;31mValueError\u001b[0m                                Traceback (most recent call last)",
      "\u001b[0;32m<ipython-input-50-199134d8203f>\u001b[0m in \u001b[0;36m<module>\u001b[0;34m\u001b[0m\n\u001b[1;32m      1\u001b[0m \u001b[0;32mwhile\u001b[0m \u001b[0;32mTrue\u001b[0m\u001b[0;34m:\u001b[0m\u001b[0;34m\u001b[0m\u001b[0;34m\u001b[0m\u001b[0m\n\u001b[0;32m----> 2\u001b[0;31m     \u001b[0mnumber\u001b[0m \u001b[0;34m=\u001b[0m \u001b[0mint\u001b[0m\u001b[0;34m(\u001b[0m\u001b[0minput\u001b[0m\u001b[0;34m(\u001b[0m\u001b[0;34m\"Enter the numeric grade: \"\u001b[0m\u001b[0;34m)\u001b[0m\u001b[0;34m)\u001b[0m\u001b[0;34m\u001b[0m\u001b[0;34m\u001b[0m\u001b[0m\n\u001b[0m\u001b[1;32m      3\u001b[0m     \u001b[0;32mif\u001b[0m \u001b[0mnumber\u001b[0m \u001b[0;34m>=\u001b[0m \u001b[0;36m0\u001b[0m \u001b[0;32mand\u001b[0m \u001b[0mnumber\u001b[0m \u001b[0;34m<=\u001b[0m \u001b[0;36m100\u001b[0m\u001b[0;34m:\u001b[0m\u001b[0;34m\u001b[0m\u001b[0;34m\u001b[0m\u001b[0m\n\u001b[1;32m      4\u001b[0m         \u001b[0;32mbreak\u001b[0m\u001b[0;34m\u001b[0m\u001b[0;34m\u001b[0m\u001b[0m\n\u001b[1;32m      5\u001b[0m     \u001b[0;32melse\u001b[0m\u001b[0;34m:\u001b[0m\u001b[0;34m\u001b[0m\u001b[0;34m\u001b[0m\u001b[0m\n",
      "\u001b[0;31mValueError\u001b[0m: invalid literal for int() with base 10: ''"
     ]
    }
   ],
   "source": [
    "while True: \n",
    "    number = int(input(\"Enter the numeric grade: \")) \n",
    "    if number >= 0 and number <= 100:\n",
    "        break\n",
    "    else:\n",
    "        print (\"Error: grade must be between 100 and 0\" )\n",
    "    print (number)"
   ]
  },
  {
   "cell_type": "markdown",
   "metadata": {},
   "source": [
    "## 3. Fonctions"
   ]
  },
  {
   "cell_type": "code",
   "execution_count": 20,
   "metadata": {},
   "outputs": [
    {
     "data": {
      "text/plain": [
       "(1, 3, 3.1622776601683795)"
      ]
     },
     "execution_count": 20,
     "metadata": {},
     "output_type": "execute_result"
    }
   ],
   "source": [
    "# Définition d'une fonction\n",
    "def pythagorus(x,y):\n",
    "    \"\"\" calcule l'hypoténuse d'un triangle \"\"\"\n",
    "    r = pow(x**2+y**2,0.5)\n",
    "    return x,y,r\n",
    "pythagorus(1,3)"
   ]
  },
  {
   "cell_type": "code",
   "execution_count": 21,
   "metadata": {},
   "outputs": [
    {
     "data": {
      "text/plain": [
       "(3, 4, 5.0)"
      ]
     },
     "execution_count": 21,
     "metadata": {},
     "output_type": "execute_result"
    }
   ],
   "source": [
    "# exemple d'appel\n",
    "pythagorus(x=3,y=4)"
   ]
  },
  {
   "cell_type": "code",
   "execution_count": 22,
   "metadata": {},
   "outputs": [
    {
     "name": "stdout",
     "output_type": "stream",
     "text": [
      "Help on function pythagorus in module __main__:\n",
      "\n",
      "pythagorus(x, y)\n",
      "    calcule l'hypoténuse d'un triangle\n",
      "\n"
     ]
    }
   ],
   "source": [
    "# aide intégrée\n",
    "help(pythagorus)"
   ]
  },
  {
   "cell_type": "code",
   "execution_count": 54,
   "metadata": {},
   "outputs": [
    {
     "data": {
      "text/plain": [
       "\" calcule l'hypoténuse d'un triangle \""
      ]
     },
     "execution_count": 54,
     "metadata": {},
     "output_type": "execute_result"
    }
   ],
   "source": [
    "pythagorus.__doc__"
   ]
  },
  {
   "cell_type": "code",
   "execution_count": 26,
   "metadata": {},
   "outputs": [
    {
     "data": {
      "text/plain": [
       "(2, 1, 2.23606797749979)"
      ]
     },
     "execution_count": 26,
     "metadata": {},
     "output_type": "execute_result"
    }
   ],
   "source": [
    "# Définition de valeurs par défaut\n",
    "def pythagorus(x,y=1):\n",
    "    \"\"\" calcule l'hypoténuse d'un triangle \"\"\"\n",
    "    r = pow(x**2+y**2,0.5)\n",
    "    return x,y,r\n",
    "pythagorus(2)"
   ]
  },
  {
   "cell_type": "markdown",
   "metadata": {},
   "source": [
    "## Références\n",
    "\n",
    "**Mac Kinney W.** (2013). *Python for Data Analysis*, O’Reilly. [pdf](http://it-ebooks.info/book/104)\n",
    "\n",
    "**Sheppard K.** (2014). *Introduction to Python for Econometrics, Statistics and Data Analysis*, [pdf](https://www.kevinsheppard.com/images/0/09/Python_introduction.pdf)\n",
    "\n",
    "**Wikistat** (2019) *La syntaxe, les objects et classes de Pyhton. Initiation au langage.* [notebook](https://github.com/wikistat/Intro-Python/blob/master/Cal1-introPython.ipynb)\n",
    "\n",
    "**Wikistat** (2019) *Programmation, classes, objets, programmation fonctionnelle.* [notebook](https://github.com/wikistat/Intro-Python/blob/master/Cal4-PythonProg.ipynb)"
   ]
  },
  {
   "cell_type": "markdown",
   "metadata": {},
   "source": [
    "# C - Exercices"
   ]
  },
  {
   "cell_type": "markdown",
   "metadata": {},
   "source": [
    "## C.1. Fizzbuzz\n",
    "\n",
    "Affichez les nombre de 1 à 50, en remplaçant les multiples de 3 par fizz, les multiples de 5 par buzz, et les multiples de 15 par fizzbuzz.\n",
    "\n",
    "En sortie de cellule, vous devriez obtenir :\n",
    "- 1\n",
    "- 2\n",
    "- fizz\n",
    "- 4 \n",
    "- buzz\n",
    "- fizz\n",
    "- 7\n",
    "- 8\n",
    "- fizz\n",
    "- buzz\n",
    "- 11\n",
    "- fizz\n",
    "- 13\n",
    "- 14\n",
    "- fizzbuzz\n",
    "- 16\n",
    "- etc.\n",
    "\n",
    ">**Aide** : ``\n",
    "a % b\n",
    "``\n",
    "rend la valeur de a modulo b. Si a est multiple de 3, a % 3  vaut 0.\n",
    "\n",
    "*Note : Cet exercice est parfois utilisé en test technique  de pré-embauche.*"
   ]
  },
  {
   "cell_type": "code",
   "execution_count": null,
   "metadata": {},
   "outputs": [],
   "source": []
  },
  {
   "cell_type": "markdown",
   "metadata": {},
   "source": [
    "## C.2. Tri à bulles\n",
    "\n",
    "Définissez la fonction ``swap``, qui prend en entrée une liste, et deux entiers, puuis intervertit les deux élements de cette liste indexés par ces entiers.\n",
    "\n",
    "Puis, implémentez une fonction prenant en entrée une liste, et retournant en sortie cette liste triée. Utilisez un tri à bulle !\n",
    "\n",
    "Vous pourrez le tester sur une liste désordonnée.\n",
    "\n",
    "> **Aide** : Le pseudo-code de l'algorithme du tri à bulles\n",
    "\n",
    ">``\n",
    "procedure bubbleSort(A : list of sortable items)\n",
    "    n := length(A)\n",
    "    repeat\n",
    "        newn := 0\n",
    "        for i := 1 to n - 1 inclusive do\n",
    "            if A[i - 1] > A[i] then\n",
    "                swap(A, i-1, i)\n",
    "                newn := i\n",
    "            end if\n",
    "        end for\n",
    "        n := newn\n",
    "    until n ≥ 1\n",
    "end procedure\n",
    "``\n",
    "\n",
    "**Réf** : https://en.wikipedia.org/wiki/Bubble_sort\n",
    "\n",
    "*Note : cet exercice sert de prétexte pour vous faire manier les boucles et les listes*"
   ]
  },
  {
   "cell_type": "code",
   "execution_count": null,
   "metadata": {},
   "outputs": [],
   "source": []
  },
  {
   "cell_type": "markdown",
   "metadata": {},
   "source": [
    "## C.3. Fibonacci\n",
    "\n",
    "Implémentez une fonction ``fibo`` rendant le terme d'ordre n de la suite de Fibonacci, définie par :\n",
    "\n",
    "- $u_{0}=0$, $u_{1}=1$\n",
    "- $\\forall n \\ge 0, u_{n+2}=u_{n+1}+u_{n}$\n",
    "\n",
    "Affichez les 30 premiers termes de la suite de Fibonacci.\n",
    "\n",
    ">**Aide** : Vous pouvez réutiliser la fonction récursivement\n",
    "\n",
    "*Note : cet exercice sert de prétexte pour vous faire manier les fonctions et la récursivité*"
   ]
  },
  {
   "cell_type": "code",
   "execution_count": null,
   "metadata": {},
   "outputs": [],
   "source": []
  },
  {
   "cell_type": "markdown",
   "metadata": {},
   "source": [
    "## C.4. Factorielle\n",
    "\n",
    "Implémentez une fonction ``facto`` rendant n factorielle (notée $n!$), avec\n",
    "\n",
    "- $0!=1$\n",
    "- $\\forall n \\ge 0, (n+1)!=(n+1)*n! = (n+1)*n*...*2*1$\n",
    "\n",
    "De deux manières différentes:\n",
    "- Une itérative, avec une boucle ``for``\n",
    "- Une récursive, en appelant la fonction au terme d'avant\n",
    "\n",
    ">**Aide** : Vous pouvez réutiliser la fonction récursivement\n",
    "\n",
    "*Note : cet exercice sert de prétexte pour vous faire manier les boucles, les fonctions et la récursivité*"
   ]
  },
  {
   "cell_type": "code",
   "execution_count": null,
   "metadata": {},
   "outputs": [],
   "source": []
  },
  {
   "cell_type": "markdown",
   "metadata": {},
   "source": [
    "## C.5. Prédire les sorties de programmes\n",
    "\n",
    "Essayez de prédire ce que vont afficher ces programmes, puis exécutez le code pour vérifier.\n",
    "Indiquez quelles sont les valeurs imprimées en sorties.\n",
    "Si vous ne comprenez pas une sortie de code, appelez-moi!\n",
    "\n",
    "*Note : cet exercice permet d'améliorer votre lecture du code*\n",
    "\n",
    "**Réf** : Cet exercice est tiré du TD de Lucas Bourneuf."
   ]
  },
  {
   "cell_type": "markdown",
   "metadata": {},
   "source": [
    "#### C.5.A"
   ]
  },
  {
   "cell_type": "code",
   "execution_count": null,
   "metadata": {},
   "outputs": [],
   "source": [
    "a , b , c = 10 , 5 , 1\n",
    "a + b\n",
    "a - c\n",
    "print ( a , b , c )\n",
    "a += b\n",
    "b = a - b\n",
    "a -= b\n",
    "print ( a , b , c )"
   ]
  },
  {
   "cell_type": "markdown",
   "metadata": {},
   "source": [
    "#### C.5.B"
   ]
  },
  {
   "cell_type": "code",
   "execution_count": null,
   "metadata": {},
   "outputs": [],
   "source": [
    "a , b , c = True , False , True\n",
    "if a and b :\n",
    "    if c or a :\n",
    "        print(1)\n",
    "    elif c :\n",
    "        print(2)\n",
    "    elif c or c :\n",
    "        print(3)\n",
    "    else :\n",
    "        print(4)\n",
    "if (a or b) and (b or c) :\n",
    "    if b:\n",
    "        print(5)\n",
    "    elif a:\n",
    "        print(6)\n",
    "else :\n",
    "    print(7)"
   ]
  },
  {
   "cell_type": "markdown",
   "metadata": {},
   "source": [
    "#### C.5.C"
   ]
  },
  {
   "cell_type": "code",
   "execution_count": null,
   "metadata": {},
   "outputs": [],
   "source": [
    "a = 10\n",
    "while a > 0.5:\n",
    "    a -= 2\n",
    "    print(a)\n",
    "    a -= 1"
   ]
  },
  {
   "cell_type": "markdown",
   "metadata": {},
   "source": [
    "#### C.5.D"
   ]
  },
  {
   "cell_type": "code",
   "execution_count": null,
   "metadata": {},
   "outputs": [],
   "source": [
    "p , q = 10 , 20\n",
    "while p :\n",
    "    p -= 1\n",
    "    q -= -1\n",
    "print(q)"
   ]
  },
  {
   "cell_type": "markdown",
   "metadata": {},
   "source": [
    "#### C.5.E"
   ]
  },
  {
   "cell_type": "code",
   "execution_count": null,
   "metadata": {},
   "outputs": [],
   "source": [
    "a = 10\n",
    "while a != 0:\n",
    "    a -= 1\n",
    "    a == 0\n",
    "    print(a)\n",
    "print(a)"
   ]
  },
  {
   "cell_type": "markdown",
   "metadata": {},
   "source": [
    "#### C.5.F"
   ]
  },
  {
   "cell_type": "code",
   "execution_count": null,
   "metadata": {},
   "outputs": [],
   "source": [
    "l = [1 , 2 , 3 , 4 , 5]\n",
    "for e in l:\n",
    "    print( e , l )\n",
    "    if e%2:\n",
    "        print(e*2)\n",
    "    elif not e or e :\n",
    "        print(e**2)"
   ]
  },
  {
   "cell_type": "markdown",
   "metadata": {},
   "source": [
    "#### C.5.G"
   ]
  },
  {
   "cell_type": "code",
   "execution_count": null,
   "metadata": {},
   "outputs": [],
   "source": [
    "a = 0\n",
    "a += 1\n",
    "b = a + 1\n",
    "print ( a + b )"
   ]
  },
  {
   "cell_type": "markdown",
   "metadata": {},
   "source": [
    "#### C.5.H"
   ]
  },
  {
   "cell_type": "code",
   "execution_count": null,
   "metadata": {},
   "outputs": [],
   "source": [
    "a , b , c = [ None ] * 3\n",
    "print( a , b , c )"
   ]
  },
  {
   "cell_type": "markdown",
   "metadata": {},
   "source": [
    "#### C.5.I"
   ]
  },
  {
   "cell_type": "code",
   "execution_count": null,
   "metadata": {},
   "outputs": [],
   "source": [
    "def inkspot(n):\n",
    "    return (\"I don ’ t want to set the \"\n",
    "            + str(n) + \" in fire\")\n",
    "words = ('banana', 'cthulhu', 'world')\n",
    "for word in words :\n",
    "    print (inkspot(word))"
   ]
  },
  {
   "cell_type": "markdown",
   "metadata": {},
   "source": [
    "#### C.5.J"
   ]
  },
  {
   "cell_type": "code",
   "execution_count": null,
   "metadata": {},
   "outputs": [],
   "source": [
    "p , q , r = True , False , None\n",
    "print(any(( p and q , p or q , p or r )))\n",
    "print(all(( p or q , p or r , r or q )))"
   ]
  },
  {
   "cell_type": "markdown",
   "metadata": {},
   "source": [
    "#### C.5.K"
   ]
  },
  {
   "cell_type": "code",
   "execution_count": null,
   "metadata": {},
   "outputs": [],
   "source": [
    "print(len({'a': 'bb', 'bb': 'cc'}['a']))"
   ]
  },
  {
   "cell_type": "markdown",
   "metadata": {},
   "source": [
    "#### C.5.L"
   ]
  },
  {
   "cell_type": "code",
   "execution_count": null,
   "metadata": {},
   "outputs": [],
   "source": [
    "a = [3 , 2 , 1]\n",
    "print(a.pop() + a.pop() * a.pop())"
   ]
  },
  {
   "cell_type": "markdown",
   "metadata": {},
   "source": [
    "#### C.5.M"
   ]
  },
  {
   "cell_type": "code",
   "execution_count": null,
   "metadata": {},
   "outputs": [],
   "source": [
    "ps = [i % 2 for i in range ( 0 , 20 , 4 )]\n",
    "print(True and 'all(p == 0 for p in ps)')"
   ]
  },
  {
   "cell_type": "markdown",
   "metadata": {},
   "source": [
    "#### C.5.N"
   ]
  },
  {
   "cell_type": "code",
   "execution_count": null,
   "metadata": {},
   "outputs": [],
   "source": [
    "if (i for i in range(2)): \n",
    "    print (1)\n",
    "if any(i for i in range(2)): \n",
    "    print (2)\n",
    "if all(i for i in range(2)): \n",
    "    print (3)"
   ]
  },
  {
   "cell_type": "markdown",
   "metadata": {},
   "source": [
    "#### C.5.O"
   ]
  },
  {
   "cell_type": "code",
   "execution_count": null,
   "metadata": {},
   "outputs": [],
   "source": [
    "def f(n) :\n",
    "    print(n)\n",
    "    return n\n",
    "print(f(1), f(2), f(3))"
   ]
  },
  {
   "cell_type": "markdown",
   "metadata": {},
   "source": [
    "#### C.5.P"
   ]
  },
  {
   "cell_type": "code",
   "execution_count": null,
   "metadata": {},
   "outputs": [],
   "source": [
    "a = [1]\n",
    "b = a\n",
    "b.append(2)\n",
    "print(a, b)"
   ]
  },
  {
   "cell_type": "markdown",
   "metadata": {},
   "source": [
    "#### C.5.Q"
   ]
  },
  {
   "cell_type": "code",
   "execution_count": null,
   "metadata": {},
   "outputs": [],
   "source": [
    "def f(l = [ ] ) :\n",
    "    l.append(1)\n",
    "    return l\n",
    "print(f(), f(f()), f())"
   ]
  },
  {
   "cell_type": "markdown",
   "metadata": {},
   "source": [
    "#### C.5.R"
   ]
  },
  {
   "cell_type": "code",
   "execution_count": null,
   "metadata": {},
   "outputs": [],
   "source": [
    "a, b, c = [1, 2, 3]\n",
    "print(a, b, c, sep= '#', end= '4\\n')"
   ]
  },
  {
   "cell_type": "markdown",
   "metadata": {},
   "source": [
    "#### C.5.S"
   ]
  },
  {
   "cell_type": "code",
   "execution_count": null,
   "metadata": {},
   "outputs": [],
   "source": [
    "b = set()\n",
    "for i in range(15):\n",
    "    if i%2==0:\n",
    "        b.add(i)\n",
    "print(len(b))"
   ]
  },
  {
   "cell_type": "markdown",
   "metadata": {},
   "source": [
    "## C.6. Comprendre les erreurs python\n",
    "\n",
    "Ne plus avoir peur des erreurs : indiquer quelle erreur est levée, ce qu’elle signifie, quelle instruction l’a causée et pourquoi, et proposer une correction qui préserve le comportement du programme.\n",
    "\n",
    "*Note : cet exercice vous permet d'améliorer votre capacité à corriger le code*\n",
    "\n",
    "**Réf** : Cet exercice est tiré du TD de Lucas Bourneuf."
   ]
  },
  {
   "cell_type": "code",
   "execution_count": null,
   "metadata": {},
   "outputs": [],
   "source": [
    "%reset"
   ]
  },
  {
   "cell_type": "markdown",
   "metadata": {},
   "source": [
    "#### 3.6.A"
   ]
  },
  {
   "cell_type": "code",
   "execution_count": null,
   "metadata": {},
   "outputs": [],
   "source": [
    "a = b"
   ]
  },
  {
   "cell_type": "markdown",
   "metadata": {},
   "source": [
    "#### 3.6.B"
   ]
  },
  {
   "cell_type": "code",
   "execution_count": null,
   "metadata": {},
   "outputs": [],
   "source": [
    "if 10 = 8 :\n",
    "    10 + 8"
   ]
  },
  {
   "cell_type": "markdown",
   "metadata": {},
   "source": [
    "#### 3.6.C"
   ]
  },
  {
   "cell_type": "code",
   "execution_count": null,
   "metadata": {},
   "outputs": [],
   "source": [
    "2 ∗ (3 − 4"
   ]
  },
  {
   "cell_type": "markdown",
   "metadata": {},
   "source": [
    "#### 3.6.D"
   ]
  },
  {
   "cell_type": "code",
   "execution_count": null,
   "metadata": {},
   "outputs": [],
   "source": [
    "msc = { ’ f ’ :\n",
    "msc['t']"
   ]
  },
  {
   "cell_type": "markdown",
   "metadata": {},
   "source": [
    "#### 3.6.E"
   ]
  },
  {
   "cell_type": "code",
   "execution_count": null,
   "metadata": {},
   "outputs": [],
   "source": [
    "msc = { ’ f ’ :\n",
    "{msc : 19}"
   ]
  },
  {
   "cell_type": "markdown",
   "metadata": {},
   "source": [
    "#### 3.6.F"
   ]
  },
  {
   "cell_type": "code",
   "execution_count": null,
   "metadata": {},
   "outputs": [],
   "source": [
    "if True :\n",
    "    pass\n",
    "pass\n",
    "else :\n",
    "    pass"
   ]
  },
  {
   "cell_type": "markdown",
   "metadata": {},
   "source": [
    "#### 3.6.G"
   ]
  },
  {
   "cell_type": "code",
   "execution_count": null,
   "metadata": {},
   "outputs": [],
   "source": [
    "(3)[0]"
   ]
  },
  {
   "cell_type": "markdown",
   "metadata": {},
   "source": [
    "#### 3.6.H"
   ]
  },
  {
   "cell_type": "code",
   "execution_count": null,
   "metadata": {},
   "outputs": [],
   "source": [
    "sum( 1 , 2 , 3 , 4 )"
   ]
  },
  {
   "cell_type": "markdown",
   "metadata": {},
   "source": [
    "#### 3.6.I"
   ]
  },
  {
   "cell_type": "code",
   "execution_count": null,
   "metadata": {},
   "outputs": [],
   "source": [
    "if 9 in 899:\n",
    "    pass"
   ]
  },
  {
   "cell_type": "markdown",
   "metadata": {},
   "source": [
    "#### 3.6.J"
   ]
  },
  {
   "cell_type": "code",
   "execution_count": null,
   "metadata": {},
   "outputs": [],
   "source": [
    "''.join((1 , 2))"
   ]
  },
  {
   "cell_type": "markdown",
   "metadata": {},
   "source": [
    "#### 3.6.K"
   ]
  },
  {
   "cell_type": "code",
   "execution_count": null,
   "metadata": {},
   "outputs": [],
   "source": [
    "10 + '10'"
   ]
  },
  {
   "cell_type": "markdown",
   "metadata": {},
   "source": [
    "#### 3.6.L"
   ]
  },
  {
   "cell_type": "code",
   "execution_count": null,
   "metadata": {},
   "outputs": [],
   "source": [
    "if 'hal' = 'ibm':\n",
    "    print('kbk')"
   ]
  },
  {
   "cell_type": "markdown",
   "metadata": {},
   "source": [
    "#### 3.6.M"
   ]
  },
  {
   "cell_type": "code",
   "execution_count": null,
   "metadata": {},
   "outputs": [],
   "source": [
    "scores = { 'diphonic' : 10 , 'yoddle' : 8.45 }\n",
    "print(sum(scores.values()), scores['grunt'])"
   ]
  },
  {
   "cell_type": "markdown",
   "metadata": {},
   "source": [
    "#### 3.6.N"
   ]
  },
  {
   "cell_type": "code",
   "execution_count": null,
   "metadata": {},
   "outputs": [],
   "source": [
    "nbuser = input(\"Gimme an integer before midnight : \")\n",
    "print(10+nbuser)"
   ]
  },
  {
   "cell_type": "markdown",
   "metadata": {},
   "source": [
    "#### 3.6.O"
   ]
  },
  {
   "cell_type": "code",
   "execution_count": null,
   "metadata": {},
   "outputs": [],
   "source": [
    "d = {}\n",
    "for idx in range(0, 10, 3) :\n",
    "d[idx] = idx∗∗5\n",
    "d[6]\n",
    "d[2]\n",
    "d[10]"
   ]
  },
  {
   "cell_type": "markdown",
   "metadata": {},
   "source": [
    "#### 3.6.P"
   ]
  },
  {
   "cell_type": "code",
   "execution_count": null,
   "metadata": {},
   "outputs": [],
   "source": [
    "elif True :\n",
    "    pass"
   ]
  },
  {
   "cell_type": "markdown",
   "metadata": {},
   "source": [
    "#### 3.6.Q"
   ]
  },
  {
   "cell_type": "code",
   "execution_count": null,
   "metadata": {},
   "outputs": [],
   "source": [
    "print(f, u, n, k, y)"
   ]
  },
  {
   "cell_type": "markdown",
   "metadata": {},
   "source": [
    "#### 3.6.R"
   ]
  },
  {
   "cell_type": "code",
   "execution_count": null,
   "metadata": {},
   "outputs": [],
   "source": [
    "d = int(input('str'))\n",
    "str(d)*4+d"
   ]
  },
  {
   "cell_type": "markdown",
   "metadata": {},
   "source": [
    "## C.7. Codage de César\n",
    "\n",
    "Définissez un dictionnaire ``nums`` associant à chaque lettre son numéro d'apparition dans l'alphabet.\n",
    "\n",
    "On associera 0 au caractère espace.\n",
    "\n",
    "Par exemple, la lettre 'a' (clef) du dictionnaire sera associée au chiffre 1 (valeur), 'b' à 2, 'c' à 3, etc.\n",
    "\n",
    "Implémentez une fonction ``code`` prenant en entrée une chaine de caractères (supposée en minuscule) et un entier p, remplaçant chaque caractère par la lettre située p emplacements après dans l'alphabet.\n",
    "\n",
    "\n",
    ">**Aide** : si la lettre considérée est Z et que p vaut 2, la lettre doit être remplacée par A (car 0 est associé à l'espace). Si n est le numéro de la lettre courante, le numéro de la lettre de remplacement vaut (n + p)% 27\n",
    "\n",
    "Affichez le codage de César (p=5) de cette phrase : \"trop faciles ces exercices\"\n",
    "\n",
    "Je sais que le codage de César a été utilisé pour coder la phrase decodez_moi, mais je ne connais pas la clef p utilisée. Peux-tu m'aider à retrouver sa signification?\n",
    "\n",
    "*Note : cet exercice sert de prétexte pour vous faire manipuler les dictionnaires*"
   ]
  },
  {
   "cell_type": "code",
   "execution_count": null,
   "metadata": {},
   "outputs": [],
   "source": [
    "alphabet = (\" \", \n",
    "            \"a\",\"b\",\"c\",\"d\",\"e\",\"f\",\"g\",\"h\",\"i\",\"j\",\"k\",\"l\",\"m\",\n",
    "            \"n\",\"o\",\"p\",\"q\",\"r\",\"s\",\"t\",\"u\",\"v\",\"w\",\"x\",\"y\",\"z\")\n",
    "decodez_moi = \"mntiynqtiullyktuteutlnbmy\""
   ]
  },
  {
   "cell_type": "code",
   "execution_count": null,
   "metadata": {},
   "outputs": [],
   "source": []
  },
  {
   "cell_type": "code",
   "execution_count": null,
   "metadata": {},
   "outputs": [],
   "source": []
  },
  {
   "cell_type": "code",
   "execution_count": null,
   "metadata": {
    "scrolled": false
   },
   "outputs": [],
   "source": []
  },
  {
   "cell_type": "markdown",
   "metadata": {},
   "source": [
    "### 3.8. D'autres exercices\n",
    "\n",
    "https://python.developpez.com/cours/apprendre-python-3/?page=exercices-corriges"
   ]
  },
  {
   "cell_type": "code",
   "execution_count": null,
   "metadata": {},
   "outputs": [],
   "source": []
  }
 ],
 "metadata": {
  "hide_input": false,
  "kernelspec": {
   "display_name": "Python 3",
   "language": "python",
   "name": "python3"
  },
  "language_info": {
   "codemirror_mode": {
    "name": "ipython",
    "version": 3
   },
   "file_extension": ".py",
   "mimetype": "text/x-python",
   "name": "python",
   "nbconvert_exporter": "python",
   "pygments_lexer": "ipython3",
   "version": "3.8.1"
  },
  "toc": {
   "nav_menu": {
    "height": "512px",
    "width": "252px"
   },
   "number_sections": true,
   "sideBar": true,
   "skip_h1_title": false,
   "toc_cell": false,
   "toc_position": {},
   "toc_section_display": "block",
   "toc_window_display": false
  }
 },
 "nbformat": 4,
 "nbformat_minor": 4
}
