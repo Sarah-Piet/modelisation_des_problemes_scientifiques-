{
 "cells": [
  {
   "cell_type": "markdown",
   "metadata": {},
   "source": [
    "# TP1 - Le prix du carburant en France\n",
    "\n",
    "--\n",
    "\n",
    "Tous les jeux de données sont issus de la page https://www.prix-carburants.gouv.fr/rubrique/opendata/, ce sont de vraies données datant de 2018 sur les prix de l'essence en France.\n",
    "\n",
    "Pour le côté pratique, j'ai réduit la base de données à 500 stations d'essence, et j'ai extrait des données .xml un .csv. Il est disponible à l'adresse suivante:\n",
    "https://raw.githubusercontent.com/llesoil/modelisation_des_problemes_scientifiques-/master/ressources/prix_essence.csv\n",
    "\n",
    "Si vous souhaitez travailler sur toute la France, j'ouvrirai un dépôt le jour du TP. La correction sera faite sur la France, mais le code donné est valable sur le jeu réduit également.\n",
    "\n"
   ]
  },
  {
   "cell_type": "code",
   "execution_count": 1,
   "metadata": {},
   "outputs": [],
   "source": [
    "import numpy as np\n",
    "import pandas as pd\n",
    "import seaborn as sns\n",
    "import matplotlib.pyplot as plt"
   ]
  },
  {
   "cell_type": "markdown",
   "metadata": {},
   "source": [
    "### 1) À l'aide de la librairie pandas, importez le jeu de données dans ce notebook."
   ]
  },
  {
   "cell_type": "markdown",
   "metadata": {},
   "source": [
    "Pour la version réduite :"
   ]
  },
  {
   "cell_type": "code",
   "execution_count": 2,
   "metadata": {},
   "outputs": [],
   "source": [
    "prix = pd.read_table(filepath_or_buffer = \"https://raw.githubusercontent.com/llesoil/modelisation_des_problemes_scientifiques-/master/ressources/prix_essence.csv\", # l'adresse du fichier\n",
    "              header = 0, # noms de variables en ligne 1\n",
    "              delimiter =',', # délimiteur, ici la virgule pour un csv\n",
    "              index_col=0) # l'index de la colonne du nom des individus"
   ]
  },
  {
   "cell_type": "markdown",
   "metadata": {},
   "source": [
    "Pour la version complète : (remplacer l'adresse locale par l'adresse de votre csv)"
   ]
  },
  {
   "cell_type": "code",
   "execution_count": 3,
   "metadata": {},
   "outputs": [
    {
     "data": {
      "text/html": [
       "<div>\n",
       "<style scoped>\n",
       "    .dataframe tbody tr th:only-of-type {\n",
       "        vertical-align: middle;\n",
       "    }\n",
       "\n",
       "    .dataframe tbody tr th {\n",
       "        vertical-align: top;\n",
       "    }\n",
       "\n",
       "    .dataframe thead th {\n",
       "        text-align: right;\n",
       "    }\n",
       "</style>\n",
       "<table border=\"1\" class=\"dataframe\">\n",
       "  <thead>\n",
       "    <tr style=\"text-align: right;\">\n",
       "      <th></th>\n",
       "      <th>IdStation</th>\n",
       "      <th>IdEssence</th>\n",
       "      <th>Nom</th>\n",
       "      <th>Date</th>\n",
       "      <th>Valeur1000L</th>\n",
       "    </tr>\n",
       "  </thead>\n",
       "  <tbody>\n",
       "    <tr>\n",
       "      <th>0</th>\n",
       "      <td>1000001</td>\n",
       "      <td>1.0</td>\n",
       "      <td>Gazole</td>\n",
       "      <td>2018-01-06T12:20:27</td>\n",
       "      <td>1376.0</td>\n",
       "    </tr>\n",
       "    <tr>\n",
       "      <th>1</th>\n",
       "      <td>1000001</td>\n",
       "      <td>1.0</td>\n",
       "      <td>Gazole</td>\n",
       "      <td>2018-01-11T09:09:34</td>\n",
       "      <td>1389.0</td>\n",
       "    </tr>\n",
       "    <tr>\n",
       "      <th>2</th>\n",
       "      <td>1000001</td>\n",
       "      <td>1.0</td>\n",
       "      <td>Gazole</td>\n",
       "      <td>2018-01-12T13:16:01</td>\n",
       "      <td>1376.0</td>\n",
       "    </tr>\n",
       "    <tr>\n",
       "      <th>3</th>\n",
       "      <td>1000001</td>\n",
       "      <td>1.0</td>\n",
       "      <td>Gazole</td>\n",
       "      <td>2018-01-18T11:05:10</td>\n",
       "      <td>1376.0</td>\n",
       "    </tr>\n",
       "    <tr>\n",
       "      <th>4</th>\n",
       "      <td>1000001</td>\n",
       "      <td>1.0</td>\n",
       "      <td>Gazole</td>\n",
       "      <td>2018-01-18T11:13:32</td>\n",
       "      <td>1376.0</td>\n",
       "    </tr>\n",
       "  </tbody>\n",
       "</table>\n",
       "</div>"
      ],
      "text/plain": [
       "   IdStation  IdEssence     Nom                 Date  Valeur1000L\n",
       "0    1000001        1.0  Gazole  2018-01-06T12:20:27       1376.0\n",
       "1    1000001        1.0  Gazole  2018-01-11T09:09:34       1389.0\n",
       "2    1000001        1.0  Gazole  2018-01-12T13:16:01       1376.0\n",
       "3    1000001        1.0  Gazole  2018-01-18T11:05:10       1376.0\n",
       "4    1000001        1.0  Gazole  2018-01-18T11:13:32       1376.0"
      ]
     },
     "execution_count": 3,
     "metadata": {},
     "output_type": "execute_result"
    }
   ],
   "source": [
    "prix = pd.read_table(open(\"C:\\\\Users\\llesoil\\Documents\\cours\\python\\prix_essence_total.csv\",\"r\"), \n",
    "              delimiter = ',')\n",
    "prix.head()"
   ]
  },
  {
   "cell_type": "markdown",
   "metadata": {},
   "source": [
    "On s'intéresse à la station Total de Bourg-en-Bresse (aux coordonnées 46.20114 5.19791). Son identifiant est le '1000001'. \n",
    "\n",
    "### 2) a-] Extraire du jeu importé toutes les lignes concernant cette station.\n",
    "\n",
    "Pensez à utiliser la fonction where de numpy, et .iloc[] de pandas"
   ]
  },
  {
   "cell_type": "code",
   "execution_count": 4,
   "metadata": {},
   "outputs": [
    {
     "data": {
      "text/html": [
       "<div>\n",
       "<style scoped>\n",
       "    .dataframe tbody tr th:only-of-type {\n",
       "        vertical-align: middle;\n",
       "    }\n",
       "\n",
       "    .dataframe tbody tr th {\n",
       "        vertical-align: top;\n",
       "    }\n",
       "\n",
       "    .dataframe thead th {\n",
       "        text-align: right;\n",
       "    }\n",
       "</style>\n",
       "<table border=\"1\" class=\"dataframe\">\n",
       "  <thead>\n",
       "    <tr style=\"text-align: right;\">\n",
       "      <th></th>\n",
       "      <th>IdStation</th>\n",
       "      <th>IdEssence</th>\n",
       "      <th>Nom</th>\n",
       "      <th>Date</th>\n",
       "      <th>Valeur1000L</th>\n",
       "    </tr>\n",
       "  </thead>\n",
       "  <tbody>\n",
       "    <tr>\n",
       "      <th>0</th>\n",
       "      <td>1000001</td>\n",
       "      <td>1.0</td>\n",
       "      <td>Gazole</td>\n",
       "      <td>2018-01-06T12:20:27</td>\n",
       "      <td>1376.0</td>\n",
       "    </tr>\n",
       "    <tr>\n",
       "      <th>1</th>\n",
       "      <td>1000001</td>\n",
       "      <td>1.0</td>\n",
       "      <td>Gazole</td>\n",
       "      <td>2018-01-11T09:09:34</td>\n",
       "      <td>1389.0</td>\n",
       "    </tr>\n",
       "    <tr>\n",
       "      <th>2</th>\n",
       "      <td>1000001</td>\n",
       "      <td>1.0</td>\n",
       "      <td>Gazole</td>\n",
       "      <td>2018-01-12T13:16:01</td>\n",
       "      <td>1376.0</td>\n",
       "    </tr>\n",
       "    <tr>\n",
       "      <th>3</th>\n",
       "      <td>1000001</td>\n",
       "      <td>1.0</td>\n",
       "      <td>Gazole</td>\n",
       "      <td>2018-01-18T11:05:10</td>\n",
       "      <td>1376.0</td>\n",
       "    </tr>\n",
       "    <tr>\n",
       "      <th>4</th>\n",
       "      <td>1000001</td>\n",
       "      <td>1.0</td>\n",
       "      <td>Gazole</td>\n",
       "      <td>2018-01-18T11:13:32</td>\n",
       "      <td>1376.0</td>\n",
       "    </tr>\n",
       "  </tbody>\n",
       "</table>\n",
       "</div>"
      ],
      "text/plain": [
       "   IdStation  IdEssence     Nom                 Date  Valeur1000L\n",
       "0    1000001        1.0  Gazole  2018-01-06T12:20:27       1376.0\n",
       "1    1000001        1.0  Gazole  2018-01-11T09:09:34       1389.0\n",
       "2    1000001        1.0  Gazole  2018-01-12T13:16:01       1376.0\n",
       "3    1000001        1.0  Gazole  2018-01-18T11:05:10       1376.0\n",
       "4    1000001        1.0  Gazole  2018-01-18T11:13:32       1376.0"
      ]
     },
     "execution_count": 4,
     "metadata": {},
     "output_type": "execute_result"
    }
   ],
   "source": [
    "premStation = prix.iloc[np.where(prix['IdStation']==1000001)]\n",
    "premStation.head()"
   ]
  },
  {
   "cell_type": "markdown",
   "metadata": {},
   "source": [
    "###  2) b-] Quel est le prix moyen du carburant dans cette station?"
   ]
  },
  {
   "cell_type": "code",
   "execution_count": 5,
   "metadata": {},
   "outputs": [
    {
     "name": "stdout",
     "output_type": "stream",
     "text": [
      "La valeur du carburant pour 1000 litres vaut 1478.6764705882354 euros.\n"
     ]
    }
   ],
   "source": [
    "print(\"La valeur du carburant pour 1000 litres vaut\", np.mean(premStation['Valeur1000L']),\"euros.\")"
   ]
  },
  {
   "cell_type": "markdown",
   "metadata": {},
   "source": [
    "###  2) c-] Cette station est -elle plus ou moins chère que la moyenne?"
   ]
  },
  {
   "cell_type": "code",
   "execution_count": 6,
   "metadata": {},
   "outputs": [
    {
     "name": "stdout",
     "output_type": "stream",
     "text": [
      "En moyenne, la valeur du carburant pour 1000 litres vaut 1452.3382520368507 euros.\n"
     ]
    }
   ],
   "source": [
    "print(\"En moyenne, la valeur du carburant pour 1000 litres vaut\", np.mean(prix['Valeur1000L']),\"euros.\")"
   ]
  },
  {
   "cell_type": "markdown",
   "metadata": {},
   "source": [
    "Elle est plus chère que la moyenne, d'environ 26 euros pour 1000 litres."
   ]
  },
  {
   "cell_type": "markdown",
   "metadata": {},
   "source": [
    "### 3) Créez une variable valeur1L, correspondant au prix par litre\n",
    "On pourra utiliser la fonction assign de pandas"
   ]
  },
  {
   "cell_type": "code",
   "execution_count": 7,
   "metadata": {},
   "outputs": [
    {
     "data": {
      "text/html": [
       "<div>\n",
       "<style scoped>\n",
       "    .dataframe tbody tr th:only-of-type {\n",
       "        vertical-align: middle;\n",
       "    }\n",
       "\n",
       "    .dataframe tbody tr th {\n",
       "        vertical-align: top;\n",
       "    }\n",
       "\n",
       "    .dataframe thead th {\n",
       "        text-align: right;\n",
       "    }\n",
       "</style>\n",
       "<table border=\"1\" class=\"dataframe\">\n",
       "  <thead>\n",
       "    <tr style=\"text-align: right;\">\n",
       "      <th></th>\n",
       "      <th>IdStation</th>\n",
       "      <th>IdEssence</th>\n",
       "      <th>Nom</th>\n",
       "      <th>Date</th>\n",
       "      <th>Valeur1000L</th>\n",
       "      <th>Valeur1L</th>\n",
       "    </tr>\n",
       "  </thead>\n",
       "  <tbody>\n",
       "    <tr>\n",
       "      <th>0</th>\n",
       "      <td>1000001</td>\n",
       "      <td>1.0</td>\n",
       "      <td>Gazole</td>\n",
       "      <td>2018-01-06T12:20:27</td>\n",
       "      <td>1376.0</td>\n",
       "      <td>1.376</td>\n",
       "    </tr>\n",
       "    <tr>\n",
       "      <th>1</th>\n",
       "      <td>1000001</td>\n",
       "      <td>1.0</td>\n",
       "      <td>Gazole</td>\n",
       "      <td>2018-01-11T09:09:34</td>\n",
       "      <td>1389.0</td>\n",
       "      <td>1.389</td>\n",
       "    </tr>\n",
       "    <tr>\n",
       "      <th>2</th>\n",
       "      <td>1000001</td>\n",
       "      <td>1.0</td>\n",
       "      <td>Gazole</td>\n",
       "      <td>2018-01-12T13:16:01</td>\n",
       "      <td>1376.0</td>\n",
       "      <td>1.376</td>\n",
       "    </tr>\n",
       "    <tr>\n",
       "      <th>3</th>\n",
       "      <td>1000001</td>\n",
       "      <td>1.0</td>\n",
       "      <td>Gazole</td>\n",
       "      <td>2018-01-18T11:05:10</td>\n",
       "      <td>1376.0</td>\n",
       "      <td>1.376</td>\n",
       "    </tr>\n",
       "    <tr>\n",
       "      <th>4</th>\n",
       "      <td>1000001</td>\n",
       "      <td>1.0</td>\n",
       "      <td>Gazole</td>\n",
       "      <td>2018-01-18T11:13:32</td>\n",
       "      <td>1376.0</td>\n",
       "      <td>1.376</td>\n",
       "    </tr>\n",
       "  </tbody>\n",
       "</table>\n",
       "</div>"
      ],
      "text/plain": [
       "   IdStation  IdEssence     Nom                 Date  Valeur1000L  Valeur1L\n",
       "0    1000001        1.0  Gazole  2018-01-06T12:20:27       1376.0     1.376\n",
       "1    1000001        1.0  Gazole  2018-01-11T09:09:34       1389.0     1.389\n",
       "2    1000001        1.0  Gazole  2018-01-12T13:16:01       1376.0     1.376\n",
       "3    1000001        1.0  Gazole  2018-01-18T11:05:10       1376.0     1.376\n",
       "4    1000001        1.0  Gazole  2018-01-18T11:13:32       1376.0     1.376"
      ]
     },
     "execution_count": 7,
     "metadata": {},
     "output_type": "execute_result"
    }
   ],
   "source": [
    "prix = prix.assign(Valeur1L = prix['Valeur1000L']/1000)\n",
    "prix.head()"
   ]
  },
  {
   "cell_type": "markdown",
   "metadata": {},
   "source": [
    "### 4) En moyenne, quel est le carburant le plus cher en France en 2018? \n",
    "Au contraire, quel est le moins cher?\n",
    "Quel est celui qui varie le plus au fil du temps?\n",
    "\n",
    "On pourra utiliser la fonction groupby de pandas."
   ]
  },
  {
   "cell_type": "code",
   "execution_count": 8,
   "metadata": {},
   "outputs": [
    {
     "data": {
      "text/plain": [
       "Nom\n",
       "E10       1.503187\n",
       "E85       0.711852\n",
       "GPLc      0.837323\n",
       "Gazole    1.448212\n",
       "SP95      1.520839\n",
       "SP98      1.591507\n",
       "Name: Valeur1L, dtype: float64"
      ]
     },
     "execution_count": 8,
     "metadata": {},
     "output_type": "execute_result"
    }
   ],
   "source": [
    "prix.groupby(['Nom']).mean()['Valeur1L']"
   ]
  },
  {
   "cell_type": "markdown",
   "metadata": {},
   "source": [
    "Le sans-plomb 98 est le plus cher en France. Le E85 est le moins cher."
   ]
  },
  {
   "cell_type": "code",
   "execution_count": 9,
   "metadata": {},
   "outputs": [
    {
     "data": {
      "text/plain": [
       "Nom\n",
       "E10       0.075008\n",
       "E85       0.082972\n",
       "GPLc      0.081174\n",
       "Gazole    0.079779\n",
       "SP95      0.065535\n",
       "SP98      0.080708\n",
       "Name: Valeur1L, dtype: float64"
      ]
     },
     "execution_count": 9,
     "metadata": {},
     "output_type": "execute_result"
    }
   ],
   "source": [
    "prix.groupby(['Nom']).std()['Valeur1L']"
   ]
  },
  {
   "cell_type": "markdown",
   "metadata": {},
   "source": [
    "Le E85 est celui dont les prix varient le plus, avec 8.3 centimes de variation au litre."
   ]
  },
  {
   "cell_type": "markdown",
   "metadata": {},
   "source": [
    "### 5) Affichez un boxplot des prix par type de carburants.\n",
    "\n",
    "Indication: fonction boxplot de seaborn."
   ]
  },
  {
   "cell_type": "code",
   "execution_count": 10,
   "metadata": {},
   "outputs": [
    {
     "data": {
      "image/png": "[encoded data removed]",
      "text/plain": [
       "<Figure size 288x576 with 1 Axes>"
      ]
     },
     "metadata": {
      "needs_background": "light"
     },
     "output_type": "display_data"
    }
   ],
   "source": [
    "plt.figure(figsize=(4,8))\n",
    "plt.ylim(0.5,2)\n",
    "sns.boxplot(x = \"Nom\", y = \"Valeur1L\", data = prix)\n",
    "plt.show()"
   ]
  },
  {
   "cell_type": "markdown",
   "metadata": {},
   "source": [
    "Si vous ne vous sentez pas à l'aise, regardez la correction des questions 6) a-] b-] c-] d-] et passez directement à la question 6)e-].\n",
    "\n",
    "### 6) Évolution du prix du carburant en 2018\n",
    "\n",
    "### 6) a-] Créez une fonction qui récupère le mois dans la variable Date"
   ]
  },
  {
   "cell_type": "code",
   "execution_count": 11,
   "metadata": {},
   "outputs": [
    {
     "data": {
      "text/plain": [
       "'01'"
      ]
     },
     "execution_count": 11,
     "metadata": {},
     "output_type": "execute_result"
    }
   ],
   "source": [
    "def extractionMois(date):\n",
    "    return(str(date)[5:7])\n",
    "\n",
    "extractionMois(\"2018-01-06T12:20:27\")"
   ]
  },
  {
   "cell_type": "markdown",
   "metadata": {},
   "source": [
    "### 6) b-] Créez une variable mois dans le dataframe contenant le mois associé à chaque date"
   ]
  },
  {
   "cell_type": "code",
   "execution_count": 12,
   "metadata": {
    "scrolled": true
   },
   "outputs": [
    {
     "data": {
      "text/html": [
       "<div>\n",
       "<style scoped>\n",
       "    .dataframe tbody tr th:only-of-type {\n",
       "        vertical-align: middle;\n",
       "    }\n",
       "\n",
       "    .dataframe tbody tr th {\n",
       "        vertical-align: top;\n",
       "    }\n",
       "\n",
       "    .dataframe thead th {\n",
       "        text-align: right;\n",
       "    }\n",
       "</style>\n",
       "<table border=\"1\" class=\"dataframe\">\n",
       "  <thead>\n",
       "    <tr style=\"text-align: right;\">\n",
       "      <th></th>\n",
       "      <th>IdStation</th>\n",
       "      <th>IdEssence</th>\n",
       "      <th>Nom</th>\n",
       "      <th>Date</th>\n",
       "      <th>Valeur1000L</th>\n",
       "      <th>Valeur1L</th>\n",
       "      <th>mois</th>\n",
       "    </tr>\n",
       "  </thead>\n",
       "  <tbody>\n",
       "    <tr>\n",
       "      <th>0</th>\n",
       "      <td>1000001</td>\n",
       "      <td>1.0</td>\n",
       "      <td>Gazole</td>\n",
       "      <td>2018-01-06T12:20:27</td>\n",
       "      <td>1376.0</td>\n",
       "      <td>1.376</td>\n",
       "      <td>01</td>\n",
       "    </tr>\n",
       "    <tr>\n",
       "      <th>1</th>\n",
       "      <td>1000001</td>\n",
       "      <td>1.0</td>\n",
       "      <td>Gazole</td>\n",
       "      <td>2018-01-11T09:09:34</td>\n",
       "      <td>1389.0</td>\n",
       "      <td>1.389</td>\n",
       "      <td>01</td>\n",
       "    </tr>\n",
       "    <tr>\n",
       "      <th>2</th>\n",
       "      <td>1000001</td>\n",
       "      <td>1.0</td>\n",
       "      <td>Gazole</td>\n",
       "      <td>2018-01-12T13:16:01</td>\n",
       "      <td>1376.0</td>\n",
       "      <td>1.376</td>\n",
       "      <td>01</td>\n",
       "    </tr>\n",
       "    <tr>\n",
       "      <th>3</th>\n",
       "      <td>1000001</td>\n",
       "      <td>1.0</td>\n",
       "      <td>Gazole</td>\n",
       "      <td>2018-01-18T11:05:10</td>\n",
       "      <td>1376.0</td>\n",
       "      <td>1.376</td>\n",
       "      <td>01</td>\n",
       "    </tr>\n",
       "    <tr>\n",
       "      <th>4</th>\n",
       "      <td>1000001</td>\n",
       "      <td>1.0</td>\n",
       "      <td>Gazole</td>\n",
       "      <td>2018-01-18T11:13:32</td>\n",
       "      <td>1376.0</td>\n",
       "      <td>1.376</td>\n",
       "      <td>01</td>\n",
       "    </tr>\n",
       "  </tbody>\n",
       "</table>\n",
       "</div>"
      ],
      "text/plain": [
       "   IdStation  IdEssence     Nom                 Date  Valeur1000L  Valeur1L  \\\n",
       "0    1000001        1.0  Gazole  2018-01-06T12:20:27       1376.0     1.376   \n",
       "1    1000001        1.0  Gazole  2018-01-11T09:09:34       1389.0     1.389   \n",
       "2    1000001        1.0  Gazole  2018-01-12T13:16:01       1376.0     1.376   \n",
       "3    1000001        1.0  Gazole  2018-01-18T11:05:10       1376.0     1.376   \n",
       "4    1000001        1.0  Gazole  2018-01-18T11:13:32       1376.0     1.376   \n",
       "\n",
       "  mois  \n",
       "0   01  \n",
       "1   01  \n",
       "2   01  \n",
       "3   01  \n",
       "4   01  "
      ]
     },
     "execution_count": 12,
     "metadata": {},
     "output_type": "execute_result"
    }
   ],
   "source": [
    "prix = prix.assign(mois = [*map(extractionMois, prix['Date'])])\n",
    "prix.head()"
   ]
  },
  {
   "cell_type": "markdown",
   "metadata": {},
   "source": [
    "### 6) c-] Créez ensuite le tableau des moyennes de prix mensuelles par carburant\n",
    "\n",
    "En colonnes les mois, en lignes les types de carburants"
   ]
  },
  {
   "cell_type": "code",
   "execution_count": 13,
   "metadata": {
    "scrolled": true
   },
   "outputs": [
    {
     "data": {
      "text/html": [
       "<div>\n",
       "<style scoped>\n",
       "    .dataframe tbody tr th:only-of-type {\n",
       "        vertical-align: middle;\n",
       "    }\n",
       "\n",
       "    .dataframe tbody tr th {\n",
       "        vertical-align: top;\n",
       "    }\n",
       "\n",
       "    .dataframe thead th {\n",
       "        text-align: right;\n",
       "    }\n",
       "</style>\n",
       "<table border=\"1\" class=\"dataframe\">\n",
       "  <thead>\n",
       "    <tr style=\"text-align: right;\">\n",
       "      <th></th>\n",
       "      <th>01</th>\n",
       "      <th>02</th>\n",
       "      <th>03</th>\n",
       "      <th>04</th>\n",
       "      <th>05</th>\n",
       "      <th>06</th>\n",
       "      <th>07</th>\n",
       "      <th>08</th>\n",
       "      <th>09</th>\n",
       "      <th>10</th>\n",
       "    </tr>\n",
       "  </thead>\n",
       "  <tbody>\n",
       "    <tr>\n",
       "      <th>E10</th>\n",
       "      <td>1.462069</td>\n",
       "      <td>1.451588</td>\n",
       "      <td>1.444995</td>\n",
       "      <td>1.478210</td>\n",
       "      <td>1.521863</td>\n",
       "      <td>1.528848</td>\n",
       "      <td>1.519650</td>\n",
       "      <td>1.529147</td>\n",
       "      <td>1.541422</td>\n",
       "      <td>1.546474</td>\n",
       "    </tr>\n",
       "    <tr>\n",
       "      <th>E85</th>\n",
       "      <td>0.719843</td>\n",
       "      <td>0.721834</td>\n",
       "      <td>0.720728</td>\n",
       "      <td>0.720395</td>\n",
       "      <td>0.719767</td>\n",
       "      <td>0.713186</td>\n",
       "      <td>0.704079</td>\n",
       "      <td>0.704435</td>\n",
       "      <td>0.699872</td>\n",
       "      <td>0.694905</td>\n",
       "    </tr>\n",
       "    <tr>\n",
       "      <th>GPLc</th>\n",
       "      <td>0.845853</td>\n",
       "      <td>0.843532</td>\n",
       "      <td>0.834956</td>\n",
       "      <td>0.823180</td>\n",
       "      <td>0.820884</td>\n",
       "      <td>0.835831</td>\n",
       "      <td>0.830833</td>\n",
       "      <td>0.831267</td>\n",
       "      <td>0.846328</td>\n",
       "      <td>0.861744</td>\n",
       "    </tr>\n",
       "    <tr>\n",
       "      <th>Gazole</th>\n",
       "      <td>1.407819</td>\n",
       "      <td>1.386262</td>\n",
       "      <td>1.381788</td>\n",
       "      <td>1.414773</td>\n",
       "      <td>1.466447</td>\n",
       "      <td>1.471937</td>\n",
       "      <td>1.457267</td>\n",
       "      <td>1.462401</td>\n",
       "      <td>1.490286</td>\n",
       "      <td>1.533869</td>\n",
       "    </tr>\n",
       "    <tr>\n",
       "      <th>SP95</th>\n",
       "      <td>1.480581</td>\n",
       "      <td>1.468933</td>\n",
       "      <td>1.464183</td>\n",
       "      <td>1.495139</td>\n",
       "      <td>1.545576</td>\n",
       "      <td>1.546476</td>\n",
       "      <td>1.536813</td>\n",
       "      <td>1.547727</td>\n",
       "      <td>1.558380</td>\n",
       "      <td>1.563930</td>\n",
       "    </tr>\n",
       "    <tr>\n",
       "      <th>SP98</th>\n",
       "      <td>1.549186</td>\n",
       "      <td>1.541421</td>\n",
       "      <td>1.531249</td>\n",
       "      <td>1.562138</td>\n",
       "      <td>1.608237</td>\n",
       "      <td>1.620801</td>\n",
       "      <td>1.610415</td>\n",
       "      <td>1.620083</td>\n",
       "      <td>1.631982</td>\n",
       "      <td>1.636444</td>\n",
       "    </tr>\n",
       "  </tbody>\n",
       "</table>\n",
       "</div>"
      ],
      "text/plain": [
       "              01        02        03        04        05        06        07  \\\n",
       "E10     1.462069  1.451588  1.444995  1.478210  1.521863  1.528848  1.519650   \n",
       "E85     0.719843  0.721834  0.720728  0.720395  0.719767  0.713186  0.704079   \n",
       "GPLc    0.845853  0.843532  0.834956  0.823180  0.820884  0.835831  0.830833   \n",
       "Gazole  1.407819  1.386262  1.381788  1.414773  1.466447  1.471937  1.457267   \n",
       "SP95    1.480581  1.468933  1.464183  1.495139  1.545576  1.546476  1.536813   \n",
       "SP98    1.549186  1.541421  1.531249  1.562138  1.608237  1.620801  1.610415   \n",
       "\n",
       "              08        09        10  \n",
       "E10     1.529147  1.541422  1.546474  \n",
       "E85     0.704435  0.699872  0.694905  \n",
       "GPLc    0.831267  0.846328  0.861744  \n",
       "Gazole  1.462401  1.490286  1.533869  \n",
       "SP95    1.547727  1.558380  1.563930  \n",
       "SP98    1.620083  1.631982  1.636444  "
      ]
     },
     "execution_count": 13,
     "metadata": {},
     "output_type": "execute_result"
    }
   ],
   "source": [
    "data = prix.groupby(['Nom','mois']).mean()['Valeur1L'] # on fait la moyenne par carburant et par mois\n",
    "nomCarburant = np.array(data.index.levels[0]) # le tableau des noms de carburant\n",
    "mois = np.array(data.index.levels[1])[1:11] # les mois\n",
    "res = pd.DataFrame(np.array(data).reshape(6,10), columns = mois).set_index(nomCarburant)\n",
    "res"
   ]
  },
  {
   "cell_type": "markdown",
   "metadata": {},
   "source": [
    "### 6) d-] Puis affichez les courbes d'évolution des prix moyens au cours des mois de l'année 2018"
   ]
  },
  {
   "cell_type": "code",
   "execution_count": 14,
   "metadata": {},
   "outputs": [
    {
     "data": {
      "image/png": "[encoded data removed]",
      "text/plain": [
       "<Figure size 576x576 with 1 Axes>"
      ]
     },
     "metadata": {
      "needs_background": "light"
     },
     "output_type": "display_data"
    }
   ],
   "source": [
    "plt.figure(figsize=(8,8))\n",
    "\n",
    "indiceMois = range(1,len(mois)+1)\n",
    "for i in range(len(nomCarburant)):\n",
    "    tab = np.array(res.iloc[i])\n",
    "    plt.scatter(indiceMois, tab)\n",
    "    plt.plot(indiceMois, tab)\n",
    "plt.legend(res.index)\n",
    "plt.xticks(indiceMois)\n",
    "plt.ylabel(\"Prix moyen (en euros)\")\n",
    "plt.xlabel(\"Mois\")\n",
    "plt.title(\"Évolution des prix du carburant en France au cours de l'année 2018\")\n",
    "plt.show()"
   ]
  },
  {
   "cell_type": "markdown",
   "metadata": {},
   "source": [
    "### 6) e-] Compte-tenu des courbes, quand pensez vous que le gazole dépassera le E10? Même question pour le SP98."
   ]
  },
  {
   "cell_type": "markdown",
   "metadata": {},
   "source": [
    "Si la tendance actuelle se confirme, le gazole dépassera le E10 et le SP95 d'ici décembre. Et il faudra sans doute attendre février-mars 2019 pour qu'il dépasse le SP98."
   ]
  },
  {
   "cell_type": "markdown",
   "metadata": {},
   "source": [
    "Les informations concernant les stations sont référencées dans le .csv à l'adresse suivante:\n",
    "https://raw.githubusercontent.com/llesoil/modelisation_des_problemes_scientifiques-/master/ressources/station_essence.csv\n",
    "\n",
    "### 7) a-] Importez la table"
   ]
  },
  {
   "cell_type": "code",
   "execution_count": 15,
   "metadata": {},
   "outputs": [
    {
     "data": {
      "text/html": [
       "<div>\n",
       "<style scoped>\n",
       "    .dataframe tbody tr th:only-of-type {\n",
       "        vertical-align: middle;\n",
       "    }\n",
       "\n",
       "    .dataframe tbody tr th {\n",
       "        vertical-align: top;\n",
       "    }\n",
       "\n",
       "    .dataframe thead th {\n",
       "        text-align: right;\n",
       "    }\n",
       "</style>\n",
       "<table border=\"1\" class=\"dataframe\">\n",
       "  <thead>\n",
       "    <tr style=\"text-align: right;\">\n",
       "      <th></th>\n",
       "      <th>IdStation</th>\n",
       "      <th>CodePostal</th>\n",
       "      <th>TypeRoute</th>\n",
       "      <th>Long</th>\n",
       "      <th>Lat</th>\n",
       "    </tr>\n",
       "  </thead>\n",
       "  <tbody>\n",
       "    <tr>\n",
       "      <th>0</th>\n",
       "      <td>1000001</td>\n",
       "      <td>1000</td>\n",
       "      <td>R</td>\n",
       "      <td>519791.000000</td>\n",
       "      <td>4.620114e+06</td>\n",
       "    </tr>\n",
       "    <tr>\n",
       "      <th>1</th>\n",
       "      <td>1000002</td>\n",
       "      <td>1000</td>\n",
       "      <td>R</td>\n",
       "      <td>522767.000000</td>\n",
       "      <td>4.621842e+06</td>\n",
       "    </tr>\n",
       "    <tr>\n",
       "      <th>2</th>\n",
       "      <td>1000004</td>\n",
       "      <td>1000</td>\n",
       "      <td>R</td>\n",
       "      <td>524500.000000</td>\n",
       "      <td>4.618800e+06</td>\n",
       "    </tr>\n",
       "    <tr>\n",
       "      <th>3</th>\n",
       "      <td>1000005</td>\n",
       "      <td>1000</td>\n",
       "      <td>R</td>\n",
       "      <td>519942.024022</td>\n",
       "      <td>4.620094e+06</td>\n",
       "    </tr>\n",
       "    <tr>\n",
       "      <th>4</th>\n",
       "      <td>1000006</td>\n",
       "      <td>1000</td>\n",
       "      <td>R</td>\n",
       "      <td>523758.000000</td>\n",
       "      <td>4.620754e+06</td>\n",
       "    </tr>\n",
       "  </tbody>\n",
       "</table>\n",
       "</div>"
      ],
      "text/plain": [
       "   IdStation  CodePostal TypeRoute           Long           Lat\n",
       "0    1000001        1000         R  519791.000000  4.620114e+06\n",
       "1    1000002        1000         R  522767.000000  4.621842e+06\n",
       "2    1000004        1000         R  524500.000000  4.618800e+06\n",
       "3    1000005        1000         R  519942.024022  4.620094e+06\n",
       "4    1000006        1000         R  523758.000000  4.620754e+06"
      ]
     },
     "execution_count": 15,
     "metadata": {},
     "output_type": "execute_result"
    }
   ],
   "source": [
    "data7a = pd.read_table(open(\"C:\\\\Users\\llesoil\\Documents\\cours\\python\\station_essence_total.csv\",\"r\"), \n",
    "              delimiter = ',')\n",
    "data7a.head()"
   ]
  },
  {
   "cell_type": "markdown",
   "metadata": {},
   "source": [
    "### 7) b-] Calculez le prix moyen par station, et stocker le résultat sus la forme d'une table\n",
    "Avant, enlevez les valeurs manquantes de la variable Valeur1L à l'aide des fonctions invert et isnan de numpy."
   ]
  },
  {
   "cell_type": "code",
   "execution_count": 16,
   "metadata": {},
   "outputs": [
    {
     "data": {
      "text/html": [
       "<div>\n",
       "<style scoped>\n",
       "    .dataframe tbody tr th:only-of-type {\n",
       "        vertical-align: middle;\n",
       "    }\n",
       "\n",
       "    .dataframe tbody tr th {\n",
       "        vertical-align: top;\n",
       "    }\n",
       "\n",
       "    .dataframe thead th {\n",
       "        text-align: right;\n",
       "    }\n",
       "</style>\n",
       "<table border=\"1\" class=\"dataframe\">\n",
       "  <thead>\n",
       "    <tr style=\"text-align: right;\">\n",
       "      <th></th>\n",
       "      <th>Valeur1L</th>\n",
       "    </tr>\n",
       "    <tr>\n",
       "      <th>IdStation</th>\n",
       "      <th></th>\n",
       "    </tr>\n",
       "  </thead>\n",
       "  <tbody>\n",
       "    <tr>\n",
       "      <th>1000001</th>\n",
       "      <td>1.478676</td>\n",
       "    </tr>\n",
       "    <tr>\n",
       "      <th>1000002</th>\n",
       "      <td>1.475816</td>\n",
       "    </tr>\n",
       "    <tr>\n",
       "      <th>1000004</th>\n",
       "      <td>1.465437</td>\n",
       "    </tr>\n",
       "    <tr>\n",
       "      <th>1000006</th>\n",
       "      <td>1.508632</td>\n",
       "    </tr>\n",
       "    <tr>\n",
       "      <th>1000007</th>\n",
       "      <td>1.470494</td>\n",
       "    </tr>\n",
       "  </tbody>\n",
       "</table>\n",
       "</div>"
      ],
      "text/plain": [
       "           Valeur1L\n",
       "IdStation          \n",
       "1000001    1.478676\n",
       "1000002    1.475816\n",
       "1000004    1.465437\n",
       "1000006    1.508632\n",
       "1000007    1.470494"
      ]
     },
     "execution_count": 16,
     "metadata": {},
     "output_type": "execute_result"
    }
   ],
   "source": [
    "prix = prix.iloc[np.where(np.invert(np.isnan(prix['Valeur1L'])))]\n",
    "\n",
    "data7b = pd.DataFrame(prix.groupby(\"IdStation\").mean()[\"Valeur1L\"])\n",
    "data7b.head()"
   ]
  },
  {
   "cell_type": "markdown",
   "metadata": {},
   "source": [
    "### 7) c-] Créez une table station, jointure des tables créées respectivement en 7)a-] et en 7) b-]\n",
    "\n",
    "La clef de jointure, commune aux deux tables, est l'identifiant des stations. On pourra utiliser join de pandas."
   ]
  },
  {
   "cell_type": "code",
   "execution_count": 17,
   "metadata": {},
   "outputs": [
    {
     "data": {
      "text/html": [
       "<div>\n",
       "<style scoped>\n",
       "    .dataframe tbody tr th:only-of-type {\n",
       "        vertical-align: middle;\n",
       "    }\n",
       "\n",
       "    .dataframe tbody tr th {\n",
       "        vertical-align: top;\n",
       "    }\n",
       "\n",
       "    .dataframe thead th {\n",
       "        text-align: right;\n",
       "    }\n",
       "</style>\n",
       "<table border=\"1\" class=\"dataframe\">\n",
       "  <thead>\n",
       "    <tr style=\"text-align: right;\">\n",
       "      <th></th>\n",
       "      <th>Valeur1L</th>\n",
       "      <th>CodePostal</th>\n",
       "      <th>TypeRoute</th>\n",
       "      <th>Long</th>\n",
       "      <th>Lat</th>\n",
       "    </tr>\n",
       "    <tr>\n",
       "      <th>IdStation</th>\n",
       "      <th></th>\n",
       "      <th></th>\n",
       "      <th></th>\n",
       "      <th></th>\n",
       "      <th></th>\n",
       "    </tr>\n",
       "  </thead>\n",
       "  <tbody>\n",
       "    <tr>\n",
       "      <th>1000001</th>\n",
       "      <td>1.478676</td>\n",
       "      <td>1000</td>\n",
       "      <td>R</td>\n",
       "      <td>519791.0</td>\n",
       "      <td>4620114.0</td>\n",
       "    </tr>\n",
       "    <tr>\n",
       "      <th>1000002</th>\n",
       "      <td>1.475816</td>\n",
       "      <td>1000</td>\n",
       "      <td>R</td>\n",
       "      <td>522767.0</td>\n",
       "      <td>4621842.0</td>\n",
       "    </tr>\n",
       "    <tr>\n",
       "      <th>1000004</th>\n",
       "      <td>1.465437</td>\n",
       "      <td>1000</td>\n",
       "      <td>R</td>\n",
       "      <td>524500.0</td>\n",
       "      <td>4618800.0</td>\n",
       "    </tr>\n",
       "    <tr>\n",
       "      <th>1000006</th>\n",
       "      <td>1.508632</td>\n",
       "      <td>1000</td>\n",
       "      <td>R</td>\n",
       "      <td>523758.0</td>\n",
       "      <td>4620754.0</td>\n",
       "    </tr>\n",
       "    <tr>\n",
       "      <th>1000007</th>\n",
       "      <td>1.470494</td>\n",
       "      <td>1000</td>\n",
       "      <td>R</td>\n",
       "      <td>524891.0</td>\n",
       "      <td>4620105.0</td>\n",
       "    </tr>\n",
       "  </tbody>\n",
       "</table>\n",
       "</div>"
      ],
      "text/plain": [
       "           Valeur1L  CodePostal TypeRoute      Long        Lat\n",
       "IdStation                                                     \n",
       "1000001    1.478676        1000         R  519791.0  4620114.0\n",
       "1000002    1.475816        1000         R  522767.0  4621842.0\n",
       "1000004    1.465437        1000         R  524500.0  4618800.0\n",
       "1000006    1.508632        1000         R  523758.0  4620754.0\n",
       "1000007    1.470494        1000         R  524891.0  4620105.0"
      ]
     },
     "execution_count": 17,
     "metadata": {},
     "output_type": "execute_result"
    }
   ],
   "source": [
    "station = data7b.join(data7a.set_index(\"IdStation\"))\n",
    "\n",
    "station.head()"
   ]
  },
  {
   "cell_type": "markdown",
   "metadata": {},
   "source": [
    "### 8) Transformez la variable Valeur1L en variable qualitative à quatre classes en raisonnant de la manière suivante:\n",
    "- prix très bas <=> en-dessous du premier quartile\n",
    "- prix assez bas <=> entre le premier quartile et la médiane\n",
    "- prix assez fort <=> entre la médiane et le troisième quartile\n",
    "- prix très fort <=> supérieur au troisième quartile"
   ]
  },
  {
   "cell_type": "code",
   "execution_count": 18,
   "metadata": {},
   "outputs": [
    {
     "data": {
      "text/html": [
       "<div>\n",
       "<style scoped>\n",
       "    .dataframe tbody tr th:only-of-type {\n",
       "        vertical-align: middle;\n",
       "    }\n",
       "\n",
       "    .dataframe tbody tr th {\n",
       "        vertical-align: top;\n",
       "    }\n",
       "\n",
       "    .dataframe thead th {\n",
       "        text-align: right;\n",
       "    }\n",
       "</style>\n",
       "<table border=\"1\" class=\"dataframe\">\n",
       "  <thead>\n",
       "    <tr style=\"text-align: right;\">\n",
       "      <th></th>\n",
       "      <th>Valeur1L</th>\n",
       "      <th>CodePostal</th>\n",
       "      <th>TypeRoute</th>\n",
       "      <th>Long</th>\n",
       "      <th>Lat</th>\n",
       "      <th>prix</th>\n",
       "    </tr>\n",
       "    <tr>\n",
       "      <th>IdStation</th>\n",
       "      <th></th>\n",
       "      <th></th>\n",
       "      <th></th>\n",
       "      <th></th>\n",
       "      <th></th>\n",
       "      <th></th>\n",
       "    </tr>\n",
       "  </thead>\n",
       "  <tbody>\n",
       "    <tr>\n",
       "      <th>1000001</th>\n",
       "      <td>1.478676</td>\n",
       "      <td>1000</td>\n",
       "      <td>R</td>\n",
       "      <td>519791.0</td>\n",
       "      <td>4620114.0</td>\n",
       "      <td>Assez bas</td>\n",
       "    </tr>\n",
       "    <tr>\n",
       "      <th>1000002</th>\n",
       "      <td>1.475816</td>\n",
       "      <td>1000</td>\n",
       "      <td>R</td>\n",
       "      <td>522767.0</td>\n",
       "      <td>4621842.0</td>\n",
       "      <td>Assez bas</td>\n",
       "    </tr>\n",
       "    <tr>\n",
       "      <th>1000004</th>\n",
       "      <td>1.465437</td>\n",
       "      <td>1000</td>\n",
       "      <td>R</td>\n",
       "      <td>524500.0</td>\n",
       "      <td>4618800.0</td>\n",
       "      <td>Assez bas</td>\n",
       "    </tr>\n",
       "    <tr>\n",
       "      <th>1000006</th>\n",
       "      <td>1.508632</td>\n",
       "      <td>1000</td>\n",
       "      <td>R</td>\n",
       "      <td>523758.0</td>\n",
       "      <td>4620754.0</td>\n",
       "      <td>Assez haut</td>\n",
       "    </tr>\n",
       "    <tr>\n",
       "      <th>1000007</th>\n",
       "      <td>1.470494</td>\n",
       "      <td>1000</td>\n",
       "      <td>R</td>\n",
       "      <td>524891.0</td>\n",
       "      <td>4620105.0</td>\n",
       "      <td>Assez bas</td>\n",
       "    </tr>\n",
       "  </tbody>\n",
       "</table>\n",
       "</div>"
      ],
      "text/plain": [
       "           Valeur1L  CodePostal TypeRoute      Long        Lat        prix\n",
       "IdStation                                                                 \n",
       "1000001    1.478676        1000         R  519791.0  4620114.0   Assez bas\n",
       "1000002    1.475816        1000         R  522767.0  4621842.0   Assez bas\n",
       "1000004    1.465437        1000         R  524500.0  4618800.0   Assez bas\n",
       "1000006    1.508632        1000         R  523758.0  4620754.0  Assez haut\n",
       "1000007    1.470494        1000         R  524891.0  4620105.0   Assez bas"
      ]
     },
     "execution_count": 18,
     "metadata": {},
     "output_type": "execute_result"
    }
   ],
   "source": [
    "def prixQuali(nom):\n",
    "    table = station[nom]\n",
    "    q1, med, q3 = np.percentile(table,25),np.percentile(table,50),np.percentile(table,75)\n",
    "    return np.array(['Très bas'*int(k<=q1) + \n",
    "                     'Assez bas'*int(k>q1 and k <=med) + \n",
    "                     'Assez haut'*int(k>med and k <q3) + \n",
    "                     'Haut'*int(k>=q3) for k in table])\n",
    "\n",
    "station[\"prix\"] = prixQuali('Valeur1L')\n",
    "station.head()"
   ]
  },
  {
   "cell_type": "markdown",
   "metadata": {},
   "source": [
    "### 9) Vaut-il mieux acheter son carburant sur route ou sur autoroute?\n",
    "\n",
    "La variable typeRoute vaut \"A\" pour autoroute et \"R\" pour route. On pourra faire un tableau de contingence entre typeRoute et la variable créée en 8)."
   ]
  },
  {
   "cell_type": "code",
   "execution_count": 19,
   "metadata": {},
   "outputs": [
    {
     "data": {
      "text/html": [
       "<div>\n",
       "<style scoped>\n",
       "    .dataframe tbody tr th:only-of-type {\n",
       "        vertical-align: middle;\n",
       "    }\n",
       "\n",
       "    .dataframe tbody tr th {\n",
       "        vertical-align: top;\n",
       "    }\n",
       "\n",
       "    .dataframe thead th {\n",
       "        text-align: right;\n",
       "    }\n",
       "</style>\n",
       "<table border=\"1\" class=\"dataframe\">\n",
       "  <thead>\n",
       "    <tr style=\"text-align: right;\">\n",
       "      <th>prix</th>\n",
       "      <th>Assez bas</th>\n",
       "      <th>Assez haut</th>\n",
       "      <th>Haut</th>\n",
       "      <th>Très bas</th>\n",
       "    </tr>\n",
       "    <tr>\n",
       "      <th>TypeRoute</th>\n",
       "      <th></th>\n",
       "      <th></th>\n",
       "      <th></th>\n",
       "      <th></th>\n",
       "    </tr>\n",
       "  </thead>\n",
       "  <tbody>\n",
       "    <tr>\n",
       "      <th>A</th>\n",
       "      <td>57</td>\n",
       "      <td>69</td>\n",
       "      <td>216</td>\n",
       "      <td>101</td>\n",
       "    </tr>\n",
       "    <tr>\n",
       "      <th>N</th>\n",
       "      <td>0</td>\n",
       "      <td>0</td>\n",
       "      <td>1</td>\n",
       "      <td>0</td>\n",
       "    </tr>\n",
       "    <tr>\n",
       "      <th>R</th>\n",
       "      <td>2362</td>\n",
       "      <td>2349</td>\n",
       "      <td>2203</td>\n",
       "      <td>2319</td>\n",
       "    </tr>\n",
       "  </tbody>\n",
       "</table>\n",
       "</div>"
      ],
      "text/plain": [
       "prix       Assez bas  Assez haut  Haut  Très bas\n",
       "TypeRoute                                       \n",
       "A                 57          69   216       101\n",
       "N                  0           0     1         0\n",
       "R               2362        2349  2203      2319"
      ]
     },
     "execution_count": 19,
     "metadata": {},
     "output_type": "execute_result"
    }
   ],
   "source": [
    "pd.crosstab(station[\"TypeRoute\"], station[\"prix\"])"
   ]
  },
  {
   "cell_type": "markdown",
   "metadata": {},
   "source": [
    "Les prix sont homogènes sur les routes. Sur les autoroutes, ils sont plutôt plus hauts."
   ]
  },
  {
   "cell_type": "markdown",
   "metadata": {},
   "source": [
    "### 10) Le département le plus cher de France\n",
    "\n",
    "### 10) a-] Créez une variable dep, qui contiendra le numéro de département de la station"
   ]
  },
  {
   "cell_type": "code",
   "execution_count": 20,
   "metadata": {},
   "outputs": [
    {
     "data": {
      "text/html": [
       "<div>\n",
       "<style scoped>\n",
       "    .dataframe tbody tr th:only-of-type {\n",
       "        vertical-align: middle;\n",
       "    }\n",
       "\n",
       "    .dataframe tbody tr th {\n",
       "        vertical-align: top;\n",
       "    }\n",
       "\n",
       "    .dataframe thead th {\n",
       "        text-align: right;\n",
       "    }\n",
       "</style>\n",
       "<table border=\"1\" class=\"dataframe\">\n",
       "  <thead>\n",
       "    <tr style=\"text-align: right;\">\n",
       "      <th></th>\n",
       "      <th>Valeur1L</th>\n",
       "      <th>CodePostal</th>\n",
       "      <th>TypeRoute</th>\n",
       "      <th>Long</th>\n",
       "      <th>Lat</th>\n",
       "      <th>prix</th>\n",
       "      <th>dep</th>\n",
       "    </tr>\n",
       "    <tr>\n",
       "      <th>IdStation</th>\n",
       "      <th></th>\n",
       "      <th></th>\n",
       "      <th></th>\n",
       "      <th></th>\n",
       "      <th></th>\n",
       "      <th></th>\n",
       "      <th></th>\n",
       "    </tr>\n",
       "  </thead>\n",
       "  <tbody>\n",
       "    <tr>\n",
       "      <th>1000001</th>\n",
       "      <td>1.478676</td>\n",
       "      <td>1000</td>\n",
       "      <td>R</td>\n",
       "      <td>519791.0</td>\n",
       "      <td>4620114.0</td>\n",
       "      <td>Assez bas</td>\n",
       "      <td>01</td>\n",
       "    </tr>\n",
       "    <tr>\n",
       "      <th>1000002</th>\n",
       "      <td>1.475816</td>\n",
       "      <td>1000</td>\n",
       "      <td>R</td>\n",
       "      <td>522767.0</td>\n",
       "      <td>4621842.0</td>\n",
       "      <td>Assez bas</td>\n",
       "      <td>01</td>\n",
       "    </tr>\n",
       "    <tr>\n",
       "      <th>1000004</th>\n",
       "      <td>1.465437</td>\n",
       "      <td>1000</td>\n",
       "      <td>R</td>\n",
       "      <td>524500.0</td>\n",
       "      <td>4618800.0</td>\n",
       "      <td>Assez bas</td>\n",
       "      <td>01</td>\n",
       "    </tr>\n",
       "    <tr>\n",
       "      <th>1000006</th>\n",
       "      <td>1.508632</td>\n",
       "      <td>1000</td>\n",
       "      <td>R</td>\n",
       "      <td>523758.0</td>\n",
       "      <td>4620754.0</td>\n",
       "      <td>Assez haut</td>\n",
       "      <td>01</td>\n",
       "    </tr>\n",
       "    <tr>\n",
       "      <th>1000007</th>\n",
       "      <td>1.470494</td>\n",
       "      <td>1000</td>\n",
       "      <td>R</td>\n",
       "      <td>524891.0</td>\n",
       "      <td>4620105.0</td>\n",
       "      <td>Assez bas</td>\n",
       "      <td>01</td>\n",
       "    </tr>\n",
       "  </tbody>\n",
       "</table>\n",
       "</div>"
      ],
      "text/plain": [
       "           Valeur1L  CodePostal TypeRoute      Long        Lat        prix dep\n",
       "IdStation                                                                     \n",
       "1000001    1.478676        1000         R  519791.0  4620114.0   Assez bas  01\n",
       "1000002    1.475816        1000         R  522767.0  4621842.0   Assez bas  01\n",
       "1000004    1.465437        1000         R  524500.0  4618800.0   Assez bas  01\n",
       "1000006    1.508632        1000         R  523758.0  4620754.0  Assez haut  01\n",
       "1000007    1.470494        1000         R  524891.0  4620105.0   Assez bas  01"
      ]
     },
     "execution_count": 20,
     "metadata": {},
     "output_type": "execute_result"
    }
   ],
   "source": [
    "def depart(cp):\n",
    "    dep = ''\n",
    "    if cp < 10000: # quand le 0 est manquant, pour les département en 01,02,03\n",
    "        dep='0'+ str(int(cp/1000))\n",
    "    else:\n",
    "        dep=''+ str(int(cp/1000))\n",
    "    return dep\n",
    "\n",
    "station[\"dep\"] = [*map(depart,station[\"CodePostal\"])]\n",
    "station.head()"
   ]
  },
  {
   "cell_type": "markdown",
   "metadata": {},
   "source": [
    "### 10) b-] Selon la base de données, dans quel département paye-t-on le plus cher?"
   ]
  },
  {
   "cell_type": "code",
   "execution_count": 21,
   "metadata": {},
   "outputs": [
    {
     "name": "stderr",
     "output_type": "stream",
     "text": [
      "C:\\Users\\llesoil\\Documents\\anaconda3\\lib\\site-packages\\numpy\\core\\fromnumeric.py:51: FutureWarning: 'argmax' is deprecated, use 'idxmax' instead. The behavior of 'argmax'\n",
      "will be corrected to return the positional maximum in the future.\n",
      "Use 'series.values.argmax' to get the position of the maximum now.\n",
      "  return getattr(obj, method)(*args, **kwds)\n"
     ]
    },
    {
     "data": {
      "text/plain": [
       "'75'"
      ]
     },
     "execution_count": 21,
     "metadata": {},
     "output_type": "execute_result"
    }
   ],
   "source": [
    "np.argmax(station.groupby(\"dep\").mean()[\"Valeur1L\"])"
   ]
  },
  {
   "cell_type": "markdown",
   "metadata": {},
   "source": [
    "### 12) Affichez sur une carte les dix stations les moins chères de France en bleu, puis les dix stations les plus chères de France en rouge.\n",
    "\n",
    "Pour les coordonnées, la latitude et la longitude doivent être divisées par $10^5$. On pourra utiliser le module cartopy."
   ]
  },
  {
   "cell_type": "markdown",
   "metadata": {},
   "source": [
    "On isole d'abord les stations"
   ]
  },
  {
   "cell_type": "code",
   "execution_count": 22,
   "metadata": {},
   "outputs": [
    {
     "data": {
      "text/plain": [
       "(           Valeur1L  CodePostal           Long           Lat\n",
       " IdStation                                                   \n",
       " 53100006   0.696286       53100  -61153.990269  4.828922e+06\n",
       " 5200005    0.930000        5200  648100.000000  4.454600e+06\n",
       " 87160006   0.974800       87160  137255.000000  4.631834e+06\n",
       " 69380011   1.104167       69380  473023.720000  4.590207e+06\n",
       " 33320008   1.135645       33320  -66579.000000  4.489263e+06\n",
       " 31130008   1.151001       31130  149007.000000  4.360917e+06\n",
       " 84000020   1.151857       84000  478301.391691  4.393210e+06\n",
       " 63170008   1.151878       63170  312976.000000  4.575496e+06\n",
       " 17138006   1.152739       17138 -110300.000000  4.617700e+06\n",
       " 31150001   1.153124       31150  140426.574746  4.368755e+06,\n",
       "            Valeur1L  CodePostal       Long         Lat\n",
       " IdStation                                             \n",
       " 75010007   1.794000       75010  236090.15  4888421.87\n",
       " 91100013   1.819800       91100  246080.00  4861209.00\n",
       " 75011003   1.843500       75011  237910.00  4885667.00\n",
       " 83220001   1.847368       83220  602418.00  4310653.00\n",
       " 92200006   1.876500       92200  228032.12  4888162.81\n",
       " 75007003   1.903571       75007  230800.00  4885300.00\n",
       " 75014008   1.903750       75014  233100.00  4883800.00\n",
       " 75016011   1.927500       75116  228900.00  4886500.00\n",
       " 75001003   1.945000       75001  234100.00  4886100.00\n",
       " 85350001   1.961517       85350 -234468.00  4672342.00)"
      ]
     },
     "execution_count": 22,
     "metadata": {},
     "output_type": "execute_result"
    }
   ],
   "source": [
    "triPrix = station.groupby(\"IdStation\").mean().sort_values([\"Valeur1L\"], ascending=True)\n",
    "\n",
    "moinsChere = triPrix.iloc[0:10]\n",
    "plusChere = triPrix.iloc[len(triPrix)-10:len(triPrix)]\n",
    "moinsChere,plusChere"
   ]
  },
  {
   "cell_type": "markdown",
   "metadata": {},
   "source": [
    "Puis on les affiche"
   ]
  },
  {
   "cell_type": "code",
   "execution_count": 23,
   "metadata": {},
   "outputs": [
    {
     "data": {
      "image/png": "[encoded data removed]",
      "text/plain": [
       "<Figure size 720x720 with 1 Axes>"
      ]
     },
     "metadata": {
      "needs_background": "light"
     },
     "output_type": "display_data"
    }
   ],
   "source": [
    "import cartopy\n",
    "\n",
    "plt.figure(figsize=(10,10))\n",
    "ax = plt.axes(projection=cartopy.crs.PlateCarree())\n",
    "\n",
    "ax.add_feature(cartopy.feature.LAND, color = \"white\")\n",
    "ax.add_feature(cartopy.feature.OCEAN, color=\"lightblue\")\n",
    "ax.add_feature(cartopy.feature.COASTLINE)\n",
    "ax.add_feature(cartopy.feature.BORDERS, linestyle=':')\n",
    "\n",
    "ax.set_extent([-5, 8.5, 42, 52])\n",
    "\n",
    "for i in range(10):\n",
    "    moins = moinsChere.iloc[i]\n",
    "    plus = plusChere.iloc[i]\n",
    "    \n",
    "    plt.scatter(moins['Long']/100000,moins['Lat']/100000, color=\"blue\")\n",
    "    plt.scatter(plus['Long']/100000,plus['Lat']/100000, color=\"red\")\n",
    "    \n",
    "\n",
    "plt.show()"
   ]
  },
  {
   "cell_type": "markdown",
   "metadata": {},
   "source": [
    "Les deux points rouges \"dans la mer\" correspondent à l'Ile d'Yeu pour l'océan Atlantique et une station proche de Toulon pour la Méditerranée (qui pourtant est bien sur la terre ferme).\n",
    "\n",
    "Le reste des stations chères est localisé en région Parisienne.\n",
    "\n",
    "Pour les stations bleues, elles sont à peu près réparties uniformément en France, sans doute plus au sud qu'au nord."
   ]
  }
 ],
 "metadata": {
  "kernelspec": {
   "display_name": "Python 3",
   "language": "python",
   "name": "python3"
  },
  "language_info": {
   "codemirror_mode": {
    "name": "ipython",
    "version": 3
   },
   "file_extension": ".py",
   "mimetype": "text/x-python",
   "name": "python",
   "nbconvert_exporter": "python",
   "pygments_lexer": "ipython3",
   "version": "3.7.0"
  }
 },
 "nbformat": 4,
 "nbformat_minor": 2
}
