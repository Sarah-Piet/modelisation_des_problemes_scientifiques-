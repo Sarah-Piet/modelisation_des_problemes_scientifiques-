{
 "cells": [
  {
   "cell_type": "markdown",
   "metadata": {},
   "source": [
    "# TP2 - Le prix du carburant en France\n",
    "\n",
    "--\n",
    "\n",
    "Tous les jeux de données sont issus de la page https://www.prix-carburants.gouv.fr/rubrique/opendata/, ce sont de vraies données datant de 2018 sur les prix de l'essence en France.\n",
    "\n",
    "Pour le côté pratique, j'ai réduit la base de données à 500 stations d'essence, et j'ai extrait des données .xml un .csv. Il est disponible à l'adresse suivante:\n",
    "https://raw.githubusercontent.com/llesoil/modelisation_des_problemes_scientifiques-/master/7.pandas_matplotlib/prix_essence.csv\n",
    "\n",
    "Pour la signification des variables:\n",
    "- IdStation est l'indentifiant de la station, chaque station a un numéro unique\n",
    "- IdEssence est l'identifiant du type de carburant\n",
    "- Nom est le nom correspondant au type de carburant, par exemple \"Gazole\" ou \"SP95\"\n",
    "- Date donne la date à laquelle le prix a été observé, au format \"AAAA-MM-JJ\" + T + \"hh:mm:ss\"\n",
    "- Valeur1000L donne le prix, en euros, de 1000 litres d'essence pour le carburant d'identifiant IdEssence dans la station d'identifiant IdStation à la date Date.\n",
    "\n",
    "Si vous souhaitez travailler sur toute la France, j'ouvrirai un dépôt le jour du TP. La correction sera faite sur la France, mais le code donné est valable sur le jeu réduit également.\n",
    "\n"
   ]
  },
  {
   "cell_type": "code",
   "execution_count": 1,
   "metadata": {},
   "outputs": [],
   "source": [
    "# Librairies à importer utiles aux scripts\n",
    "# N'hésitez pas à en ajouter si vous préférez en utiliser d'autres\n",
    "import numpy as np\n",
    "import pandas as pd\n",
    "import seaborn as sns\n",
    "import matplotlib.pyplot as plt"
   ]
  },
  {
   "cell_type": "markdown",
   "metadata": {},
   "source": [
    "### 1) À l'aide de la librairie pandas, importez le jeu de données dans ce notebook.\n",
    "La fonction read_table de pandas pourra être utile."
   ]
  },
  {
   "cell_type": "code",
   "execution_count": null,
   "metadata": {},
   "outputs": [],
   "source": []
  },
  {
   "cell_type": "markdown",
   "metadata": {},
   "source": [
    "On s'intéresse à la station Total de Bourg-en-Bresse (aux coordonnées 46.20114 5.19791). Son identifiant est le '1000001'. \n",
    "\n",
    "### 2) a-] Extraire du jeu importé toutes les lignes concernant cette station.\n",
    "\n",
    "Pensez à utiliser la fonction where de numpy, et .iloc[] de pandas"
   ]
  },
  {
   "cell_type": "code",
   "execution_count": null,
   "metadata": {},
   "outputs": [],
   "source": []
  },
  {
   "cell_type": "markdown",
   "metadata": {},
   "source": [
    "###  2) b-] Quel est le prix moyen du carburant dans cette station?"
   ]
  },
  {
   "cell_type": "code",
   "execution_count": null,
   "metadata": {},
   "outputs": [],
   "source": []
  },
  {
   "cell_type": "markdown",
   "metadata": {},
   "source": [
    "###  2) c-] Cette station est -elle plus ou moins chère que la moyenne?"
   ]
  },
  {
   "cell_type": "code",
   "execution_count": null,
   "metadata": {},
   "outputs": [],
   "source": []
  },
  {
   "cell_type": "markdown",
   "metadata": {},
   "source": [
    "### 3) Créez une variable valeur1L, correspondant au prix par litre\n",
    "On pourra utiliser la fonction assign de pandas"
   ]
  },
  {
   "cell_type": "code",
   "execution_count": null,
   "metadata": {},
   "outputs": [],
   "source": []
  },
  {
   "cell_type": "markdown",
   "metadata": {},
   "source": [
    "### 4) En moyenne, quel est le carburant le plus cher en France en 2018? \n",
    "Au contraire, quel est le moins cher?\n",
    "Quel est celui qui varie le plus au fil du temps?\n",
    "\n",
    "On pourra utiliser la fonction groupby de pandas."
   ]
  },
  {
   "cell_type": "code",
   "execution_count": null,
   "metadata": {},
   "outputs": [],
   "source": []
  },
  {
   "cell_type": "markdown",
   "metadata": {},
   "source": [
    "### 5) Affichez un boxplot des prix par type de carburants.\n",
    "\n",
    "Indication: fonction boxplot de seaborn."
   ]
  },
  {
   "cell_type": "code",
   "execution_count": null,
   "metadata": {},
   "outputs": [],
   "source": []
  },
  {
   "cell_type": "markdown",
   "metadata": {},
   "source": [
    "Si vous ne vous sentez pas à l'aise, regardez la correction des questions 6) a-] b-] c-] d-] et passez directement à la question 6)e-].\n",
    "\n",
    "### 6) Évolution du prix du carburant en 2018\n",
    "\n",
    "### 6) a-] Créez une fonction qui récupère le mois dans la variable Date"
   ]
  },
  {
   "cell_type": "code",
   "execution_count": null,
   "metadata": {},
   "outputs": [],
   "source": []
  },
  {
   "cell_type": "markdown",
   "metadata": {},
   "source": [
    "### 6) b-] Créez une variable mois dans le dataframe contenant le mois associé à chaque date"
   ]
  },
  {
   "cell_type": "code",
   "execution_count": null,
   "metadata": {
    "scrolled": true
   },
   "outputs": [],
   "source": []
  },
  {
   "cell_type": "markdown",
   "metadata": {},
   "source": [
    "### 6) c-] Créez ensuite le tableau des moyennes de prix mensuelles par carburant\n",
    "\n",
    "En colonnes les mois, en lignes les types de carburants"
   ]
  },
  {
   "cell_type": "code",
   "execution_count": null,
   "metadata": {
    "scrolled": true
   },
   "outputs": [],
   "source": []
  },
  {
   "cell_type": "markdown",
   "metadata": {},
   "source": [
    "### 6) d-] Puis affichez les courbes d'évolution des prix moyens au cours des mois de l'année 2018"
   ]
  },
  {
   "cell_type": "code",
   "execution_count": null,
   "metadata": {},
   "outputs": [],
   "source": []
  },
  {
   "cell_type": "markdown",
   "metadata": {},
   "source": [
    "### 6) e-] Compte-tenu des courbes, quand pensez vous que le gazole dépassera le E10? Même question pour le SP98."
   ]
  },
  {
   "cell_type": "markdown",
   "metadata": {},
   "source": [
    "..."
   ]
  },
  {
   "cell_type": "markdown",
   "metadata": {},
   "source": [
    "Les informations concernant les stations sont référencées dans le .csv à l'adresse suivante:\n",
    "https://raw.githubusercontent.com/llesoil/modelisation_des_problemes_scientifiques-/master/7.pandas_matplotlib/station_essence_total.csv\n",
    "\n",
    "### 7) a-] Importez la table"
   ]
  },
  {
   "cell_type": "code",
   "execution_count": null,
   "metadata": {},
   "outputs": [],
   "source": []
  },
  {
   "cell_type": "markdown",
   "metadata": {},
   "source": [
    "### 7) b-] Calculez le prix moyen par station, et stocker le résultat sus la forme d'une table\n",
    "Avant, enlevez les valeurs manquantes de la variable Valeur1L à l'aide des fonctions invert et isnan de numpy."
   ]
  },
  {
   "cell_type": "code",
   "execution_count": null,
   "metadata": {},
   "outputs": [],
   "source": []
  },
  {
   "cell_type": "markdown",
   "metadata": {},
   "source": [
    "### 7) c-] Créez une table station, jointure des tables créées respectivement en 7)a-] et en 7) b-]\n",
    "\n",
    "La clef de jointure, commune aux deux tables, est l'identifiant des stations. On pourra utiliser join de pandas."
   ]
  },
  {
   "cell_type": "code",
   "execution_count": null,
   "metadata": {},
   "outputs": [],
   "source": []
  },
  {
   "cell_type": "markdown",
   "metadata": {},
   "source": [
    "### 8) Transformez la variable Valeur1L en variable qualitative à quatre classes en raisonnant de la manière suivante:\n",
    "- prix très bas <=> en-dessous du premier quartile\n",
    "- prix assez bas <=> entre le premier quartile et la médiane\n",
    "- prix assez fort <=> entre la médiane et le troisième quartile\n",
    "- prix très fort <=> supérieur au troisième quartile"
   ]
  },
  {
   "cell_type": "code",
   "execution_count": null,
   "metadata": {},
   "outputs": [],
   "source": []
  },
  {
   "cell_type": "markdown",
   "metadata": {},
   "source": [
    "### 9) Vaut-il mieux acheter son carburant sur route ou sur autoroute?\n",
    "\n",
    "La variable typeRoute vaut \"A\" pour autoroute et \"R\" pour route. On pourra faire un tableau de contingence entre typeRoute et la variable créée en 8)."
   ]
  },
  {
   "cell_type": "code",
   "execution_count": null,
   "metadata": {},
   "outputs": [],
   "source": []
  },
  {
   "cell_type": "markdown",
   "metadata": {},
   "source": [
    "Les prix sont homogènes sur les routes. Sur les autoroutes, ils sont plutôt plus hauts."
   ]
  },
  {
   "cell_type": "markdown",
   "metadata": {},
   "source": [
    "### 10) Le département le plus cher de France\n",
    "\n",
    "### 10) a-] Créez une variable dep, qui contiendra le numéro de département de la station"
   ]
  },
  {
   "cell_type": "code",
   "execution_count": null,
   "metadata": {},
   "outputs": [],
   "source": []
  },
  {
   "cell_type": "markdown",
   "metadata": {},
   "source": [
    "### 10) b-] Selon la base de données, dans quel département paye-t-on le plus cher?"
   ]
  },
  {
   "cell_type": "code",
   "execution_count": null,
   "metadata": {},
   "outputs": [],
   "source": []
  },
  {
   "cell_type": "markdown",
   "metadata": {},
   "source": [
    "### 11) Affichez sur une carte les dix stations les moins chères de France en bleu, puis les dix stations les plus chères de France en rouge.\n",
    "\n",
    "Pour les coordonnées, la latitude et la longitude doivent être divisées par $10^5$. On pourra utiliser le module cartopy."
   ]
  },
  {
   "cell_type": "code",
   "execution_count": null,
   "metadata": {},
   "outputs": [],
   "source": []
  }
 ],
 "metadata": {
  "kernelspec": {
   "display_name": "Python 3",
   "language": "python",
   "name": "python3"
  },
  "language_info": {
   "codemirror_mode": {
    "name": "ipython",
    "version": 3
   },
   "file_extension": ".py",
   "mimetype": "text/x-python",
   "name": "python",
   "nbconvert_exporter": "python",
   "pygments_lexer": "ipython3",
   "version": "3.8.1"
  }
 },
 "nbformat": 4,
 "nbformat_minor": 2
}
