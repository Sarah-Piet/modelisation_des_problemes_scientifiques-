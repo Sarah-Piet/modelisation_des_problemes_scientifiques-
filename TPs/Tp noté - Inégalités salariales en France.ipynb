{
 "cells": [
  {
   "cell_type": "markdown",
   "metadata": {},
   "source": [
    "# TP noté : Inégalités salariales en France\n",
    "\n",
    "\n",
    "Je vous fournis deux jeux de données :\n",
    "\n",
    "\n",
    "- Le premier jeu de données est \"fait à la main\", car trouver un jeu de données libre de droit concernant les salaires en France est assez compliqué.\n",
    "\n",
    "Il est stocké à l'adresse suivante:\n",
    "https://raw.githubusercontent.com/llesoil/modelisation_des_problemes_scientifiques-/master/ressources/salaire.csv\n",
    "\n",
    "Pour le construire et vérifier qu'il correspond approximativement à une sous-population cohérente des salariés français, j'ai utilisé des statistiques agrégées collectées par l'INSEE. Cependant, il peut rester quelques incohérences dans le jeu de données. Comme vous êtes chargé d'étudier ce jeu de données, c'est également vous qui devez détecter ces anomalies.\n",
    "\n",
    "### (Bonus) N'hésitez pas à laisser des commentaires sur tout ce qui vous parait \"suspect\" dans la première base de données.\n",
    "\n",
    "J'appelle suspect toute valeur anormalement éloignée d'une réalité possible. Exemple: si j'ai des données sur la fécondité, une mère de famille qui a plus de 40 enfants.\n",
    "\n",
    "Concernant les différentes variables:\n",
    "    - CSP définit la catégorie socio-professionelle des salariés\n",
    "    - Sexe vaut Homme si l'individu est un homme, Femme si c'est une femme\n",
    "    - Salaire est le salaire mensuel brut en euros\n",
    "    - Age est l'age des individus\n",
    "\n",
    "\n",
    "\n",
    "\n",
    "- Le second jeu de données est un tableau qui vient directement de ce [site](https://www.journaldunet.fr/patrimoine/guide-des-finances-personnelles/1166094-salaire-moyen/).\n",
    "\n",
    "La source des données est également l'INSEE. Il est disponible à l'adresse suivante:\n",
    "\n",
    "https://raw.githubusercontent.com/llesoil/modelisation_des_problemes_scientifiques-/master/ressources/evolution_salaire.csv\n",
    "\n"
   ]
  },
  {
   "cell_type": "markdown",
   "metadata": {},
   "source": [
    "## 1) Importez les librairies numpy, pandas, matplotlib et toutes celles qui vous paraitront pertinentes à utiliser dans ce notebook. Importez le premier jeu de données, et affichez les cinq premières lignes. Quelles sont les variables qualitatives? Quelles sont les variables quantitatives?"
   ]
  },
  {
   "cell_type": "code",
   "execution_count": null,
   "metadata": {},
   "outputs": [],
   "source": []
  },
  {
   "cell_type": "markdown",
   "metadata": {},
   "source": [
    "## 2) a-] Quel est le salaire médian? Quel est le salaire moyen? Comparez les deux chiffres."
   ]
  },
  {
   "cell_type": "code",
   "execution_count": null,
   "metadata": {},
   "outputs": [],
   "source": []
  },
  {
   "cell_type": "markdown",
   "metadata": {},
   "source": [
    "## 2) b-] Combien de personnes sont agées de plus de 35 ans dans la base de données?"
   ]
  },
  {
   "cell_type": "code",
   "execution_count": null,
   "metadata": {},
   "outputs": [],
   "source": []
  },
  {
   "cell_type": "markdown",
   "metadata": {},
   "source": [
    "## 2) c-] Au sein de quelle catégorie socio-professionelle peut-on observer les plus grandes variations de salaires?"
   ]
  },
  {
   "cell_type": "code",
   "execution_count": null,
   "metadata": {},
   "outputs": [],
   "source": []
  },
  {
   "cell_type": "markdown",
   "metadata": {},
   "source": [
    "## 3) On considère que ce sont des salariés du privé. Pour passer du brut au net, il retrancher 23% de la valeur du brut. Créez une variable correspondant au salaire net, et affichez les premières lignes de la table."
   ]
  },
  {
   "cell_type": "code",
   "execution_count": null,
   "metadata": {},
   "outputs": [],
   "source": []
  },
  {
   "cell_type": "markdown",
   "metadata": {},
   "source": [
    "## 4) a-] Représentez à l'aide d'un diagramme circulaire les proportions des différentes catégories socio-professionelles. Est-ce que les proportions vous paraissent correctes?"
   ]
  },
  {
   "cell_type": "code",
   "execution_count": null,
   "metadata": {},
   "outputs": [],
   "source": []
  },
  {
   "cell_type": "markdown",
   "metadata": {},
   "source": [
    "## 4) b-] Représentez à l'aide d'un histogramme les effectifs par age."
   ]
  },
  {
   "cell_type": "code",
   "execution_count": null,
   "metadata": {},
   "outputs": [],
   "source": []
  },
  {
   "cell_type": "markdown",
   "metadata": {},
   "source": [
    "## 5) Faites un tableau de contingence entre les variables Sexe et CSP. Dans quelle catégorie les femmes sont-elles le plus représentées? Même question pour les hommes."
   ]
  },
  {
   "cell_type": "code",
   "execution_count": null,
   "metadata": {},
   "outputs": [],
   "source": []
  },
  {
   "cell_type": "markdown",
   "metadata": {},
   "source": [
    "## 6) Faites un boxplot des salaires nets féminins/masculins. Calculez la différence de salaire médian."
   ]
  },
  {
   "cell_type": "code",
   "execution_count": null,
   "metadata": {},
   "outputs": [],
   "source": []
  },
  {
   "cell_type": "markdown",
   "metadata": {},
   "source": [
    "## 7) a-] Isoler la catégorie socio-professionelle Employe dans un nouveau dataframe."
   ]
  },
  {
   "cell_type": "code",
   "execution_count": null,
   "metadata": {},
   "outputs": [],
   "source": []
  },
  {
   "cell_type": "markdown",
   "metadata": {},
   "source": [
    "## 7) b-] Affichez un nuage de point représentant en ordonnées le salaire net des employés, et en abscisses l'age des employés."
   ]
  },
  {
   "cell_type": "code",
   "execution_count": null,
   "metadata": {},
   "outputs": [],
   "source": []
  },
  {
   "cell_type": "markdown",
   "metadata": {},
   "source": [
    "## 7) c-] Tracez la droite de régression correspondant au graphe précédent. Commentez la valeur du R², la régression vous parait-elle adaptée?"
   ]
  },
  {
   "cell_type": "code",
   "execution_count": null,
   "metadata": {},
   "outputs": [],
   "source": []
  },
  {
   "cell_type": "markdown",
   "metadata": {},
   "source": [
    "## 7) d-] Je suis un employé moyen de 25 ans, peux-tu estimer mon salaire net? Même question 30 ans plus tard. Un employe senior gagne combien de fois le salaire d'un employé junior?"
   ]
  },
  {
   "cell_type": "code",
   "execution_count": null,
   "metadata": {},
   "outputs": [],
   "source": []
  },
  {
   "cell_type": "markdown",
   "metadata": {},
   "source": [
    "## 7) e-] Comment pourrait-on améliorer cette régression?\n",
    "\n",
    "Pour s'inspirer, on pourra utiliser l'option hue de la fonction pairplot du module seaborn."
   ]
  },
  {
   "cell_type": "code",
   "execution_count": null,
   "metadata": {},
   "outputs": [],
   "source": []
  },
  {
   "cell_type": "markdown",
   "metadata": {},
   "source": [
    "## 8) a-] Créez des variables qualitatives à partir du salaire net et de l'age. On pourra faire trois classes de valeur pour chaque."
   ]
  },
  {
   "cell_type": "code",
   "execution_count": null,
   "metadata": {},
   "outputs": [],
   "source": []
  },
  {
   "cell_type": "markdown",
   "metadata": {},
   "source": [
    "## 8) b-] Créez le tableau disjonctif complet relatif aux deux variables de la question 8) a-], au Sexe, et à la CSP"
   ]
  },
  {
   "cell_type": "code",
   "execution_count": null,
   "metadata": {},
   "outputs": [],
   "source": []
  },
  {
   "cell_type": "markdown",
   "metadata": {},
   "source": [
    "## 8) c-] Affichez le premier plan factoriel de l'ACM appliqué au tableau du 8) b-], et commentez les résultats. Qu'en déduisez-vous?"
   ]
  },
  {
   "cell_type": "code",
   "execution_count": null,
   "metadata": {},
   "outputs": [],
   "source": []
  },
  {
   "cell_type": "markdown",
   "metadata": {},
   "source": [
    "## 9) Importez la seconde base, et affichez l'évolution des salaires net moyens féminins, masculins et généraux de 1995 à 2014"
   ]
  },
  {
   "cell_type": "code",
   "execution_count": null,
   "metadata": {},
   "outputs": [],
   "source": []
  },
  {
   "cell_type": "markdown",
   "metadata": {},
   "source": [
    "## 10) D'après ce [site](http://mon-convertisseur.fr/calculateur-inflation-entre-deux-dates.php?A=100&C1=EUR&INDICE=FRCPI1998&DD1=01&MM1=01&YYYY1=1995&DD2=01&MM2=01&YYYY2=2014&btnOK=Calculer+%C3%A9quivalent), l'inflation pour l'euro (ou le franc avant 2002) entre 1995 et 2014 a progressé de 44%. A-t-on gagné ou perdu en pouvoir d'achat?"
   ]
  },
  {
   "cell_type": "code",
   "execution_count": null,
   "metadata": {},
   "outputs": [],
   "source": []
  },
  {
   "cell_type": "markdown",
   "metadata": {},
   "source": [
    "## (Bonus) Critique de la première base de données"
   ]
  },
  {
   "cell_type": "markdown",
   "metadata": {},
   "source": []
  }
 ],
 "metadata": {
  "kernelspec": {
   "display_name": "Python 3",
   "language": "python",
   "name": "python3"
  },
  "language_info": {
   "codemirror_mode": {
    "name": "ipython",
    "version": 3
   },
   "file_extension": ".py",
   "mimetype": "text/x-python",
   "name": "python",
   "nbconvert_exporter": "python",
   "pygments_lexer": "ipython3",
   "version": "3.6.5"
  }
 },
 "nbformat": 4,
 "nbformat_minor": 2
}
