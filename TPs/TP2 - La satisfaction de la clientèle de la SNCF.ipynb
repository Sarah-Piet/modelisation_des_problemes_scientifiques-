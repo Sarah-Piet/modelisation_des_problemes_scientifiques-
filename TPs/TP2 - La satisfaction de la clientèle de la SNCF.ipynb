{
 "cells": [
  {
   "cell_type": "markdown",
   "metadata": {},
   "source": [
    "# TP2 - La satisfaction de la clientèle de la SNCF\n",
    "\n",
    "### Deux jeux de données:\n",
    "\n",
    "- Le premier est un ensemble de réponses données à un questionnaire de statisfaction collectées par la SNCF. Les notes sont soit entre 0 et 7 (j'espère pour la SNCF...), soit entre 0 et 10.\n",
    "\n",
    "Infos à l'adresse suivante :\n",
    "\n",
    "https://data.sncf.com/explore/dataset/barometre-notes-dopinion-sncf/information/?sort=date\n",
    "\n",
    "Je ai stocké la bdd à l'adresse suivante:\n",
    "\n",
    "https://raw.githubusercontent.com/llesoil/modelisation_des_problemes_scientifiques-/master/ressources/barometre-notes-dopinion-sncf.csv\n",
    "\n",
    "-  Le second est une enquête plus détaillée, à plus large échelle. Elle comprend des infos détaillées sur le type de clients dans la train, des baromètres détaillés par date et par gare.\n",
    "\n",
    "Infos à l'adresse suivante:\n",
    "\n",
    "https://data.sncf.com/explore/dataset/barometre-client/information/\n",
    "\n",
    "Je l'ai (un peu modifiée puis) stockée à l'adresse suivante:\n",
    "\n",
    "\n"
   ]
  },
  {
   "cell_type": "markdown",
   "metadata": {},
   "source": [
    "### 1) Importez les librairies numpy et pandas, et le premier jeu de données. Affichez les cinq premières lignes."
   ]
  },
  {
   "cell_type": "code",
   "execution_count": null,
   "metadata": {},
   "outputs": [],
   "source": []
  },
  {
   "cell_type": "markdown",
   "metadata": {},
   "source": [
    "### 2) Régression linéaire\n",
    "\n",
    "### 2) a-] Filtrer les valeurs non manquantes de Experience et Reputation. \n",
    "\n",
    "On pourra utiliser la fonction isnan de numpy, trouver le tableau des indices manquants, puis utiliser la fonction setdiff1d de numpy."
   ]
  },
  {
   "cell_type": "code",
   "execution_count": null,
   "metadata": {},
   "outputs": [],
   "source": []
  },
  {
   "cell_type": "markdown",
   "metadata": {},
   "source": [
    "### 2) b-] Expliquez la variable Réputation grâce à la variable Experience à l'aide d'une régression linéaire, puis calculez la droite de régression.\n",
    "\n",
    "Prenez soin de ne garder que les valeurs non-manquantes."
   ]
  },
  {
   "cell_type": "code",
   "execution_count": null,
   "metadata": {},
   "outputs": [],
   "source": []
  },
  {
   "cell_type": "markdown",
   "metadata": {},
   "source": [
    "### 2) c-] Représentez graphiquement la droite de régression et le nuage de points. \n",
    "\n",
    "La régression vous parait-elle adaptée? Justifiez en analysant la valeur de la variable r_value.\n",
    "La comparer au coefficient de corrélation linéaire."
   ]
  },
  {
   "cell_type": "code",
   "execution_count": null,
   "metadata": {},
   "outputs": [],
   "source": []
  },
  {
   "cell_type": "markdown",
   "metadata": {},
   "source": [
    "### 3) Analyse des Correspondances Multiples\n",
    "\n",
    "### 3) a-] Transformez les variables Experience et Reputation en variables qualitatives.\n",
    "\n",
    "Il pourra être utile d'extraire un dataframe ne contenant que des informations renseignées, sans case vide."
   ]
  },
  {
   "cell_type": "code",
   "execution_count": null,
   "metadata": {},
   "outputs": [],
   "source": []
  },
  {
   "cell_type": "markdown",
   "metadata": {},
   "source": [
    "On peut faire un tableau de contingence avec ces deux nouvelles variables"
   ]
  },
  {
   "cell_type": "code",
   "execution_count": null,
   "metadata": {},
   "outputs": [],
   "source": []
  },
  {
   "cell_type": "markdown",
   "metadata": {},
   "source": [
    "### 3) b-] Créez le tableau disjonctif complet (avec les booléens par individu* les modalités des variables) à l'aide de la fonction get_dummies de pandas\n",
    "\n",
    "https://fr.wikipedia.org/wiki/Tableau_disjonctif_complet Pour plus d'informations si ça manque de clarté.\n",
    "\n",
    "On se restreint au dataframe des trois variables suivantes:\n",
    "- La variable Notes_opinion\n",
    "- La variable qualitative représentant l'expérience dela question 3) a-]\n",
    "- La variable qualitative représentant la réputation dela question 3) a-]"
   ]
  },
  {
   "cell_type": "code",
   "execution_count": null,
   "metadata": {},
   "outputs": [],
   "source": []
  },
  {
   "cell_type": "markdown",
   "metadata": {},
   "source": [
    "### 3) c-] Faites une Analyse des Correspondances Multiples sur le tableau de la question 3) b-].\n",
    "\n",
    "On pourra utiliser la fonction MCA du package mca. L'attribut fs_c() de la fonction MCA rend les coordonnées des modalités de variables sur les plans factoriels (par exemple, fs_c()[:,0] rend les coordonnées sur le premier axe).\n",
    "\n",
    "Puis affichez le premier plan factoriel à l'aide de matplotlib:\n",
    "- D'abord, affichez les points correspondants aux modalités de variables\n",
    "- Puis, ajoutez les textes correspondants aux variables à l'emplacement des points (res.columns contient les noms, voir la fonction text() de matplotlib).\n",
    "- Enfin, si vous souhaitez améliorer la lecture du graphique, vous pouvez ajouter des couleurs spécifiques pour chaque variable. Par exemple rouge pour le type de service noté (Notes_opinion), vert pour la réputation, bleu pour l'expérience."
   ]
  },
  {
   "cell_type": "code",
   "execution_count": null,
   "metadata": {
    "scrolled": false
   },
   "outputs": [],
   "source": []
  },
  {
   "cell_type": "markdown",
   "metadata": {},
   "source": [
    "### 3) d-] Analyser les résultats: quel(s) point(s) la scnf doit-elle améliorer en priorité?"
   ]
  },
  {
   "cell_type": "markdown",
   "metadata": {},
   "source": [
    "..."
   ]
  },
  {
   "cell_type": "markdown",
   "metadata": {},
   "source": [
    "### 4) Classification ascendante hiérarchique\n",
    "\n",
    "### 4) a-] Générez la matrice des distances à l'aide de la fonction linkage du package scipy.cluster.hierarchy\n",
    "\n",
    "On réutilisera les résultats de l'acm précédente (prendre la matrice des coordonnées de l'acm)"
   ]
  },
  {
   "cell_type": "code",
   "execution_count": null,
   "metadata": {},
   "outputs": [],
   "source": []
  },
  {
   "cell_type": "markdown",
   "metadata": {},
   "source": [
    "### 4) b-] Affichez le dendogramme correspondant. \n",
    "\n",
    "Compte-tenu de l'affichage précédent, pouvez-vous \"deviner\" quels groupes de variables vont être regroupés?"
   ]
  },
  {
   "cell_type": "code",
   "execution_count": null,
   "metadata": {},
   "outputs": [],
   "source": []
  },
  {
   "cell_type": "markdown",
   "metadata": {},
   "source": [
    "### 4) c-] Les groupes sont-ils en accord avec vos analyses de la question 3) d-]?"
   ]
  },
  {
   "cell_type": "markdown",
   "metadata": {},
   "source": [
    "..."
   ]
  },
  {
   "cell_type": "markdown",
   "metadata": {},
   "source": [
    "### 5) Classification\n",
    "\n",
    "### 5) a-] Importez le second jeu de données\n",
    "\n",
    "Pour la signification des variables :\n",
    "- Agence est l'agence associée à la gare (j'imagine qu'une agence gère les gares au niveau régional). DGGP est l'agence pour la région parisienne, je n'ai pas trouvé la signification de l'acronyme.\n",
    "- Gare correspond à l'identifiant de la gare. Dans la plupart des cas, une ville n'a qu'une seule gare, donc la gare correspond à la ville.\n",
    "- Global_2018 est la note (de 0 à 10) globale de la gare pour l'année 2018.\n",
    "- Accessibilite_2018 est la note (de 0 à 10) donnée pour l'accessibilité de la gare pour l'année 2018.\n",
    "- Proprete_2018 est la note (de 0 à 10) donnée pour la propreté de la gare pour l'année 2018.\n",
    "- Confort_2018 est la note (de 0 à 10) donnée pour le confort de la gare pour l'année 2018.\n",
    "\n",
    "Pensez à  imposer aux notes un type float à l'aide de l'option dtype de la fonction read_table de pandas."
   ]
  },
  {
   "cell_type": "code",
   "execution_count": null,
   "metadata": {},
   "outputs": [],
   "source": []
  },
  {
   "cell_type": "markdown",
   "metadata": {},
   "source": [
    "### 5) b-] Les gares parisiennes sont-elles bien notées?"
   ]
  },
  {
   "cell_type": "code",
   "execution_count": null,
   "metadata": {},
   "outputs": [],
   "source": []
  },
  {
   "cell_type": "markdown",
   "metadata": {},
   "source": [
    "### 5) c-] Faire touner un algo KNN à 3 voisins. Quelles sont les deux gares qui ont les résultats les plus proches de la gare de Rennes?"
   ]
  },
  {
   "cell_type": "code",
   "execution_count": null,
   "metadata": {},
   "outputs": [],
   "source": []
  }
 ],
 "metadata": {
  "kernelspec": {
   "display_name": "Python 3",
   "language": "python",
   "name": "python3"
  },
  "language_info": {
   "codemirror_mode": {
    "name": "ipython",
    "version": 3
   },
   "file_extension": ".py",
   "mimetype": "text/x-python",
   "name": "python",
   "nbconvert_exporter": "python",
   "pygments_lexer": "ipython3",
   "version": "3.7.0"
  }
 },
 "nbformat": 4,
 "nbformat_minor": 2
}
