{
 "cells": [
  {
   "cell_type": "markdown",
   "metadata": {},
   "source": [
    "# TP1 - Le prix du carburant en France\n",
    "\n",
    "--\n",
    "\n",
    "Tous les jeux de données sont issus de la page https://www.prix-carburants.gouv.fr/rubrique/opendata/, ce sont de vraies données datant de 2018 sur les prix de l'essence en France.\n",
    "\n",
    "Pour le côté pratique, j'ai réduit la base de données à 500 stations d'essence, et j'ai extrait des données .xml un csv. Il est disponible à l'adresse suivante:\n",
    "https://raw.githubusercontent.com/llesoil/modelisation_des_problemes_scientifiques-/master/ressources/prix_essence.csv\n",
    "\n",
    "Si vous souhaitez travailler sur toute la France, j'ouvrirai un dépôt le jour du TP.\n",
    "\n"
   ]
  },
  {
   "cell_type": "code",
   "execution_count": 27,
   "metadata": {},
   "outputs": [],
   "source": [
    "import numpy  as np\n",
    "import pandas as pd"
   ]
  },
  {
   "cell_type": "markdown",
   "metadata": {},
   "source": [
    "### 1) À l'aide de la librairie pandas, importer le jeu de données dans ce notebook."
   ]
  },
  {
   "cell_type": "code",
   "execution_count": null,
   "metadata": {},
   "outputs": [],
   "source": []
  },
  {
   "cell_type": "markdown",
   "metadata": {},
   "source": [
    "On s'intéresse dans un premier temps à la station Total de Bourg-en-Bresse (aux coordonnées 46.20114 5.19791). Son identifiant est le '1000001'. \n",
    "\n",
    "### 2) Extraire du jeu importé toutes les lignes concernant cette station."
   ]
  },
  {
   "cell_type": "code",
   "execution_count": null,
   "metadata": {},
   "outputs": [],
   "source": []
  },
  {
   "cell_type": "markdown",
   "metadata": {},
   "source": [
    "### 3) Quel est le prix moyen du carburant dans cette station?"
   ]
  },
  {
   "cell_type": "code",
   "execution_count": null,
   "metadata": {},
   "outputs": [],
   "source": []
  },
  {
   "cell_type": "markdown",
   "metadata": {},
   "source": [
    "### 4) En moyenne, quel est le carburant le plus cher dans cette station? \n",
    "Au contraire, quel est le moins cher?\n",
    "Quel est celui qui varie le plus au fil du temps?"
   ]
  },
  {
   "cell_type": "code",
   "execution_count": null,
   "metadata": {},
   "outputs": [],
   "source": []
  },
  {
   "cell_type": "markdown",
   "metadata": {},
   "source": [
    "### 5) Détaillez le prix moyen par type de carburant, puis affichez un boxplot comparatif pour les carburants."
   ]
  },
  {
   "cell_type": "code",
   "execution_count": null,
   "metadata": {},
   "outputs": [],
   "source": []
  },
  {
   "cell_type": "markdown",
   "metadata": {},
   "source": [
    "### 6) Transformez la variable prix en variable qualitative à quatre classes en raisonnant de la manière suivante:\n",
    "- prix très bas <=> en-dessous du premier quartile\n",
    "- prix assez bas <=> entre le premier quartile et la médiane\n",
    "- prix assez fort <=> entre la médiane et le troisième quartile\n",
    "- prix très fort <=> supérieur au troisième quartile"
   ]
  },
  {
   "cell_type": "code",
   "execution_count": null,
   "metadata": {},
   "outputs": [],
   "source": []
  },
  {
   "cell_type": "markdown",
   "metadata": {},
   "source": [
    "[Si vous avancez rapidement] \n",
    "\n",
    "### 7) Affichez l'évolution du prix de l'essence depuis le début 2018 pour la première station, comparez les quatre types de carburant. \n",
    "\n",
    "On pourra créer une variable synthétique à partir de la date qui reprend le format \"AAAA-MM-JJ\", voir la fonction substring de numpy.\n",
    "\n",
    "Sur le plan économique,  est-il préférable d'acheter un diesel ou une essence quand on fait le plein dans cette station?"
   ]
  },
  {
   "cell_type": "code",
   "execution_count": null,
   "metadata": {},
   "outputs": [],
   "source": []
  },
  {
   "cell_type": "markdown",
   "metadata": {},
   "source": [
    "Les informations concernant les stations sont référencées dans le .csv à l'adresse suivante:\n",
    "https://raw.githubusercontent.com/llesoil/modelisation_des_problemes_scientifiques-/master/ressources/station_essence.csv\n",
    "\n",
    "### 8) Importez la table, puis faites une jointure des tables station_essence et prix_essence. \n",
    "\n",
    "La clef de jointure, commune aux deux tables, est l'identifiant des stations."
   ]
  },
  {
   "cell_type": "code",
   "execution_count": null,
   "metadata": {},
   "outputs": [],
   "source": []
  },
  {
   "cell_type": "markdown",
   "metadata": {},
   "source": [
    "### 9) Vaut-il mieux acheter son carburant sur route ou sur autoroute?\n",
    "\n",
    "La variable typeRoute vaut \"A\" pour autoroute et \"R\" pour route. On pourra faire un tableau de contingence entre typeRoute et la variable créée en 6)."
   ]
  },
  {
   "cell_type": "code",
   "execution_count": null,
   "metadata": {},
   "outputs": [],
   "source": []
  },
  {
   "cell_type": "markdown",
   "metadata": {},
   "source": [
    "### 10) Selon la base de données, dans quel département paye-t-on le plus cher quand on a une voiture diesel?\n",
    "\n",
    "On pourra créer une variable dep, basée sur les deux premiers chiffres des codes postaux, et moyenner les prix par département."
   ]
  },
  {
   "cell_type": "code",
   "execution_count": null,
   "metadata": {},
   "outputs": [],
   "source": []
  },
  {
   "cell_type": "markdown",
   "metadata": {},
   "source": [
    "### 11) En 2018, dans quelle station a-t-on pu acheter le gazole au prix le plus bas?"
   ]
  },
  {
   "cell_type": "code",
   "execution_count": null,
   "metadata": {},
   "outputs": [],
   "source": []
  },
  {
   "cell_type": "markdown",
   "metadata": {},
   "source": [
    "### 12) Affichez sur une carte les dix stations les moins chères de France en bleu, puis les dix stations les plus chères de France en rouge.\n",
    "\n",
    "Pour les coordonnées, la latitude et la longitude doivent être divisées par 10000. On pourra utiliser le module cartopy."
   ]
  },
  {
   "cell_type": "code",
   "execution_count": null,
   "metadata": {},
   "outputs": [],
   "source": []
  },
  {
   "cell_type": "markdown",
   "metadata": {},
   "source": [
    "### 13) Calculez la date à partir de laquelle le prix du diesel dépassera celui de l'essence, pour une station donnée puis pour toute la base de données."
   ]
  },
  {
   "cell_type": "code",
   "execution_count": null,
   "metadata": {},
   "outputs": [],
   "source": []
  }
 ],
 "metadata": {
  "kernelspec": {
   "display_name": "Python 3",
   "language": "python",
   "name": "python3"
  },
  "language_info": {
   "codemirror_mode": {
    "name": "ipython",
    "version": 3
   },
   "file_extension": ".py",
   "mimetype": "text/x-python",
   "name": "python",
   "nbconvert_exporter": "python",
   "pygments_lexer": "ipython3",
   "version": "3.6.5"
  }
 },
 "nbformat": 4,
 "nbformat_minor": 2
}
