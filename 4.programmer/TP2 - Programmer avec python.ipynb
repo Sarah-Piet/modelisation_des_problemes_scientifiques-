{
 "cells": [
  {
   "cell_type": "markdown",
   "metadata": {},
   "source": [
    "# <a href=\"https://www.python.org/\"><img src=\"https://upload.wikimedia.org/wikipedia/commons/thumb/f/f8/Python_logo_and_wordmark.svg/390px-Python_logo_and_wordmark.svg.png\" style=\"max-width: 200px; display: inline\" alt=\"Python\"/></a> [pour Statistique et Science des Données](https://github.com/wikistat/Intro-Python)"
   ]
  },
  {
   "cell_type": "markdown",
   "metadata": {},
   "source": [
    "# Eléments de programmation en  <a href=\"https://www.python.org/\"><img src=\"https://upload.wikimedia.org/wikipedia/commons/thumb/f/f8/Python_logo_and_wordmark.svg/390px-Python_logo_and_wordmark.svg.png\" style=\"max-width: 150px; display: inline\" alt=\"Python\"/></a> pour Calcul Scientifique - Statistique"
   ]
  },
  {
   "cell_type": "markdown",
   "metadata": {},
   "source": [
    "**Résumé**: Compléments de programmation en python: Programmation fonctionnelle (map, reduce, lambda), introduction aux classes et objets, utilisation de modules."
   ]
  },
  {
   "cell_type": "markdown",
   "metadata": {},
   "source": [
    "# A - Cours"
   ]
  },
  {
   "cell_type": "markdown",
   "metadata": {},
   "source": [
    "##  Introduction\n",
    "\n",
    "L'objectif de ce tutoriel est d'introduire quelques outils et concepts plus avancés de la programmation en Python pour dans le but d'améliorer la performance et la lisibilité des codes. Les notions de classe, de programmation objet et celle de *programmation fonctionnelle* qui en découle sont fondamentales. Elles sont fondamentales pour le bon usage de certaines librairies. "
   ]
  },
  {
   "cell_type": "markdown",
   "metadata": {},
   "source": [
    "## 1. Programmation fonctionnelle \n",
    "L'utilisation de *higher-order functions* permet d'éxecuter rapidement des schémas classiques:\n",
    "\n",
    "* appliquer la même fonction aux éléments d'une liste,\n",
    "* séléctionner, ou non, les différents éléments d'une liste selon une certaine condition,\n",
    "* ...\n",
    "\n",
    "**Important**: il s'agit ici d'introduitre les éléments de *programmation fonctionnelle*, présents dans Python, et utilisés systématiquement, car *parallélisable*, dans des architectures distribuées (*e. g. Hadoop, Spark*).\n",
    "\n",
    "### 1.1. `map`\n",
    "\n",
    "La première de cette fonction est la fonction `map`. Elle permet d'appliquer une fonction sur toutes les valeurs d'une liste et retourne une nouvelle liste avec les résultats correspondants.\n"
   ]
  },
  {
   "cell_type": "code",
   "execution_count": null,
   "metadata": {},
   "outputs": [],
   "source": [
    "import random\n",
    "numbers = [random.randrange(-10,10) for k in range(10)]\n",
    "abs_numbers = map(abs,numbers) # Applique la fonction \"valeur absolue\" à tout les élements de la liste\n",
    "print(numbers,list(abs_numbers))"
   ]
  },
  {
   "cell_type": "code",
   "execution_count": null,
   "metadata": {},
   "outputs": [],
   "source": [
    "def first_capital_letters(txt):\n",
    "    if txt[0].islower():\n",
    "        txt = txt[0].upper()+txt[1:]\n",
    "    return txt\n",
    "\n",
    "name=[\"Jason\",\"bryan\",\"hercule\",\"Karim\"]\n",
    "list(map(first_capital_letters,name))"
   ]
  },
  {
   "cell_type": "markdown",
   "metadata": {},
   "source": [
    "### 1.2. `filter`\n",
    "\n",
    "La fonction `filter` permet d'appliquer une fonction test à chaque valeur d'une liste. Si la fonction test est vérifiée, la valeur est ajoutée dans une nouvelle liste. Sinon, la valeur n'est pas prise en compte. La nouvelle liste, constitué de toutes les valeures \"positive\" selon la fonction test, est retournée."
   ]
  },
  {
   "cell_type": "code",
   "execution_count": null,
   "metadata": {},
   "outputs": [],
   "source": [
    "def is_odd(n):\n",
    "    return n % 2 == 1\n",
    "list(filter(is_odd,range(20)))"
   ]
  },
  {
   "cell_type": "markdown",
   "metadata": {},
   "source": [
    "### 1.3. `reduce` \n",
    "\n",
    "La dernière fonction est la fonction `reduce`. Cette approche est loin d'être intuitive. Le meilleur moyen de comprendre le mode d'emploi de cette fonction est d'utiliser un exemple.\n",
    "\n",
    "L'objectif est de calculer la somme de tous les entier de 0 à 9.\n",
    "\n",
    "- Générer dans un premier temps la liste contenant tout ces éléments `r10 = [0,1,2,3,4,5,6,7,8,9]`\n",
    "- La fonction `reduce`, applique une première fois la fonction `sum_and_print` sur les deux premiers éléments de la liste. \n",
    "- Exécution récursive: la fonction `sum_and_print` est appliquée sur le résultat de la première opération et sur le 3ème éléments de la liste\n",
    "- Itération récursive jusqu'à ce que tous les éléments de la liste soient parcourus\n",
    "\n",
    "La fonction `reduce` a donc deux arguments: une fonction et une liste.\n"
   ]
  },
  {
   "cell_type": "code",
   "execution_count": null,
   "metadata": {
    "scrolled": true
   },
   "outputs": [],
   "source": [
    "import functools\n",
    "def sum_and_print(x,y):\n",
    "    print(\"Input: \", x,y)\n",
    "    print(\"Output: \", y)\n",
    "    return x+y\n",
    "\n",
    "r10 = range(10)\n",
    "res =functools.reduce(sum_and_print, r10)\n",
    "print(res)"
   ]
  },
  {
   "cell_type": "markdown",
   "metadata": {},
   "source": [
    "Par défaut, la fonction passée en paramètre de la fonction `reduce` effectue sa première opérations sur les deux premiers éléments de la listes passés en paramètre. Mais il est possible de spécifier une valeur initiale en troisième paramètre. La première opération sera alors effectuée sur cette valeur initiale et le premier élément de la liste."
   ]
  },
  {
   "cell_type": "code",
   "execution_count": null,
   "metadata": {},
   "outputs": [],
   "source": [
    "def somme(x,y):\n",
    "    return x+y\n",
    "\n",
    "r10 = range(10)\n",
    "res =functools.reduce(somme, r10,1000)\n",
    "print(res)"
   ]
  },
  {
   "cell_type": "markdown",
   "metadata": {},
   "source": [
    "### 1.4. `lambda`"
   ]
  },
  {
   "cell_type": "markdown",
   "metadata": {},
   "source": [
    "L'utilisation de fonctions génériques permet de simplifier le code mais il est coûteux de définir une nouvelle fonction qui peut ne pas être réutilisée, comme par exemple celle de l'exemple précédent.\n",
    "L'appel `lambda` permet de créer une fonction de façon temporaire. La définition de ces fonctions est assez restrictive, puisqu'elle implique une définition sur *une seule ligne*, et ne permet pas d'assignation. \n",
    "\n",
    "Autre point important, l'exécution de cette fonction sur des données distribuées est implicitement parallélisée.\n",
    "\n",
    "Ainsi les précédents exemples peuvent-être ré-écrits de la manière suivante:"
   ]
  },
  {
   "cell_type": "code",
   "execution_count": null,
   "metadata": {},
   "outputs": [],
   "source": [
    "name=[\"Jason\",\"bryan\",\"hercule\",\"Karim\"]\n",
    "list(map(lambda x : x[0].upper()+x[1:] if x[0].islower() else x,name))"
   ]
  },
  {
   "cell_type": "code",
   "execution_count": null,
   "metadata": {},
   "outputs": [],
   "source": [
    "list(filter(lambda x : x % 2 == 1 ,range(10)))"
   ]
  },
  {
   "cell_type": "code",
   "execution_count": null,
   "metadata": {},
   "outputs": [],
   "source": [
    "r10 = range(10)\n",
    "res =functools.reduce(lambda x,y:x+y, r10,1000)\n",
    "res"
   ]
  },
  {
   "cell_type": "markdown",
   "metadata": {},
   "source": [
    "## 2. Classes et objets\n",
    "### 2.1. Définitions et exemples\n",
    "Les classes sont des objets communs à tous les langages orientés objets. Ce sont des objets constitués de\n",
    "\n",
    "- *attributs*: des paramètres fixes, de différentes natures, attribués à l'objet, \n",
    "- *méthodes*: des fonctions qui permettent d'appliquer des transformations sur ces attributs. \n",
    "\n",
    "Ci dessous on définit une classe \"Elève\" dans laquelle un élève est décrit par son nom, son prénom et ses notes. On notera la *convention de nommage* des méthodes qui commence par une minuscule, mais qui possède une majuscule à chaque début de nouveau mot. "
   ]
  },
  {
   "cell_type": "code",
   "execution_count": null,
   "metadata": {},
   "outputs": [],
   "source": [
    "class Eleve:\n",
    "    \"\"\"Classe définissant un élève caractérisé par:\n",
    "        - son nom\n",
    "        - son prénom\n",
    "        - ses notes\n",
    "     \"\"\"  \n",
    "    \n",
    "    def __init__(self, nom, prenom): #constructeur de la classe\n",
    "        \"\"\" Construit un élève avec les nom et prenom passé en paramètre et une liste de notes vide.\"\"\"\n",
    "        self._nom = nom\n",
    "        self._prenom=prenom\n",
    "        self._notes = []\n",
    "        \n",
    "    def getNom(self):\n",
    "        \"\"\" retourne le nom de l'élève \"\"\"\n",
    "        return self._nom\n",
    "    \n",
    "    def getNotes(self):\n",
    "        \"\"\" retourne les notes de l'élève\"\"\"\n",
    "        return self._notes\n",
    "    \n",
    "    def getNoteMax(self):\n",
    "        \"\"\" retourne la note max de l'élève\"\"\"\n",
    "        return max(self._notes)\n",
    "    \n",
    "    def getMean(self):\n",
    "        \"\"\" retourne la moyenne de l'élève\"\"\"\n",
    "        return np.mean(self._notes)\n",
    "    \n",
    "    def getNbNote(self):\n",
    "        \"\"\" retourne le nombre de note de l'élève\"\"\"\n",
    "        return len(self._notes)\n",
    "    \n",
    "    def addNote(self, note):\n",
    "        \"\"\" ajoute la note 'note' à la liste de note de l'élève\"\"\"\n",
    "        self._notes.append(note)"
   ]
  },
  {
   "cell_type": "markdown",
   "metadata": {},
   "source": [
    "Toutes les classes sont composées d'un *constructeur* qui a pour nom \\_\\_init\\_\\_. Il s'agit d'une méthode spéciale d'instance que Python reconnaît et sait utiliser dans certains contextes. La fonction \\_\\_init\\_\\_ est automatiquement appelée à la création d'une nouvelle classe et prend en paramètre `self`, qui représente l'objet instantié, et les différents attributs nécessaires à sa création."
   ]
  },
  {
   "cell_type": "code",
   "execution_count": null,
   "metadata": {},
   "outputs": [],
   "source": [
    "eleve1 = Eleve(\"Jean\",\"Bon\")\n",
    "eleve1._nom"
   ]
  },
  {
   "cell_type": "markdown",
   "metadata": {},
   "source": [
    "Les attributs de la classe sont directement accessibles de la manière suivante:\n",
    "\n",
    "`objet.nomDeLAtribbut`\n",
    "\n",
    "Cependant, par convention, il est conseillé de définir une méthode pour avoir accès à cet objet.\n",
    "Les méthodes qui permettent d'accéder à des attributs de l'objets sont appelés des *accessors*. Dans la classe élève, les méthodes commençant par `get` sont des *accessors*."
   ]
  },
  {
   "cell_type": "code",
   "execution_count": null,
   "metadata": {},
   "outputs": [],
   "source": [
    "eleve1.getNom()"
   ]
  },
  {
   "cell_type": "markdown",
   "metadata": {},
   "source": [
    "Les méthodes permettant de modifier les attributs d'un objet sont appelées des *mutators*. La fonction `addNote`, qui permet d'ajouter une note à la liste de notes de l'élève est un *mutator*."
   ]
  },
  {
   "cell_type": "code",
   "execution_count": null,
   "metadata": {},
   "outputs": [],
   "source": [
    "print(eleve1.getNotes())\n",
    "eleve1.addNote(15)\n",
    "print(eleve1.getNotes())"
   ]
  },
  {
   "cell_type": "code",
   "execution_count": null,
   "metadata": {},
   "outputs": [],
   "source": [
    "for k in range(10):\n",
    "    eleve1.addNote(np.random.randint(20))"
   ]
  },
  {
   "cell_type": "code",
   "execution_count": null,
   "metadata": {},
   "outputs": [],
   "source": [
    "print (eleve1.getNbNote())\n",
    "print (eleve1.getNoteMax())\n",
    "print (eleve1.getMean())"
   ]
  },
  {
   "cell_type": "markdown",
   "metadata": {},
   "source": [
    "### 2.2. Héritage\n",
    "\n",
    "L'*héritage* est une fonctionnalité qui permet de définir une classe \"fille\" à  partir d'une autre classe \"mère\". La classe fille hérite alors  automatiquement de tous les attributs et de toutes les méthodes de la classe mère.  "
   ]
  },
  {
   "cell_type": "code",
   "execution_count": null,
   "metadata": {},
   "outputs": [],
   "source": [
    "class EleveSpecial(Eleve):\n",
    "    \n",
    "    def __init__(self, nom, prenom, optionName):\n",
    "        Eleve.__init__(self, nom, prenom)\n",
    "        self._optionName = optionName\n",
    "        self._optionNotes = []\n",
    "\n",
    "    def getNotesOption(self):\n",
    "        \"\"\" retourne les notes de l'élève\"\"\"\n",
    "        return self._optionNotes\n",
    "    \n",
    "    def addNoteOption(self, note):\n",
    "        \"\"\" ajoute la note 'note' à la liste de note de l'élève\"\"\"\n",
    "        self._optionNotes.append(note)"
   ]
  },
  {
   "cell_type": "code",
   "execution_count": null,
   "metadata": {},
   "outputs": [],
   "source": [
    "eleve2 = EleveSpecial(\"Sam\",\"Stress\",\"latin\")"
   ]
  },
  {
   "cell_type": "code",
   "execution_count": null,
   "metadata": {},
   "outputs": [],
   "source": [
    "eleve2.addNote(14)\n",
    "print (eleve2.getNotes())\n",
    "eleve2.addNoteOption(12)\n",
    "print (eleve2.getNotesOption())"
   ]
  },
  {
   "cell_type": "markdown",
   "metadata": {
    "collapsed": true
   },
   "source": [
    "## 3. *Packing* et *Unpacking*\n",
    "Section plus technique qui peut être sautée en première lecture.\n",
    "\n",
    "L'opérateur `*` permet, selon la situation, de \"paquéter\" ou \"dépaquéter\" les éléments d'une liste.\n",
    "\n",
    "L'opérateur `**` permet, selon la situation, de \"paquéter\" ou \"dépaquéter\" les éléments d'un dictionnaire."
   ]
  },
  {
   "cell_type": "code",
   "execution_count": 2,
   "metadata": {},
   "outputs": [
    {
     "ename": "NameError",
     "evalue": "name 'lr' is not defined",
     "output_type": "error",
     "traceback": [
      "\u001b[0;31m---------------------------------------------------------------------------\u001b[0m",
      "\u001b[0;31mNameError\u001b[0m                                 Traceback (most recent call last)",
      "\u001b[0;32m<ipython-input-2-6f5461c8f6dd>\u001b[0m in \u001b[0;36m<module>\u001b[0;34m\u001b[0m\n\u001b[1;32m      1\u001b[0m \u001b[0mX_test\u001b[0m \u001b[0;34m=\u001b[0m \u001b[0;34m[\u001b[0m\u001b[0;34m[\u001b[0m\u001b[0;36m1.5\u001b[0m\u001b[0;34m,\u001b[0m\u001b[0;36m1.5\u001b[0m\u001b[0;34m]\u001b[0m\u001b[0;34m,\u001b[0m\u001b[0;34m[\u001b[0m\u001b[0;36m2\u001b[0m\u001b[0;34m,\u001b[0m\u001b[0;36m4\u001b[0m\u001b[0;34m]\u001b[0m\u001b[0;34m,\u001b[0m\u001b[0;34m[\u001b[0m\u001b[0;36m7.3\u001b[0m\u001b[0;34m,\u001b[0m\u001b[0;36m7.1\u001b[0m\u001b[0;34m]\u001b[0m\u001b[0;34m]\u001b[0m\u001b[0;34m\u001b[0m\u001b[0;34m\u001b[0m\u001b[0m\n\u001b[1;32m      2\u001b[0m \u001b[0mY_test\u001b[0m \u001b[0;34m=\u001b[0m \u001b[0;34m[\u001b[0m\u001b[0;36m1.5\u001b[0m\u001b[0;34m,\u001b[0m\u001b[0;36m2.4\u001b[0m\u001b[0;34m,\u001b[0m\u001b[0;36m7\u001b[0m\u001b[0;34m]\u001b[0m\u001b[0;34m\u001b[0m\u001b[0;34m\u001b[0m\u001b[0m\n\u001b[0;32m----> 3\u001b[0;31m \u001b[0mpred\u001b[0m \u001b[0;34m=\u001b[0m \u001b[0mlr\u001b[0m\u001b[0;34m.\u001b[0m\u001b[0mpredict\u001b[0m\u001b[0;34m(\u001b[0m\u001b[0mX_test\u001b[0m\u001b[0;34m)\u001b[0m\u001b[0;34m\u001b[0m\u001b[0;34m\u001b[0m\u001b[0m\n\u001b[0m\u001b[1;32m      4\u001b[0m \u001b[0ms\u001b[0m \u001b[0;34m=\u001b[0m \u001b[0mlr\u001b[0m\u001b[0;34m.\u001b[0m\u001b[0mscore\u001b[0m\u001b[0;34m(\u001b[0m\u001b[0mX_test\u001b[0m\u001b[0;34m,\u001b[0m\u001b[0mY_test\u001b[0m\u001b[0;34m)\u001b[0m\u001b[0;34m\u001b[0m\u001b[0;34m\u001b[0m\u001b[0m\n\u001b[1;32m      5\u001b[0m \u001b[0mprint\u001b[0m\u001b[0;34m(\u001b[0m\u001b[0mpred\u001b[0m\u001b[0;34m,\u001b[0m\u001b[0ms\u001b[0m\u001b[0;34m)\u001b[0m\u001b[0;34m\u001b[0m\u001b[0;34m\u001b[0m\u001b[0m\n",
      "\u001b[0;31mNameError\u001b[0m: name 'lr' is not defined"
     ]
    }
   ],
   "source": [
    "X_test = [[1.5,1.5],[2,4],[7.3,7.1]]\n",
    "Y_test = [1.5,2.4,7]\n",
    "pred = lr.predict(X_test)\n",
    "s = lr.score(X_test,Y_test)\n",
    "print(pred,s)"
   ]
  },
  {
   "cell_type": "code",
   "execution_count": null,
   "metadata": {},
   "outputs": [],
   "source": [
    "X_test = [[1.5,1.5],[2,4],[7.3,7.1]]\n",
    "Y_test = [1.5,2.4,7]\n",
    "pred = lr.predict(X_test)\n",
    "s = lr.score(X_test,Y_test)\n",
    "print(pred,s)"
   ]
  },
  {
   "cell_type": "markdown",
   "metadata": {},
   "source": [
    "### 3.1 *Unpacking*\n",
    "\n",
    "Dans l'exemple ci-dessous. Les opérateurs \\* et \\*\\*  dépaquettent les listes et dictionnaires pour les passer en arguments de fonctions."
   ]
  },
  {
   "cell_type": "code",
   "execution_count": null,
   "metadata": {},
   "outputs": [],
   "source": [
    "def unpacking_list_and_print(a, b):\n",
    "    print (a)\n",
    "    print (b)\n",
    "listarg = [3,4]\n",
    "unpacking_list_and_print(*listarg)\n",
    "    \n",
    "def unpacking_dict_and_print(k1=0, k2=0):\n",
    "    print (k1)\n",
    "    print (k2)\n",
    "dictarg = {'k1':4, 'k2':8}\n",
    "unpacking_dict_and_print(**dictarg)"
   ]
  },
  {
   "cell_type": "markdown",
   "metadata": {},
   "source": [
    "### 3.2 *Packing*\n",
    "Ces opérateurs sont surtout utiles dans le sens du \"packing\". Les fonctions sont alors définies de sorte à recevoir un nombre inconnu d'argument qui seront ensuite \"paquétés\" et traités dans la fonction.\n",
    "\n",
    "L'argument `*args` permet à la fonction de recevoir un nombre supplémentaire inconnu d'arguments sans mot-clef associé."
   ]
  },
  {
   "cell_type": "code",
   "execution_count": null,
   "metadata": {},
   "outputs": [],
   "source": [
    "def packing_and_print_args(required_arg, *args):\n",
    "    print (\"arg Nécessaire:\", required_arg)\n",
    "    for i, arg in enumerate(args):\n",
    "        print (\"args %d:\" %i, arg)\n",
    "\n",
    "packing_and_print_args(1, \"two\", 3)\n",
    "packing_and_print_args(1, \"two\", [1,2,3],{\"a\":1,\"b\":2,\"c\":3})"
   ]
  },
  {
   "cell_type": "markdown",
   "metadata": {},
   "source": [
    "L'argument `**kwargs` permet à la fonction de recevoir un nombre supplémentaire inconnu d'arguments avec mot-clef."
   ]
  },
  {
   "cell_type": "code",
   "execution_count": null,
   "metadata": {},
   "outputs": [],
   "source": [
    "def packing_and_print_kwargs(def_kwarg=2, **kwargs):\n",
    "    print (\"kwarg défini:\", def_kwarg)\n",
    "    for i,(k,v) in enumerate(kwargs.items()):\n",
    "        print (\"kwarg %d:\" %i ,k , v) \n",
    "\n",
    "packing_and_print_kwargs(def_kwarg=1, sup_arg1=\"two\", sup_arg2=3)\n",
    "packing_and_print_kwargs(sup_arg1=\"two\", sup_arg2=3, sup_arg3=[1,2,3])"
   ]
  },
  {
   "cell_type": "markdown",
   "metadata": {},
   "source": [
    "Les arguments `*args` et `**kwargs` peuvent être combinés dans une autre fonctions."
   ]
  },
  {
   "cell_type": "code",
   "execution_count": null,
   "metadata": {},
   "outputs": [],
   "source": [
    "def packing_and_print_args_and_kwargs(required_arg ,def_kwarg=2, *args, **kwargs):\n",
    "    print (\"arg Nécessaire:\", required_arg)\n",
    "    for i, arg in enumerate(args):\n",
    "        print (\"args %d:\" %i, arg)\n",
    "    print (\"kwarg défini:\", def_kwarg)\n",
    "    for i,(k,v) in enumerate(kwargs.items()):\n",
    "        print (\"kwarg %d:\" %i ,k , v )\n",
    "\n",
    "packing_and_print_args_and_kwargs(1, \"two\", [1,2,3] ,sup_arg1=\"two\", sup_arg2=3 )"
   ]
  },
  {
   "cell_type": "markdown",
   "metadata": {},
   "source": [
    "Ces deux opérateurs sont très utiles pour gérer des classes liées par des héritages. Les arguments `*args **kwargs` permettent alors de gérer la tranmission de cet héritage sans avoir à redéfinir les arguments à chaque étape."
   ]
  },
  {
   "cell_type": "code",
   "execution_count": null,
   "metadata": {},
   "outputs": [],
   "source": [
    "class Objet(object):\n",
    "    def __init__(self, attribut=None, *args, **kwargs):\n",
    "        print (attribut)\n",
    "\n",
    "class Objet2Point0(Objet):\n",
    "    def __init__(self, *args, **kwargs):\n",
    "        super(Objet, self).__init__(*args, **kwargs)\n",
    "\n",
    "class Objet3Point0(Objet2Point0):\n",
    "    def __init__(self,attribut2=None, *args, **kwargs):\n",
    "        super(Objet2Point0, self).__init__(*args, **kwargs)\n",
    "        print (attribut2)\n",
    "\n",
    "my_data = {'attribut': 'Argument1', 'attribut2': 'Argument2'}\n",
    "Objet3Point0(**my_data)"
   ]
  },
  {
   "cell_type": "markdown",
   "metadata": {},
   "source": [
    "### 3.4 Modules et librairies\n",
    "#### Modules \n",
    "Un module contient plusieurs fonctions et commandes qui sont regroupées dans un fichier d'extension `.py`. Insérer un fichier vide de nom `_init_.py` dans chaque dossier et sous-dossier contenant un module à importer.  Un module est appelé par la commande `import`. Un module est considéré comme un script s'il contient des commandes. Lors de l'import d'un script, les commandes sont exécutées tandis que les fonctions sont seulement chargées."
   ]
  },
  {
   "cell_type": "markdown",
   "metadata": {},
   "source": [
    "Commencer par définir un module dans un fichier texte contenant les commandes suivantes.\n",
    "\n",
    "``\n",
    "def DitBonjour():\n",
    "    print(\"Bonjour\")\n",
    "def DivBy2(x):\n",
    "    return x/2\n",
    "``\n",
    "\n",
    "Sauver le fichier avec pour nom `testM.py` dans le répertoire courant.\n",
    "\n",
    "Il est possible d'importer toutes les fonctions en une seule commande `import`. "
   ]
  },
  {
   "cell_type": "code",
   "execution_count": null,
   "metadata": {},
   "outputs": [],
   "source": [
    "import testM\n",
    "testM.DitBonjour()"
   ]
  },
  {
   "cell_type": "code",
   "execution_count": null,
   "metadata": {},
   "outputs": [],
   "source": [
    "print(testM.DivBy2(10))"
   ]
  },
  {
   "cell_type": "code",
   "execution_count": null,
   "metadata": {},
   "outputs": [],
   "source": [
    "from testM import *\n",
    "DitBonjour()"
   ]
  },
  {
   "cell_type": "code",
   "execution_count": null,
   "metadata": {},
   "outputs": [],
   "source": [
    "print(DivBy2(10))"
   ]
  },
  {
   "cell_type": "markdown",
   "metadata": {},
   "source": [
    "Ou seulement celles qui seront utilisées. Préférer cette dernière méthode pour les grosses librairies."
   ]
  },
  {
   "cell_type": "code",
   "execution_count": null,
   "metadata": {},
   "outputs": [],
   "source": [
    "import testM as tm\n",
    "tm.DitBonjour()"
   ]
  },
  {
   "cell_type": "code",
   "execution_count": null,
   "metadata": {},
   "outputs": [],
   "source": [
    "print(tm.DivBy2(10))\n",
    "# délétion des objets\n",
    "%reset "
   ]
  },
  {
   "cell_type": "code",
   "execution_count": null,
   "metadata": {},
   "outputs": [],
   "source": [
    "from testM import DitBonjour\n",
    "DitBonjour()"
   ]
  },
  {
   "cell_type": "code",
   "execution_count": null,
   "metadata": {},
   "outputs": [],
   "source": [
    "print(DivBy2(10)) # erreur"
   ]
  },
  {
   "cell_type": "markdown",
   "metadata": {},
   "source": [
    "Lors de son premier appel, un module est pré-compilé dans un fichier `.pyc` qui est utilisé pour les appels suivants. **Attention**, si le fichier a été modifié / corrigé, il a besoin d'être rechargé par la commande `reload(name)`.\n",
    "\n",
    "Une librairie (*package*) regroupe plusieurs modules dans différents sous-répertoires. Le chargement spécifique d'un des modules se fait en précisant le chemin. \n",
    "`import sound.effects.echo`"
   ]
  },
  {
   "cell_type": "code",
   "execution_count": 1,
   "metadata": {},
   "outputs": [
    {
     "data": {
      "text/plain": [
       "(1, 1, 1.4142135623730951)"
      ]
     },
     "execution_count": 1,
     "metadata": {},
     "output_type": "execute_result"
    }
   ],
   "source": [
    "# Valeurs des paramètres par défaut\n",
    "def pythagorus(x=1,y=1):\n",
    "    \"\"\" calcule l'hypoténuse d'un triangle \"\"\"\n",
    "    r = pow(x**2+y**2,0.5)\n",
    "    return x,y,r\n",
    "pythagorus()"
   ]
  },
  {
   "cell_type": "markdown",
   "metadata": {},
   "source": [
    "## Référence\n",
    "\n",
    "**Lambert K. et Osborne M.** (2010). *Fundamentals of Python: From First Programs Through Data Structures*, Course Technology.\n",
    "\n",
    "**Wikistat** (2019) *Programmation, classes, objets, programmation fonctionnelle.* [notebook](https://github.com/wikistat/Intro-Python/blob/master/Cal4-PythonProg.ipynb)"
   ]
  },
  {
   "cell_type": "markdown",
   "metadata": {},
   "source": [
    "# B - Exercices"
   ]
  },
  {
   "cell_type": "code",
   "execution_count": null,
   "metadata": {},
   "outputs": [],
   "source": []
  },
  {
   "cell_type": "code",
   "execution_count": null,
   "metadata": {},
   "outputs": [],
   "source": []
  }
 ],
 "metadata": {
  "hide_input": false,
  "kernelspec": {
   "display_name": "Python 3",
   "language": "python",
   "name": "python3"
  },
  "language_info": {
   "codemirror_mode": {
    "name": "ipython",
    "version": 3
   },
   "file_extension": ".py",
   "mimetype": "text/x-python",
   "name": "python",
   "nbconvert_exporter": "python",
   "pygments_lexer": "ipython3",
   "version": "3.7.4"
  },
  "toc": {
   "nav_menu": {
    "height": "330px",
    "width": "252px"
   },
   "number_sections": true,
   "sideBar": true,
   "skip_h1_title": false,
   "toc_cell": false,
   "toc_position": {},
   "toc_section_display": "block",
   "toc_window_display": true
  }
 },
 "nbformat": 4,
 "nbformat_minor": 1
}
