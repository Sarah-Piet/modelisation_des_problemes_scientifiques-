{
 "cells": [
  {
   "cell_type": "markdown",
   "metadata": {},
   "source": [
    "# <a href=\"https://www.python.org/\"><img src=\"https://upload.wikimedia.org/wikipedia/commons/thumb/f/f8/Python_logo_and_wordmark.svg/390px-Python_logo_and_wordmark.svg.png\" style=\"max-width: 200px; display: inline\" alt=\"Python\"/></a> [pour Statistique et Science des Données](https://github.com/wikistat/Intro-Python)"
   ]
  },
  {
   "cell_type": "markdown",
   "metadata": {},
   "source": [
    "# Eléments de programmation en  <a href=\"https://www.python.org/\"><img src=\"https://upload.wikimedia.org/wikipedia/commons/thumb/f/f8/Python_logo_and_wordmark.svg/390px-Python_logo_and_wordmark.svg.png\" style=\"max-width: 150px; display: inline\" alt=\"Python\"/></a> pour Calcul Scientifique - Statistique"
   ]
  },
  {
   "cell_type": "markdown",
   "metadata": {},
   "source": [
    "**Résumé**: Compléments de programmation en python: Programmation fonctionnelle (map, reduce, lambda), introduction aux classes et objets, utilisation de modules."
   ]
  },
  {
   "cell_type": "markdown",
   "metadata": {},
   "source": [
    "# A - Cours"
   ]
  },
  {
   "cell_type": "markdown",
   "metadata": {},
   "source": [
    "##  Introduction\n",
    "\n",
    "L'objectif de ce tutoriel est d'introduire quelques outils et concepts plus avancés de la programmation en Python pour dans le but d'améliorer la performance et la lisibilité des codes. Les notions de classe, de programmation objet et celle de *programmation fonctionnelle* qui en découle sont fondamentales. Elles sont fondamentales pour le bon usage de certaines librairies. "
   ]
  },
  {
   "cell_type": "markdown",
   "metadata": {},
   "source": [
    "## 1. Modules et librairies\n",
    "### 1.1. Modules \n",
    "Un module contient plusieurs fonctions et commandes qui sont regroupées dans un fichier d'extension `.py`. Insérer un fichier vide de nom `_init_.py` dans chaque dossier et sous-dossier contenant un module à importer.  Un module est appelé par la commande `import`. Un module est considéré comme un script s'il contient des commandes. Lors de l'import d'un script, les commandes sont exécutées tandis que les fonctions sont seulement chargées."
   ]
  },
  {
   "cell_type": "markdown",
   "metadata": {},
   "source": [
    "Commencer par définir un module dans un fichier texte contenant les commandes suivantes.\n",
    "\n",
    "``\n",
    "def DitBonjour():\n",
    "    print(\"Bonjour\")\n",
    "def DivBy2(x):\n",
    "    return x/2\n",
    "``\n",
    "\n",
    "Sauver le fichier avec pour nom `testM.py` dans le répertoire courant.\n",
    "\n",
    "Il est possible d'importer toutes les fonctions en une seule commande `import`. "
   ]
  },
  {
   "cell_type": "code",
   "execution_count": 1,
   "metadata": {},
   "outputs": [
    {
     "name": "stdout",
     "output_type": "stream",
     "text": [
      "Bonjour\n"
     ]
    }
   ],
   "source": [
    "import testM\n",
    "testM.DitBonjour()"
   ]
  },
  {
   "cell_type": "code",
   "execution_count": 2,
   "metadata": {},
   "outputs": [
    {
     "name": "stdout",
     "output_type": "stream",
     "text": [
      "5.0\n"
     ]
    }
   ],
   "source": [
    "print(testM.DivBy2(10))"
   ]
  },
  {
   "cell_type": "code",
   "execution_count": 3,
   "metadata": {},
   "outputs": [
    {
     "name": "stdout",
     "output_type": "stream",
     "text": [
      "Bonjour\n"
     ]
    }
   ],
   "source": [
    "from testM import *\n",
    "DitBonjour()"
   ]
  },
  {
   "cell_type": "code",
   "execution_count": 4,
   "metadata": {},
   "outputs": [
    {
     "name": "stdout",
     "output_type": "stream",
     "text": [
      "5.0\n"
     ]
    }
   ],
   "source": [
    "print(DivBy2(10))"
   ]
  },
  {
   "cell_type": "markdown",
   "metadata": {},
   "source": [
    "Ou seulement celles qui seront utilisées. Préférer cette dernière méthode pour les grosses librairies."
   ]
  },
  {
   "cell_type": "code",
   "execution_count": 5,
   "metadata": {},
   "outputs": [
    {
     "name": "stdout",
     "output_type": "stream",
     "text": [
      "Bonjour\n"
     ]
    }
   ],
   "source": [
    "import testM as tm\n",
    "tm.DitBonjour()"
   ]
  },
  {
   "cell_type": "code",
   "execution_count": 6,
   "metadata": {},
   "outputs": [
    {
     "name": "stdout",
     "output_type": "stream",
     "text": [
      "5.0\n",
      "Once deleted, variables cannot be recovered. Proceed (y/[n])? \n",
      "Nothing done.\n"
     ]
    }
   ],
   "source": [
    "print(tm.DivBy2(10))\n",
    "# délétion des objets\n",
    "%reset "
   ]
  },
  {
   "cell_type": "code",
   "execution_count": 7,
   "metadata": {},
   "outputs": [
    {
     "name": "stdout",
     "output_type": "stream",
     "text": [
      "Bonjour\n"
     ]
    }
   ],
   "source": [
    "from testM import DitBonjour\n",
    "DitBonjour()"
   ]
  },
  {
   "cell_type": "code",
   "execution_count": 8,
   "metadata": {},
   "outputs": [
    {
     "name": "stdout",
     "output_type": "stream",
     "text": [
      "5.0\n"
     ]
    }
   ],
   "source": [
    "print(DivBy2(10)) # erreur"
   ]
  },
  {
   "cell_type": "markdown",
   "metadata": {},
   "source": [
    "Lors de son premier appel, un module est pré-compilé dans un fichier `.pyc` qui est utilisé pour les appels suivants. **Attention**, si le fichier a été modifié / corrigé, il a besoin d'être rechargé par la commande `reload(name)`.\n",
    "\n",
    "Une librairie (*package*) regroupe plusieurs modules dans différents sous-répertoires. Le chargement spécifique d'un des modules se fait en précisant le chemin. \n",
    "`import sound.effects.echo`"
   ]
  },
  {
   "cell_type": "markdown",
   "metadata": {},
   "source": [
    "### 1.2. Librairies\n",
    "\n",
    "Même principe"
   ]
  },
  {
   "cell_type": "code",
   "execution_count": 9,
   "metadata": {},
   "outputs": [
    {
     "data": {
      "text/plain": [
       "6"
      ]
     },
     "execution_count": 9,
     "metadata": {},
     "output_type": "execute_result"
    }
   ],
   "source": [
    "import random \n",
    "\n",
    "random.randint(3,8)"
   ]
  },
  {
   "cell_type": "code",
   "execution_count": 10,
   "metadata": {},
   "outputs": [
    {
     "data": {
      "text/plain": [
       "5"
      ]
     },
     "execution_count": 10,
     "metadata": {},
     "output_type": "execute_result"
    }
   ],
   "source": [
    "import random as rd\n",
    "\n",
    "rd.randint(3,5)"
   ]
  },
  {
   "cell_type": "code",
   "execution_count": 11,
   "metadata": {},
   "outputs": [
    {
     "data": {
      "text/plain": [
       "6"
      ]
     },
     "execution_count": 11,
     "metadata": {},
     "output_type": "execute_result"
    }
   ],
   "source": [
    "from random import randint\n",
    "\n",
    "randint(5,6)"
   ]
  },
  {
   "cell_type": "markdown",
   "metadata": {},
   "source": [
    "## 2. Programmation fonctionnelle \n",
    "L'utilisation de *higher-order functions* permet d'éxecuter rapidement des schémas classiques:\n",
    "\n",
    "* appliquer la même fonction aux éléments d'une liste,\n",
    "* séléctionner, ou non, les différents éléments d'une liste selon une certaine condition,\n",
    "* ...\n",
    "\n",
    "**Important**: il s'agit ici d'introduitre les éléments de *programmation fonctionnelle*, présents dans Python, et utilisés systématiquement, car *parallélisable*, dans des architectures distribuées (*e. g. Hadoop, Spark*).\n",
    "\n",
    "### 2.1. `map`\n",
    "\n",
    "La première de cette fonction est la fonction `map`. Elle permet d'appliquer une fonction sur toutes les valeurs d'une liste et retourne une nouvelle liste avec les résultats correspondants.\n"
   ]
  },
  {
   "cell_type": "code",
   "execution_count": 12,
   "metadata": {},
   "outputs": [
    {
     "name": "stdout",
     "output_type": "stream",
     "text": [
      "[-3, 1, 0, -3, -9, -9, 6, 4, -10, -9] [3, 1, 0, 3, 9, 9, 6, 4, 10, 9]\n"
     ]
    }
   ],
   "source": [
    "import random\n",
    "numbers = [random.randrange(-10,10) for k in range(10)]\n",
    "abs_numbers = map(abs,numbers) # Applique la fonction \"valeur absolue\" à tout les élements de la liste\n",
    "print(numbers,list(abs_numbers))"
   ]
  },
  {
   "cell_type": "code",
   "execution_count": 13,
   "metadata": {},
   "outputs": [
    {
     "data": {
      "text/plain": [
       "['Jason', 'Bryan', 'Hercule', 'Karim']"
      ]
     },
     "execution_count": 13,
     "metadata": {},
     "output_type": "execute_result"
    }
   ],
   "source": [
    "def first_capital_letters(txt):\n",
    "    if txt[0].islower():\n",
    "        txt = txt[0].upper()+txt[1:]\n",
    "    return txt\n",
    "\n",
    "name=[\"Jason\",\"bryan\",\"hercule\",\"Karim\"]\n",
    "list(map(first_capital_letters,name))"
   ]
  },
  {
   "cell_type": "markdown",
   "metadata": {},
   "source": [
    "### 2.2. `filter`\n",
    "\n",
    "La fonction `filter` permet d'appliquer une fonction test à chaque valeur d'une liste. Si la fonction test est vérifiée, la valeur est ajoutée dans une nouvelle liste. Sinon, la valeur n'est pas prise en compte. La nouvelle liste, constitué de toutes les valeures \"positive\" selon la fonction test, est retournée."
   ]
  },
  {
   "cell_type": "code",
   "execution_count": 14,
   "metadata": {},
   "outputs": [
    {
     "data": {
      "text/plain": [
       "[1, 3, 5, 7, 9, 11, 13, 15, 17, 19]"
      ]
     },
     "execution_count": 14,
     "metadata": {},
     "output_type": "execute_result"
    }
   ],
   "source": [
    "def is_odd(n):\n",
    "    return n % 2 == 1\n",
    "list(filter(is_odd,range(20)))"
   ]
  },
  {
   "cell_type": "markdown",
   "metadata": {},
   "source": [
    "### 2.3. `reduce` \n",
    "\n",
    "La dernière fonction est la fonction `reduce`. Cette approche est loin d'être intuitive. Le meilleur moyen de comprendre le mode d'emploi de cette fonction est d'utiliser un exemple.\n",
    "\n",
    "L'objectif est de calculer la somme de tous les entier de 0 à 9.\n",
    "\n",
    "- Générer dans un premier temps la liste contenant tout ces éléments `r10 = [0,1,2,3,4,5,6,7,8,9]`\n",
    "- La fonction `reduce`, applique une première fois la fonction `sum_and_print` sur les deux premiers éléments de la liste. \n",
    "- Exécution récursive: la fonction `sum_and_print` est appliquée sur le résultat de la première opération et sur le 3ème éléments de la liste\n",
    "- Itération récursive jusqu'à ce que tous les éléments de la liste soient parcourus\n",
    "\n",
    "La fonction `reduce` a donc deux arguments: une fonction et une liste.\n"
   ]
  },
  {
   "cell_type": "code",
   "execution_count": 15,
   "metadata": {
    "scrolled": true
   },
   "outputs": [
    {
     "name": "stdout",
     "output_type": "stream",
     "text": [
      "Input:  0 1\n",
      "Output:  1\n",
      "Input:  1 2\n",
      "Output:  2\n",
      "Input:  3 3\n",
      "Output:  3\n",
      "Input:  6 4\n",
      "Output:  4\n",
      "Input:  10 5\n",
      "Output:  5\n",
      "Input:  15 6\n",
      "Output:  6\n",
      "Input:  21 7\n",
      "Output:  7\n",
      "Input:  28 8\n",
      "Output:  8\n",
      "Input:  36 9\n",
      "Output:  9\n",
      "45\n"
     ]
    }
   ],
   "source": [
    "import functools\n",
    "def sum_and_print(x,y):\n",
    "    print(\"Input: \", x,y)\n",
    "    print(\"Output: \", y)\n",
    "    return x+y\n",
    "\n",
    "r10 = range(10)\n",
    "res =functools.reduce(sum_and_print, r10)\n",
    "print(res)"
   ]
  },
  {
   "cell_type": "markdown",
   "metadata": {},
   "source": [
    "Par défaut, la fonction passée en paramètre de la fonction `reduce` effectue sa première opérations sur les deux premiers éléments de la listes passés en paramètre. Mais il est possible de spécifier une valeur initiale en troisième paramètre. La première opération sera alors effectuée sur cette valeur initiale et le premier élément de la liste."
   ]
  },
  {
   "cell_type": "code",
   "execution_count": 16,
   "metadata": {},
   "outputs": [
    {
     "name": "stdout",
     "output_type": "stream",
     "text": [
      "1045\n"
     ]
    }
   ],
   "source": [
    "def somme(x,y):\n",
    "    return x+y\n",
    "\n",
    "r10 = range(10)\n",
    "res =functools.reduce(somme, r10,1000)\n",
    "print(res)"
   ]
  },
  {
   "cell_type": "markdown",
   "metadata": {},
   "source": [
    "### 2.4. `lambda`"
   ]
  },
  {
   "cell_type": "markdown",
   "metadata": {},
   "source": [
    "L'utilisation de fonctions génériques permet de simplifier le code mais il est coûteux de définir une nouvelle fonction qui peut ne pas être réutilisée, comme par exemple celle de l'exemple précédent.\n",
    "L'appel `lambda` permet de créer une fonction de façon temporaire. La définition de ces fonctions est assez restrictive, puisqu'elle implique une définition sur *une seule ligne*, et ne permet pas d'assignation. \n",
    "\n",
    "Autre point important, l'exécution de cette fonction sur des données distribuées est implicitement parallélisée.\n",
    "\n",
    "Ainsi les précédents exemples peuvent-être ré-écrits de la manière suivante:"
   ]
  },
  {
   "cell_type": "code",
   "execution_count": 17,
   "metadata": {},
   "outputs": [
    {
     "data": {
      "text/plain": [
       "['Jason', 'Bryan', 'Hercule', 'Karim']"
      ]
     },
     "execution_count": 17,
     "metadata": {},
     "output_type": "execute_result"
    }
   ],
   "source": [
    "name=[\"Jason\",\"bryan\",\"hercule\",\"Karim\"]\n",
    "list(map(lambda x : x[0].upper()+x[1:] if x[0].islower() else x,name))"
   ]
  },
  {
   "cell_type": "code",
   "execution_count": 18,
   "metadata": {},
   "outputs": [
    {
     "data": {
      "text/plain": [
       "[1, 3, 5, 7, 9]"
      ]
     },
     "execution_count": 18,
     "metadata": {},
     "output_type": "execute_result"
    }
   ],
   "source": [
    "list(filter(lambda x : x % 2 == 1 ,range(10)))"
   ]
  },
  {
   "cell_type": "code",
   "execution_count": 19,
   "metadata": {},
   "outputs": [
    {
     "data": {
      "text/plain": [
       "1045"
      ]
     },
     "execution_count": 19,
     "metadata": {},
     "output_type": "execute_result"
    }
   ],
   "source": [
    "r10 = range(10)\n",
    "res =functools.reduce(lambda x,y:x+y, r10,1000)\n",
    "res"
   ]
  },
  {
   "cell_type": "markdown",
   "metadata": {},
   "source": [
    "## 3. Classes et objets\n",
    "### 3.1. Définitions et exemples\n",
    "Les classes sont des objets communs à tous les langages orientés objets. Ce sont des objets constitués de\n",
    "\n",
    "- *attributs*: des paramètres fixes, de différentes natures, attribués à l'objet, \n",
    "- *méthodes*: des fonctions qui permettent d'appliquer des transformations sur ces attributs. \n",
    "\n",
    "Ci dessous on définit une classe \"Elève\" dans laquelle un élève est décrit par son nom, son prénom et ses notes. On notera la *convention de nommage* des méthodes qui commence par une minuscule, mais qui possède une majuscule à chaque début de nouveau mot. "
   ]
  },
  {
   "cell_type": "code",
   "execution_count": 20,
   "metadata": {},
   "outputs": [],
   "source": [
    "class Eleve:\n",
    "    \"\"\"\n",
    "    Classe définissant un élève caractérisé par:\n",
    "        - son nom\n",
    "        - son prénom\n",
    "        - ses notes\n",
    "     \"\"\"  \n",
    "    \n",
    "    def __init__(self, nom, prenom): #constructeur de la classe\n",
    "        \"\"\" Construit un élève avec les nom et prenom passé en paramètre et une liste de notes vide.\"\"\"\n",
    "        self._nom = nom\n",
    "        self._prenom=prenom\n",
    "        self._notes = []\n",
    "        \n",
    "    def getNom(self):\n",
    "        \"\"\" retourne le nom de l'élève \"\"\"\n",
    "        return self._nom\n",
    "    \n",
    "    def getNotes(self):\n",
    "        \"\"\" retourne les notes de l'élève\"\"\"\n",
    "        return self._notes\n",
    "    \n",
    "    def getNoteMax(self):\n",
    "        \"\"\" retourne la note max de l'élève\"\"\"\n",
    "        return max(self._notes)\n",
    "    \n",
    "    def getMean(self):\n",
    "        \"\"\" retourne la moyenne de l'élève\"\"\"\n",
    "        return sum(self._notes)/len(self._notes)\n",
    "    \n",
    "    def getNbNote(self):\n",
    "        \"\"\" retourne le nombre de note de l'élève\"\"\"\n",
    "        return len(self._notes)\n",
    "    \n",
    "    def addNote(self, note):\n",
    "        \"\"\" ajoute la note 'note' à la liste de note de l'élève\"\"\"\n",
    "        self._notes.append(note)"
   ]
  },
  {
   "cell_type": "markdown",
   "metadata": {},
   "source": [
    "Toutes les classes sont composées d'un *constructeur* qui a pour nom \\_\\_init\\_\\_. Il s'agit d'une méthode spéciale d'instance que Python reconnaît et sait utiliser dans certains contextes. La fonction \\_\\_init\\_\\_ est automatiquement appelée à la création d'une nouvelle classe et prend en paramètre `self`, qui représente l'objet instantié, et les différents attributs nécessaires à sa création."
   ]
  },
  {
   "cell_type": "code",
   "execution_count": 21,
   "metadata": {},
   "outputs": [
    {
     "data": {
      "text/plain": [
       "'Jean'"
      ]
     },
     "execution_count": 21,
     "metadata": {},
     "output_type": "execute_result"
    }
   ],
   "source": [
    "eleve1 = Eleve(\"Jean\",\"Bon\")\n",
    "eleve1._nom"
   ]
  },
  {
   "cell_type": "markdown",
   "metadata": {},
   "source": [
    "Les attributs de la classe sont directement accessibles de la manière suivante:\n",
    "\n",
    "`objet.nomDeLAtribbut`\n",
    "\n",
    "Cependant, par convention, il est conseillé de définir une méthode pour avoir accès à cet objet.\n",
    "Les méthodes qui permettent d'accéder à des attributs de l'objets sont appelés des *accessors*. Dans la classe élève, les méthodes commençant par `get` sont des *accessors*."
   ]
  },
  {
   "cell_type": "code",
   "execution_count": 22,
   "metadata": {},
   "outputs": [
    {
     "data": {
      "text/plain": [
       "'Jean'"
      ]
     },
     "execution_count": 22,
     "metadata": {},
     "output_type": "execute_result"
    }
   ],
   "source": [
    "eleve1.getNom()"
   ]
  },
  {
   "cell_type": "markdown",
   "metadata": {},
   "source": [
    "Les méthodes permettant de modifier les attributs d'un objet sont appelées des *mutators*. La fonction `addNote`, qui permet d'ajouter une note à la liste de notes de l'élève est un *mutator*."
   ]
  },
  {
   "cell_type": "code",
   "execution_count": 23,
   "metadata": {},
   "outputs": [
    {
     "name": "stdout",
     "output_type": "stream",
     "text": [
      "[]\n",
      "[15]\n"
     ]
    }
   ],
   "source": [
    "print(eleve1.getNotes())\n",
    "eleve1.addNote(15)\n",
    "print(eleve1.getNotes())"
   ]
  },
  {
   "cell_type": "code",
   "execution_count": 24,
   "metadata": {},
   "outputs": [],
   "source": [
    "for k in range(10):\n",
    "    eleve1.addNote(random.randint(10, 20))"
   ]
  },
  {
   "cell_type": "code",
   "execution_count": 25,
   "metadata": {},
   "outputs": [
    {
     "name": "stdout",
     "output_type": "stream",
     "text": [
      "11\n",
      "20\n",
      "16.0\n"
     ]
    }
   ],
   "source": [
    "print (eleve1.getNbNote())\n",
    "print (eleve1.getNoteMax())\n",
    "print (eleve1.getMean())"
   ]
  },
  {
   "cell_type": "markdown",
   "metadata": {},
   "source": [
    "### 3.2. Héritage\n",
    "\n",
    "L'*héritage* est une fonctionnalité qui permet de définir une classe \"fille\" à  partir d'une autre classe \"mère\". La classe fille hérite alors  automatiquement de tous les attributs et de toutes les méthodes de la classe mère.  "
   ]
  },
  {
   "cell_type": "code",
   "execution_count": 26,
   "metadata": {},
   "outputs": [],
   "source": [
    "class EleveSpecial(Eleve):\n",
    "    \n",
    "    def __init__(self, nom, prenom, optionName):\n",
    "        Eleve.__init__(self, nom, prenom)\n",
    "        self._optionName = optionName\n",
    "        self._optionNotes = []\n",
    "\n",
    "    def getNotesOption(self):\n",
    "        \"\"\" retourne les notes de l'élève\"\"\"\n",
    "        return self._optionNotes\n",
    "    \n",
    "    def addNoteOption(self, note):\n",
    "        \"\"\" ajoute la note 'note' à la liste de note de l'élève\"\"\"\n",
    "        self._optionNotes.append(note)"
   ]
  },
  {
   "cell_type": "code",
   "execution_count": 27,
   "metadata": {},
   "outputs": [],
   "source": [
    "eleve2 = EleveSpecial(\"Sam\",\"Stress\",\"latin\")"
   ]
  },
  {
   "cell_type": "code",
   "execution_count": 28,
   "metadata": {},
   "outputs": [
    {
     "name": "stdout",
     "output_type": "stream",
     "text": [
      "[14]\n",
      "[12]\n"
     ]
    }
   ],
   "source": [
    "eleve2.addNote(14)\n",
    "print (eleve2.getNotes())\n",
    "eleve2.addNoteOption(12)\n",
    "print (eleve2.getNotesOption())"
   ]
  },
  {
   "cell_type": "markdown",
   "metadata": {
    "collapsed": true
   },
   "source": [
    "## 4. *Packing* et *Unpacking*\n",
    "Section plus technique qui peut être sautée en première lecture.\n",
    "\n",
    "L'opérateur `*` permet, selon la situation, de \"paquéter\" ou \"dépaquéter\" les éléments d'une liste.\n",
    "\n",
    "L'opérateur `**` permet, selon la situation, de \"paquéter\" ou \"dépaquéter\" les éléments d'un dictionnaire."
   ]
  },
  {
   "cell_type": "markdown",
   "metadata": {},
   "source": [
    "### 4.1 *Unpacking*\n",
    "\n",
    "Dans l'exemple ci-dessous. Les opérateurs \\* et \\*\\*  dépaquettent les listes et dictionnaires pour les passer en arguments de fonctions."
   ]
  },
  {
   "cell_type": "code",
   "execution_count": 29,
   "metadata": {},
   "outputs": [
    {
     "name": "stdout",
     "output_type": "stream",
     "text": [
      "3\n",
      "4\n",
      "4\n",
      "8\n"
     ]
    }
   ],
   "source": [
    "def unpacking_list_and_print(a, b):\n",
    "    print (a)\n",
    "    print (b)\n",
    "listarg = [3,4]\n",
    "unpacking_list_and_print(*listarg)\n",
    "    \n",
    "def unpacking_dict_and_print(k1=0, k2=0):\n",
    "    print (k1)\n",
    "    print (k2)\n",
    "dictarg = {'k1':4, 'k2':8}\n",
    "unpacking_dict_and_print(**dictarg)"
   ]
  },
  {
   "cell_type": "markdown",
   "metadata": {},
   "source": [
    "### 4.2 *Packing*\n",
    "Ces opérateurs sont surtout utiles dans le sens du \"packing\". Les fonctions sont alors définies de sorte à recevoir un nombre inconnu d'argument qui seront ensuite \"paquétés\" et traités dans la fonction.\n",
    "\n",
    "L'argument `*args` permet à la fonction de recevoir un nombre supplémentaire inconnu d'arguments sans mot-clef associé."
   ]
  },
  {
   "cell_type": "code",
   "execution_count": 30,
   "metadata": {},
   "outputs": [
    {
     "name": "stdout",
     "output_type": "stream",
     "text": [
      "arg Nécessaire: 1\n",
      "args 0: two\n",
      "args 1: 3\n",
      "arg Nécessaire: 1\n",
      "args 0: two\n",
      "args 1: [1, 2, 3]\n",
      "args 2: {'a': 1, 'b': 2, 'c': 3}\n"
     ]
    }
   ],
   "source": [
    "def packing_and_print_args(required_arg, *args):\n",
    "    print (\"arg Nécessaire:\", required_arg)\n",
    "    for i, arg in enumerate(args):\n",
    "        print (\"args %d:\" %i, arg)\n",
    "\n",
    "packing_and_print_args(1, \"two\", 3)\n",
    "packing_and_print_args(1, \"two\", [1,2,3],{\"a\":1,\"b\":2,\"c\":3})"
   ]
  },
  {
   "cell_type": "markdown",
   "metadata": {},
   "source": [
    "L'argument `**kwargs` permet à la fonction de recevoir un nombre supplémentaire inconnu d'arguments avec mot-clef."
   ]
  },
  {
   "cell_type": "code",
   "execution_count": 31,
   "metadata": {},
   "outputs": [
    {
     "name": "stdout",
     "output_type": "stream",
     "text": [
      "kwarg défini: 1\n",
      "kwarg 0: sup_arg1 two\n",
      "kwarg 1: sup_arg2 3\n",
      "kwarg défini: 2\n",
      "kwarg 0: sup_arg1 two\n",
      "kwarg 1: sup_arg2 3\n",
      "kwarg 2: sup_arg3 [1, 2, 3]\n"
     ]
    }
   ],
   "source": [
    "def packing_and_print_kwargs(def_kwarg=2, **kwargs):\n",
    "    print (\"kwarg défini:\", def_kwarg)\n",
    "    for i,(k,v) in enumerate(kwargs.items()):\n",
    "        print (\"kwarg %d:\" %i ,k , v) \n",
    "\n",
    "packing_and_print_kwargs(def_kwarg=1, sup_arg1=\"two\", sup_arg2=3)\n",
    "packing_and_print_kwargs(sup_arg1=\"two\", sup_arg2=3, sup_arg3=[1,2,3])"
   ]
  },
  {
   "cell_type": "markdown",
   "metadata": {},
   "source": [
    "Les arguments `*args` et `**kwargs` peuvent être combinés dans une autre fonctions."
   ]
  },
  {
   "cell_type": "code",
   "execution_count": 32,
   "metadata": {},
   "outputs": [
    {
     "name": "stdout",
     "output_type": "stream",
     "text": [
      "arg Nécessaire: 1\n",
      "args 0: [1, 2, 3]\n",
      "kwarg défini: two\n",
      "kwarg 0: sup_arg1 two\n",
      "kwarg 1: sup_arg2 3\n"
     ]
    }
   ],
   "source": [
    "def packing_and_print_args_and_kwargs(required_arg ,def_kwarg=2, *args, **kwargs):\n",
    "    print (\"arg Nécessaire:\", required_arg)\n",
    "    for i, arg in enumerate(args):\n",
    "        print (\"args %d:\" %i, arg)\n",
    "    print (\"kwarg défini:\", def_kwarg)\n",
    "    for i,(k,v) in enumerate(kwargs.items()):\n",
    "        print (\"kwarg %d:\" %i ,k , v )\n",
    "\n",
    "packing_and_print_args_and_kwargs(1, \"two\", [1,2,3] ,sup_arg1=\"two\", sup_arg2=3 )"
   ]
  },
  {
   "cell_type": "markdown",
   "metadata": {},
   "source": [
    "Ces deux opérateurs sont très utiles pour gérer des classes liées par des héritages. Les arguments `*args **kwargs` permettent alors de gérer la tranmission de cet héritage sans avoir à redéfinir les arguments à chaque étape."
   ]
  },
  {
   "cell_type": "code",
   "execution_count": 33,
   "metadata": {},
   "outputs": [
    {
     "name": "stdout",
     "output_type": "stream",
     "text": [
      "Argument1\n",
      "Argument2\n"
     ]
    },
    {
     "data": {
      "text/plain": [
       "<__main__.Objet3Point0 at 0x7f96d430a280>"
      ]
     },
     "execution_count": 33,
     "metadata": {},
     "output_type": "execute_result"
    }
   ],
   "source": [
    "class Objet(object):\n",
    "    def __init__(self, attribut=None, *args, **kwargs):\n",
    "        print (attribut)\n",
    "\n",
    "class Objet2Point0(Objet):\n",
    "    def __init__(self, *args, **kwargs):\n",
    "        super(Objet, self).__init__(*args, **kwargs)\n",
    "\n",
    "class Objet3Point0(Objet2Point0):\n",
    "    def __init__(self,attribut2=None, *args, **kwargs):\n",
    "        super(Objet2Point0, self).__init__(*args, **kwargs)\n",
    "        print (attribut2)\n",
    "\n",
    "my_data = {'attribut': 'Argument1', 'attribut2': 'Argument2'}\n",
    "Objet3Point0(**my_data)"
   ]
  },
  {
   "cell_type": "markdown",
   "metadata": {},
   "source": [
    "## Référence\n",
    "\n",
    "**Lambert K. et Osborne M.** (2010). *Fundamentals of Python: From First Programs Through Data Structures*, Course Technology.\n",
    "\n",
    "**Wikistat** (2019) *Programmation, classes, objets, programmation fonctionnelle.* [notebook](https://github.com/wikistat/Intro-Python/blob/master/Cal4-PythonProg.ipynb)"
   ]
  },
  {
   "cell_type": "markdown",
   "metadata": {},
   "source": [
    "# B - Coder un Yam's"
   ]
  },
  {
   "cell_type": "markdown",
   "metadata": {},
   "source": [
    "Les règles sont disponibles en français :\n",
    "https://www.regles-de-jeux.com/regle-du-yams/"
   ]
  },
  {
   "cell_type": "markdown",
   "metadata": {},
   "source": [
    "#### Import de la librairie random"
   ]
  },
  {
   "cell_type": "code",
   "execution_count": 2,
   "metadata": {},
   "outputs": [],
   "source": [
    "import random"
   ]
  },
  {
   "cell_type": "markdown",
   "metadata": {},
   "source": [
    "#### Question 1 :\n",
    "\n",
    "Définissez une classe ``Dice``. La classe aura un attribut ``value``, un getter ``getValue()`` et un setter ``setValue()``. La classe sera initialisée avec un entier ``val``. Si l'entier ``val`` n'est pas défini, il prend une valeur aléatoire entre 1 et 6 inclus.\n",
    "\n",
    "Créez une instance de ``Dice``, et lancez le 1000 fois. Vérifiez que le nombre de 6 obtenus est cohérent avec les probabilités (~166)."
   ]
  },
  {
   "cell_type": "code",
   "execution_count": 3,
   "metadata": {},
   "outputs": [
    {
     "name": "stdout",
     "output_type": "stream",
     "text": [
      "155\n"
     ]
    }
   ],
   "source": [
    "class Dice:\n",
    "    \n",
    "    def __init__(self, val = None):\n",
    "        if val:\n",
    "            self.value = val\n",
    "        else:\n",
    "            self.roll()\n",
    "        \n",
    "    def getValue(self):\n",
    "        return self.value\n",
    "    \n",
    "    def setValue(self, newValue):\n",
    "        self.value = newValue\n",
    "    \n",
    "    def roll(self):\n",
    "        self.value = random.randint(1,6)\n",
    "\n",
    "d = Dice()\n",
    "launches = []\n",
    "for i in range(1000):\n",
    "    d.roll()\n",
    "    launches.append(d.getValue())\n",
    "print(sum([l==6 for l in launches]))"
   ]
  },
  {
   "cell_type": "markdown",
   "metadata": {},
   "source": [
    "#### Question 2 :\n",
    "\n",
    "Définissez une classe ``TrickDice``. La classe héritera de ``Dice``. Surchargez la méthode launch pour que le dé rende une fois sur deux la valeur 6.\n",
    "\n",
    "Créez une instance de ``TrickDice``, et lancez le 1000 fois. Vérifiez que le nombre de 6 obtenus est cohérent avec les probabilités (~500)."
   ]
  },
  {
   "cell_type": "code",
   "execution_count": 4,
   "metadata": {},
   "outputs": [
    {
     "name": "stdout",
     "output_type": "stream",
     "text": [
      "513\n"
     ]
    }
   ],
   "source": [
    "class TrickDice(Dice):\n",
    "    \n",
    "    def __init__(self, val = None):\n",
    "        if val:\n",
    "            super(val)\n",
    "        else:\n",
    "            super()\n",
    "    \n",
    "    def roll(self):\n",
    "        six = random.randint(0,1)\n",
    "        if six:\n",
    "            self.value = 6\n",
    "        else:\n",
    "            self.value = random.randint(1,5)\n",
    "\n",
    "td = TrickDice()\n",
    "launches = []\n",
    "for i in range(1000):\n",
    "    td.roll()\n",
    "    launches.append(td.getValue())\n",
    "print(sum([l==6 for l in launches]))"
   ]
  },
  {
   "cell_type": "markdown",
   "metadata": {},
   "source": [
    "#### Question 3 :\n",
    "\n",
    "Définissez une classe ``Turn``. \n",
    "\n",
    "Le constructeur de cette classe prendra en entrée un booléen ``tricky``. Si ``tricky`` est vrai, ``Turn`` lancera des dés pipés (``TrickDice``). Si non, ``Turn`` lancera des dés normaux (``Dice``).\n",
    "\n",
    "``Turn`` aura un attribut ``values``, qui prendra les valeurs des dés, un attribut ``remaining_tries`` initialisé à 3. \n",
    "\n",
    "Implémentez les méthodes suivantes dans la classe ``Turn``:\n",
    "- ``launchDices()``, qui lance une série de 5 dés, et les stocke dans l'attribut ``values``\n",
    "- ``getSumScore()``, qui renvoie la somme du lancer actuel\n",
    "- ``getDigitScore(digit)``, qui renvoie la somme des dés ayant la valeur ``digit``\n",
    "- ``getTripsScore()``; si les cinq dés contiennent un brelan, cette fonction renvoie la valeur du brelan (3*la valeur du dé), et 0 sinon\n",
    "- ``getSquareScore()``; si les cinq dés contiennent un carré, cette fonction renvoie la valeur du carré (4*la valeur du dé), et 0 sinon\n",
    "- ``getFullScore()``, qui renvoie 25 si les cinq dés contiennent un full, et 0 sinon\n",
    "- ``getSmallSuiteScore()``, qui renvoie 30 si les cinq dés contiennent une petite suite (4 chiffres à la suite), et 0 sinon\n",
    "- ``getLargeSuiteScore()``, qui renvoie 40 si les cinq dés contiennent une grande suite (5 chiffres à la suite), et 0 sinon\n",
    "- ``getYathzeeScore()``, qui renvoie 50 si les cinq dés contiennent un Yam's, et 0 sinon\n",
    "- ``getScores()``, qui renvoie un 13-uplet contenant les scores du lancer actuel. Par exemple, dans l'ordre (1, 2, 3, 4, 5, 6, Chance, Brelan, Carré, Full, Petite Suite, Grande Suite, Yam's), pour le lancer : [5, 5, 4, 4, 5], ``getScores()`` renverra (0, 0, 0, 8, 15, 0, 23, 15, 0, 25, 0, 0, 0) alors que pour le lancer [2, 6, 3, 4, 5], ``getScores()`` renverra (0, 2, 3, 4, 5, 6, 20, 0, 0, 0, 30, 40, 0)."
   ]
  },
  {
   "cell_type": "code",
   "execution_count": 5,
   "metadata": {},
   "outputs": [
    {
     "name": "stdout",
     "output_type": "stream",
     "text": [
      "Lancer : [3, 3, 6, 3, 4]\n",
      "1  :  0\n",
      "2  :  0\n",
      "3  :  9\n",
      "4  :  4\n",
      "5  :  0\n",
      "6  :  6\n",
      "Chance  :  19\n",
      "Brelan  :  9\n",
      "Carré  :  0\n",
      "Full  :  0\n",
      "Petite suite  :  0\n",
      "Grande suite  :  0\n",
      "Yam's  :  0\n"
     ]
    }
   ],
   "source": [
    "class Turn():\n",
    "    \n",
    "    def __init__(self, tricky = False):\n",
    "        self.remaining_tries = 3\n",
    "        if tricky:\n",
    "            self.dice = TrickDice()\n",
    "        else:\n",
    "            self.dice = Dice()\n",
    "    \n",
    "    def launchDices(self):\n",
    "        \"\"\" Lance les dés por la première fois \"\"\"\n",
    "        self.remaining_tries-=1\n",
    "        vals = []\n",
    "        for i in range(5):\n",
    "            self.dice.roll()\n",
    "            vals.append(self.dice.getValue())\n",
    "        self.values = vals\n",
    "        \n",
    "    def relaunchDices(self, index):\n",
    "        \"\"\" Relance les dés des indices présent dans le tableau index \"\"\"\n",
    "        self.remaining_tries-=1\n",
    "        vals = self.values\n",
    "        for i in index:\n",
    "            self.dice.roll()\n",
    "            self.values[i] = self.dice.getValue()\n",
    "            \n",
    "    def getDigitScore(self, digit):\n",
    "        \"\"\" Renvoie la somme des dés ayant la valeur digit \"\"\"\n",
    "        return self.values.count(digit)*digit\n",
    "            \n",
    "    def getSumScore(self):\n",
    "        \"\"\" Chance correspond à la somme des dés \"\"\"\n",
    "        return sum(self.values)\n",
    "    \n",
    "    def getTripsScore(self):\n",
    "        \"\"\" Renvoie le score du brelan (3*val), où val est la valeur des dés du brelan \"\"\"\n",
    "        contain_trips = False\n",
    "        val = 0\n",
    "        for i in range(3):\n",
    "            if self.values.count(self.values[i]) >= 3:\n",
    "                contain_trips = True\n",
    "                val = self.values[i]\n",
    "        return contain_trips*val*3\n",
    "    \n",
    "    def getSquareScore(self):\n",
    "        \"\"\" Renvoie le score du carré (4*val), où val est la valeur des dés du carré \"\"\"\n",
    "        contain_square = False\n",
    "        val = 0\n",
    "        for i in range(3):\n",
    "            if self.values.count(self.values[i]) >= 4:\n",
    "                contain_square = True\n",
    "                val = self.values[i]\n",
    "        return contain_square*val*4\n",
    "       \n",
    "    def getFullScore(self):\n",
    "        \"\"\" Renvoie la valeur du score du full, 25 s'il y a un full, 0 sinon \"\"\"\n",
    "        full = False\n",
    "        contain_trips = False\n",
    "        for i in range(3):\n",
    "            if self.values.count(self.values[i]) == 3:\n",
    "                contain_trips = True\n",
    "        if contain_trips and len(list(set(self.values)))==2:\n",
    "            full = True\n",
    "        return full*25\n",
    "    \n",
    "    def getSmallSuiteScore(self):\n",
    "        \"\"\" Renvoie la valeur du score associé à la petite suite, 30 si petite suite, 0 sinon \"\"\"\n",
    "        possibles = [[1,2,3,4],[2,3,4,5],[3,4,5,6]]\n",
    "        ssuite = False\n",
    "        for suite in possibles:\n",
    "            contain_suite = True\n",
    "            for p in suite:\n",
    "                if not self.values.__contains__(p):\n",
    "                    contain_suite = False\n",
    "            if contain_suite:\n",
    "                ssuite = True\n",
    "        return ssuite*30\n",
    "    \n",
    "    def getLargeSuiteScore(self):\n",
    "        \"\"\" Renvoie la valeur du score associé à la grande suite, 40 si grande suite, 0 sinon \"\"\"\n",
    "        possibles = [[1,2,3,4,5],[2,3,4,5,6]]\n",
    "        lsuite = False\n",
    "        for suite in possibles:\n",
    "            contain_suite = True\n",
    "            for p in suite:\n",
    "                if not self.values.__contains__(p):\n",
    "                    contain_suite = False\n",
    "            if contain_suite:\n",
    "                lsuite = True\n",
    "        return lsuite*40\n",
    "    \n",
    "    def getYahtzeeScore(self):\n",
    "        \"\"\" Renvoie la valeur du score associé au yams, 50 s'il y a un yams, 0 sinon \"\"\"\n",
    "        return (self.values.count(self.values[0]) == 5)*50\n",
    "    \n",
    "    def getScores(self):\n",
    "        \"\"\" Renvoie un tuple de scores \"\"\"\n",
    "        return (self.getDigitScore(1), self.getDigitScore(2), self.getDigitScore(3), \n",
    "                self.getDigitScore(4), self.getDigitScore(5), self.getDigitScore(6), \n",
    "                self.getSumScore(), self.getTripsScore(), self.getSquareScore(),\n",
    "                self.getFullScore(), self.getSmallSuiteScore(), \n",
    "                self.getLargeSuiteScore(), self.getYahtzeeScore())\n",
    "            \n",
    "t = Turn(False)\n",
    "t.launchDices()\n",
    "\n",
    "print(\"Lancer :\", t.values)\n",
    "\n",
    "names = [\"1\", \"2\", \"3\", \"4\", \"5\", \"6\", \"Chance\", \"Brelan\", \"Carré\", \n",
    "         \"Full\", \"Petite suite\", \"Grande suite\", \"Yam's\"]\n",
    "scores = t.getScores()\n",
    "#print(scores)\n",
    "\n",
    "for s in range(len(scores)):\n",
    "    print(names[s],\" : \",scores[s])"
   ]
  },
  {
   "cell_type": "markdown",
   "metadata": {},
   "source": [
    "#### Question 4 :\n",
    "\n",
    "Simulez 500 tours (sans relance de dés) avec des dés pipés, et des dés normaux.\n",
    "\n",
    "Appliquez une stratégie \"glouton\" : pour chaque tour, choisir la méthode qui donne le plus de points.\n",
    "\n",
    "Quels dés donnent le plus de points? Combien de plus en moyenne?"
   ]
  },
  {
   "cell_type": "code",
   "execution_count": 6,
   "metadata": {},
   "outputs": [
    {
     "name": "stdout",
     "output_type": "stream",
     "text": [
      "Normal = 19.774\n",
      "Trick = 23.63\n"
     ]
    }
   ],
   "source": [
    "def max(t):\n",
    "    m = t[0]\n",
    "    for i in range(1, len(t), 1):\n",
    "        if m < t[i]:\n",
    "            m = t[i]\n",
    "    return m\n",
    "\n",
    "count_turn = 0\n",
    "points_normal = 0\n",
    "points_trick = 0\n",
    "while count_turn < 500:\n",
    "    count_turn+=1\n",
    "    # normal\n",
    "    t = Turn()\n",
    "    t.launchDices()\n",
    "    points_normal+=max(t.getScores())\n",
    "    # trick\n",
    "    t = Turn(True)\n",
    "    t.launchDices()\n",
    "    points_trick+=max(t.getScores())\n",
    "print(\"Normal =\",points_normal/500)\n",
    "print(\"Trick =\",points_trick/500)"
   ]
  },
  {
   "cell_type": "markdown",
   "metadata": {},
   "source": [
    "#### Question 5:\n",
    "\n",
    "Codez un jeu de Yam's interactif avec deux relances de dés, en utilisant des widgets.\n",
    "\n",
    "Voici un exemple de widgets qui peut servir de base:"
   ]
  },
  {
   "cell_type": "code",
   "execution_count": 7,
   "metadata": {},
   "outputs": [
    {
     "data": {
      "application/vnd.jupyter.widget-view+json": {
       "model_id": "1ba0702f5fa84484adf320e6d61033f2",
       "version_major": 2,
       "version_minor": 0
      },
      "text/plain": [
       "HBox(children=(Button(description='Clic', style=ButtonStyle()), Checkbox(value=False, description='Truquer les…"
      ]
     },
     "metadata": {},
     "output_type": "display_data"
    }
   ],
   "source": [
    "from ipywidgets import interact\n",
    "import ipywidgets as widgets\n",
    "\n",
    "tricky = widgets.Checkbox(value = False, description = \"Truquer les dés?\")\n",
    "\n",
    "button = widgets.Button(description='Clic')\n",
    "out = widgets.Output()\n",
    "def on_button_clicked(_):\n",
    "    with out:\n",
    "        print(\"Je suis cliqué!\")\n",
    "button.on_click(on_button_clicked)\n",
    "widgets.HBox([button, tricky, out])"
   ]
  },
  {
   "cell_type": "markdown",
   "metadata": {},
   "source": [
    "#### Une proposition de réponse, sans doute à améliorer... Faîtes vos propres choix! ;-)"
   ]
  },
  {
   "cell_type": "code",
   "execution_count": 8,
   "metadata": {
    "scrolled": false
   },
   "outputs": [
    {
     "data": {
      "application/vnd.jupyter.widget-view+json": {
       "model_id": "f9c11acaed9045778638becaa61e5c11",
       "version_major": 2,
       "version_minor": 0
      },
      "text/plain": [
       "VBox(children=(HBox(children=(Checkbox(value=False, description='Truquer les dés?'),)), HBox(children=(Button(…"
      ]
     },
     "metadata": {},
     "output_type": "display_data"
    },
    {
     "name": "stdout",
     "output_type": "stream",
     "text": [
      "La partie est finie ! Vous avez 286 points!\n"
     ]
    }
   ],
   "source": [
    "tricky = widgets.Checkbox(value = False, description = \"Truquer les dés?\")\n",
    "\n",
    "turn = Turn(True)\n",
    "turn.launchDices()\n",
    "\n",
    "#### bouton launch + dés \n",
    "button = widgets.Button()\n",
    "list_widgets = [button]\n",
    "for i in range(5):\n",
    "    list_widgets.append(widgets.Checkbox(value = False, description = str(t.values[i])))\n",
    "\n",
    "\n",
    "#### scores\n",
    "names = [\"1\", \"2\", \"3\", \"4\", \"5\", \"6\", \"Chance\", \"Brelan\", \"Carré\", \"Full\", \"Petite\", \"Grande\", \"Yam's\"]\n",
    "# nombre de tours\n",
    "nb_turns = len(names)\n",
    "# les intitulés des cases de score \n",
    "scores = [\"-\"]*nb_turns\n",
    "# les points, un tuple comme dans la question 3 - cf getScores()\n",
    "points = [0]*nb_turns\n",
    "\n",
    "# intitulés des différentes possibilités\n",
    "list_names = [widgets.Button(description=names[i]) for i in range(len(names))]\n",
    "# intitulés des scores\n",
    "list_scores = [widgets.Button(description=scores[i]) for i in range(len(names))]\n",
    "\n",
    "\n",
    "def refresh():\n",
    "    \"\"\" Rafraichit la valeur des widgets \"\"\"\n",
    "    # on rafraichit les valeurs de dés\n",
    "    for i in range(5):\n",
    "        list_widgets[i+1].description = str(turn.values[i])\n",
    "    # on rafraichit le nombre d'essais qui reste(nt)\n",
    "    list_widgets[0].description = 'Launch('+str(turn.remaining_tries)+\")\"\n",
    "    # on rafraichit les scores compte-tenus des nouveaux jets de dés\n",
    "    s = turn.getScores()\n",
    "    for i in range(len(s)):\n",
    "        list_scores[i].description = str(s[i])\n",
    "\n",
    "def roll_dices(_):\n",
    "    \"\"\" L'action exécutée si on clique sur le bouton Launch \"\"\"\n",
    "    # s'il reste des essais\n",
    "    if turn.remaining_tries > 0:\n",
    "        # on relance les dés pour lesquels les box sont cochées\n",
    "        turn.relaunchDices([lw-1 for lw in range(1, 6, 1) if list_widgets[lw].value])\n",
    "        # on rafraichit les valeurs avec les nouvelles valeurs de dés\n",
    "        refresh()\n",
    "\n",
    "def finish_turn(btn):\n",
    "    \"\"\" Finit le tour en choisissant \"\"\"\n",
    "    global turn, nb_turns, points\n",
    "    # index du score courant\n",
    "    index = names.index(btn.description)\n",
    "    # points associés au choix\n",
    "    current_points = turn.getScores()[index]\n",
    "    # on met à jour la description de la case choisie\n",
    "    btn.description = str(current_points)\n",
    "    # on enlève la possibilité de mettre à jour ce score\n",
    "    btn._click_handlers.callbacks = []\n",
    "    # on passe au nouveau tour\n",
    "    turn = Turn(tricky.value)\n",
    "    # on relance les dés\n",
    "    turn.launchDices()\n",
    "    # on rafraichit les boutons\n",
    "    refresh()\n",
    "    # on décrémente le nombre de tours \n",
    "    nb_turns-=1\n",
    "    # on met à jour les points\n",
    "    points[index] = current_points\n",
    "    # si fin de partie\n",
    "    if nb_turns==0:\n",
    "        final_points = sum(points)\n",
    "        # si bonus de points (+ de 63 points), on rajoute 35 points\n",
    "        if sum(points[:6])> 63:\n",
    "            final_points+=35\n",
    "        print(\"La partie est finie ! Vous avez \"+str(final_points)+\" points!\")\n",
    "\n",
    "# relancer certains dés\n",
    "button.on_click(roll_dices)\n",
    "# choisir une possibilité pour fixer un score, et changer de tour\n",
    "for s in list_names:\n",
    "    s.on_click(finish_turn)\n",
    "\n",
    "\n",
    "# affichage\n",
    "refresh()\n",
    "widgets.VBox([\n",
    "              widgets.HBox([tricky]),\n",
    "              widgets.HBox(list_widgets),\n",
    "              widgets.HBox(list_names),\n",
    "              widgets.HBox(list_scores),\n",
    "              widgets.HBox([widgets.Output()])\n",
    "             ])\n"
   ]
  },
  {
   "cell_type": "code",
   "execution_count": 9,
   "metadata": {},
   "outputs": [
    {
     "data": {
      "text/plain": [
       "357"
      ]
     },
     "execution_count": 9,
     "metadata": {},
     "output_type": "execute_result"
    }
   ],
   "source": [
    "sum([5*k for k in range(1, 7, 1)])+35+30+18+24+25+30+40+50"
   ]
  },
  {
   "cell_type": "code",
   "execution_count": null,
   "metadata": {},
   "outputs": [],
   "source": []
  },
  {
   "cell_type": "code",
   "execution_count": null,
   "metadata": {},
   "outputs": [],
   "source": []
  },
  {
   "cell_type": "code",
   "execution_count": null,
   "metadata": {},
   "outputs": [],
   "source": []
  },
  {
   "cell_type": "code",
   "execution_count": null,
   "metadata": {},
   "outputs": [],
   "source": []
  },
  {
   "cell_type": "code",
   "execution_count": null,
   "metadata": {},
   "outputs": [],
   "source": []
  },
  {
   "cell_type": "code",
   "execution_count": null,
   "metadata": {},
   "outputs": [],
   "source": []
  },
  {
   "cell_type": "code",
   "execution_count": null,
   "metadata": {},
   "outputs": [],
   "source": []
  },
  {
   "cell_type": "code",
   "execution_count": null,
   "metadata": {},
   "outputs": [],
   "source": []
  },
  {
   "cell_type": "code",
   "execution_count": null,
   "metadata": {},
   "outputs": [],
   "source": []
  },
  {
   "cell_type": "code",
   "execution_count": null,
   "metadata": {},
   "outputs": [],
   "source": []
  }
 ],
 "metadata": {
  "hide_input": false,
  "kernelspec": {
   "display_name": "Python 3",
   "language": "python",
   "name": "python3"
  },
  "language_info": {
   "codemirror_mode": {
    "name": "ipython",
    "version": 3
   },
   "file_extension": ".py",
   "mimetype": "text/x-python",
   "name": "python",
   "nbconvert_exporter": "python",
   "pygments_lexer": "ipython3",
   "version": "3.8.1"
  },
  "toc": {
   "nav_menu": {
    "height": "330px",
    "width": "252px"
   },
   "number_sections": true,
   "sideBar": true,
   "skip_h1_title": false,
   "toc_cell": false,
   "toc_position": {},
   "toc_section_display": "block",
   "toc_window_display": true
  }
 },
 "nbformat": 4,
 "nbformat_minor": 1
}
