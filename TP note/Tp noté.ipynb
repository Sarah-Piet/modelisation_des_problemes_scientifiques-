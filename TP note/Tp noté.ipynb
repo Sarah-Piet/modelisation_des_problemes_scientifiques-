{
 "cells": [
  {
   "cell_type": "markdown",
   "metadata": {},
   "source": [
    "# TP noté - À envoyer par mail à luc.lesoil@irisa.fr avant le 15 février 2020!\n",
    "\n",
    "Dans votre mail, pensez à m'indiquer votre nom et votre prénom pour éviter de vous retrouver avec la note d'un autre!"
   ]
  },
  {
   "cell_type": "markdown",
   "metadata": {},
   "source": [
    "Ce jeu de données est généré à la main. Il contient de (fausses) données sur le parcours professionel de plusieurs (fausses) personnes.\n",
    "\n",
    "Description des variables:\n",
    "- prenom contient le prénom de la personne considérée (un prénom est associé à une personne)\n",
    "- revenus_bruts contient les revenus bruts des personnes\n",
    "- mois contient le mois associé à ces revenus\n",
    "- annee contient l'année associée à ces revenus\n",
    "- cotisation contient vrai si la personne cotise pour sa retraite à ce moment-là\n",
    "\n",
    "Quelques conseils:\n",
    "- Les réponses (sauf la 2a) demandent toujours au moins une ligne de code\n",
    "- Commentez les parties complexes\n",
    "- Avant d'envoyer votre travail, pensez à redémarrer le noyau puis exécuter toutes les cellules pour éviter des étourderies de dernière minute\n",
    "- Du moment que la réponse fonctionne, j'accorde les points\n",
    "- Pour les figures, pensez à mettre un titre et à nommer les axes\n",
    "- Le travail est personnel ;-)"
   ]
  },
  {
   "cell_type": "markdown",
   "metadata": {},
   "source": [
    "### Importez toutes les libraries du notebook dans la prochaine cellule"
   ]
  },
  {
   "cell_type": "code",
   "execution_count": null,
   "metadata": {},
   "outputs": [],
   "source": []
  },
  {
   "cell_type": "markdown",
   "metadata": {},
   "source": [
    "### 1) Importez le jeu de données 'data.csv', puis affichez les cinq premières lignes"
   ]
  },
  {
   "cell_type": "code",
   "execution_count": null,
   "metadata": {},
   "outputs": [],
   "source": []
  },
  {
   "cell_type": "markdown",
   "metadata": {},
   "source": [
    "### 2) Description des données\n",
    "\n",
    "#### 2) a-]  La variable revenus_bruts est-elle qualitative ou quantitative?"
   ]
  },
  {
   "cell_type": "code",
   "execution_count": null,
   "metadata": {},
   "outputs": [],
   "source": []
  },
  {
   "cell_type": "markdown",
   "metadata": {},
   "source": [
    "#### 2) b-]  Quel est le type de la variable cotisation? Affichez le en console"
   ]
  },
  {
   "cell_type": "code",
   "execution_count": null,
   "metadata": {},
   "outputs": [],
   "source": []
  },
  {
   "cell_type": "markdown",
   "metadata": {},
   "source": [
    "#### 2) c-]  Affichez les dimensions du dataframe"
   ]
  },
  {
   "cell_type": "code",
   "execution_count": null,
   "metadata": {},
   "outputs": [],
   "source": []
  },
  {
   "cell_type": "markdown",
   "metadata": {},
   "source": [
    "#### 2) d-]  Combien de prénoms différents contient le dataset?"
   ]
  },
  {
   "cell_type": "code",
   "execution_count": null,
   "metadata": {},
   "outputs": [],
   "source": []
  },
  {
   "cell_type": "markdown",
   "metadata": {},
   "source": [
    "### 3) Extraction des données et statistiques descriptives"
   ]
  },
  {
   "cell_type": "markdown",
   "metadata": {},
   "source": [
    "#### 3) a-]  Quelle période couvre le dataset?"
   ]
  },
  {
   "cell_type": "code",
   "execution_count": null,
   "metadata": {},
   "outputs": [],
   "source": []
  },
  {
   "cell_type": "code",
   "execution_count": null,
   "metadata": {},
   "outputs": [],
   "source": []
  },
  {
   "cell_type": "markdown",
   "metadata": {},
   "source": [
    "#### 3) b-]  Quelle est la moyenne des revenus bruts?"
   ]
  },
  {
   "cell_type": "code",
   "execution_count": null,
   "metadata": {
    "scrolled": true
   },
   "outputs": [],
   "source": []
  },
  {
   "cell_type": "markdown",
   "metadata": {},
   "source": [
    "#### 3) c-]  Quels ont été les revenus bruts de Patrick en janvier 1979?"
   ]
  },
  {
   "cell_type": "code",
   "execution_count": null,
   "metadata": {},
   "outputs": [],
   "source": []
  },
  {
   "cell_type": "markdown",
   "metadata": {},
   "source": [
    "#### 3) d-]  Quel montant brut a touché Catherine sur toute l'année 1983?"
   ]
  },
  {
   "cell_type": "code",
   "execution_count": null,
   "metadata": {},
   "outputs": [],
   "source": []
  },
  {
   "cell_type": "markdown",
   "metadata": {},
   "source": [
    "### 4) Transformation des données"
   ]
  },
  {
   "cell_type": "markdown",
   "metadata": {},
   "source": [
    "#### 4) a-] Créez un dataset contenant les revenus bruts annuels moyens de Patrick. "
   ]
  },
  {
   "cell_type": "code",
   "execution_count": null,
   "metadata": {
    "scrolled": true
   },
   "outputs": [],
   "source": []
  },
  {
   "cell_type": "markdown",
   "metadata": {},
   "source": [
    "#### 4) b-] Créez une variable revenus_nets à l'aide de la variable revenus_bruts. \n",
    "\n",
    "Pour grossièrement passer d'un salaire brut à un salaire net, il faut retrancher 23% du salaire brut pour un employé du privé et 15% pour un employé de la fonction publique.\n",
    "\n",
    "Patrick est employé de la fonction publique, les autres sont employés dans le privé."
   ]
  },
  {
   "cell_type": "code",
   "execution_count": null,
   "metadata": {},
   "outputs": [],
   "source": []
  },
  {
   "cell_type": "markdown",
   "metadata": {},
   "source": [
    "#### 4) c-] Créez une variable contenant la date au format 'MM/YYYY', où MM est un couple de chiffres représentant le mois et YYYY l'année associés au salaire."
   ]
  },
  {
   "cell_type": "code",
   "execution_count": null,
   "metadata": {},
   "outputs": [],
   "source": []
  },
  {
   "cell_type": "markdown",
   "metadata": {},
   "source": [
    "### 5) Visualisation graphique"
   ]
  },
  {
   "cell_type": "markdown",
   "metadata": {},
   "source": [
    "#### 5) a-] Affichez un nuage de points représentant l'évolution du revenu net des différentes personnes du dataset au fil du temps.\n",
    "\n",
    "Si possible:\n",
    "- Affichez seulement les dates de janvier en abcisses, tous les cinq ans\n",
    "- Ajoutez une légende"
   ]
  },
  {
   "cell_type": "code",
   "execution_count": null,
   "metadata": {},
   "outputs": [],
   "source": []
  },
  {
   "cell_type": "markdown",
   "metadata": {},
   "source": [
    "#### 5) b-] Affichez un boxplot comparant les distributions de salaires nets des différentes personnes du dataset. Comparez les variations de salaires (écart-type) par personne. Quelle personne a les revenus les plus fluctuants d'après le graphique? Quelle personne a les revenus les plus fluctuants en écart-type? Comment expliquez-vous cette différence?"
   ]
  },
  {
   "cell_type": "code",
   "execution_count": null,
   "metadata": {},
   "outputs": [],
   "source": []
  },
  {
   "cell_type": "code",
   "execution_count": null,
   "metadata": {
    "scrolled": true
   },
   "outputs": [],
   "source": []
  },
  {
   "cell_type": "markdown",
   "metadata": {},
   "source": [
    "Il faut filtrer les valeurs aberrantes pour pouvoir comparer les deux distributions."
   ]
  },
  {
   "cell_type": "markdown",
   "metadata": {},
   "source": [
    "### 6) Méthodes statistiques"
   ]
  },
  {
   "cell_type": "markdown",
   "metadata": {},
   "source": [
    "\n",
    "Pour cette question, utilisez les données de la question 4a!\n",
    "\n",
    "#### 6) a-] Modéliser l'évolution du salaire de Patrick au cours du temps à l'aide d'une régression. "
   ]
  },
  {
   "cell_type": "code",
   "execution_count": null,
   "metadata": {},
   "outputs": [],
   "source": []
  },
  {
   "cell_type": "markdown",
   "metadata": {},
   "source": [
    "#### 6) b-] Pouvez-vous prédire ce que gagnera Patrick (en brut) s'il est toujours dans la fonction publique dans 10 ans? "
   ]
  },
  {
   "cell_type": "code",
   "execution_count": null,
   "metadata": {},
   "outputs": [],
   "source": []
  },
  {
   "cell_type": "markdown",
   "metadata": {},
   "source": [
    "#### 6) c-] Quelle est la valeur de son augmentation annuelle? "
   ]
  },
  {
   "cell_type": "code",
   "execution_count": null,
   "metadata": {},
   "outputs": [],
   "source": []
  },
  {
   "cell_type": "markdown",
   "metadata": {},
   "source": [
    "#### 6) d-] Affichez le R² associé à la régression; le modèle vous parait-il correct? Affichez la droite de régression pour vérifier!"
   ]
  },
  {
   "cell_type": "code",
   "execution_count": null,
   "metadata": {},
   "outputs": [],
   "source": []
  },
  {
   "cell_type": "markdown",
   "metadata": {},
   "source": [
    "### 7) Graphe dynamique\n",
    "    \n",
    "Patrick aimerait avoir un aperçu dynamique de ses augmentations cours du temps. \n",
    "\n",
    "Créez un graphe dynamique qui affiche chacune des moyennes de salaires bruts au fur et à mesure du temps. \n",
    "\n",
    "Le titre du graphe comportera l'année en cours, et l'augmentation par rapport à l'an passé en pourcentage."
   ]
  },
  {
   "cell_type": "code",
   "execution_count": null,
   "metadata": {},
   "outputs": [],
   "source": []
  },
  {
   "cell_type": "markdown",
   "metadata": {},
   "source": [
    "### 8) Optimisation\n",
    "\n",
    "\n",
    "#### Contexte:\n",
    "\n",
    "Vous êtes le gestionnaire du budget d'une caisse de retraite complémentaire, comprenant quatre anciens actifs; Catherine, Daniel, Marie et Patrick. Vous décidez d'établir un régime de retraite à points (chaque euro cotisé donne droit à un point).\n",
    "\n",
    "Mais le budget accordé à la caisse de retraite baisse chaque année, alors que chaque personne doit toujours toucher le même nombre de points! \n",
    "\n",
    "On vous impose donc de baisser la valeur du point d'une proportion constante $\\beta$ chaque année pour répartir l'argent de manière équilibrée entre les différentes personnes.\n",
    "\n",
    "#### Formalisation:\n",
    "\n",
    "Dans t années (t= 0 pour 2019, t=1 pour 2020, ..., t=5 pour 2024), la valeur du point P(t) suivra la loi suivante : \n",
    "\n",
    "$P(t) = P_{0}*(1-\\beta)^{t}$\n",
    "\n",
    "avec:\n",
    "\n",
    "- $P_{0}$ la valeur du point pour l'année 2019\n",
    "- $\\beta$ la proportion de baisse de valeur du point, constante sur les cinq années\n",
    "\n",
    "\n",
    "\n",
    "\n",
    "\n",
    "Le budget alloué à la personne i suit la formule suivante:\n",
    "\n",
    "$B_{i}(t) = P(t)*r_{i}$\n",
    "\n",
    "avec:\n",
    "\n",
    "- $P_{t}$ la valeur du point pour l'année t\n",
    "- $r_{i}$ le nombre de points moyen cotisés par la personne i\n",
    "\n",
    "\n",
    "\n",
    "\n",
    "Le budget total est réparti entre les différentes personnes:\n",
    "\n",
    "$B(t) = \\sum_{i=1}^{4} B_{i}(t)$\n",
    "\n",
    "avec:\n",
    "\n",
    "- $B_{i}(t)$ Le budget alloué à la personne i à l'année t\n",
    "\n",
    "#### Alors on vous demande de trouver $P_{0}^{opt}$ la valeur du point optimale pour l'année 2019, et $\\beta^{opt}$ la proportion de baisse de valeur du point optimale de telle sorte que toutes les personnes recoivent leur nombre de points sur les cinq prochaines années  (de 2020 à 2024) tout en respectant le budget prévu $\\hat{B}$.\n",
    "\n",
    "Autrement dit, on vous demande de trouver $P_{0}^{opt}$ et $\\beta^{opt}$ tels que:\n",
    "\n",
    "$P_{0}^{opt}, \\beta^{opt} = argmin_{(P_{0}, \\beta)} \\sum_{t=1}^{5}| B(t)-\\hat{B}(t)|$\n",
    "\n",
    "Le tableau des budgets prévus $\\hat{B}(t)$ pour les cinq prochaines années est donné par le tableau budget ci-dessous.\n",
    "\n",
    "Pour simplifier l'exercice, on a supposé que l'on pouvait légèrement dépasser le budget chaque année (autrement dit, on veut juste approcher trouver une valeur de B proche de $\\hat{B}$, sans forcément que B soit strictement inférieur à $\\hat{B}$ tous les ans).\n",
    "\n",
    "#### Étapes de résolution proposées:\n",
    "- Calculez le nombre de points moyens $r_{i}$ gagnés par chaque personne grâce aux variables revenus_bruts et cotisation. $r_{i}$, c'est donc la moyenne des revenus bruts qui ont été côtisés chaque mois pendant 40 ans par la personne i.\n",
    "- Définissez une fonction P qui prend en entrée $P_{0}$, $\\beta$ et t, et qui renvoie la valeur de $P(t)$\n",
    "- Créez une fonction B qui prend en entrée i, $P_{0}$, $\\beta$ et t vous renvoie $B(t)$ grâce à P et $r_{i}$. $B(t)$, c'est juste la somme du tableau des budgets individuels $B_{i}(t)$\n",
    "- Grâce à B et $\\hat{B}$, définissez la fonction de coût en fonction de $P_{0}$ et $\\beta$\n",
    "- Minimisez la fonction de coût pour trouver $P_{0}$ et $\\beta$ avec scipy. On pourra essayer $P_{0}^{ini} = 0.7$ et $\\beta^{ini} = 0.02$\n",
    "- Commentez les valeurs de $P_{0}^{opt}$ et $\\beta^{opt}$, et tracez le graphe avec B et $\\hat{B}$ en fonction de t. La solution vous paraît-elle réaliste?\n",
    "\n",
    "Vous pouvez vous servir de graphes/schémas pour mieux appréhender le problème. \n",
    "\n",
    "N'hésitez pas à laisser vos essais/débuts de résolution dans le notebook, même s'ils sont incomplets! :)"
   ]
  },
  {
   "cell_type": "code",
   "execution_count": 19,
   "metadata": {},
   "outputs": [],
   "source": [
    "annee = [2020,2021,2022,2023,2024]\n",
    "budget = [4500, 4200, 3800, 3500, 3200]"
   ]
  },
  {
   "cell_type": "code",
   "execution_count": null,
   "metadata": {},
   "outputs": [],
   "source": []
  },
  {
   "cell_type": "code",
   "execution_count": null,
   "metadata": {},
   "outputs": [],
   "source": []
  },
  {
   "cell_type": "code",
   "execution_count": null,
   "metadata": {},
   "outputs": [],
   "source": []
  },
  {
   "cell_type": "code",
   "execution_count": null,
   "metadata": {},
   "outputs": [],
   "source": []
  },
  {
   "cell_type": "code",
   "execution_count": null,
   "metadata": {},
   "outputs": [],
   "source": []
  },
  {
   "cell_type": "code",
   "execution_count": null,
   "metadata": {},
   "outputs": [],
   "source": []
  },
  {
   "cell_type": "code",
   "execution_count": null,
   "metadata": {},
   "outputs": [],
   "source": []
  }
 ],
 "metadata": {
  "kernelspec": {
   "display_name": "Python 3",
   "language": "python",
   "name": "python3"
  },
  "language_info": {
   "codemirror_mode": {
    "name": "ipython",
    "version": 3
   },
   "file_extension": ".py",
   "mimetype": "text/x-python",
   "name": "python",
   "nbconvert_exporter": "python",
   "pygments_lexer": "ipython3",
   "version": "3.6.9"
  }
 },
 "nbformat": 4,
 "nbformat_minor": 2
}
