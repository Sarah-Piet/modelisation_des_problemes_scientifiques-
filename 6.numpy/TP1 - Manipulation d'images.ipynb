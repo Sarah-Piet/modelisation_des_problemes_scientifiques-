{
 "cells": [
  {
   "cell_type": "markdown",
   "metadata": {},
   "source": [
    "# TP1 : Manipulation d'images avec Numpy\n",
    "\n",
    "Pour ce TP, il faut avoir installé numpy (qui normalement est inclus dans votre version de python), et matplotlib (voir https://anaconda.org/conda-forge/matplotlib)"
   ]
  },
  {
   "cell_type": "markdown",
   "metadata": {},
   "source": [
    "## Exercice 1 : Générer un faux QR-Code\n",
    "\n",
    "<font size = 3><i>Cet exercice sert de prétexte pour travailler sur l'indexation des tableaux <b>numpy</b>.</i></font>\n",
    "\n",
    "On vous donne la fonction 'show' suivante qui prend en entrée une matrice numpy remplie de 0 et de 1, et qui affiche une grille de carrés noirs (=1) et blancs (0), correspondant à la matrice en entrée."
   ]
  },
  {
   "cell_type": "code",
   "execution_count": 10,
   "metadata": {},
   "outputs": [],
   "source": [
    "import matplotlib.pyplot as plt\n",
    "import matplotlib.colors as col\n",
    "import numpy as np\n",
    "\n",
    "def show(numpy_matrix):\n",
    "    if numpy_matrix is not None:\n",
    "        plt.imshow(numpy_matrix, cmap = col.ListedColormap(['white', 'black']))\n",
    "        plt.xticks([])\n",
    "        plt.yticks([])\n",
    "        plt.show()"
   ]
  },
  {
   "cell_type": "markdown",
   "metadata": {},
   "source": [
    "Par exemple, pour la matrice suivante :"
   ]
  },
  {
   "cell_type": "code",
   "execution_count": 4,
   "metadata": {
    "scrolled": true
   },
   "outputs": [
    {
     "data": {
      "text/plain": [
       "array([[1, 0, 1],\n",
       "       [0, 1, 1],\n",
       "       [0, 0, 1]])"
      ]
     },
     "execution_count": 4,
     "metadata": {},
     "output_type": "execute_result"
    }
   ],
   "source": [
    "mat = np.array([[1,0,1], [0,1,1], [0,0,1]])\n",
    "mat"
   ]
  },
  {
   "cell_type": "markdown",
   "metadata": {},
   "source": [
    "On affiche l'image suivante :"
   ]
  },
  {
   "cell_type": "code",
   "execution_count": 5,
   "metadata": {},
   "outputs": [
    {
     "data": {
      "image/png": "[encoded data removed]",
      "text/plain": [
       "<Figure size 432x288 with 1 Axes>"
      ]
     },
     "metadata": {},
     "output_type": "display_data"
    }
   ],
   "source": [
    "show(mat)"
   ]
  },
  {
   "cell_type": "markdown",
   "metadata": {},
   "source": [
    "À l'aide de cette fonction, on veut pouvoir générer une image qui ressemble à peu près à un QR-code."
   ]
  },
  {
   "cell_type": "markdown",
   "metadata": {},
   "source": [
    "### 1) a-] Implémentez une fonction qui renvoie un tableau de longueur n rempli de zéros, avec des 1 aux extrêmités\n",
    "\n",
    "<i> Pensez à np.zeros </i>"
   ]
  },
  {
   "cell_type": "code",
   "execution_count": null,
   "metadata": {},
   "outputs": [],
   "source": []
  },
  {
   "cell_type": "markdown",
   "metadata": {},
   "source": [
    "### 1) b-] Implémentez la fonction square(p) pour obtenir le résultat suivant\n",
    "\n",
    "<i> Pensez à la fonction tab.reshape(i,j), qui permet de transformer un tableau tab de taille i*j en tableau 2d (matrice) de dimension (i,j) et à np.ones, qui marche de manière analogue à np.zeros\n",
    "    \n",
    "Vérifiez que p>4 \n",
    "</i>"
   ]
  },
  {
   "cell_type": "code",
   "execution_count": null,
   "metadata": {},
   "outputs": [],
   "source": []
  },
  {
   "cell_type": "code",
   "execution_count": 6,
   "metadata": {
    "scrolled": false
   },
   "outputs": [
    {
     "name": "stdout",
     "output_type": "stream",
     "text": [
      "square(5)\n"
     ]
    },
    {
     "data": {
      "image/png": "[encoded data removed]",
      "text/plain": [
       "<Figure size 432x288 with 1 Axes>"
      ]
     },
     "metadata": {},
     "output_type": "display_data"
    },
    {
     "name": "stdout",
     "output_type": "stream",
     "text": [
      "square(10)\n"
     ]
    },
    {
     "data": {
      "image/png": "[encoded data removed]",
      "text/plain": [
       "<Figure size 432x288 with 1 Axes>"
      ]
     },
     "metadata": {},
     "output_type": "display_data"
    }
   ],
   "source": [
    "print('square(5)')\n",
    "show(square(5))\n",
    "print('square(10)')\n",
    "show(square(10))"
   ]
  },
  {
   "cell_type": "markdown",
   "metadata": {},
   "source": [
    "### 2) Générer une fonction qui renvoie une grille de n*n carrés aléatoirement blancs ou noirs\n",
    "\n",
    "<i>np.random.randint(a,b,n) renvoie un tableau de n éléments compris entre a et b-1</i>"
   ]
  },
  {
   "cell_type": "code",
   "execution_count": null,
   "metadata": {},
   "outputs": [],
   "source": []
  },
  {
   "cell_type": "code",
   "execution_count": 8,
   "metadata": {
    "scrolled": true
   },
   "outputs": [
    {
     "data": {
      "image/png": "[encoded data removed]",
      "text/plain": [
       "<Figure size 432x288 with 1 Axes>"
      ]
     },
     "metadata": {},
     "output_type": "display_data"
    }
   ],
   "source": [
    "show(gen_random_grid(20))"
   ]
  },
  {
   "cell_type": "markdown",
   "metadata": {},
   "source": [
    "### 3) Générer une fonction qui renvoie un faux QR-code de dimension n\n",
    "\n",
    "On pourra ajouter un paramètre p contenant le côté des carrés (voir question 1-b). Le paramètre n doit être au moins deux fois égal au paramètre p.\n",
    "\n",
    "Cherchez des images de QR code pour vous inspirer!"
   ]
  },
  {
   "cell_type": "code",
   "execution_count": null,
   "metadata": {},
   "outputs": [],
   "source": []
  },
  {
   "cell_type": "code",
   "execution_count": 10,
   "metadata": {},
   "outputs": [
    {
     "data": {
      "image/png": "[encoded data removed]",
      "text/plain": [
       "<Figure size 432x288 with 1 Axes>"
      ]
     },
     "metadata": {},
     "output_type": "display_data"
    }
   ],
   "source": [
    "show(gen_fakeQR(25, 7))"
   ]
  },
  {
   "cell_type": "markdown",
   "metadata": {},
   "source": [
    "## Exercice 2 : Jouons avec les pingouins\n",
    "\n",
    "\n",
    "\n",
    "<i> Dans cet exercice, on s'intéresse au traitement d'images avec numpy. Normalement, il est plutôt recommandé d'utiliser opencv pour gérer ce genre de données avec python. Mais, ici, c'est un bon moyen de travailler avec numpy et d'utiliser des nouvelles fonctions! </i>\n",
    "\n",
    "<i> A priori, les questions sont de difficulté croissante, et les bonus sont à réaliser si vous êtes à l'aise. </i>"
   ]
  },
  {
   "cell_type": "code",
   "execution_count": 11,
   "metadata": {},
   "outputs": [],
   "source": [
    "def show(numpy_matrix):\n",
    "    if numpy_matrix is not None:\n",
    "        plt.imshow(numpy_matrix)\n",
    "        plt.xticks([])\n",
    "        plt.yticks([])\n",
    "        plt.show()"
   ]
  },
  {
   "cell_type": "markdown",
   "metadata": {},
   "source": [
    "Cette fonction est analogue à celle définie en exercice 1, mais elle affiche la couleur en plus!"
   ]
  },
  {
   "cell_type": "markdown",
   "metadata": {},
   "source": [
    "### 1) Chargez le fichier linux.txt, tranformez le en tableau, puis affichez le avec la fonction show\n",
    "\n",
    "<i>La résolution de l'image est (225,225) et chaque pixel contient trois canaux de couleurs; rouge, vert et bleu.\n",
    "\n",
    "\n",
    "Cherchez les délimiteurs de valeurs en ouvrant le fichier.\n",
    "\n",
    "Les valeurs doivent être entières (de type int).</i>\n"
   ]
  },
  {
   "cell_type": "code",
   "execution_count": null,
   "metadata": {},
   "outputs": [],
   "source": []
  },
  {
   "cell_type": "markdown",
   "metadata": {},
   "source": [
    "### 2) Les deux canaux rouges et bleus sont inversés, il faut les remettre dans l'ordre.\n",
    "\n",
    "<i>On pourra utiliser np.copy pour initialiser la nouvelle image.\n",
    "    \n",
    "Dans le bon ordre, le bec du pingouin est jaune!</i>"
   ]
  },
  {
   "cell_type": "code",
   "execution_count": null,
   "metadata": {},
   "outputs": [],
   "source": []
  },
  {
   "cell_type": "markdown",
   "metadata": {},
   "source": [
    "#### Bonus : En jouant avec les interversions de canaux, est-il possible de colorier le bec du pingouin en rose? Et en vert?"
   ]
  },
  {
   "cell_type": "code",
   "execution_count": null,
   "metadata": {},
   "outputs": [],
   "source": []
  },
  {
   "cell_type": "code",
   "execution_count": null,
   "metadata": {
    "scrolled": true
   },
   "outputs": [],
   "source": []
  },
  {
   "cell_type": "markdown",
   "metadata": {},
   "source": [
    "### 3) Retournez le pingouin de linux horizontalement, puis verticalement\n",
    "\n",
    "<i> Regardez la doc de np.flip </i>"
   ]
  },
  {
   "cell_type": "code",
   "execution_count": null,
   "metadata": {},
   "outputs": [],
   "source": []
  },
  {
   "cell_type": "code",
   "execution_count": null,
   "metadata": {},
   "outputs": [],
   "source": []
  },
  {
   "cell_type": "markdown",
   "metadata": {},
   "source": [
    "### 4) Affichez une image avec deux pingouins côte à côte, puis une image avec quatre pingouins disposés en carré"
   ]
  },
  {
   "cell_type": "code",
   "execution_count": null,
   "metadata": {},
   "outputs": [],
   "source": []
  },
  {
   "cell_type": "code",
   "execution_count": null,
   "metadata": {},
   "outputs": [],
   "source": []
  },
  {
   "cell_type": "markdown",
   "metadata": {},
   "source": [
    "### 5) Zoomez sur la tête du pingouin"
   ]
  },
  {
   "cell_type": "code",
   "execution_count": null,
   "metadata": {},
   "outputs": [],
   "source": []
  },
  {
   "cell_type": "markdown",
   "metadata": {},
   "source": [
    "### 6) Transformez l'image en noir et blanc\n",
    "\n",
    "<i> Pour transformer l'image en noir et blanc (NB, NB, NB) depuis le triplet (R,G,B), appliquez $NB = 0.2989*R+ 0.5870*G+ 0.1140*B$ </i>"
   ]
  },
  {
   "cell_type": "code",
   "execution_count": null,
   "metadata": {},
   "outputs": [],
   "source": []
  },
  {
   "cell_type": "markdown",
   "metadata": {},
   "source": [
    "### 7) Blending ; Mix d'images\n",
    "\n",
    "#### a-] Chargez le fichier github.txt"
   ]
  },
  {
   "cell_type": "code",
   "execution_count": null,
   "metadata": {},
   "outputs": [],
   "source": []
  },
  {
   "cell_type": "markdown",
   "metadata": {},
   "source": [
    "#### b-] Mixez les images linux et github\n",
    "\n",
    "\n",
    "<i>Pour un mix d'images de résolution (n,n),\n",
    "\n",
    "$ \\forall i \\in [|0,n-1|], \\forall j \\in [|0,n-1|], mix[i,j]=α*github[i,j]+(1−α)*linux[i,j]$\n",
    "\n",
    "où alpha (entre 0 et 1) représente la \"force\" de github dans l'image finale</i>\n",
    "\n",
    "Plus d'informations ici : https://docs.opencv.org/3.4/d5/dc4/tutorial_adding_images.html"
   ]
  },
  {
   "cell_type": "code",
   "execution_count": null,
   "metadata": {},
   "outputs": [],
   "source": []
  },
  {
   "cell_type": "markdown",
   "metadata": {},
   "source": [
    "#### c-] Créez une transition de github à linux\n",
    "<i>En faisant varier le alpha de 0 à 1</i>"
   ]
  },
  {
   "cell_type": "code",
   "execution_count": null,
   "metadata": {
    "scrolled": true
   },
   "outputs": [],
   "source": []
  },
  {
   "cell_type": "markdown",
   "metadata": {},
   "source": [
    "#### Bonus d-]  Utilisez opencv pour afficher une petite vidéo de transition entre les deux images\n",
    "\n",
    "<i>Voir cv2.imshow, cv2.waitKey, pensez à détruire la fenêtre à la fin avec cv2.destroyallWindow.\n",
    "Le type des données supporté par opencv est uint8. On pourra repartir avec l'image de départ -> canaux (b,g,r) au lieu de (r,g,b) </i>"
   ]
  },
  {
   "cell_type": "code",
   "execution_count": null,
   "metadata": {},
   "outputs": [],
   "source": []
  },
  {
   "cell_type": "markdown",
   "metadata": {},
   "source": [
    "### 8) Flouter l'image à l'aide d'une convolution\n",
    "\n",
    "\n",
    "#### a-] Créez un tableau de taille 5 de nombres aléatoires entre 0 et 100\n"
   ]
  },
  {
   "cell_type": "code",
   "execution_count": null,
   "metadata": {},
   "outputs": [],
   "source": []
  },
  {
   "cell_type": "markdown",
   "metadata": {},
   "source": [
    "#### b-] Triez le dans l'ordre croissant, stockez le résultat"
   ]
  },
  {
   "cell_type": "code",
   "execution_count": null,
   "metadata": {},
   "outputs": [],
   "source": []
  },
  {
   "cell_type": "markdown",
   "metadata": {},
   "source": [
    "#### c-] Triez dans l'ordre décroissant, stockez le résultat\n",
    "\n",
    "<i> Astuce : trier en décroissant, c'est prendre l'opposé du tri croissant de l'opposé du tableau </i>"
   ]
  },
  {
   "cell_type": "code",
   "execution_count": null,
   "metadata": {},
   "outputs": [],
   "source": []
  },
  {
   "cell_type": "markdown",
   "metadata": {},
   "source": [
    "#### d-] À l'aide de b-]  et c-], générez un tableau symétrique de taille 10, dans lequel les valeurs les plus élevées se trouvent au centre du tableau\n",
    "\n",
    "<i> Par exemple, si b-] rend [1,2,3,4,5] et c-] [5,4,3,2,1], on veut que d-] retourne [1,2,3,4,5,5,4,3,2,1]</i>"
   ]
  },
  {
   "cell_type": "code",
   "execution_count": null,
   "metadata": {},
   "outputs": [],
   "source": []
  },
  {
   "cell_type": "markdown",
   "metadata": {},
   "source": [
    "#### e-] Normaliser le tableau (diviser tous ses éléments par sa somme)"
   ]
  },
  {
   "cell_type": "code",
   "execution_count": null,
   "metadata": {},
   "outputs": [],
   "source": []
  },
  {
   "cell_type": "markdown",
   "metadata": {},
   "source": [
    "#### f-] Pour chaque ligne de pixels, et pour chaque canal de couleur de l'image du pingouin linux, convoluer les pixels par le tableau obtenu en e-]\n",
    "\n",
    "<i> On utilisera la fonction np.convolve avec l'option mode = 'same'</i>"
   ]
  },
  {
   "cell_type": "code",
   "execution_count": null,
   "metadata": {},
   "outputs": [],
   "source": []
  },
  {
   "cell_type": "markdown",
   "metadata": {},
   "source": [
    "Artificiellement, on a recréé une sorte de flou gaussien. Voir https://en.wikipedia.org/wiki/Gaussian_blur ou https://docs.opencv.org/2.4/doc/tutorials/imgproc/gausian_median_blur_bilateral_filter/gausian_median_blur_bilateral_filter.html"
   ]
  }
 ],
 "metadata": {
  "kernelspec": {
   "display_name": "Python 3",
   "language": "python",
   "name": "python3"
  },
  "language_info": {
   "codemirror_mode": {
    "name": "ipython",
    "version": 3
   },
   "file_extension": ".py",
   "mimetype": "text/x-python",
   "name": "python",
   "nbconvert_exporter": "python",
   "pygments_lexer": "ipython3",
   "version": "3.6.9"
  }
 },
 "nbformat": 4,
 "nbformat_minor": 2
}
